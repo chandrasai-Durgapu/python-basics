{
 "cells": [
  {
   "cell_type": "markdown",
   "id": "9c0db62e",
   "metadata": {},
   "source": [
    "\n",
    "✅ Program titles\n",
    "\n",
    "✅ Python code (well-commented)\n",
    "\n",
    "✅ Explanation/notes for each\n",
    "\n",
    "It will be organized into sections:\n",
    "\n",
    "Number & math problems\n",
    "\n",
    "Strings & text manipulation\n",
    "\n",
    "Lists & arrays\n",
    "\n",
    "Dictionaries & sets\n",
    "\n",
    "File handling\n",
    "\n",
    "OOP in Python\n",
    "\n",
    "Date/time problems\n",
    "\n",
    "Algorithms (sort/search)\n",
    "\n",
    "Web & system-based problems"
   ]
  },
  {
   "cell_type": "markdown",
   "id": "3d517e22",
   "metadata": {},
   "source": [
    "# ✅ Section 1: Number & Math Programs"
   ]
  },
  {
   "cell_type": "markdown",
   "id": "a9cecf62",
   "metadata": {},
   "source": [
    "Check Prime Number"
   ]
  },
  {
   "cell_type": "code",
   "execution_count": 1,
   "id": "1c164287",
   "metadata": {},
   "outputs": [
    {
     "name": "stdout",
     "output_type": "stream",
     "text": [
      "True\n"
     ]
    }
   ],
   "source": [
    "# A prime number is greater than 1 and divisible only by 1 and itself\n",
    "\n",
    "def is_prime(n):\n",
    "    if n <= 1:\n",
    "        return False\n",
    "    for i in range(2, int(n**0.5)+1):\n",
    "        if n % i == 0:\n",
    "            return False\n",
    "    return True\n",
    "\n",
    "print(is_prime(11))  # True\n"
   ]
  },
  {
   "cell_type": "markdown",
   "id": "9f6ac373",
   "metadata": {},
   "source": [
    "    print even numbers"
   ]
  },
  {
   "cell_type": "code",
   "execution_count": 2,
   "id": "14453465",
   "metadata": {},
   "outputs": [
    {
     "name": "stdout",
     "output_type": "stream",
     "text": [
      "30\n"
     ]
    }
   ],
   "source": [
    "# function to print even numbers\n",
    "\n",
    "def even_number_sum():\n",
    "    sum=0\n",
    "    numbers = [1,2,3,4,5,6,7,8,9,10]\n",
    "    for i in numbers:\n",
    "        if i%2==0:\n",
    "         sum+=i\n",
    "    print(sum) \n",
    "\n",
    "even_number_sum()       "
   ]
  },
  {
   "cell_type": "markdown",
   "id": "5c3155f2",
   "metadata": {},
   "source": [
    "Armstrong Number"
   ]
  },
  {
   "cell_type": "code",
   "execution_count": 3,
   "id": "94183cb7",
   "metadata": {},
   "outputs": [
    {
     "name": "stdout",
     "output_type": "stream",
     "text": [
      "Armstrong number\n",
      "Not an Armstrong number\n"
     ]
    }
   ],
   "source": [
    "# Armstrong\n",
    "\n",
    "\n",
    "def armstrong(number_input):\n",
    "    num=number_input\n",
    "    total=0\n",
    "    nod=len(str(number_input))\n",
    "    while number_input>0:\n",
    "        last_digit=number_input%10\n",
    "        total=total+(last_digit**nod)\n",
    "        number_input=number_input//10\n",
    "    if total==num:\n",
    "        print(\"Armstrong number\")\n",
    "    else:\n",
    "        print(\"Not an Armstrong number\")\n",
    "\n",
    "armstrong(153)\n",
    "armstrong(123)"
   ]
  },
  {
   "cell_type": "markdown",
   "id": "45addbcf",
   "metadata": {},
   "source": [
    "Factorial of number"
   ]
  },
  {
   "cell_type": "code",
   "execution_count": 1,
   "id": "a0c7e36e",
   "metadata": {},
   "outputs": [
    {
     "name": "stdout",
     "output_type": "stream",
     "text": [
      "120\n"
     ]
    }
   ],
   "source": [
    "def factorial_recursive(n):\n",
    "    \"\"\"Returns the factorial of n using recursion.\"\"\"\n",
    "    if n == 0 or n == 1:\n",
    "        return 1\n",
    "    return n * factorial_recursive(n - 1)\n",
    "\n",
    "# Example\n",
    "print(factorial_recursive(5))  # 120\n"
   ]
  },
  {
   "cell_type": "markdown",
   "id": "981c6314",
   "metadata": {},
   "source": [
    "Sum of Digits"
   ]
  },
  {
   "cell_type": "code",
   "execution_count": 2,
   "id": "756ba5c3",
   "metadata": {},
   "outputs": [
    {
     "name": "stdout",
     "output_type": "stream",
     "text": [
      "21\n"
     ]
    }
   ],
   "source": [
    "# print all the digits within a number\n",
    "sum=0\n",
    "number= 123456\n",
    "while number>0:\n",
    "    remainder=number%10\n",
    "    sum+= remainder\n",
    "    number//=10\n",
    "print(sum)"
   ]
  },
  {
   "cell_type": "markdown",
   "id": "6e71142a",
   "metadata": {},
   "source": [
    "Reverse a Number"
   ]
  },
  {
   "cell_type": "code",
   "execution_count": 3,
   "id": "b0d4a5be",
   "metadata": {},
   "outputs": [
    {
     "name": "stdout",
     "output_type": "stream",
     "text": [
      "109876\n"
     ]
    }
   ],
   "source": [
    "#reverse a number\n",
    "number= 678901\n",
    "reverse=0\n",
    "while number > 0:\n",
    "    remainder = number%10\n",
    "    reverse= remainder+(reverse * 10)\n",
    "    number = number//10\n",
    "\n",
    "print(reverse) "
   ]
  },
  {
   "cell_type": "markdown",
   "id": "385f90b2",
   "metadata": {},
   "source": [
    "Palindrome Number"
   ]
  },
  {
   "cell_type": "code",
   "execution_count": 4,
   "id": "f3dcaaf8",
   "metadata": {},
   "outputs": [
    {
     "name": "stdout",
     "output_type": "stream",
     "text": [
      "Original number: 1221\n",
      "Reversed number: 1221\n",
      "palindrome\n"
     ]
    }
   ],
   "source": [
    "# check Palindrome number\n",
    "\n",
    "def palindrome(number_passed):\n",
    "    # Store the original number in a separate variable.\n",
    "    # This value will remain unchanged for the final comparison.\n",
    "    original_number = number_passed\n",
    "    reversed_number = 0\n",
    "\n",
    "    # We use number_passed in the while loop because we can modify it\n",
    "    # without affecting the original_number.\n",
    "    while number_passed > 0:\n",
    "        remainder = number_passed % 10\n",
    "        reversed_number = (reversed_number * 10) + remainder\n",
    "        number_passed = number_passed // 10\n",
    "\n",
    "    # The comparison should be between the original number and the reversed number.\n",
    "    print(f\"Original number: {original_number}\")\n",
    "    print(f\"Reversed number: {reversed_number}\")\n",
    "    \n",
    "    if original_number == reversed_number:\n",
    "        print(\"palindrome\")\n",
    "    else:\n",
    "        print(\"not a palindrome\")\n",
    "\n",
    "# function calling\n",
    "palindrome(1221)   "
   ]
  },
  {
   "cell_type": "markdown",
   "id": "068250bc",
   "metadata": {},
   "source": [
    "Find GCD (Greatest Common Divisor)"
   ]
  },
  {
   "cell_type": "code",
   "execution_count": 5,
   "id": "de22ae10",
   "metadata": {},
   "outputs": [
    {
     "name": "stdout",
     "output_type": "stream",
     "text": [
      "6\n"
     ]
    }
   ],
   "source": [
    "def gcd(a, b):\n",
    "    \"\"\"Returns the greatest common divisor of a and b.\"\"\"\n",
    "    while b:\n",
    "        a, b = b, a % b\n",
    "    return a\n",
    "\n",
    "# Example\n",
    "print(gcd(48, 18))  # 6\n"
   ]
  },
  {
   "cell_type": "markdown",
   "id": "4aa38eef",
   "metadata": {},
   "source": [
    "Find LCM (Least Common Multiple)"
   ]
  },
  {
   "cell_type": "code",
   "execution_count": 6,
   "id": "208df850",
   "metadata": {},
   "outputs": [
    {
     "name": "stdout",
     "output_type": "stream",
     "text": [
      "36\n"
     ]
    }
   ],
   "source": [
    "def gcd(a, b):\n",
    "    while b:\n",
    "        a, b = b, a % b\n",
    "    return a\n",
    "\n",
    "def lcm(a, b):\n",
    "    return abs(a * b) // gcd(a, b)\n",
    "\n",
    "# Example\n",
    "print(lcm(12, 18))  # Output: 36\n"
   ]
  },
  {
   "cell_type": "markdown",
   "id": "067237ba",
   "metadata": {},
   "source": []
  },
  {
   "cell_type": "code",
   "execution_count": null,
   "id": "651d0a74",
   "metadata": {},
   "outputs": [],
   "source": []
  }
 ],
 "metadata": {
  "kernelspec": {
   "display_name": "Python 3",
   "language": "python",
   "name": "python3"
  },
  "language_info": {
   "codemirror_mode": {
    "name": "ipython",
    "version": 3
   },
   "file_extension": ".py",
   "mimetype": "text/x-python",
   "name": "python",
   "nbconvert_exporter": "python",
   "pygments_lexer": "ipython3",
   "version": "3.11.7"
  }
 },
 "nbformat": 4,
 "nbformat_minor": 5
}
