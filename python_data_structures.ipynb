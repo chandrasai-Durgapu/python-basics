{
 "cells": [
  {
   "cell_type": "code",
   "execution_count": 4,
   "id": "bbb2abcc",
   "metadata": {},
   "outputs": [
    {
     "name": "stdout",
     "output_type": "stream",
     "text": [
      "8\n",
      "7\n",
      "6\n",
      "5\n",
      "4\n"
     ]
    }
   ],
   "source": [
    "#Extraction of digits \n",
    "number = 45678\n",
    "remainder=0\n",
    "while number>0:\n",
    "    remainder= number%10\n",
    "    print(remainder)\n",
    "    number=number//10\n",
    "   "
   ]
  },
  {
   "cell_type": "code",
   "execution_count": 5,
   "id": "3502b835",
   "metadata": {},
   "outputs": [
    {
     "name": "stdout",
     "output_type": "stream",
     "text": [
      "87654\n"
     ]
    }
   ],
   "source": [
    "# reverse a number\n",
    "\n",
    "number = 45678\n",
    "reversed_number = 0  # Initialize a new variable to store the reversed number\n",
    "\n",
    "while number > 0:\n",
    "    # 1. Extract the last digit of the number\n",
    "    remainder = number % 10\n",
    "\n",
    "    # 2. Append the digit to the reversed_number\n",
    "    #    This is the core logic: we shift the existing digits one place left (by multiplying by 10)\n",
    "    #    and then add the new digit.\n",
    "    reversed_number = (reversed_number * 10) + remainder\n",
    "\n",
    "    # 3. Remove the last digit from the original number\n",
    "    number = number // 10\n",
    "\n",
    "# After the loop, print the final reversed number\n",
    "print(reversed_number)"
   ]
  },
  {
   "cell_type": "code",
   "execution_count": 6,
   "id": "a9c35027",
   "metadata": {},
   "outputs": [
    {
     "name": "stdout",
     "output_type": "stream",
     "text": [
      "30\n"
     ]
    }
   ],
   "source": [
    "# sum of digits\n",
    "\n",
    "number = 45678\n",
    "remainder=0\n",
    "while number>0:\n",
    "    remainder+= number%10\n",
    "    number=number//10\n",
    "print(remainder)    "
   ]
  },
  {
   "cell_type": "code",
   "execution_count": 2,
   "id": "f8951d3f",
   "metadata": {},
   "outputs": [
    {
     "name": "stdout",
     "output_type": "stream",
     "text": [
      "Original number: 1221\n",
      "Reversed number: 1221\n",
      "palindrome\n"
     ]
    }
   ],
   "source": [
    "# check Palindrome number\n",
    "\n",
    "def palindrome(number_passed):\n",
    "    # Store the original number in a separate variable.\n",
    "    # This value will remain unchanged for the final comparison.\n",
    "    original_number = number_passed\n",
    "    reversed_number = 0\n",
    "\n",
    "    # We use number_passed in the while loop because we can modify it\n",
    "    # without affecting the original_number.\n",
    "    while number_passed > 0:\n",
    "        remainder = number_passed % 10\n",
    "        reversed_number = (reversed_number * 10) + remainder\n",
    "        number_passed = number_passed // 10\n",
    "\n",
    "    # The comparison should be between the original number and the reversed number.\n",
    "    print(f\"Original number: {original_number}\")\n",
    "    print(f\"Reversed number: {reversed_number}\")\n",
    "    \n",
    "    if original_number == reversed_number:\n",
    "        print(\"palindrome\")\n",
    "    else:\n",
    "        print(\"not a palindrome\")\n",
    "\n",
    "# function calling\n",
    "palindrome(1221)       "
   ]
  },
  {
   "cell_type": "code",
   "execution_count": 11,
   "id": "00ad3477",
   "metadata": {},
   "outputs": [
    {
     "name": "stdout",
     "output_type": "stream",
     "text": [
      "Armstrong number\n",
      "Not an Armstrong number\n"
     ]
    }
   ],
   "source": [
    "# Armstrong\n",
    "\n",
    "\n",
    "def armstrong(number_input):\n",
    "    num=number_input\n",
    "    total=0\n",
    "    nod=len(str(number_input))\n",
    "    while number_input>0:\n",
    "        last_digit=number_input%10\n",
    "        total=total+(last_digit**nod)\n",
    "        number_input=number_input//10\n",
    "    if total==num:\n",
    "        print(\"Armstrong number\")\n",
    "    else:\n",
    "        print(\"Not an Armstrong number\")\n",
    "\n",
    "armstrong(153)\n",
    "armstrong(123)    "
   ]
  },
  {
   "cell_type": "code",
   "execution_count": 21,
   "id": "6e8c4818",
   "metadata": {},
   "outputs": [
    {
     "name": "stdout",
     "output_type": "stream",
     "text": [
      "True\n",
      "False\n"
     ]
    }
   ],
   "source": [
    "#check armstrong number or not\n",
    "def armstrong(number_input):\n",
    "    num=number_input\n",
    "    total=0\n",
    "    nod=len(str(number_input))\n",
    "    while number_input>0:\n",
    "        last_digit=number_input%10\n",
    "        total=total+(last_digit**nod)\n",
    "        number_input=number_input//10\n",
    "    return total == num    \n",
    "\n",
    "print(armstrong(153))\n",
    "print(armstrong(123))"
   ]
  },
  {
   "cell_type": "code",
   "execution_count": null,
   "id": "f6d90218",
   "metadata": {},
   "outputs": [
    {
     "name": "stdout",
     "output_type": "stream",
     "text": [
      "[1, 2, 4, 5, 6, 7, 8, 9]\n"
     ]
    }
   ],
   "source": [
    "# Selection sort using Ascending Order\n",
    "nums = [5, 7, 8, 4, 1, 6, 9, 2]\n",
    "\n",
    "def selection_sort(number_list):\n",
    "    n = len(number_list)\n",
    "    \n",
    "    # Outer loop to iterate through all elements\n",
    "    for i in range(n):\n",
    "        # Find the index of the minimum element in the remaining unsorted portion\n",
    "        min_index = i\n",
    "        for j in range(i + 1, n):\n",
    "            if number_list[j] < number_list[min_index]:\n",
    "                min_index = j\n",
    "        \n",
    "        # Swap the found minimum element with the element at the current position 'i'\n",
    "        # This line must be indented within the first 'for' loop\n",
    "        number_list[i], number_list[min_index] = number_list[min_index], number_list[i]\n",
    "\n",
    "    # Print the final sorted list outside the function\n",
    "    print(number_list)\n",
    "\n",
    "selection_sort(nums)\n"
   ]
  },
  {
   "cell_type": "code",
   "execution_count": null,
   "id": "cc313b27",
   "metadata": {},
   "outputs": [
    {
     "name": "stdout",
     "output_type": "stream",
     "text": [
      "[9, 8, 7, 6, 5, 4, 2, 1]\n"
     ]
    }
   ],
   "source": [
    "# Selection sort for descending order.....using return keyword\n",
    "nums = [5, 7, 8, 4, 1, 6, 9, 2]\n",
    "\n",
    "def selection_sort(number_list):\n",
    "    n = len(number_list)\n",
    "    \n",
    "    # Outer loop to iterate through all elements\n",
    "    for i in range(n):\n",
    "        # Find the index of the minimum element in the remaining unsorted portion\n",
    "        max_index = i\n",
    "        for j in range(i + 1, n):\n",
    "            if number_list[j] > number_list[max_index]:\n",
    "                max_index = j\n",
    "        \n",
    "        # Swap the found minimum element with the element at the current position 'i'\n",
    "        # This line must be indented within the first 'for' loop\n",
    "        number_list[i], number_list[max_index] = number_list[max_index], number_list[i]\n",
    "    return number_list\n",
    "    # Print the final sorted list outside the function\n",
    "    #print(number_list)\n",
    "\n",
    "selection_sort(nums)\n",
    "print(selection_sort(nums))"
   ]
  },
  {
   "cell_type": "code",
   "execution_count": 19,
   "id": "14ed6013",
   "metadata": {},
   "outputs": [
    {
     "name": "stdout",
     "output_type": "stream",
     "text": [
      "[0, 1, 2, 4, 8, 12, 56, 89, 343]\n"
     ]
    }
   ],
   "source": [
    "# Bubble Sort  ........that compares and swaps adjacent elements.\n",
    "# Bubble Sort\n",
    "nums = [8, 4, 2, 89, 12, 56, 0, 343, 1]\n",
    "\n",
    "def bubble_sort(number_list):\n",
    "    \"\"\"\n",
    "    Sorts a list of numbers in ascending order using the Bubble Sort algorithm.\n",
    "\n",
    "    The algorithm works by repeatedly stepping through the list,\n",
    "    comparing adjacent elements and swapping them if they are in the wrong order.\n",
    "    The largest elements \"bubble\" to the end of the list with each pass.\n",
    "\n",
    "    Args:\n",
    "        number_list (list): The list of numbers to be sorted.\n",
    "\n",
    "    Returns:\n",
    "        list: The sorted list.\n",
    "    \"\"\"\n",
    "    n = len(number_list)\n",
    "    # The outer loop for number of passes (n-1 passes)\n",
    "    for i in range(n):\n",
    "        swapped = False\n",
    "        \n",
    "        # The inner loop for comparisons and swaps\n",
    "        for j in range(0, n - i - 1):\n",
    "            if number_list[j] > number_list[j+1]:\n",
    "                number_list[j], number_list[j+1] = number_list[j+1], number_list[j]\n",
    "                swapped = True\n",
    "        \n",
    "        if not swapped:\n",
    "            break\n",
    "    \n",
    "    # Return the sorted list\n",
    "    return number_list\n",
    "\n",
    "# Call the function and store the returned list in a new variable\n",
    "sorted_nums = bubble_sort(nums)\n",
    "\n",
    "# Print the sorted list using the new variable\n",
    "print(sorted_nums)\n"
   ]
  },
  {
   "cell_type": "code",
   "execution_count": 2,
   "id": "cd216764",
   "metadata": {},
   "outputs": [
    {
     "name": "stdout",
     "output_type": "stream",
     "text": [
      "[1, 1, 2, 3, 4, 4, 5, 5, 6]\n"
     ]
    }
   ],
   "source": [
    "# Merge Sort\n",
    "nums=[3,1,4,5,1,5,2,6,4]\n",
    "\n",
    "def merge_sort(number_list):\n",
    "    \"\"\"Divide and intial sort it and merges it\n",
    "\n",
    "     Args:\n",
    "        number_list (list): The list of numbers to be sorted.\n",
    "\n",
    "    Returns:\n",
    "        list: The sorted list.\"\"\"\n",
    "    if len(number_list) <=1:\n",
    "        return number_list\n",
    "    \n",
    "    # Split the array into two halves\n",
    "    mid = len(number_list) // 2\n",
    "    left_half = merge_sort(number_list[:mid])\n",
    "    right_half = merge_sort(number_list[mid:])\n",
    "\n",
    "\n",
    "\n",
    "    return merge(left_half, right_half)\n",
    "\n",
    "def merge(left, right):\n",
    "    result = []\n",
    "    i = j = 0\n",
    "    while i < len(left) and j < len(right):\n",
    "        if left[i] < right[j]:\n",
    "            result.append(left[i])\n",
    "            i += 1\n",
    "        else:\n",
    "            result.append(right[j])\n",
    "            j += 1\n",
    "\n",
    "    # Add remaining elements from either list\n",
    "    result.extend(left[i:])\n",
    "    result.extend(right[j:])\n",
    "\n",
    "    return result\n",
    "\n",
    "sorted_numbers = merge_sort(nums)\n",
    "print(sorted_numbers)\n"
   ]
  },
  {
   "cell_type": "code",
   "execution_count": null,
   "id": "30952918",
   "metadata": {},
   "outputs": [],
   "source": [
    " "
   ]
  }
 ],
 "metadata": {
  "kernelspec": {
   "display_name": "Python 3",
   "language": "python",
   "name": "python3"
  },
  "language_info": {
   "codemirror_mode": {
    "name": "ipython",
    "version": 3
   },
   "file_extension": ".py",
   "mimetype": "text/x-python",
   "name": "python",
   "nbconvert_exporter": "python",
   "pygments_lexer": "ipython3",
   "version": "3.11.7"
  }
 },
 "nbformat": 4,
 "nbformat_minor": 5
}
