{
 "cells": [
  {
   "cell_type": "code",
   "execution_count": 4,
   "id": "bbb2abcc",
   "metadata": {},
   "outputs": [
    {
     "name": "stdout",
     "output_type": "stream",
     "text": [
      "8\n",
      "7\n",
      "6\n",
      "5\n",
      "4\n"
     ]
    }
   ],
   "source": [
    "#Extraction of digits \n",
    "number = 45678\n",
    "remainder=0\n",
    "while number>0:\n",
    "    remainder= number%10\n",
    "    print(remainder)\n",
    "    number=number//10\n",
    "   "
   ]
  },
  {
   "cell_type": "code",
   "execution_count": 5,
   "id": "3502b835",
   "metadata": {},
   "outputs": [
    {
     "name": "stdout",
     "output_type": "stream",
     "text": [
      "87654\n"
     ]
    }
   ],
   "source": [
    "# reverse a number\n",
    "\n",
    "number = 45678\n",
    "reversed_number = 0  # Initialize a new variable to store the reversed number\n",
    "\n",
    "while number > 0:\n",
    "    # 1. Extract the last digit of the number\n",
    "    remainder = number % 10\n",
    "\n",
    "    # 2. Append the digit to the reversed_number\n",
    "    #    This is the core logic: we shift the existing digits one place left (by multiplying by 10)\n",
    "    #    and then add the new digit.\n",
    "    reversed_number = (reversed_number * 10) + remainder\n",
    "\n",
    "    # 3. Remove the last digit from the original number\n",
    "    number = number // 10\n",
    "\n",
    "# After the loop, print the final reversed number\n",
    "print(reversed_number)"
   ]
  },
  {
   "cell_type": "code",
   "execution_count": 6,
   "id": "a9c35027",
   "metadata": {},
   "outputs": [
    {
     "name": "stdout",
     "output_type": "stream",
     "text": [
      "30\n"
     ]
    }
   ],
   "source": [
    "# sum of digits\n",
    "\n",
    "number = 45678\n",
    "remainder=0\n",
    "while number>0:\n",
    "    remainder+= number%10\n",
    "    number=number//10\n",
    "print(remainder)    "
   ]
  },
  {
   "cell_type": "code",
   "execution_count": 2,
   "id": "f8951d3f",
   "metadata": {},
   "outputs": [
    {
     "name": "stdout",
     "output_type": "stream",
     "text": [
      "Original number: 1221\n",
      "Reversed number: 1221\n",
      "palindrome\n"
     ]
    }
   ],
   "source": [
    "# check Palindrome number\n",
    "\n",
    "def palindrome(number_passed):\n",
    "    # Store the original number in a separate variable.\n",
    "    # This value will remain unchanged for the final comparison.\n",
    "    original_number = number_passed\n",
    "    reversed_number = 0\n",
    "\n",
    "    # We use number_passed in the while loop because we can modify it\n",
    "    # without affecting the original_number.\n",
    "    while number_passed > 0:\n",
    "        remainder = number_passed % 10\n",
    "        reversed_number = (reversed_number * 10) + remainder\n",
    "        number_passed = number_passed // 10\n",
    "\n",
    "    # The comparison should be between the original number and the reversed number.\n",
    "    print(f\"Original number: {original_number}\")\n",
    "    print(f\"Reversed number: {reversed_number}\")\n",
    "    \n",
    "    if original_number == reversed_number:\n",
    "        print(\"palindrome\")\n",
    "    else:\n",
    "        print(\"not a palindrome\")\n",
    "\n",
    "# function calling\n",
    "palindrome(1221)       "
   ]
  },
  {
   "cell_type": "code",
   "execution_count": 11,
   "id": "00ad3477",
   "metadata": {},
   "outputs": [
    {
     "name": "stdout",
     "output_type": "stream",
     "text": [
      "Armstrong number\n",
      "Not an Armstrong number\n"
     ]
    }
   ],
   "source": [
    "# Armstrong\n",
    "\n",
    "\n",
    "def armstrong(number_input):\n",
    "    num=number_input\n",
    "    total=0\n",
    "    nod=len(str(number_input))\n",
    "    while number_input>0:\n",
    "        last_digit=number_input%10\n",
    "        total=total+(last_digit**nod)\n",
    "        number_input=number_input//10\n",
    "    if total==num:\n",
    "        print(\"Armstrong number\")\n",
    "    else:\n",
    "        print(\"Not an Armstrong number\")\n",
    "\n",
    "armstrong(153)\n",
    "armstrong(123)    "
   ]
  },
  {
   "cell_type": "code",
   "execution_count": 21,
   "id": "6e8c4818",
   "metadata": {},
   "outputs": [
    {
     "name": "stdout",
     "output_type": "stream",
     "text": [
      "True\n",
      "False\n"
     ]
    }
   ],
   "source": [
    "#check armstrong number or not\n",
    "def armstrong(number_input):\n",
    "    num=number_input\n",
    "    total=0\n",
    "    nod=len(str(number_input))\n",
    "    while number_input>0:\n",
    "        last_digit=number_input%10\n",
    "        total=total+(last_digit**nod)\n",
    "        number_input=number_input//10\n",
    "    return total == num    \n",
    "\n",
    "print(armstrong(153))\n",
    "print(armstrong(123))"
   ]
  }
 ],
 "metadata": {
  "kernelspec": {
   "display_name": "medicalchatbot",
   "language": "python",
   "name": "python3"
  },
  "language_info": {
   "codemirror_mode": {
    "name": "ipython",
    "version": 3
   },
   "file_extension": ".py",
   "mimetype": "text/x-python",
   "name": "python",
   "nbconvert_exporter": "python",
   "pygments_lexer": "ipython3",
   "version": "3.10.18"
  }
 },
 "nbformat": 4,
 "nbformat_minor": 5
}
