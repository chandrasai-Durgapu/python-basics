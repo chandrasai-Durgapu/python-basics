{
 "cells": [
  {
   "cell_type": "code",
   "execution_count": 1,
   "id": "61f914bf",
   "metadata": {},
   "outputs": [
    {
     "name": "stdout",
     "output_type": "stream",
     "text": [
      "hello world\n"
     ]
    }
   ],
   "source": [
    "print(\"hello world\")"
   ]
  },
  {
   "cell_type": "code",
   "execution_count": 2,
   "id": "21d55ce3",
   "metadata": {},
   "outputs": [
    {
     "name": "stdout",
     "output_type": "stream",
     "text": [
      "10\n"
     ]
    }
   ],
   "source": [
    "print(3+7)"
   ]
  },
  {
   "cell_type": "code",
   "execution_count": 3,
   "id": "6da82961",
   "metadata": {},
   "outputs": [
    {
     "data": {
      "text/plain": [
       "13"
      ]
     },
     "execution_count": 3,
     "metadata": {},
     "output_type": "execute_result"
    }
   ],
   "source": [
    "4+9"
   ]
  },
  {
   "cell_type": "code",
   "execution_count": 4,
   "id": "85a5b8ae",
   "metadata": {},
   "outputs": [
    {
     "data": {
      "text/plain": [
       "78"
      ]
     },
     "execution_count": 4,
     "metadata": {},
     "output_type": "execute_result"
    }
   ],
   "source": [
    "variable = 80-2\n",
    "variable"
   ]
  },
  {
   "cell_type": "code",
   "execution_count": 5,
   "id": "4718a7b1",
   "metadata": {},
   "outputs": [
    {
     "data": {
      "text/plain": [
       "int"
      ]
     },
     "execution_count": 5,
     "metadata": {},
     "output_type": "execute_result"
    }
   ],
   "source": [
    "type(variable)"
   ]
  },
  {
   "cell_type": "code",
   "execution_count": 6,
   "id": "683be560",
   "metadata": {},
   "outputs": [
    {
     "data": {
      "text/plain": [
       "(1, 2, 3)"
      ]
     },
     "execution_count": 6,
     "metadata": {},
     "output_type": "execute_result"
    }
   ],
   "source": [
    "a,b,c = 1,2,3\n",
    "a,b,c"
   ]
  },
  {
   "cell_type": "code",
   "execution_count": 7,
   "id": "22b51827",
   "metadata": {},
   "outputs": [
    {
     "name": "stdout",
     "output_type": "stream",
     "text": [
      "['False', 'None', 'True', 'and', 'as', 'assert', 'async', 'await', 'break', 'class', 'continue', 'def', 'del', 'elif', 'else', 'except', 'finally', 'for', 'from', 'global', 'if', 'import', 'in', 'is', 'lambda', 'nonlocal', 'not', 'or', 'pass', 'raise', 'return', 'try', 'while', 'with', 'yield']\n"
     ]
    }
   ],
   "source": [
    "import keyword\n",
    "print(keyword.kwlist)"
   ]
  },
  {
   "cell_type": "code",
   "execution_count": 8,
   "id": "20e8e2e3",
   "metadata": {},
   "outputs": [
    {
     "data": {
      "text/plain": [
       "35"
      ]
     },
     "execution_count": 8,
     "metadata": {},
     "output_type": "execute_result"
    }
   ],
   "source": [
    "len(keyword.kwlist)"
   ]
  },
  {
   "cell_type": "code",
   "execution_count": 9,
   "id": "b692f90d",
   "metadata": {},
   "outputs": [],
   "source": [
    "var_=6"
   ]
  },
  {
   "cell_type": "code",
   "execution_count": 10,
   "id": "b876b094",
   "metadata": {},
   "outputs": [],
   "source": [
    "_var=6"
   ]
  },
  {
   "cell_type": "code",
   "execution_count": 11,
   "id": "b8e8835c",
   "metadata": {},
   "outputs": [
    {
     "name": "stdout",
     "output_type": "stream",
     "text": [
      "8\n"
     ]
    }
   ],
   "source": [
    "z=8\n",
    "Z=z\n",
    "print(Z)"
   ]
  },
  {
   "cell_type": "code",
   "execution_count": 12,
   "id": "f8c30d89",
   "metadata": {},
   "outputs": [
    {
     "data": {
      "text/plain": [
       "'string content'"
      ]
     },
     "execution_count": 12,
     "metadata": {},
     "output_type": "execute_result"
    }
   ],
   "source": [
    "key=\"string content\"\n",
    "key"
   ]
  },
  {
   "cell_type": "code",
   "execution_count": 13,
   "id": "fa116779",
   "metadata": {},
   "outputs": [
    {
     "data": {
      "text/plain": [
       "str"
      ]
     },
     "execution_count": 13,
     "metadata": {},
     "output_type": "execute_result"
    }
   ],
   "source": [
    "type(key)"
   ]
  },
  {
   "cell_type": "code",
   "execution_count": 14,
   "id": "8e4ec3dd",
   "metadata": {},
   "outputs": [
    {
     "data": {
      "text/plain": [
       "5.0"
      ]
     },
     "execution_count": 14,
     "metadata": {},
     "output_type": "execute_result"
    }
   ],
   "source": [
    "20/4"
   ]
  },
  {
   "cell_type": "code",
   "execution_count": 15,
   "id": "d75dc8a5",
   "metadata": {},
   "outputs": [
    {
     "data": {
      "text/plain": [
       "16.666666666666668"
      ]
     },
     "execution_count": 15,
     "metadata": {},
     "output_type": "execute_result"
    }
   ],
   "source": [
    "100/6"
   ]
  },
  {
   "cell_type": "code",
   "execution_count": 16,
   "id": "8f8f8d96",
   "metadata": {},
   "outputs": [
    {
     "data": {
      "text/plain": [
       "16"
      ]
     },
     "execution_count": 16,
     "metadata": {},
     "output_type": "execute_result"
    }
   ],
   "source": [
    "100//6"
   ]
  },
  {
   "cell_type": "code",
   "execution_count": 17,
   "id": "9722c1e4",
   "metadata": {},
   "outputs": [
    {
     "data": {
      "text/plain": [
       "10.0"
      ]
     },
     "execution_count": 17,
     "metadata": {},
     "output_type": "execute_result"
    }
   ],
   "source": [
    "20/2"
   ]
  },
  {
   "cell_type": "code",
   "execution_count": 18,
   "id": "9ab94299",
   "metadata": {},
   "outputs": [
    {
     "data": {
      "text/plain": [
       "10"
      ]
     },
     "execution_count": 18,
     "metadata": {},
     "output_type": "execute_result"
    }
   ],
   "source": [
    "20//2\n",
    "\n",
    "# floor division"
   ]
  },
  {
   "cell_type": "code",
   "execution_count": 19,
   "id": "ee4519aa",
   "metadata": {},
   "outputs": [
    {
     "data": {
      "text/plain": [
       "0"
      ]
     },
     "execution_count": 19,
     "metadata": {},
     "output_type": "execute_result"
    }
   ],
   "source": [
    "25%5\n",
    "\n",
    "# modulus"
   ]
  },
  {
   "cell_type": "code",
   "execution_count": 20,
   "id": "e5624470",
   "metadata": {},
   "outputs": [
    {
     "data": {
      "text/plain": [
       "6"
      ]
     },
     "execution_count": 20,
     "metadata": {},
     "output_type": "execute_result"
    }
   ],
   "source": [
    "2 * 3\n"
   ]
  },
  {
   "cell_type": "code",
   "execution_count": 21,
   "id": "895f4df3",
   "metadata": {},
   "outputs": [
    {
     "data": {
      "text/plain": [
       "8"
      ]
     },
     "execution_count": 21,
     "metadata": {},
     "output_type": "execute_result"
    }
   ],
   "source": [
    "2 ** 3\n",
    "\n",
    "#power of 2"
   ]
  },
  {
   "cell_type": "code",
   "execution_count": 22,
   "id": "19673dd9",
   "metadata": {},
   "outputs": [
    {
     "name": "stdout",
     "output_type": "stream",
     "text": [
      "10\n"
     ]
    }
   ],
   "source": [
    "a =5 \n",
    "a+= 5\n",
    "print(a)"
   ]
  },
  {
   "cell_type": "code",
   "execution_count": 23,
   "id": "d92830b2",
   "metadata": {},
   "outputs": [
    {
     "name": "stdout",
     "output_type": "stream",
     "text": [
      "3\n"
     ]
    }
   ],
   "source": [
    "a = 5\n",
    "a-=2\n",
    "print(a)"
   ]
  },
  {
   "cell_type": "code",
   "execution_count": 24,
   "id": "59a2a29e",
   "metadata": {},
   "outputs": [
    {
     "data": {
      "text/plain": [
       "True"
      ]
     },
     "execution_count": 24,
     "metadata": {},
     "output_type": "execute_result"
    }
   ],
   "source": [
    "a=4\n",
    "\n",
    "#comparision operator\n",
    "a==4  "
   ]
  },
  {
   "cell_type": "code",
   "execution_count": 25,
   "id": "df203dbe",
   "metadata": {},
   "outputs": [
    {
     "data": {
      "text/plain": [
       "False"
      ]
     },
     "execution_count": 25,
     "metadata": {},
     "output_type": "execute_result"
    }
   ],
   "source": [
    "a =5\n",
    "\n",
    "a+=5\n",
    "\n",
    "#comparision operator\n",
    "a==5"
   ]
  },
  {
   "cell_type": "code",
   "execution_count": 26,
   "id": "16c4c4ef",
   "metadata": {},
   "outputs": [
    {
     "data": {
      "text/plain": [
       "True"
      ]
     },
     "execution_count": 26,
     "metadata": {},
     "output_type": "execute_result"
    }
   ],
   "source": [
    "a =5\n",
    "\n",
    "a > 3"
   ]
  },
  {
   "cell_type": "code",
   "execution_count": 27,
   "id": "babdcf8a",
   "metadata": {},
   "outputs": [
    {
     "data": {
      "text/plain": [
       "False"
      ]
     },
     "execution_count": 27,
     "metadata": {},
     "output_type": "execute_result"
    }
   ],
   "source": [
    "a = 5\n",
    "\n",
    "a > 20"
   ]
  },
  {
   "cell_type": "code",
   "execution_count": 28,
   "id": "15c9a6cf",
   "metadata": {},
   "outputs": [
    {
     "data": {
      "text/plain": [
       "True"
      ]
     },
     "execution_count": 28,
     "metadata": {},
     "output_type": "execute_result"
    }
   ],
   "source": [
    "a = 5\n",
    "\n",
    "a < 20"
   ]
  },
  {
   "cell_type": "code",
   "execution_count": 29,
   "id": "79c37df4",
   "metadata": {},
   "outputs": [
    {
     "data": {
      "text/plain": [
       "False"
      ]
     },
     "execution_count": 29,
     "metadata": {},
     "output_type": "execute_result"
    }
   ],
   "source": [
    "a = 5\n",
    "\n",
    "a <= 3"
   ]
  },
  {
   "cell_type": "code",
   "execution_count": 30,
   "id": "59f943d3",
   "metadata": {},
   "outputs": [
    {
     "data": {
      "text/plain": [
       "True"
      ]
     },
     "execution_count": 30,
     "metadata": {},
     "output_type": "execute_result"
    }
   ],
   "source": [
    "a = 5\n",
    "\n",
    "a >= 1"
   ]
  },
  {
   "cell_type": "code",
   "execution_count": 31,
   "id": "78cb2b20",
   "metadata": {},
   "outputs": [
    {
     "data": {
      "text/plain": [
       "True"
      ]
     },
     "execution_count": 31,
     "metadata": {},
     "output_type": "execute_result"
    }
   ],
   "source": [
    "a = 5\n",
    "b = 5\n",
    "\n",
    "# a>3  \n",
    "# true\n",
    "\n",
    "b>3\n",
    "# b > 3\n",
    "# True\n",
    "\n",
    "a>3 and b>3"
   ]
  },
  {
   "cell_type": "code",
   "execution_count": 32,
   "id": "8c4f2d6b",
   "metadata": {},
   "outputs": [
    {
     "data": {
      "text/plain": [
       "False"
      ]
     },
     "execution_count": 32,
     "metadata": {},
     "output_type": "execute_result"
    }
   ],
   "source": [
    "a = 5\n",
    "b = 5\n",
    "\n",
    "a>3 and b<3\n",
    "\n",
    "# and ....operator"
   ]
  },
  {
   "cell_type": "code",
   "execution_count": 33,
   "id": "f270e591",
   "metadata": {},
   "outputs": [
    {
     "data": {
      "text/plain": [
       "True"
      ]
     },
     "execution_count": 33,
     "metadata": {},
     "output_type": "execute_result"
    }
   ],
   "source": [
    "a = 5\n",
    "b = 0\n",
    "\n",
    "a>1 or b>1\n",
    "\n",
    "# or operator"
   ]
  },
  {
   "cell_type": "markdown",
   "id": "7b646a97",
   "metadata": {},
   "source": [
    "Bitwise operator"
   ]
  },
  {
   "cell_type": "code",
   "execution_count": 34,
   "id": "a4636d71",
   "metadata": {},
   "outputs": [
    {
     "data": {
      "text/plain": [
       "1"
      ]
     },
     "execution_count": 34,
     "metadata": {},
     "output_type": "execute_result"
    }
   ],
   "source": [
    "a = 5\n",
    "b = 3\n",
    "a  & b"
   ]
  },
  {
   "cell_type": "code",
   "execution_count": 35,
   "id": "42f155a3",
   "metadata": {},
   "outputs": [
    {
     "data": {
      "text/plain": [
       "7"
      ]
     },
     "execution_count": 35,
     "metadata": {},
     "output_type": "execute_result"
    }
   ],
   "source": [
    "a = 5\n",
    "b = 3\n",
    "a | b"
   ]
  },
  {
   "cell_type": "code",
   "execution_count": 36,
   "id": "a70c11e5",
   "metadata": {},
   "outputs": [
    {
     "name": "stdout",
     "output_type": "stream",
     "text": [
      "True\n"
     ]
    }
   ],
   "source": [
    "a = \"chandra\"\n",
    "print(\"c\" in a)"
   ]
  },
  {
   "cell_type": "code",
   "execution_count": 37,
   "id": "28c211b7",
   "metadata": {},
   "outputs": [
    {
     "name": "stdout",
     "output_type": "stream",
     "text": [
      "False\n"
     ]
    }
   ],
   "source": [
    "a = \"chandra\"\n",
    "\n",
    "print(\"zyx\" in a)"
   ]
  },
  {
   "cell_type": "code",
   "execution_count": 38,
   "id": "ba1a03a0",
   "metadata": {},
   "outputs": [
    {
     "name": "stdout",
     "output_type": "stream",
     "text": [
      "False\n"
     ]
    }
   ],
   "source": [
    "a = [1,2,3,4]\n",
    "\n",
    "print(10 in a)"
   ]
  },
  {
   "cell_type": "code",
   "execution_count": 39,
   "id": "48502300",
   "metadata": {},
   "outputs": [
    {
     "data": {
      "text/plain": [
       "False"
      ]
     },
     "execution_count": 39,
     "metadata": {},
     "output_type": "execute_result"
    }
   ],
   "source": [
    "a = True\n",
    "\n",
    "not a\n",
    "\n",
    "#not operator"
   ]
  },
  {
   "cell_type": "markdown",
   "id": "bccb078e",
   "metadata": {},
   "source": [
    "'Math' module"
   ]
  },
  {
   "cell_type": "code",
   "execution_count": 40,
   "id": "d643833a",
   "metadata": {},
   "outputs": [
    {
     "data": {
      "text/plain": [
       "3.141592653589793"
      ]
     },
     "execution_count": 40,
     "metadata": {},
     "output_type": "execute_result"
    }
   ],
   "source": [
    "import math\n",
    "\n",
    "math.pi"
   ]
  },
  {
   "cell_type": "code",
   "execution_count": 41,
   "id": "206fe673",
   "metadata": {},
   "outputs": [
    {
     "data": {
      "text/plain": [
       "nan"
      ]
     },
     "execution_count": 41,
     "metadata": {},
     "output_type": "execute_result"
    }
   ],
   "source": [
    "import math\n",
    "\n",
    "math.nan\n",
    "\n",
    "#not a number"
   ]
  },
  {
   "cell_type": "code",
   "execution_count": 42,
   "id": "eb62d3ab",
   "metadata": {},
   "outputs": [
    {
     "data": {
      "text/plain": [
       "200"
      ]
     },
     "execution_count": 42,
     "metadata": {},
     "output_type": "execute_result"
    }
   ],
   "source": [
    "import math\n",
    "\n",
    "math.floor(200.34567)\n",
    "\n",
    "# floor value"
   ]
  },
  {
   "cell_type": "code",
   "execution_count": 43,
   "id": "46d41ef4",
   "metadata": {},
   "outputs": [
    {
     "data": {
      "text/plain": [
       "301"
      ]
     },
     "execution_count": 43,
     "metadata": {},
     "output_type": "execute_result"
    }
   ],
   "source": [
    "import math\n",
    "\n",
    "math.ceil(300.999)\n",
    "\n",
    "# ceil value"
   ]
  },
  {
   "cell_type": "code",
   "execution_count": 44,
   "id": "fb5be0d6",
   "metadata": {},
   "outputs": [
    {
     "data": {
      "text/plain": [
       "4.605170185988092"
      ]
     },
     "execution_count": 44,
     "metadata": {},
     "output_type": "execute_result"
    }
   ],
   "source": [
    "import math\n",
    "\n",
    "math.log(100)"
   ]
  },
  {
   "cell_type": "code",
   "execution_count": 45,
   "id": "a8958f6c",
   "metadata": {},
   "outputs": [
    {
     "data": {
      "text/plain": [
       "4.0"
      ]
     },
     "execution_count": 45,
     "metadata": {},
     "output_type": "execute_result"
    }
   ],
   "source": [
    "import math\n",
    "\n",
    "math.sqrt(16)"
   ]
  },
  {
   "cell_type": "code",
   "execution_count": 46,
   "id": "1c2b9eb9",
   "metadata": {},
   "outputs": [
    {
     "data": {
      "text/plain": [
       "8.0"
      ]
     },
     "execution_count": 46,
     "metadata": {},
     "output_type": "execute_result"
    }
   ],
   "source": [
    "import math\n",
    "\n",
    "math.pow(2,3)\n",
    "\n",
    "# cube of 2"
   ]
  },
  {
   "cell_type": "code",
   "execution_count": 47,
   "id": "dc50dcf0",
   "metadata": {},
   "outputs": [
    {
     "name": "stdout",
     "output_type": "stream",
     "text": [
      "True\n"
     ]
    }
   ],
   "source": [
    "a = [1,2,3,4]\n",
    "\n",
    "print(10000 not in a)"
   ]
  },
  {
   "cell_type": "code",
   "execution_count": 48,
   "id": "671003e9",
   "metadata": {},
   "outputs": [
    {
     "name": "stdout",
     "output_type": "stream",
     "text": [
      "5\n"
     ]
    }
   ],
   "source": [
    "a = 5\n",
    "\n",
    "if a == 5:\n",
    "    print(a)"
   ]
  },
  {
   "cell_type": "code",
   "execution_count": 49,
   "id": "6acf088d",
   "metadata": {},
   "outputs": [
    {
     "name": "stdout",
     "output_type": "stream",
     "text": [
      "false\n"
     ]
    }
   ],
   "source": [
    "a = 5\n",
    "\n",
    "if a > 10000:\n",
    "    print(\"true\")\n",
    "\n",
    "else:\n",
    "    print(\"false\")"
   ]
  },
  {
   "cell_type": "code",
   "execution_count": 50,
   "id": "fe2936de",
   "metadata": {},
   "outputs": [
    {
     "name": "stdout",
     "output_type": "stream",
     "text": [
      "8\n"
     ]
    }
   ],
   "source": [
    "a = 5\n",
    "\n",
    "if a > 0:\n",
    "    a = a + 3\n",
    "    print(a)\n",
    "\n",
    "else:\n",
    "    print(a)"
   ]
  },
  {
   "cell_type": "code",
   "execution_count": 51,
   "id": "7bbee89f",
   "metadata": {},
   "outputs": [
    {
     "name": "stdout",
     "output_type": "stream",
     "text": [
      "10\n"
     ]
    }
   ],
   "source": [
    "a = 5\n",
    "\n",
    "if a == 5:\n",
    "    a = a + 5\n",
    "    print(a)"
   ]
  },
  {
   "cell_type": "code",
   "execution_count": 52,
   "id": "287f1573",
   "metadata": {},
   "outputs": [
    {
     "name": "stdout",
     "output_type": "stream",
     "text": [
      "outside of if-block\n"
     ]
    }
   ],
   "source": [
    "a = 5\n",
    "\n",
    "if a == 1000:\n",
    "    print(\"if statement is true\")\n",
    "\n",
    "print(\"outside of if-block\")"
   ]
  },
  {
   "cell_type": "code",
   "execution_count": 53,
   "id": "c9ab72f8",
   "metadata": {},
   "outputs": [
    {
     "name": "stdout",
     "output_type": "stream",
     "text": [
      "elif statements get executed\n",
      "5\n"
     ]
    }
   ],
   "source": [
    "a = 5\n",
    "\n",
    "if a == 3:\n",
    "    print(a+3)\n",
    "\n",
    "elif a ==5:\n",
    "    print(\"elif statements get executed\")\n",
    "    print(a)\n",
    "\n",
    "elif a > 20:\n",
    "    print(\"nested elif\")"
   ]
  },
  {
   "cell_type": "code",
   "execution_count": 54,
   "id": "e2040882",
   "metadata": {},
   "outputs": [
    {
     "name": "stdout",
     "output_type": "stream",
     "text": [
      "else block statements get executed\n",
      "5\n"
     ]
    }
   ],
   "source": [
    "a = 5\n",
    "\n",
    "if a > 200:\n",
    "    pass\n",
    "\n",
    "elif a < 0:\n",
    "    pass\n",
    "\n",
    "else:\n",
    "    print(\"else block statements get executed\")\n",
    "    print(a)"
   ]
  },
  {
   "cell_type": "code",
   "execution_count": 55,
   "id": "875ad1c0",
   "metadata": {},
   "outputs": [
    {
     "name": "stdout",
     "output_type": "stream",
     "text": [
      "else block got executed\n"
     ]
    }
   ],
   "source": [
    "fruits = [\"apple\", \"banana\", \"orange\"]\n",
    "\n",
    "if \"chandra\" in fruits:\n",
    "    print(\"chandra is present in the list\")\n",
    "\n",
    "elif \"cherry\" in fruits:\n",
    "    print(\"cherry is present in list\")\n",
    "\n",
    "else:\n",
    "    print(\"else block got executed\")"
   ]
  },
  {
   "cell_type": "markdown",
   "id": "fb4384f3",
   "metadata": {},
   "source": [
    "List"
   ]
  },
  {
   "cell_type": "code",
   "execution_count": 56,
   "id": "16fd04c5",
   "metadata": {},
   "outputs": [
    {
     "data": {
      "text/plain": [
       "6"
      ]
     },
     "execution_count": 56,
     "metadata": {},
     "output_type": "execute_result"
    }
   ],
   "source": [
    "a = [1,2,3,4,5,6]\n",
    "len(a)"
   ]
  },
  {
   "cell_type": "code",
   "execution_count": 57,
   "id": "5854ab67",
   "metadata": {},
   "outputs": [
    {
     "data": {
      "text/plain": [
       "[1, 2]"
      ]
     },
     "execution_count": 57,
     "metadata": {},
     "output_type": "execute_result"
    }
   ],
   "source": [
    "a =[1,2,3,4,5,6]\n",
    "\n",
    "a[0:2]"
   ]
  },
  {
   "cell_type": "code",
   "execution_count": 58,
   "id": "b0c6f4d1",
   "metadata": {},
   "outputs": [
    {
     "data": {
      "text/plain": [
       "[1, 2, 3, 4]"
      ]
     },
     "execution_count": 58,
     "metadata": {},
     "output_type": "execute_result"
    }
   ],
   "source": [
    "a = [1,2,3,4,5,6]\n",
    "\n",
    "a[:4]"
   ]
  },
  {
   "cell_type": "code",
   "execution_count": 59,
   "id": "fa77a771",
   "metadata": {},
   "outputs": [
    {
     "data": {
      "text/plain": [
       "[1, 2, 3, 'string content', (3+4j)]"
      ]
     },
     "execution_count": 59,
     "metadata": {},
     "output_type": "execute_result"
    }
   ],
   "source": [
    "a = [1,2,3, \"string content\", 3+4j]\n",
    "\n",
    "a"
   ]
  },
  {
   "cell_type": "code",
   "execution_count": 60,
   "id": "f149ee3b",
   "metadata": {},
   "outputs": [
    {
     "data": {
      "text/plain": [
       "'chandra'"
      ]
     },
     "execution_count": 60,
     "metadata": {},
     "output_type": "execute_result"
    }
   ],
   "source": [
    "a = [\"chandra\", \"sai\", \"AI Engineer\", \"ML Engineer\", \"Data Science Engineer\"]\n",
    "\n",
    "a[0]"
   ]
  },
  {
   "cell_type": "code",
   "execution_count": 61,
   "id": "69e72fcd",
   "metadata": {},
   "outputs": [
    {
     "data": {
      "text/plain": [
       "['chandra', 'sai']"
      ]
     },
     "execution_count": 61,
     "metadata": {},
     "output_type": "execute_result"
    }
   ],
   "source": [
    "a = [\"chandra\", \"sai\", \"AI Engineer\", \"ML Engineer\", \"Data Science Engineer\"]\n",
    "\n",
    "a[0:2]"
   ]
  },
  {
   "cell_type": "code",
   "execution_count": 62,
   "id": "37bc7118",
   "metadata": {},
   "outputs": [
    {
     "data": {
      "text/plain": [
       "['chandra', 'sai', 'AI Engineer', 'ML Engineer']"
      ]
     },
     "execution_count": 62,
     "metadata": {},
     "output_type": "execute_result"
    }
   ],
   "source": [
    "a = [\"chandra\", \"sai\", \"AI Engineer\", \"ML Engineer\", \"Data Science Engineer\"]\n",
    "\n",
    "a[:4]"
   ]
  },
  {
   "cell_type": "code",
   "execution_count": 63,
   "id": "71125212",
   "metadata": {},
   "outputs": [
    {
     "data": {
      "text/plain": [
       "['chandra', 'AI Engineer']"
      ]
     },
     "execution_count": 63,
     "metadata": {},
     "output_type": "execute_result"
    }
   ],
   "source": [
    "a = [\"chandra\", \"sai\", \"AI Engineer\", \"ML Engineer\", \"Data Science Engineer\"]\n",
    "\n",
    "a[0:4:2]\n",
    "\n",
    "# starting index=== 0\n",
    "# last index======= 4\n",
    "# skip 2 elements from it"
   ]
  },
  {
   "cell_type": "code",
   "execution_count": 64,
   "id": "938a5fb9",
   "metadata": {},
   "outputs": [
    {
     "data": {
      "text/plain": [
       "['chandra', 'AI Engineer', 'Data Science Engineer']"
      ]
     },
     "execution_count": 64,
     "metadata": {},
     "output_type": "execute_result"
    }
   ],
   "source": [
    "a = [\"chandra\", \"sai\", \"AI Engineer\", \"ML Engineer\", \"Data Science Engineer\"]\n",
    "\n",
    "a[::2]"
   ]
  },
  {
   "cell_type": "code",
   "execution_count": 65,
   "id": "56235770",
   "metadata": {},
   "outputs": [
    {
     "data": {
      "text/plain": [
       "'Data Science Engineer'"
      ]
     },
     "execution_count": 65,
     "metadata": {},
     "output_type": "execute_result"
    }
   ],
   "source": [
    "a = [\"chandra\", \"sai\", \"AI Engineer\", \"ML Engineer\", \"Data Science Engineer\"]\n",
    "\n",
    "a[-1]\n",
    "# last element"
   ]
  },
  {
   "cell_type": "code",
   "execution_count": 66,
   "id": "26354592",
   "metadata": {},
   "outputs": [
    {
     "data": {
      "text/plain": [
       "'ML Engineer'"
      ]
     },
     "execution_count": 66,
     "metadata": {},
     "output_type": "execute_result"
    }
   ],
   "source": [
    "a = [\"chandra\", \"sai\", \"AI Engineer\", \"ML Engineer\", \"Data Science Engineer\"]\n",
    "\n",
    "a[-2]"
   ]
  },
  {
   "cell_type": "code",
   "execution_count": 67,
   "id": "8da56cb7",
   "metadata": {},
   "outputs": [
    {
     "data": {
      "text/plain": [
       "['Data Science Engineer', 'ML Engineer', 'AI Engineer', 'sai', 'chandra']"
      ]
     },
     "execution_count": 67,
     "metadata": {},
     "output_type": "execute_result"
    }
   ],
   "source": [
    "a = [\"chandra\", \"sai\", \"AI Engineer\", \"ML Engineer\", \"Data Science Engineer\"]\n",
    "\n",
    "a[::-1]\n",
    "# print in reverse order"
   ]
  },
  {
   "cell_type": "code",
   "execution_count": 68,
   "id": "ab19a4b3",
   "metadata": {},
   "outputs": [
    {
     "data": {
      "text/plain": [
       "[1, 1]"
      ]
     },
     "execution_count": 68,
     "metadata": {},
     "output_type": "execute_result"
    }
   ],
   "source": [
    "a = [1]\n",
    "\n",
    "a * 2\n",
    "\n",
    "# repeated elements twice"
   ]
  },
  {
   "cell_type": "code",
   "execution_count": 69,
   "id": "b24029d7",
   "metadata": {},
   "outputs": [
    {
     "data": {
      "text/plain": [
       "[1, 2, 3, 1, 2, 3]"
      ]
     },
     "execution_count": 69,
     "metadata": {},
     "output_type": "execute_result"
    }
   ],
   "source": [
    "a = [1,2,3]\n",
    "\n",
    "a * 2\n",
    "\n",
    "# repeated elements twice"
   ]
  },
  {
   "cell_type": "code",
   "execution_count": 70,
   "id": "9fc0407e",
   "metadata": {},
   "outputs": [
    {
     "data": {
      "text/plain": [
       "[1, 2, 3, 'new element']"
      ]
     },
     "execution_count": 70,
     "metadata": {},
     "output_type": "execute_result"
    }
   ],
   "source": [
    "a = [1,2,3]\n",
    "\n",
    "a.append(\"new element\")\n",
    "# add element into list\n",
    "\n",
    "a"
   ]
  },
  {
   "cell_type": "code",
   "execution_count": 71,
   "id": "40fbdc6f",
   "metadata": {},
   "outputs": [
    {
     "data": {
      "text/plain": [
       "[1, 2, 3, [4, 5, 6]]"
      ]
     },
     "execution_count": 71,
     "metadata": {},
     "output_type": "execute_result"
    }
   ],
   "source": [
    "a = [1,2,3]\n",
    "\n",
    "a.append([4,5,6])\n",
    "\n",
    "a"
   ]
  },
  {
   "cell_type": "code",
   "execution_count": 72,
   "id": "83405ecc",
   "metadata": {},
   "outputs": [
    {
     "data": {
      "text/plain": [
       "[2, 3, 4, 5, 6]"
      ]
     },
     "execution_count": 72,
     "metadata": {},
     "output_type": "execute_result"
    }
   ],
   "source": [
    "a = [1,2,3,4,5,6]\n",
    "\n",
    "# pop ....zero index\n",
    "a.pop(0)\n",
    "a"
   ]
  },
  {
   "cell_type": "markdown",
   "id": "fb06c918",
   "metadata": {},
   "source": [
    "Tuple"
   ]
  },
  {
   "cell_type": "code",
   "execution_count": 73,
   "id": "b26ddf7e",
   "metadata": {},
   "outputs": [
    {
     "data": {
      "text/plain": [
       "tuple"
      ]
     },
     "execution_count": 73,
     "metadata": {},
     "output_type": "execute_result"
    }
   ],
   "source": [
    "a = (1,2,3,4,5,6)\n",
    "\n",
    "type(a)"
   ]
  },
  {
   "cell_type": "code",
   "execution_count": 74,
   "id": "556cdb2a",
   "metadata": {},
   "outputs": [
    {
     "data": {
      "text/plain": [
       "('first', 'second')"
      ]
     },
     "execution_count": 74,
     "metadata": {},
     "output_type": "execute_result"
    }
   ],
   "source": [
    "a = (\"first\", \"second\", \"third\",\"four\")\n",
    "\n",
    "a[:2]"
   ]
  },
  {
   "cell_type": "code",
   "execution_count": 75,
   "id": "dd5ce6a3",
   "metadata": {},
   "outputs": [
    {
     "data": {
      "text/plain": [
       "'four'"
      ]
     },
     "execution_count": 75,
     "metadata": {},
     "output_type": "execute_result"
    }
   ],
   "source": [
    "a = (\"first\", \"second\", \"third\",\"four\")\n",
    "\n",
    "a[-1]"
   ]
  },
  {
   "cell_type": "code",
   "execution_count": 76,
   "id": "4aa25a1e",
   "metadata": {},
   "outputs": [
    {
     "data": {
      "text/plain": [
       "('four', 'third', 'second', 'first')"
      ]
     },
     "execution_count": 76,
     "metadata": {},
     "output_type": "execute_result"
    }
   ],
   "source": [
    "a = (\"first\", \"second\", \"third\",\"four\")\n",
    "\n",
    "a[::-1]\n",
    "# print in reverse order"
   ]
  },
  {
   "cell_type": "code",
   "execution_count": 77,
   "id": "5bbf35c2",
   "metadata": {},
   "outputs": [
    {
     "name": "stdout",
     "output_type": "stream",
     "text": [
      "abxcdfbnght\n"
     ]
    }
   ],
   "source": [
    "t = \"ABXCDFbnght\"\n",
    "t.lower()\n",
    "print(t.lower())\n",
    "\n",
    "#converted to LOWER CASE"
   ]
  },
  {
   "cell_type": "code",
   "execution_count": 78,
   "id": "c2b8f0fc",
   "metadata": {},
   "outputs": [
    {
     "name": "stdout",
     "output_type": "stream",
     "text": [
      "ABCDEFGHIJK\n"
     ]
    }
   ],
   "source": [
    "t = \"abcdefghijk\"\n",
    "print(t.upper())\n",
    "\n",
    "# converted to UPPER CASE"
   ]
  },
  {
   "cell_type": "code",
   "execution_count": 79,
   "id": "0f9bed80",
   "metadata": {},
   "outputs": [
    {
     "name": "stdout",
     "output_type": "stream",
     "text": [
      "['Hello', 'World']\n"
     ]
    }
   ],
   "source": [
    "t = \"Hello World\"\n",
    "sliced = t.split(' ')\n",
    "\n",
    "print(sliced)\n",
    "\n",
    "# split data based on white-space"
   ]
  },
  {
   "cell_type": "code",
   "execution_count": 80,
   "id": "f06f3729",
   "metadata": {},
   "outputs": [
    {
     "name": "stdout",
     "output_type": "stream",
     "text": [
      "['Hello', 'World']\n"
     ]
    }
   ],
   "source": [
    "t = \"Hello,World\"\n",
    "sliced = t.split(',')\n",
    "\n",
    "print(sliced)\n",
    "\n",
    "#split() ....the data based on comma"
   ]
  },
  {
   "cell_type": "code",
   "execution_count": 81,
   "id": "0ddda1aa",
   "metadata": {},
   "outputs": [
    {
     "name": "stdout",
     "output_type": "stream",
     "text": [
      "first statement second-statement\n"
     ]
    }
   ],
   "source": [
    "a =\"first statement\"\n",
    "a = a + \" second-statement\"\n",
    "\n",
    "print(a)\n",
    "\n",
    "# concatenate two strings"
   ]
  },
  {
   "cell_type": "code",
   "execution_count": 82,
   "id": "3a54df15",
   "metadata": {},
   "outputs": [
    {
     "data": {
      "text/plain": [
       "('first', 'third')"
      ]
     },
     "execution_count": 82,
     "metadata": {},
     "output_type": "execute_result"
    }
   ],
   "source": [
    "a = (\"first\", \"second\", \"third\",\"four\")\n",
    "\n",
    "a[0:3:2]\n",
    "\n",
    "# skip \"second element\" every time"
   ]
  },
  {
   "cell_type": "code",
   "execution_count": 83,
   "id": "95b5a7fc",
   "metadata": {},
   "outputs": [
    {
     "name": "stdout",
     "output_type": "stream",
     "text": [
      "total elements length 10\n"
     ]
    },
    {
     "data": {
      "text/plain": [
       "('first', 'third', 'five', 'seven', 'nine')"
      ]
     },
     "execution_count": 83,
     "metadata": {},
     "output_type": "execute_result"
    }
   ],
   "source": [
    "a = (\"first\", \"second\", \"third\",\"four\",\"five\", \"six\", \"seven\", \"eight\", \"nine\", \"ten\")\n",
    "print(\"total elements length\",len(a))\n",
    "a[0:9:2]\n",
    "#skip second element every time"
   ]
  },
  {
   "cell_type": "markdown",
   "id": "b238ad7b",
   "metadata": {},
   "source": [
    "Dictionary"
   ]
  },
  {
   "cell_type": "code",
   "execution_count": 84,
   "id": "d3e5cb90",
   "metadata": {},
   "outputs": [
    {
     "data": {
      "text/plain": [
       "{'key': [1, 2, 3, 4]}"
      ]
     },
     "execution_count": 84,
     "metadata": {},
     "output_type": "execute_result"
    }
   ],
   "source": [
    "d = {'key': [1,2,3,4]}\n",
    "\n",
    "d"
   ]
  },
  {
   "cell_type": "code",
   "execution_count": 85,
   "id": "d3bd9b08",
   "metadata": {},
   "outputs": [
    {
     "data": {
      "text/plain": [
       "[1, 2, 3, 4]"
      ]
     },
     "execution_count": 85,
     "metadata": {},
     "output_type": "execute_result"
    }
   ],
   "source": [
    "d[\"key\"]"
   ]
  },
  {
   "cell_type": "code",
   "execution_count": 86,
   "id": "089dc64e",
   "metadata": {},
   "outputs": [
    {
     "data": {
      "text/plain": [
       "{'key': [5, 6, 7, 8]}"
      ]
     },
     "execution_count": 86,
     "metadata": {},
     "output_type": "execute_result"
    }
   ],
   "source": [
    "d = {'key': [1,2,3,4],\n",
    "     'key': [5,6,7,8]}\n",
    "\n",
    "d\n",
    "# key has 1,2,3,4 ....these are replaced\n",
    " # python avoid duplicates in dictionary and replaces it last modified 'key'"
   ]
  },
  {
   "cell_type": "code",
   "execution_count": 87,
   "id": "bb1bc50d",
   "metadata": {},
   "outputs": [
    {
     "data": {
      "text/plain": [
       "dict_items([('key1', ['string1', 'string2']), ('key2', [1, 2, 3, 4, 5, 6])])"
      ]
     },
     "execution_count": 87,
     "metadata": {},
     "output_type": "execute_result"
    }
   ],
   "source": [
    "d = {'key1': [\"string1\", \"string2\"],\n",
    "     'key2': [1,2,3,4,5,6]\n",
    "}\n",
    "\n",
    "d.items\n",
    "d.items()"
   ]
  },
  {
   "cell_type": "code",
   "execution_count": 88,
   "id": "79195497",
   "metadata": {},
   "outputs": [
    {
     "data": {
      "text/plain": [
       "dict_keys(['key1', 'key2'])"
      ]
     },
     "execution_count": 88,
     "metadata": {},
     "output_type": "execute_result"
    }
   ],
   "source": [
    "d = {'key1': [\"string1\", \"string2\"],\n",
    "     'key2': [1,2,3,4,5,6]\n",
    "}\n",
    "\n",
    "d.keys()\n",
    "# print keys"
   ]
  },
  {
   "cell_type": "code",
   "execution_count": 89,
   "id": "7620441d",
   "metadata": {},
   "outputs": [
    {
     "data": {
      "text/plain": [
       "dict_values([['string1', 'string2'], [1, 2, 3, 4, 5, 6]])"
      ]
     },
     "execution_count": 89,
     "metadata": {},
     "output_type": "execute_result"
    }
   ],
   "source": [
    "d = {'key1': [\"string1\", \"string2\"],\n",
    "     'key2': [1,2,3,4,5,6]\n",
    "}\n",
    "\n",
    "d.values()\n",
    "#it returns all the values"
   ]
  },
  {
   "cell_type": "code",
   "execution_count": null,
   "id": "cc566fa3",
   "metadata": {},
   "outputs": [],
   "source": []
  },
  {
   "cell_type": "code",
   "execution_count": 90,
   "id": "57fe80a3",
   "metadata": {},
   "outputs": [
    {
     "data": {
      "text/plain": [
       "{'key1': ['string1', 'string2']}"
      ]
     },
     "execution_count": 90,
     "metadata": {},
     "output_type": "execute_result"
    }
   ],
   "source": [
    "d = {'key1': [\"string1\", \"string2\"],\n",
    "     'key2': [1,2,3,4,5,6]\n",
    "}\n",
    "\n",
    "del d['key2']\n",
    "# delete key2\n",
    "\n",
    "d"
   ]
  },
  {
   "cell_type": "code",
   "execution_count": 91,
   "id": "25240fcc",
   "metadata": {},
   "outputs": [
    {
     "data": {
      "text/plain": [
       "1"
      ]
     },
     "execution_count": 91,
     "metadata": {},
     "output_type": "execute_result"
    }
   ],
   "source": [
    "def factorial(number):\n",
    "    if number==0:\n",
    "        return 1\n",
    "    else:\n",
    "        return number * factorial(number-1) \n",
    "\n",
    "factorial(0)        \n",
    "\n",
    "# function"
   ]
  },
  {
   "cell_type": "code",
   "execution_count": 92,
   "id": "cd0b7716",
   "metadata": {},
   "outputs": [
    {
     "data": {
      "text/plain": [
       "120"
      ]
     },
     "execution_count": 92,
     "metadata": {},
     "output_type": "execute_result"
    }
   ],
   "source": [
    "factorial(5)"
   ]
  },
  {
   "cell_type": "code",
   "execution_count": 96,
   "id": "e98629fe",
   "metadata": {},
   "outputs": [
    {
     "ename": "TypeError",
     "evalue": "unsupported operand type(s) for -: 'str' and 'int'",
     "output_type": "error",
     "traceback": [
      "\u001b[1;31m---------------------------------------------------------------------------\u001b[0m",
      "\u001b[1;31mTypeError\u001b[0m                                 Traceback (most recent call last)",
      "Cell \u001b[1;32mIn[96], line 1\u001b[0m\n\u001b[1;32m----> 1\u001b[0m \u001b[43mfactorial\u001b[49m\u001b[43m(\u001b[49m\u001b[38;5;124;43m\"\u001b[39;49m\u001b[38;5;124;43m3\u001b[39;49m\u001b[38;5;124;43m\"\u001b[39;49m\u001b[43m)\u001b[49m\n",
      "Cell \u001b[1;32mIn[91], line 5\u001b[0m, in \u001b[0;36mfactorial\u001b[1;34m(number)\u001b[0m\n\u001b[0;32m      3\u001b[0m     \u001b[38;5;28;01mreturn\u001b[39;00m \u001b[38;5;241m1\u001b[39m\n\u001b[0;32m      4\u001b[0m \u001b[38;5;28;01melse\u001b[39;00m:\n\u001b[1;32m----> 5\u001b[0m     \u001b[38;5;28;01mreturn\u001b[39;00m number \u001b[38;5;241m*\u001b[39m factorial(\u001b[43mnumber\u001b[49m\u001b[38;5;241;43m-\u001b[39;49m\u001b[38;5;241;43m1\u001b[39;49m)\n",
      "\u001b[1;31mTypeError\u001b[0m: unsupported operand type(s) for -: 'str' and 'int'"
     ]
    }
   ],
   "source": [
    "factorial(\"3\")"
   ]
  },
  {
   "cell_type": "code",
   "execution_count": 94,
   "id": "8ef7b307",
   "metadata": {},
   "outputs": [],
   "source": [
    "#single comment line"
   ]
  },
  {
   "cell_type": "code",
   "execution_count": 95,
   "id": "e6396208",
   "metadata": {},
   "outputs": [
    {
     "data": {
      "text/plain": [
       "' multiple line of comments'"
      ]
     },
     "execution_count": 95,
     "metadata": {},
     "output_type": "execute_result"
    }
   ],
   "source": [
    "\"\"\" multiple line of comments\"\"\""
   ]
  },
  {
   "cell_type": "code",
   "execution_count": 97,
   "id": "58c4c351",
   "metadata": {},
   "outputs": [
    {
     "data": {
      "text/plain": [
       "10"
      ]
     },
     "execution_count": 97,
     "metadata": {},
     "output_type": "execute_result"
    }
   ],
   "source": [
    "# function definition\n",
    "def add(num1,num2):\n",
    "    return num1 + num2\n",
    "\n",
    "#function calling\n",
    "add(5,5)"
   ]
  },
  {
   "cell_type": "code",
   "execution_count": 98,
   "id": "027ddc3f",
   "metadata": {},
   "outputs": [],
   "source": [
    "def function():\n",
    "    \"\"\" \n",
    "     doc string \n",
    "    \n",
    "    to describe the purpose of function\n",
    "    \"\"\"\n",
    "    pass \n",
    "\n",
    "function()"
   ]
  },
  {
   "cell_type": "code",
   "execution_count": 99,
   "id": "1a59eec3",
   "metadata": {},
   "outputs": [],
   "source": [
    "# interpreter encounters \"pass\" keyword, it does nothing and moves on to the next line. "
   ]
  },
  {
   "cell_type": "code",
   "execution_count": 100,
   "id": "30c7101c",
   "metadata": {},
   "outputs": [
    {
     "data": {
      "text/plain": [
       "25"
      ]
     },
     "execution_count": 100,
     "metadata": {},
     "output_type": "execute_result"
    }
   ],
   "source": [
    "#function definition \n",
    "def add(number1, number2):\n",
    "    \"\"\" it takes two arguments\n",
    "    first parameter: number1\n",
    "    second parameter: number2\n",
    "\n",
    "    Returns: finally adds the two number and returns the output\n",
    "    \"\"\"\n",
    "    return number1 + number2 # function definition ends here\n",
    "\n",
    "#function calling....to execute the function\n",
    "add(20, 5)    "
   ]
  },
  {
   "cell_type": "code",
   "execution_count": 101,
   "id": "7664eae3",
   "metadata": {},
   "outputs": [
    {
     "name": "stdout",
     "output_type": "stream",
     "text": [
      "number1\n",
      "second number\n",
      "0\n",
      "1\n",
      "2\n",
      "third number\n"
     ]
    }
   ],
   "source": [
    "# how the code gets executed?\n",
    "\n",
    "print(\"number1\")\n",
    "print(\"second number\")\n",
    "for i in range(3):\n",
    "    print(i)\n",
    "print(\"third number\")    "
   ]
  },
  {
   "cell_type": "code",
   "execution_count": 102,
   "id": "200f10be",
   "metadata": {},
   "outputs": [
    {
     "data": {
      "text/plain": [
       "int"
      ]
     },
     "execution_count": 102,
     "metadata": {},
     "output_type": "execute_result"
    }
   ],
   "source": [
    "df1 = 5\n",
    "type(df1)"
   ]
  },
  {
   "cell_type": "code",
   "execution_count": 103,
   "id": "57b50a0a",
   "metadata": {},
   "outputs": [
    {
     "data": {
      "text/plain": [
       "str"
      ]
     },
     "execution_count": 103,
     "metadata": {},
     "output_type": "execute_result"
    }
   ],
   "source": [
    "# type conversion\n",
    "# convert integer to string\n",
    "\n",
    "vari = str(df1)\n",
    "type(vari)"
   ]
  },
  {
   "cell_type": "code",
   "execution_count": 104,
   "id": "4663d737",
   "metadata": {},
   "outputs": [
    {
     "name": "stdout",
     "output_type": "stream",
     "text": [
      "6\n"
     ]
    }
   ],
   "source": [
    "b1= input(\"enter number\")\n",
    "print(b1)"
   ]
  },
  {
   "cell_type": "code",
   "execution_count": 105,
   "id": "b41fc059",
   "metadata": {},
   "outputs": [
    {
     "ename": "TypeError",
     "evalue": "unsupported operand type(s) for +: 'int' and 'str'",
     "output_type": "error",
     "traceback": [
      "\u001b[1;31m---------------------------------------------------------------------------\u001b[0m",
      "\u001b[1;31mTypeError\u001b[0m                                 Traceback (most recent call last)",
      "Cell \u001b[1;32mIn[105], line 2\u001b[0m\n\u001b[0;32m      1\u001b[0m a1 \u001b[38;5;241m=\u001b[39m \u001b[38;5;241m20\u001b[39m\n\u001b[1;32m----> 2\u001b[0m \u001b[43ma1\u001b[49m\u001b[43m \u001b[49m\u001b[38;5;241;43m+\u001b[39;49m\u001b[43m \u001b[49m\u001b[43mb1\u001b[49m\n\u001b[0;32m      4\u001b[0m \u001b[38;5;66;03m# type(b)====str\u001b[39;00m\n\u001b[0;32m      5\u001b[0m \u001b[38;5;66;03m#trying to add int and str\u001b[39;00m\n",
      "\u001b[1;31mTypeError\u001b[0m: unsupported operand type(s) for +: 'int' and 'str'"
     ]
    }
   ],
   "source": [
    "a1 = 20\n",
    "a1 + b1\n",
    "\n",
    "# type(b)====str\n",
    "#trying to add int and str"
   ]
  },
  {
   "cell_type": "code",
   "execution_count": 106,
   "id": "765696c9",
   "metadata": {},
   "outputs": [
    {
     "name": "stdout",
     "output_type": "stream",
     "text": [
      "given input string\n",
      "data type : <class 'str'>\n"
     ]
    }
   ],
   "source": [
    "xyz= input(\"enter user input\")\n",
    "print(\"given input\",xyz)\n",
    "\n",
    "type(xyz)\n",
    "\n",
    "print(\"data type :\", type(xyz))"
   ]
  },
  {
   "cell_type": "code",
   "execution_count": 107,
   "id": "be536c77",
   "metadata": {},
   "outputs": [
    {
     "name": "stdout",
     "output_type": "stream",
     "text": [
      "b data type is <class 'int'>\n",
      "26\n"
     ]
    }
   ],
   "source": [
    "a=20\n",
    "#input()....... asking user to \"enter a number\"\n",
    "b= int(input(\"Ener number\")) # converted it into integer\n",
    "print(\"b data type is\",type(b))\n",
    "print(a + b)\n"
   ]
  },
  {
   "cell_type": "code",
   "execution_count": 108,
   "id": "156fc7ae",
   "metadata": {},
   "outputs": [
    {
     "name": "stdout",
     "output_type": "stream",
     "text": [
      "<class 'str'>\n",
      "chandra\n",
      "converted to list data type ['c', 'h', 'a', 'n', 'd', 'r', 'a']\n"
     ]
    }
   ],
   "source": [
    "v= \"chandra\"\n",
    "print(type(v))\n",
    "print(v)\n",
    "list(v)\n",
    "print(\"converted to list data type\",list(v))\n"
   ]
  },
  {
   "cell_type": "code",
   "execution_count": 109,
   "id": "e1f596df",
   "metadata": {},
   "outputs": [
    {
     "name": "stdout",
     "output_type": "stream",
     "text": [
      "my name is:  chandra and my profession is: AI Engineer\n"
     ]
    }
   ],
   "source": [
    "name=\" chandra\"\n",
    "title=\"AI Engineer\"\n",
    "print(f\"my name is: {name} and my profession is: {title}\")"
   ]
  },
  {
   "cell_type": "code",
   "execution_count": 110,
   "id": "704a8b8d",
   "metadata": {},
   "outputs": [
    {
     "name": "stdout",
     "output_type": "stream",
     "text": [
      "10\n"
     ]
    }
   ],
   "source": [
    "expression = input(\"Enter expression\")\n",
    "result = eval(expression)\n",
    "print(result)\n",
    "\n",
    "# Enter expression   3 + 7\n",
    "#given input is string data type\n",
    "# eval ()\n"
   ]
  },
  {
   "cell_type": "code",
   "execution_count": 111,
   "id": "232c598a",
   "metadata": {},
   "outputs": [
    {
     "data": {
      "text/plain": [
       "int"
      ]
     },
     "execution_count": 111,
     "metadata": {},
     "output_type": "execute_result"
    }
   ],
   "source": [
    "type(result)"
   ]
  },
  {
   "cell_type": "code",
   "execution_count": 112,
   "id": "5cc96203",
   "metadata": {},
   "outputs": [
    {
     "data": {
      "text/plain": [
       "10"
      ]
     },
     "execution_count": 112,
     "metadata": {},
     "output_type": "execute_result"
    }
   ],
   "source": [
    "a = eval(\"2 * 5\")\n",
    "a"
   ]
  },
  {
   "cell_type": "code",
   "execution_count": 113,
   "id": "d88b1df5",
   "metadata": {},
   "outputs": [
    {
     "data": {
      "text/plain": [
       "8"
      ]
     },
     "execution_count": 113,
     "metadata": {},
     "output_type": "execute_result"
    }
   ],
   "source": [
    "a = eval(\"3 + 5\")\n",
    "a"
   ]
  },
  {
   "cell_type": "code",
   "execution_count": 114,
   "id": "e21d3fcd",
   "metadata": {},
   "outputs": [
    {
     "data": {
      "text/plain": [
       "10"
      ]
     },
     "execution_count": 114,
     "metadata": {},
     "output_type": "execute_result"
    }
   ],
   "source": [
    "a = eval(\"2 + 3 + 5\")\n",
    "a"
   ]
  },
  {
   "cell_type": "code",
   "execution_count": 115,
   "id": "565261ff",
   "metadata": {},
   "outputs": [
    {
     "data": {
      "text/plain": [
       "80"
      ]
     },
     "execution_count": 115,
     "metadata": {},
     "output_type": "execute_result"
    }
   ],
   "source": [
    "a = eval(\"2 * 4 * 10\")\n",
    "a"
   ]
  },
  {
   "cell_type": "code",
   "execution_count": 116,
   "id": "e0ae6fa6",
   "metadata": {},
   "outputs": [
    {
     "data": {
      "text/plain": [
       "20.0"
      ]
     },
     "execution_count": 116,
     "metadata": {},
     "output_type": "execute_result"
    }
   ],
   "source": [
    "a = eval(\"100 / 5\")\n",
    "a"
   ]
  },
  {
   "cell_type": "code",
   "execution_count": 117,
   "id": "f0759b96",
   "metadata": {},
   "outputs": [
    {
     "data": {
      "text/plain": [
       "11"
      ]
     },
     "execution_count": 117,
     "metadata": {},
     "output_type": "execute_result"
    }
   ],
   "source": [
    "len(\"hello world\")"
   ]
  },
  {
   "cell_type": "code",
   "execution_count": 118,
   "id": "54c2a662",
   "metadata": {},
   "outputs": [
    {
     "name": "stdout",
     "output_type": "stream",
     "text": [
      "11\n"
     ]
    },
    {
     "data": {
      "text/plain": [
       "int"
      ]
     },
     "execution_count": 118,
     "metadata": {},
     "output_type": "execute_result"
    }
   ],
   "source": [
    "b= eval(\"len('hello world')\")\n",
    "print(b)\n",
    "type(b)"
   ]
  },
  {
   "cell_type": "markdown",
   "id": "825d8013",
   "metadata": {},
   "source": [
    "for loop"
   ]
  },
  {
   "cell_type": "code",
   "execution_count": 1,
   "id": "d401638a",
   "metadata": {},
   "outputs": [
    {
     "name": "stdout",
     "output_type": "stream",
     "text": [
      "1\n",
      "2\n",
      "3\n",
      "4\n",
      "5\n",
      "6\n"
     ]
    }
   ],
   "source": [
    "a = [1,2,3,4,5,6]\n",
    "\n",
    "for i in a:\n",
    "    print(i)"
   ]
  },
  {
   "cell_type": "code",
   "execution_count": 2,
   "id": "fd9de632",
   "metadata": {},
   "outputs": [
    {
     "name": "stdout",
     "output_type": "stream",
     "text": [
      "1\n",
      "2\n",
      "3\n",
      "4\n"
     ]
    }
   ],
   "source": [
    "t = (1,2,3,4)\n",
    "\n",
    "for i in t:\n",
    "    print(i)"
   ]
  },
  {
   "cell_type": "code",
   "execution_count": 3,
   "id": "501bda47",
   "metadata": {},
   "outputs": [
    {
     "name": "stdout",
     "output_type": "stream",
     "text": [
      "0 apple\n",
      "1 banana\n",
      "2 grapes\n"
     ]
    }
   ],
   "source": [
    "fruits = ['apple', 'banana', 'grapes']\n",
    "\n",
    "for index, i in enumerate(fruits):\n",
    "    print(index,i)"
   ]
  },
  {
   "cell_type": "code",
   "execution_count": 12,
   "id": "c46b7302",
   "metadata": {},
   "outputs": [
    {
     "name": "stdout",
     "output_type": "stream",
     "text": [
      "30\n"
     ]
    }
   ],
   "source": [
    "# function to print even numbers\n",
    "\n",
    "def even_number_sum():\n",
    "    sum=0\n",
    "    numbers = [1,2,3,4,5,6,7,8,9,10]\n",
    "    for i in numbers:\n",
    "        if i%2==0:\n",
    "         sum+=i\n",
    "    print(sum) \n",
    "\n",
    "even_number_sum()       "
   ]
  },
  {
   "cell_type": "code",
   "execution_count": 20,
   "id": "9cafdcdf",
   "metadata": {},
   "outputs": [
    {
     "name": "stdout",
     "output_type": "stream",
     "text": [
      "length: 39\n",
      "4\n"
     ]
    }
   ],
   "source": [
    "text = \"iT is a text CONTENT and prints a value\"\n",
    "count_a = 0\n",
    "print(\"length:\",len(text))\n",
    "if 'a' in text.lower():\n",
    "    for char in text.lower():\n",
    "        if char=='a':\n",
    "            count_a+=1\n",
    "    \n",
    "print(count_a)  \n",
    "\n",
    "# else:\n",
    "#     print()\n"
   ]
  },
  {
   "cell_type": "code",
   "execution_count": 22,
   "id": "edc57509",
   "metadata": {},
   "outputs": [
    {
     "name": "stdout",
     "output_type": "stream",
     "text": [
      "5\n",
      "7\n",
      "11\n",
      "13\n"
     ]
    }
   ],
   "source": [
    "for num in range(5,15):\n",
    "    if num > 1:\n",
    "        for i in range(2, num):\n",
    "            if num%i == 0:\n",
    "                break\n",
    "        else:\n",
    "            print(num)"
   ]
  },
  {
   "cell_type": "code",
   "execution_count": 9,
   "id": "f3e623aa",
   "metadata": {},
   "outputs": [
    {
     "name": "stdout",
     "output_type": "stream",
     "text": [
      "my class\n"
     ]
    }
   ],
   "source": [
    "class Myclass:\n",
    "    \n",
    "    def basic(self):\n",
    "        print(\"my class\")\n",
    "\n",
    "c=Myclass()\n",
    "\n",
    "c.basic()"
   ]
  }
 ],
 "metadata": {
  "kernelspec": {
   "display_name": "medicalchatbot",
   "language": "python",
   "name": "python3"
  },
  "language_info": {
   "codemirror_mode": {
    "name": "ipython",
    "version": 3
   },
   "file_extension": ".py",
   "mimetype": "text/x-python",
   "name": "python",
   "nbconvert_exporter": "python",
   "pygments_lexer": "ipython3",
   "version": "3.10.18"
  }
 },
 "nbformat": 4,
 "nbformat_minor": 5
}
