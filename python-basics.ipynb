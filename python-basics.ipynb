{
 "cells": [
  {
   "cell_type": "markdown",
   "id": "659198b8",
   "metadata": {},
   "source": [
    "1. What is Python?\n",
    "Definition\n",
    "\n",
    "Python is an interpreted, high‑level, general‑purpose programming language. \n",
    "datagy\n",
    "+2\n",
    "dshub.gitbook.io\n",
    "+2\n",
    "\n",
    "Interpreted means you write code and it runs (via an interpreter) without a separate compile step (in many cases).\n",
    "\n",
    "High‑level means that it abstracts away many of the details of how the computer works (memory management, etc) so you can focus on logic.\n",
    "\n",
    "General‑purpose means you can use it for many applications: web development, scripting, automation, data analysis, AI, etc.\n",
    "\n",
    "It is dynamically typed (you don’t need to declare variable types ahead) and has built‑in memory management (garbage collection). \n",
    "datagy\n",
    "\n",
    "Python’s syntax emphasizes readability and simplicity, which makes it good for beginners.\n",
    "\n",
    "-----------------------\n",
    "History/Why use Python\n",
    "-----------------------\n",
    "Created by Guido van Rossum in the late 1980s, first released in 1991.\n",
    "\n",
    "It became popular because of its simplicity, large standard library, ecosystem of external libraries, and versatility.\n",
    "\n",
    "For beginners: less boilerplate and more immediate feedback — you can write stuff quickly, see results.\n",
    "\n",
    "What can you do with Python?\n",
    "\n",
    "Automate tasks (e.g., file operations, web scraping)\n",
    "\n",
    "Build websites (with frameworks like Django, Flask)\n",
    "\n",
    "Data analysis and visualization (with pandas, NumPy, matplotlib)\n",
    "\n",
    "Scientific computing, machine learning\n",
    "\n",
    "Scripting, command‑line tools, and more\n",
    "\n",
    "-----------------\n",
    "Summary for you\n",
    "-----------------\n",
    "If you’re just starting, think of Python as a friendly programming language you can quickly jump into: you write code, see results, explore, experiment — fewer hurdles than many older languages.\n",
    "\n",
    "-----------------------------------------------\n",
    "2. How to install Python & set up environment\n",
    "-----------------------------------------------\n",
    "Here’s a beginner‑friendly step‑by‑step guide. (Also applies for your system in Guntur / India; instructions are generic.)\n",
    "\n",
    "Step‑1: Download\n",
    "\n",
    "Go to the official website: python.org\n",
    "\n",
    "Under “Downloads” select your operating system (Windows, macOS, Linux).\n",
    "\n",
    "Step‑2: Install\n",
    "\n",
    "Windows: run the installer .exe. Make sure you check “Add Python to PATH” if offered.\n",
    "\n",
    "macOS: use the installer .pkg or use Homebrew (brew install python3).\n",
    "\n",
    "Linux: often Python comes pre‑installed. You can install latest via sudo apt install python3 (Ubuntu) etc.\n",
    "\n",
    "------------------------------\n",
    "Step‑3: Verify installation\n",
    "------------------------------\n",
    "Open a terminal or command prompt and type python --version or python3 --version.\n",
    "\n",
    "It should show something like Python 3.10.x (or whatever version you installed).\n",
    "\n",
    "Then type python (or python3) and you’ll get a REPL (interactive shell) prompt >>>.\n",
    "\n",
    "Try print(\"Hello, world!\").\n",
    "\n",
    "---------------------------------\n",
    "Step‑4: Choose an editor or IDE\n",
    "---------------------------------\n",
    "For beginners, it’s good to use either:\n",
    "\n",
    "A code editor like Visual Studio Code with Python extension\n",
    "\n",
    "Or a notebook environment like Jupyter Notebook / JupyterLab\n",
    "\n",
    "Or an IDE like PyCharm\n",
    "\n",
    "For interactive experimentation (especially if you later work with the GitHub notebook), Jupyter is very convenient.\n",
    "\n",
    "-------------------\n",
    "Step‑5: (Optional) Use virtual environment\n",
    "-------------------\n",
    "To keep your Python projects isolated (so one project’s libraries don’t conflict with another), you can use venv in Python 3:\n",
    "```bash\n",
    "python3 -m venv myenv\n",
    "source myenv/bin/activate  # (on Windows: myenv\\Scripts\\activate)\n",
    "pip install somepackage\n",
    "```\n",
    "\n",
    "----------------\n",
    "Step‑6: Install Jupyter Notebook\n",
    "---------------\n",
    "If you want to open the notebook from GitHub, you might install:\n",
    "```bash\n",
    "pip install notebook\n",
    "jupyter notebook\n",
    "```\n",
    "\n",
    "That will open a browser where you can open .ipynb files and run code cells interactively."
   ]
  },
  {
   "cell_type": "markdown",
   "id": "a7b1d213",
   "metadata": {},
   "source": [
    "Printing / output: Use print(...) to show text or data on the screen.\n",
    "\n",
    "Comments: Lines beginning with # are comments (ignored by interpreter) → used for explanation."
   ]
  },
  {
   "cell_type": "code",
   "execution_count": 1,
   "id": "61f914bf",
   "metadata": {},
   "outputs": [
    {
     "name": "stdout",
     "output_type": "stream",
     "text": [
      "hello world\n"
     ]
    }
   ],
   "source": [
    "print(\"hello world\")"
   ]
  },
  {
   "cell_type": "markdown",
   "id": "cfa358c5",
   "metadata": {},
   "source": [
    "Basic arithmetic / expressions: e.g., 2 + 3, 10 * (5‑2), etc.\n",
    "\n",
    "You’ll see that Python evaluates expressions and you get results immediately."
   ]
  },
  {
   "cell_type": "code",
   "execution_count": 2,
   "id": "21d55ce3",
   "metadata": {},
   "outputs": [
    {
     "name": "stdout",
     "output_type": "stream",
     "text": [
      "10\n"
     ]
    }
   ],
   "source": [
    "print(3+7)"
   ]
  },
  {
   "cell_type": "code",
   "execution_count": 3,
   "id": "6da82961",
   "metadata": {},
   "outputs": [
    {
     "data": {
      "text/plain": [
       "13"
      ]
     },
     "execution_count": 3,
     "metadata": {},
     "output_type": "execute_result"
    }
   ],
   "source": [
    "4+9"
   ]
  },
  {
   "cell_type": "code",
   "execution_count": 4,
   "id": "85a5b8ae",
   "metadata": {},
   "outputs": [
    {
     "data": {
      "text/plain": [
       "78"
      ]
     },
     "execution_count": 4,
     "metadata": {},
     "output_type": "execute_result"
    }
   ],
   "source": [
    "variable = 80-2\n",
    "variable"
   ]
  },
  {
   "cell_type": "code",
   "execution_count": 5,
   "id": "4718a7b1",
   "metadata": {},
   "outputs": [
    {
     "data": {
      "text/plain": [
       "int"
      ]
     },
     "execution_count": 5,
     "metadata": {},
     "output_type": "execute_result"
    }
   ],
   "source": [
    "type(variable)"
   ]
  },
  {
   "cell_type": "code",
   "execution_count": 6,
   "id": "683be560",
   "metadata": {},
   "outputs": [
    {
     "data": {
      "text/plain": [
       "(1, 2, 3)"
      ]
     },
     "execution_count": 6,
     "metadata": {},
     "output_type": "execute_result"
    }
   ],
   "source": [
    "a,b,c = 1,2,3\n",
    "a,b,c"
   ]
  },
  {
   "cell_type": "code",
   "execution_count": 7,
   "id": "22b51827",
   "metadata": {},
   "outputs": [
    {
     "name": "stdout",
     "output_type": "stream",
     "text": [
      "['False', 'None', 'True', 'and', 'as', 'assert', 'async', 'await', 'break', 'class', 'continue', 'def', 'del', 'elif', 'else', 'except', 'finally', 'for', 'from', 'global', 'if', 'import', 'in', 'is', 'lambda', 'nonlocal', 'not', 'or', 'pass', 'raise', 'return', 'try', 'while', 'with', 'yield']\n"
     ]
    }
   ],
   "source": [
    "import keyword\n",
    "print(keyword.kwlist)"
   ]
  },
  {
   "cell_type": "code",
   "execution_count": 8,
   "id": "20e8e2e3",
   "metadata": {},
   "outputs": [
    {
     "data": {
      "text/plain": [
       "35"
      ]
     },
     "execution_count": 8,
     "metadata": {},
     "output_type": "execute_result"
    }
   ],
   "source": [
    "len(keyword.kwlist)"
   ]
  },
  {
   "cell_type": "code",
   "execution_count": 9,
   "id": "b692f90d",
   "metadata": {},
   "outputs": [],
   "source": [
    "var_=6"
   ]
  },
  {
   "cell_type": "code",
   "execution_count": 10,
   "id": "b876b094",
   "metadata": {},
   "outputs": [],
   "source": [
    "_var=6"
   ]
  },
  {
   "cell_type": "code",
   "execution_count": 11,
   "id": "b8e8835c",
   "metadata": {},
   "outputs": [
    {
     "name": "stdout",
     "output_type": "stream",
     "text": [
      "8\n"
     ]
    }
   ],
   "source": [
    "z=8\n",
    "Z=z\n",
    "print(Z)"
   ]
  },
  {
   "cell_type": "code",
   "execution_count": 12,
   "id": "f8c30d89",
   "metadata": {},
   "outputs": [
    {
     "data": {
      "text/plain": [
       "'string content'"
      ]
     },
     "execution_count": 12,
     "metadata": {},
     "output_type": "execute_result"
    }
   ],
   "source": [
    "key=\"string content\"\n",
    "key"
   ]
  },
  {
   "cell_type": "code",
   "execution_count": 13,
   "id": "fa116779",
   "metadata": {},
   "outputs": [
    {
     "data": {
      "text/plain": [
       "str"
      ]
     },
     "execution_count": 13,
     "metadata": {},
     "output_type": "execute_result"
    }
   ],
   "source": [
    "type(key)"
   ]
  },
  {
   "cell_type": "code",
   "execution_count": 14,
   "id": "8e4ec3dd",
   "metadata": {},
   "outputs": [
    {
     "data": {
      "text/plain": [
       "5.0"
      ]
     },
     "execution_count": 14,
     "metadata": {},
     "output_type": "execute_result"
    }
   ],
   "source": [
    "20/4"
   ]
  },
  {
   "cell_type": "code",
   "execution_count": 15,
   "id": "d75dc8a5",
   "metadata": {},
   "outputs": [
    {
     "data": {
      "text/plain": [
       "16.666666666666668"
      ]
     },
     "execution_count": 15,
     "metadata": {},
     "output_type": "execute_result"
    }
   ],
   "source": [
    "100/6"
   ]
  },
  {
   "cell_type": "code",
   "execution_count": 16,
   "id": "8f8f8d96",
   "metadata": {},
   "outputs": [
    {
     "data": {
      "text/plain": [
       "16"
      ]
     },
     "execution_count": 16,
     "metadata": {},
     "output_type": "execute_result"
    }
   ],
   "source": [
    "100//6"
   ]
  },
  {
   "cell_type": "code",
   "execution_count": 17,
   "id": "9722c1e4",
   "metadata": {},
   "outputs": [
    {
     "data": {
      "text/plain": [
       "10.0"
      ]
     },
     "execution_count": 17,
     "metadata": {},
     "output_type": "execute_result"
    }
   ],
   "source": [
    "20/2"
   ]
  },
  {
   "cell_type": "code",
   "execution_count": 18,
   "id": "9ab94299",
   "metadata": {},
   "outputs": [
    {
     "data": {
      "text/plain": [
       "10"
      ]
     },
     "execution_count": 18,
     "metadata": {},
     "output_type": "execute_result"
    }
   ],
   "source": [
    "20//2\n",
    "\n",
    "# floor division"
   ]
  },
  {
   "cell_type": "code",
   "execution_count": 19,
   "id": "ee4519aa",
   "metadata": {},
   "outputs": [
    {
     "data": {
      "text/plain": [
       "0"
      ]
     },
     "execution_count": 19,
     "metadata": {},
     "output_type": "execute_result"
    }
   ],
   "source": [
    "25%5\n",
    "\n",
    "# modulus"
   ]
  },
  {
   "cell_type": "code",
   "execution_count": 20,
   "id": "e5624470",
   "metadata": {},
   "outputs": [
    {
     "data": {
      "text/plain": [
       "6"
      ]
     },
     "execution_count": 20,
     "metadata": {},
     "output_type": "execute_result"
    }
   ],
   "source": [
    "2 * 3\n"
   ]
  },
  {
   "cell_type": "code",
   "execution_count": 21,
   "id": "895f4df3",
   "metadata": {},
   "outputs": [
    {
     "data": {
      "text/plain": [
       "8"
      ]
     },
     "execution_count": 21,
     "metadata": {},
     "output_type": "execute_result"
    }
   ],
   "source": [
    "2 ** 3\n",
    "\n",
    "#power of 2"
   ]
  },
  {
   "cell_type": "code",
   "execution_count": 22,
   "id": "19673dd9",
   "metadata": {},
   "outputs": [
    {
     "name": "stdout",
     "output_type": "stream",
     "text": [
      "10\n"
     ]
    }
   ],
   "source": [
    "a =5 \n",
    "a+= 5\n",
    "print(a)"
   ]
  },
  {
   "cell_type": "code",
   "execution_count": 23,
   "id": "d92830b2",
   "metadata": {},
   "outputs": [
    {
     "name": "stdout",
     "output_type": "stream",
     "text": [
      "3\n"
     ]
    }
   ],
   "source": [
    "a = 5\n",
    "a-=2\n",
    "print(a)"
   ]
  },
  {
   "cell_type": "code",
   "execution_count": 24,
   "id": "59a2a29e",
   "metadata": {},
   "outputs": [
    {
     "data": {
      "text/plain": [
       "True"
      ]
     },
     "execution_count": 24,
     "metadata": {},
     "output_type": "execute_result"
    }
   ],
   "source": [
    "a=4\n",
    "\n",
    "#comparision operator\n",
    "a==4  "
   ]
  },
  {
   "cell_type": "code",
   "execution_count": 25,
   "id": "df203dbe",
   "metadata": {},
   "outputs": [
    {
     "data": {
      "text/plain": [
       "False"
      ]
     },
     "execution_count": 25,
     "metadata": {},
     "output_type": "execute_result"
    }
   ],
   "source": [
    "a =5\n",
    "\n",
    "a+=5\n",
    "\n",
    "#comparision operator\n",
    "a==5"
   ]
  },
  {
   "cell_type": "code",
   "execution_count": 26,
   "id": "16c4c4ef",
   "metadata": {},
   "outputs": [
    {
     "data": {
      "text/plain": [
       "True"
      ]
     },
     "execution_count": 26,
     "metadata": {},
     "output_type": "execute_result"
    }
   ],
   "source": [
    "a =5\n",
    "\n",
    "a > 3"
   ]
  },
  {
   "cell_type": "code",
   "execution_count": 27,
   "id": "babdcf8a",
   "metadata": {},
   "outputs": [
    {
     "data": {
      "text/plain": [
       "False"
      ]
     },
     "execution_count": 27,
     "metadata": {},
     "output_type": "execute_result"
    }
   ],
   "source": [
    "a = 5\n",
    "\n",
    "a > 20"
   ]
  },
  {
   "cell_type": "code",
   "execution_count": 28,
   "id": "15c9a6cf",
   "metadata": {},
   "outputs": [
    {
     "data": {
      "text/plain": [
       "True"
      ]
     },
     "execution_count": 28,
     "metadata": {},
     "output_type": "execute_result"
    }
   ],
   "source": [
    "a = 5\n",
    "\n",
    "a < 20"
   ]
  },
  {
   "cell_type": "code",
   "execution_count": 29,
   "id": "79c37df4",
   "metadata": {},
   "outputs": [
    {
     "data": {
      "text/plain": [
       "False"
      ]
     },
     "execution_count": 29,
     "metadata": {},
     "output_type": "execute_result"
    }
   ],
   "source": [
    "a = 5\n",
    "\n",
    "a <= 3"
   ]
  },
  {
   "cell_type": "code",
   "execution_count": 30,
   "id": "59f943d3",
   "metadata": {},
   "outputs": [
    {
     "data": {
      "text/plain": [
       "True"
      ]
     },
     "execution_count": 30,
     "metadata": {},
     "output_type": "execute_result"
    }
   ],
   "source": [
    "a = 5\n",
    "\n",
    "a >= 1"
   ]
  },
  {
   "cell_type": "code",
   "execution_count": 31,
   "id": "78cb2b20",
   "metadata": {},
   "outputs": [
    {
     "data": {
      "text/plain": [
       "True"
      ]
     },
     "execution_count": 31,
     "metadata": {},
     "output_type": "execute_result"
    }
   ],
   "source": [
    "a = 5\n",
    "b = 5\n",
    "\n",
    "# a>3  \n",
    "# true\n",
    "\n",
    "b>3\n",
    "# b > 3\n",
    "# True\n",
    "\n",
    "a>3 and b>3"
   ]
  },
  {
   "cell_type": "code",
   "execution_count": 32,
   "id": "8c4f2d6b",
   "metadata": {},
   "outputs": [
    {
     "data": {
      "text/plain": [
       "False"
      ]
     },
     "execution_count": 32,
     "metadata": {},
     "output_type": "execute_result"
    }
   ],
   "source": [
    "a = 5\n",
    "b = 5\n",
    "\n",
    "a>3 and b<3\n",
    "\n",
    "# and ....operator"
   ]
  },
  {
   "cell_type": "code",
   "execution_count": 33,
   "id": "f270e591",
   "metadata": {},
   "outputs": [
    {
     "data": {
      "text/plain": [
       "True"
      ]
     },
     "execution_count": 33,
     "metadata": {},
     "output_type": "execute_result"
    }
   ],
   "source": [
    "a = 5\n",
    "b = 0\n",
    "\n",
    "a>1 or b>1\n",
    "\n",
    "# or operator"
   ]
  },
  {
   "cell_type": "markdown",
   "id": "7b646a97",
   "metadata": {},
   "source": [
    "Bitwise operator"
   ]
  },
  {
   "cell_type": "code",
   "execution_count": 34,
   "id": "a4636d71",
   "metadata": {},
   "outputs": [
    {
     "data": {
      "text/plain": [
       "1"
      ]
     },
     "execution_count": 34,
     "metadata": {},
     "output_type": "execute_result"
    }
   ],
   "source": [
    "a = 5\n",
    "b = 3\n",
    "a  & b"
   ]
  },
  {
   "cell_type": "code",
   "execution_count": 35,
   "id": "42f155a3",
   "metadata": {},
   "outputs": [
    {
     "data": {
      "text/plain": [
       "7"
      ]
     },
     "execution_count": 35,
     "metadata": {},
     "output_type": "execute_result"
    }
   ],
   "source": [
    "a = 5\n",
    "b = 3\n",
    "a | b"
   ]
  },
  {
   "cell_type": "code",
   "execution_count": 36,
   "id": "a70c11e5",
   "metadata": {},
   "outputs": [
    {
     "name": "stdout",
     "output_type": "stream",
     "text": [
      "True\n"
     ]
    }
   ],
   "source": [
    "a = \"chandra\"\n",
    "print(\"c\" in a)"
   ]
  },
  {
   "cell_type": "code",
   "execution_count": 37,
   "id": "28c211b7",
   "metadata": {},
   "outputs": [
    {
     "name": "stdout",
     "output_type": "stream",
     "text": [
      "False\n"
     ]
    }
   ],
   "source": [
    "a = \"chandra\"\n",
    "\n",
    "print(\"zyx\" in a)"
   ]
  },
  {
   "cell_type": "code",
   "execution_count": 38,
   "id": "ba1a03a0",
   "metadata": {},
   "outputs": [
    {
     "name": "stdout",
     "output_type": "stream",
     "text": [
      "False\n"
     ]
    }
   ],
   "source": [
    "a = [1,2,3,4]\n",
    "\n",
    "print(10 in a)"
   ]
  },
  {
   "cell_type": "code",
   "execution_count": 39,
   "id": "48502300",
   "metadata": {},
   "outputs": [
    {
     "data": {
      "text/plain": [
       "False"
      ]
     },
     "execution_count": 39,
     "metadata": {},
     "output_type": "execute_result"
    }
   ],
   "source": [
    "a = True\n",
    "\n",
    "not a\n",
    "\n",
    "#not operator"
   ]
  },
  {
   "cell_type": "markdown",
   "id": "bccb078e",
   "metadata": {},
   "source": [
    "'Math' module"
   ]
  },
  {
   "cell_type": "code",
   "execution_count": 40,
   "id": "d643833a",
   "metadata": {},
   "outputs": [
    {
     "data": {
      "text/plain": [
       "3.141592653589793"
      ]
     },
     "execution_count": 40,
     "metadata": {},
     "output_type": "execute_result"
    }
   ],
   "source": [
    "import math\n",
    "\n",
    "math.pi"
   ]
  },
  {
   "cell_type": "code",
   "execution_count": 41,
   "id": "206fe673",
   "metadata": {},
   "outputs": [
    {
     "data": {
      "text/plain": [
       "nan"
      ]
     },
     "execution_count": 41,
     "metadata": {},
     "output_type": "execute_result"
    }
   ],
   "source": [
    "import math\n",
    "\n",
    "math.nan\n",
    "\n",
    "#not a number"
   ]
  },
  {
   "cell_type": "code",
   "execution_count": 42,
   "id": "eb62d3ab",
   "metadata": {},
   "outputs": [
    {
     "data": {
      "text/plain": [
       "200"
      ]
     },
     "execution_count": 42,
     "metadata": {},
     "output_type": "execute_result"
    }
   ],
   "source": [
    "import math\n",
    "\n",
    "math.floor(200.34567)\n",
    "\n",
    "# floor value"
   ]
  },
  {
   "cell_type": "code",
   "execution_count": 43,
   "id": "46d41ef4",
   "metadata": {},
   "outputs": [
    {
     "data": {
      "text/plain": [
       "301"
      ]
     },
     "execution_count": 43,
     "metadata": {},
     "output_type": "execute_result"
    }
   ],
   "source": [
    "import math\n",
    "\n",
    "math.ceil(300.999)\n",
    "\n",
    "# ceil value"
   ]
  },
  {
   "cell_type": "code",
   "execution_count": 44,
   "id": "fb5be0d6",
   "metadata": {},
   "outputs": [
    {
     "data": {
      "text/plain": [
       "4.605170185988092"
      ]
     },
     "execution_count": 44,
     "metadata": {},
     "output_type": "execute_result"
    }
   ],
   "source": [
    "import math\n",
    "\n",
    "math.log(100)"
   ]
  },
  {
   "cell_type": "code",
   "execution_count": 45,
   "id": "a8958f6c",
   "metadata": {},
   "outputs": [
    {
     "data": {
      "text/plain": [
       "4.0"
      ]
     },
     "execution_count": 45,
     "metadata": {},
     "output_type": "execute_result"
    }
   ],
   "source": [
    "import math\n",
    "\n",
    "math.sqrt(16)"
   ]
  },
  {
   "cell_type": "code",
   "execution_count": 46,
   "id": "1c2b9eb9",
   "metadata": {},
   "outputs": [
    {
     "data": {
      "text/plain": [
       "8.0"
      ]
     },
     "execution_count": 46,
     "metadata": {},
     "output_type": "execute_result"
    }
   ],
   "source": [
    "import math\n",
    "\n",
    "math.pow(2,3)\n",
    "\n",
    "# cube of 2"
   ]
  },
  {
   "cell_type": "code",
   "execution_count": 47,
   "id": "dc50dcf0",
   "metadata": {},
   "outputs": [
    {
     "name": "stdout",
     "output_type": "stream",
     "text": [
      "True\n"
     ]
    }
   ],
   "source": [
    "a = [1,2,3,4]\n",
    "\n",
    "print(10000 not in a)"
   ]
  },
  {
   "cell_type": "code",
   "execution_count": 48,
   "id": "671003e9",
   "metadata": {},
   "outputs": [
    {
     "name": "stdout",
     "output_type": "stream",
     "text": [
      "5\n"
     ]
    }
   ],
   "source": [
    "a = 5\n",
    "\n",
    "if a == 5:\n",
    "    print(a)"
   ]
  },
  {
   "cell_type": "code",
   "execution_count": 49,
   "id": "6acf088d",
   "metadata": {},
   "outputs": [
    {
     "name": "stdout",
     "output_type": "stream",
     "text": [
      "false\n"
     ]
    }
   ],
   "source": [
    "a = 5\n",
    "\n",
    "if a > 10000:\n",
    "    print(\"true\")\n",
    "\n",
    "else:\n",
    "    print(\"false\")"
   ]
  },
  {
   "cell_type": "code",
   "execution_count": 50,
   "id": "fe2936de",
   "metadata": {},
   "outputs": [
    {
     "name": "stdout",
     "output_type": "stream",
     "text": [
      "8\n"
     ]
    }
   ],
   "source": [
    "a = 5\n",
    "\n",
    "if a > 0:\n",
    "    a = a + 3\n",
    "    print(a)\n",
    "\n",
    "else:\n",
    "    print(a)"
   ]
  },
  {
   "cell_type": "code",
   "execution_count": 51,
   "id": "7bbee89f",
   "metadata": {},
   "outputs": [
    {
     "name": "stdout",
     "output_type": "stream",
     "text": [
      "10\n"
     ]
    }
   ],
   "source": [
    "a = 5\n",
    "\n",
    "if a == 5:\n",
    "    a = a + 5\n",
    "    print(a)"
   ]
  },
  {
   "cell_type": "code",
   "execution_count": 52,
   "id": "287f1573",
   "metadata": {},
   "outputs": [
    {
     "name": "stdout",
     "output_type": "stream",
     "text": [
      "outside of if-block\n"
     ]
    }
   ],
   "source": [
    "a = 5\n",
    "\n",
    "if a == 1000:\n",
    "    print(\"if statement is true\")\n",
    "\n",
    "print(\"outside of if-block\")"
   ]
  },
  {
   "cell_type": "code",
   "execution_count": 53,
   "id": "c9ab72f8",
   "metadata": {},
   "outputs": [
    {
     "name": "stdout",
     "output_type": "stream",
     "text": [
      "elif statements get executed\n",
      "5\n"
     ]
    }
   ],
   "source": [
    "a = 5\n",
    "\n",
    "if a == 3:\n",
    "    print(a+3)\n",
    "\n",
    "elif a ==5:\n",
    "    print(\"elif statements get executed\")\n",
    "    print(a)\n",
    "\n",
    "elif a > 20:\n",
    "    print(\"nested elif\")"
   ]
  },
  {
   "cell_type": "code",
   "execution_count": 54,
   "id": "e2040882",
   "metadata": {},
   "outputs": [
    {
     "name": "stdout",
     "output_type": "stream",
     "text": [
      "else block statements get executed\n",
      "5\n"
     ]
    }
   ],
   "source": [
    "a = 5\n",
    "\n",
    "if a > 200:\n",
    "    pass\n",
    "\n",
    "elif a < 0:\n",
    "    pass\n",
    "\n",
    "else:\n",
    "    print(\"else block statements get executed\")\n",
    "    print(a)"
   ]
  },
  {
   "cell_type": "code",
   "execution_count": 55,
   "id": "2337e8f4",
   "metadata": {},
   "outputs": [
    {
     "name": "stdout",
     "output_type": "stream",
     "text": [
      "a   chandra saibfg   b    c\n",
      "a   chandra saibfg   b    c    \n",
      "   a   chandra sekharbfg   b    c    \n",
      "a   chandra saibfg   b    c\n",
      "['   ', '   ch', 'ndr', ' s', 'ibfg   b    c    ']\n",
      "['', '', '', 'a', '', '', 'chandra', 'saibfg', '', '', 'b', '', '', '', 'c', '', '', '', '']\n",
      "max value of str: s\n",
      "   a   chandra saibfg   b    c    \n",
      "minimum value a\n"
     ]
    }
   ],
   "source": [
    "str=\"   a   chandra saibfg   b    c    \"\n",
    "print(str.strip())\n",
    "print(str.lstrip())\n",
    "print(str.replace(\"sai\", \"sekhar\"))\n",
    "print(str.strip(' '))\n",
    "print(str.split('a'))\n",
    "print(str.split(' '))\n",
    "print(f\"max value of str: {max(str)}\")\n",
    "print(str)\n",
    "print(\"minimum value\",min(str.split()))"
   ]
  },
  {
   "cell_type": "code",
   "execution_count": 56,
   "id": "84320e3d",
   "metadata": {},
   "outputs": [
    {
     "data": {
      "text/plain": [
       "'chandra_:_sai'"
      ]
     },
     "execution_count": 56,
     "metadata": {},
     "output_type": "execute_result"
    }
   ],
   "source": [
    "word = ['chandra', ':', 'sai']\n",
    "\"_\".join(word)"
   ]
  },
  {
   "cell_type": "code",
   "execution_count": 57,
   "id": "875ad1c0",
   "metadata": {},
   "outputs": [
    {
     "name": "stdout",
     "output_type": "stream",
     "text": [
      "else block got executed\n"
     ]
    }
   ],
   "source": [
    "fruits = [\"apple\", \"banana\", \"orange\"]\n",
    "\n",
    "if \"chandra\" in fruits:\n",
    "    print(\"chandra is present in the list\")\n",
    "\n",
    "elif \"cherry\" in fruits:\n",
    "    print(\"cherry is present in list\")\n",
    "\n",
    "else:\n",
    "    print(\"else block got executed\")"
   ]
  },
  {
   "cell_type": "markdown",
   "id": "fb4384f3",
   "metadata": {},
   "source": [
    "List"
   ]
  },
  {
   "cell_type": "code",
   "execution_count": 58,
   "id": "16fd04c5",
   "metadata": {},
   "outputs": [
    {
     "data": {
      "text/plain": [
       "6"
      ]
     },
     "execution_count": 58,
     "metadata": {},
     "output_type": "execute_result"
    }
   ],
   "source": [
    "a = [1,2,3,4,5,6]\n",
    "len(a)"
   ]
  },
  {
   "cell_type": "code",
   "execution_count": 59,
   "id": "5854ab67",
   "metadata": {},
   "outputs": [
    {
     "data": {
      "text/plain": [
       "[1, 2]"
      ]
     },
     "execution_count": 59,
     "metadata": {},
     "output_type": "execute_result"
    }
   ],
   "source": [
    "a =[1,2,3,4,5,6]\n",
    "\n",
    "a[0:2]"
   ]
  },
  {
   "cell_type": "code",
   "execution_count": 60,
   "id": "b0c6f4d1",
   "metadata": {},
   "outputs": [
    {
     "data": {
      "text/plain": [
       "[1, 2, 3, 4]"
      ]
     },
     "execution_count": 60,
     "metadata": {},
     "output_type": "execute_result"
    }
   ],
   "source": [
    "a = [1,2,3,4,5,6]\n",
    "\n",
    "a[:4]"
   ]
  },
  {
   "cell_type": "code",
   "execution_count": 61,
   "id": "fa77a771",
   "metadata": {},
   "outputs": [
    {
     "data": {
      "text/plain": [
       "[1, 2, 3, 'string content', (3+4j)]"
      ]
     },
     "execution_count": 61,
     "metadata": {},
     "output_type": "execute_result"
    }
   ],
   "source": [
    "a = [1,2,3, \"string content\", 3+4j]\n",
    "\n",
    "a"
   ]
  },
  {
   "cell_type": "code",
   "execution_count": 62,
   "id": "f149ee3b",
   "metadata": {},
   "outputs": [
    {
     "data": {
      "text/plain": [
       "'chandra'"
      ]
     },
     "execution_count": 62,
     "metadata": {},
     "output_type": "execute_result"
    }
   ],
   "source": [
    "a = [\"chandra\", \"sai\", \"AI Engineer\", \"ML Engineer\", \"Data Science Engineer\"]\n",
    "\n",
    "a[0]"
   ]
  },
  {
   "cell_type": "code",
   "execution_count": 63,
   "id": "69e72fcd",
   "metadata": {},
   "outputs": [
    {
     "data": {
      "text/plain": [
       "['chandra', 'sai']"
      ]
     },
     "execution_count": 63,
     "metadata": {},
     "output_type": "execute_result"
    }
   ],
   "source": [
    "a = [\"chandra\", \"sai\", \"AI Engineer\", \"ML Engineer\", \"Data Science Engineer\"]\n",
    "\n",
    "a[0:2]"
   ]
  },
  {
   "cell_type": "code",
   "execution_count": 64,
   "id": "37bc7118",
   "metadata": {},
   "outputs": [
    {
     "data": {
      "text/plain": [
       "['chandra', 'sai', 'AI Engineer', 'ML Engineer']"
      ]
     },
     "execution_count": 64,
     "metadata": {},
     "output_type": "execute_result"
    }
   ],
   "source": [
    "a = [\"chandra\", \"sai\", \"AI Engineer\", \"ML Engineer\", \"Data Science Engineer\"]\n",
    "\n",
    "a[:4]"
   ]
  },
  {
   "cell_type": "code",
   "execution_count": 65,
   "id": "71125212",
   "metadata": {},
   "outputs": [
    {
     "data": {
      "text/plain": [
       "['chandra', 'AI Engineer']"
      ]
     },
     "execution_count": 65,
     "metadata": {},
     "output_type": "execute_result"
    }
   ],
   "source": [
    "a = [\"chandra\", \"sai\", \"AI Engineer\", \"ML Engineer\", \"Data Science Engineer\"]\n",
    "\n",
    "a[0:4:2]\n",
    "\n",
    "# starting index=== 0\n",
    "# last index======= 4\n",
    "# skip 2 elements from it"
   ]
  },
  {
   "cell_type": "code",
   "execution_count": 66,
   "id": "938a5fb9",
   "metadata": {},
   "outputs": [
    {
     "data": {
      "text/plain": [
       "['chandra', 'AI Engineer', 'Data Science Engineer']"
      ]
     },
     "execution_count": 66,
     "metadata": {},
     "output_type": "execute_result"
    }
   ],
   "source": [
    "a = [\"chandra\", \"sai\", \"AI Engineer\", \"ML Engineer\", \"Data Science Engineer\"]\n",
    "\n",
    "a[::2]"
   ]
  },
  {
   "cell_type": "code",
   "execution_count": 67,
   "id": "56235770",
   "metadata": {},
   "outputs": [
    {
     "data": {
      "text/plain": [
       "'Data Science Engineer'"
      ]
     },
     "execution_count": 67,
     "metadata": {},
     "output_type": "execute_result"
    }
   ],
   "source": [
    "a = [\"chandra\", \"sai\", \"AI Engineer\", \"ML Engineer\", \"Data Science Engineer\"]\n",
    "\n",
    "a[-1]\n",
    "# last element"
   ]
  },
  {
   "cell_type": "code",
   "execution_count": 68,
   "id": "26354592",
   "metadata": {},
   "outputs": [
    {
     "data": {
      "text/plain": [
       "'ML Engineer'"
      ]
     },
     "execution_count": 68,
     "metadata": {},
     "output_type": "execute_result"
    }
   ],
   "source": [
    "a = [\"chandra\", \"sai\", \"AI Engineer\", \"ML Engineer\", \"Data Science Engineer\"]\n",
    "\n",
    "a[-2]"
   ]
  },
  {
   "cell_type": "code",
   "execution_count": 69,
   "id": "8da56cb7",
   "metadata": {},
   "outputs": [
    {
     "data": {
      "text/plain": [
       "['Data Science Engineer', 'ML Engineer', 'AI Engineer', 'sai', 'chandra']"
      ]
     },
     "execution_count": 69,
     "metadata": {},
     "output_type": "execute_result"
    }
   ],
   "source": [
    "a = [\"chandra\", \"sai\", \"AI Engineer\", \"ML Engineer\", \"Data Science Engineer\"]\n",
    "\n",
    "a[::-1]\n",
    "# print in reverse order"
   ]
  },
  {
   "cell_type": "code",
   "execution_count": 70,
   "id": "ab19a4b3",
   "metadata": {},
   "outputs": [
    {
     "data": {
      "text/plain": [
       "[1, 1]"
      ]
     },
     "execution_count": 70,
     "metadata": {},
     "output_type": "execute_result"
    }
   ],
   "source": [
    "a = [1]\n",
    "\n",
    "a * 2\n",
    "\n",
    "# repeated elements twice"
   ]
  },
  {
   "cell_type": "code",
   "execution_count": 71,
   "id": "b24029d7",
   "metadata": {},
   "outputs": [
    {
     "data": {
      "text/plain": [
       "[1, 2, 3, 1, 2, 3]"
      ]
     },
     "execution_count": 71,
     "metadata": {},
     "output_type": "execute_result"
    }
   ],
   "source": [
    "a = [1,2,3]\n",
    "\n",
    "a * 2\n",
    "\n",
    "# repeated elements twice"
   ]
  },
  {
   "cell_type": "code",
   "execution_count": 72,
   "id": "9fc0407e",
   "metadata": {},
   "outputs": [
    {
     "data": {
      "text/plain": [
       "[1, 2, 3, 'new element']"
      ]
     },
     "execution_count": 72,
     "metadata": {},
     "output_type": "execute_result"
    }
   ],
   "source": [
    "a = [1,2,3]\n",
    "\n",
    "a.append(\"new element\")\n",
    "# add element into list\n",
    "\n",
    "a"
   ]
  },
  {
   "cell_type": "code",
   "execution_count": 73,
   "id": "40fbdc6f",
   "metadata": {},
   "outputs": [
    {
     "data": {
      "text/plain": [
       "[1, 2, 3, [4, 5, 6]]"
      ]
     },
     "execution_count": 73,
     "metadata": {},
     "output_type": "execute_result"
    }
   ],
   "source": [
    "a = [1,2,3]\n",
    "\n",
    "a.append([4,5,6])\n",
    "\n",
    "a"
   ]
  },
  {
   "cell_type": "code",
   "execution_count": 74,
   "id": "83405ecc",
   "metadata": {},
   "outputs": [
    {
     "data": {
      "text/plain": [
       "[2, 3, 4, 5, 6]"
      ]
     },
     "execution_count": 74,
     "metadata": {},
     "output_type": "execute_result"
    }
   ],
   "source": [
    "a = [1,2,3,4,5,6]\n",
    "\n",
    "# pop ....zero index\n",
    "a.pop(0)\n",
    "a"
   ]
  },
  {
   "cell_type": "markdown",
   "id": "fb06c918",
   "metadata": {},
   "source": [
    "Tuple"
   ]
  },
  {
   "cell_type": "code",
   "execution_count": 75,
   "id": "b26ddf7e",
   "metadata": {},
   "outputs": [
    {
     "data": {
      "text/plain": [
       "tuple"
      ]
     },
     "execution_count": 75,
     "metadata": {},
     "output_type": "execute_result"
    }
   ],
   "source": [
    "a = (1,2,3,4,5,6)\n",
    "\n",
    "type(a)"
   ]
  },
  {
   "cell_type": "code",
   "execution_count": 76,
   "id": "556cdb2a",
   "metadata": {},
   "outputs": [
    {
     "data": {
      "text/plain": [
       "('first', 'second')"
      ]
     },
     "execution_count": 76,
     "metadata": {},
     "output_type": "execute_result"
    }
   ],
   "source": [
    "a = (\"first\", \"second\", \"third\",\"four\")\n",
    "\n",
    "a[:2]"
   ]
  },
  {
   "cell_type": "code",
   "execution_count": 77,
   "id": "dd5ce6a3",
   "metadata": {},
   "outputs": [
    {
     "data": {
      "text/plain": [
       "'four'"
      ]
     },
     "execution_count": 77,
     "metadata": {},
     "output_type": "execute_result"
    }
   ],
   "source": [
    "a = (\"first\", \"second\", \"third\",\"four\")\n",
    "\n",
    "a[-1]"
   ]
  },
  {
   "cell_type": "code",
   "execution_count": 78,
   "id": "4aa25a1e",
   "metadata": {},
   "outputs": [
    {
     "data": {
      "text/plain": [
       "('four', 'third', 'second', 'first')"
      ]
     },
     "execution_count": 78,
     "metadata": {},
     "output_type": "execute_result"
    }
   ],
   "source": [
    "a = (\"first\", \"second\", \"third\",\"four\")\n",
    "\n",
    "a[::-1]\n",
    "# print in reverse order"
   ]
  },
  {
   "cell_type": "code",
   "execution_count": 79,
   "id": "5bbf35c2",
   "metadata": {},
   "outputs": [
    {
     "name": "stdout",
     "output_type": "stream",
     "text": [
      "abxcdfbnght\n"
     ]
    }
   ],
   "source": [
    "t = \"ABXCDFbnght\"\n",
    "t.lower()\n",
    "print(t.lower())\n",
    "\n",
    "#converted to LOWER CASE"
   ]
  },
  {
   "cell_type": "code",
   "execution_count": 80,
   "id": "c2b8f0fc",
   "metadata": {},
   "outputs": [
    {
     "name": "stdout",
     "output_type": "stream",
     "text": [
      "ABCDEFGHIJK\n"
     ]
    }
   ],
   "source": [
    "t = \"abcdefghijk\"\n",
    "print(t.upper())\n",
    "\n",
    "# converted to UPPER CASE"
   ]
  },
  {
   "cell_type": "code",
   "execution_count": 81,
   "id": "0f9bed80",
   "metadata": {},
   "outputs": [
    {
     "name": "stdout",
     "output_type": "stream",
     "text": [
      "['Hello', 'World']\n"
     ]
    }
   ],
   "source": [
    "t = \"Hello World\"\n",
    "sliced = t.split(' ')\n",
    "\n",
    "print(sliced)\n",
    "\n",
    "# split data based on white-space"
   ]
  },
  {
   "cell_type": "code",
   "execution_count": 82,
   "id": "f06f3729",
   "metadata": {},
   "outputs": [
    {
     "name": "stdout",
     "output_type": "stream",
     "text": [
      "['Hello', 'World']\n"
     ]
    }
   ],
   "source": [
    "t = \"Hello,World\"\n",
    "sliced = t.split(',')\n",
    "\n",
    "print(sliced)\n",
    "\n",
    "#split() ....the data based on comma"
   ]
  },
  {
   "cell_type": "code",
   "execution_count": 83,
   "id": "0ddda1aa",
   "metadata": {},
   "outputs": [
    {
     "name": "stdout",
     "output_type": "stream",
     "text": [
      "first statement second-statement\n"
     ]
    }
   ],
   "source": [
    "a =\"first statement\"\n",
    "a = a + \" second-statement\"\n",
    "\n",
    "print(a)\n",
    "\n",
    "# concatenate two strings"
   ]
  },
  {
   "cell_type": "code",
   "execution_count": 84,
   "id": "3a54df15",
   "metadata": {},
   "outputs": [
    {
     "data": {
      "text/plain": [
       "('first', 'third')"
      ]
     },
     "execution_count": 84,
     "metadata": {},
     "output_type": "execute_result"
    }
   ],
   "source": [
    "a = (\"first\", \"second\", \"third\",\"four\")\n",
    "\n",
    "a[0:3:2]\n",
    "\n",
    "# skip \"second element\" every time"
   ]
  },
  {
   "cell_type": "code",
   "execution_count": 85,
   "id": "95b5a7fc",
   "metadata": {},
   "outputs": [
    {
     "name": "stdout",
     "output_type": "stream",
     "text": [
      "total elements length 10\n"
     ]
    },
    {
     "data": {
      "text/plain": [
       "('first', 'third', 'five', 'seven', 'nine')"
      ]
     },
     "execution_count": 85,
     "metadata": {},
     "output_type": "execute_result"
    }
   ],
   "source": [
    "a = (\"first\", \"second\", \"third\",\"four\",\"five\", \"six\", \"seven\", \"eight\", \"nine\", \"ten\")\n",
    "print(\"total elements length\",len(a))\n",
    "a[0:9:2]\n",
    "#skip second element every time"
   ]
  },
  {
   "cell_type": "markdown",
   "id": "b238ad7b",
   "metadata": {},
   "source": [
    "Dictionary"
   ]
  },
  {
   "cell_type": "code",
   "execution_count": 86,
   "id": "d3e5cb90",
   "metadata": {},
   "outputs": [
    {
     "data": {
      "text/plain": [
       "{'key': [1, 2, 3, 4]}"
      ]
     },
     "execution_count": 86,
     "metadata": {},
     "output_type": "execute_result"
    }
   ],
   "source": [
    "d = {'key': [1,2,3,4]}\n",
    "\n",
    "d"
   ]
  },
  {
   "cell_type": "code",
   "execution_count": 87,
   "id": "d3bd9b08",
   "metadata": {},
   "outputs": [
    {
     "data": {
      "text/plain": [
       "[1, 2, 3, 4]"
      ]
     },
     "execution_count": 87,
     "metadata": {},
     "output_type": "execute_result"
    }
   ],
   "source": [
    "d[\"key\"]"
   ]
  },
  {
   "cell_type": "code",
   "execution_count": 88,
   "id": "089dc64e",
   "metadata": {},
   "outputs": [
    {
     "data": {
      "text/plain": [
       "{'key': [5, 6, 7, 8]}"
      ]
     },
     "execution_count": 88,
     "metadata": {},
     "output_type": "execute_result"
    }
   ],
   "source": [
    "#get latest 'key' in \"dictionary\"\n",
    "d = {'key': [1,2,3,4],\n",
    "     'key': [5,6,7,8]}\n",
    "\n",
    "d\n",
    "# key has 1,2,3,4 ....these are replaced\n",
    " # python avoid duplicates in dictionary and replaces it last modified 'key'"
   ]
  },
  {
   "cell_type": "code",
   "execution_count": 89,
   "id": "bb1bc50d",
   "metadata": {},
   "outputs": [
    {
     "data": {
      "text/plain": [
       "dict_items([('key1', ['string1', 'string2']), ('key2', [1, 2, 3, 4, 5, 6])])"
      ]
     },
     "execution_count": 89,
     "metadata": {},
     "output_type": "execute_result"
    }
   ],
   "source": [
    "# print items in \"dictionary\"\n",
    "d = {'key1': [\"string1\", \"string2\"],\n",
    "     'key2': [1,2,3,4,5,6]\n",
    "}\n",
    "\n",
    "d.items\n",
    "d.items()"
   ]
  },
  {
   "cell_type": "code",
   "execution_count": 90,
   "id": "79195497",
   "metadata": {},
   "outputs": [
    {
     "data": {
      "text/plain": [
       "dict_keys(['key1', 'key2'])"
      ]
     },
     "execution_count": 90,
     "metadata": {},
     "output_type": "execute_result"
    }
   ],
   "source": [
    "#print keys in \"dictionary\"\n",
    "d = {'key1': [\"string1\", \"string2\"],\n",
    "     'key2': [1,2,3,4,5,6]\n",
    "}\n",
    "\n",
    "d.keys()\n",
    "# print keys"
   ]
  },
  {
   "cell_type": "code",
   "execution_count": 91,
   "id": "7620441d",
   "metadata": {},
   "outputs": [
    {
     "data": {
      "text/plain": [
       "dict_values([['string1', 'string2'], [1, 2, 3, 4, 5, 6]])"
      ]
     },
     "execution_count": 91,
     "metadata": {},
     "output_type": "execute_result"
    }
   ],
   "source": [
    "d = {'key1': [\"string1\", \"string2\"],\n",
    "     'key2': [1,2,3,4,5,6]\n",
    "}\n",
    "\n",
    "d.values()\n",
    "#it returns all the values"
   ]
  },
  {
   "cell_type": "code",
   "execution_count": 92,
   "id": "57fe80a3",
   "metadata": {},
   "outputs": [
    {
     "data": {
      "text/plain": [
       "{'key1': ['string1', 'string2']}"
      ]
     },
     "execution_count": 92,
     "metadata": {},
     "output_type": "execute_result"
    }
   ],
   "source": [
    "# delete dictionry\n",
    "d = {'key1': [\"string1\", \"string2\"],\n",
    "     'key2': [1,2,3,4,5,6]\n",
    "}\n",
    "\n",
    "del d['key2']\n",
    "# delete key2\n",
    "\n",
    "d"
   ]
  },
  {
   "cell_type": "code",
   "execution_count": 93,
   "id": "25240fcc",
   "metadata": {},
   "outputs": [
    {
     "data": {
      "text/plain": [
       "1632"
      ]
     },
     "execution_count": 93,
     "metadata": {},
     "output_type": "execute_result"
    }
   ],
   "source": [
    "# Dictionary within Dictionary\n",
    "\n",
    "monuments={\"Taj Mahal\":{\"Location\":\"Agra\",\"Year\":1632}}\n",
    "\n",
    "monuments[\"Taj Mahal\"][\"Year\"]"
   ]
  },
  {
   "cell_type": "code",
   "execution_count": 94,
   "id": "acf0e029",
   "metadata": {},
   "outputs": [
    {
     "data": {
      "text/plain": [
       "'Not Available'"
      ]
     },
     "execution_count": 94,
     "metadata": {},
     "output_type": "execute_result"
    }
   ],
   "source": [
    "# get() function in \"dictionary\"\n",
    "lang={\"karnataka\":\"Kannada\",\"Andhra Pradesh\":\"Telugu\"}\n",
    "\n",
    "lang.get(\"Goa\",\"Not Available\")"
   ]
  },
  {
   "cell_type": "code",
   "execution_count": 95,
   "id": "fca36130",
   "metadata": {},
   "outputs": [
    {
     "name": "stdout",
     "output_type": "stream",
     "text": [
      "uk information got deleted\n",
      "{'India': 'Delhi', 'Andhra Pradesh': 'Amaravati'}\n"
     ]
    }
   ],
   "source": [
    "#pop() function in \"dictionary\"\n",
    "\n",
    "capitals={\"India\":\"Delhi\",\"Andhra Pradesh\":\"Amaravati\",\"UK\":\"London\"}\n",
    "capitals.pop(\"UK\")\n",
    "print(\"uk information got deleted\")\n",
    "print(capitals)"
   ]
  },
  {
   "cell_type": "code",
   "execution_count": 96,
   "id": "206f344d",
   "metadata": {},
   "outputs": [
    {
     "data": {
      "text/plain": [
       "('Andhra Pradesh', 'Amaravati')"
      ]
     },
     "execution_count": 96,
     "metadata": {},
     "output_type": "execute_result"
    }
   ],
   "source": [
    "# delete the popitem() in dictionary\n",
    "\n",
    "capitals.popitem()"
   ]
  },
  {
   "cell_type": "code",
   "execution_count": 97,
   "id": "2bb8237f",
   "metadata": {},
   "outputs": [
    {
     "name": "stdout",
     "output_type": "stream",
     "text": [
      "None\n"
     ]
    }
   ],
   "source": [
    "# clear() function in dictionary\n",
    "\n",
    "capitals.clear()\n",
    "print(capitals.clear())"
   ]
  },
  {
   "cell_type": "code",
   "execution_count": 98,
   "id": "c3fb03f0",
   "metadata": {},
   "outputs": [
    {
     "name": "stdout",
     "output_type": "stream",
     "text": [
      "sample list:  [('Rajasthan', 'Jaipur'), ('Assam', 'Dispur'), ('Bihar', 'Patna')]\n",
      "sample dictionary {'Rajasthan': 'Jaipur', 'Assam': 'Dispur', 'Bihar': 'Patna'}\n"
     ]
    }
   ],
   "source": [
    "#convert two lists into Dictionary\n",
    "\n",
    "states=[\"Rajasthan\",\"Assam\",\"Bihar\"]\n",
    "capital=[\"Jaipur\",\"Dispur\",\"Patna\"]\n",
    "\n",
    "zip(states,capital)\n",
    "list(zip(states,capital))\n",
    "print(\"sample list: \",list(zip(states,capital)))\n",
    "print(\"sample dictionary\",dict(zip(states,capital)))"
   ]
  },
  {
   "cell_type": "code",
   "execution_count": 99,
   "id": "e0273a8c",
   "metadata": {},
   "outputs": [
    {
     "data": {
      "text/plain": [
       "1"
      ]
     },
     "execution_count": 99,
     "metadata": {},
     "output_type": "execute_result"
    }
   ],
   "source": [
    "def factorial(number):\n",
    "    if number==0:\n",
    "        return 1\n",
    "    else:\n",
    "        return number * factorial(number-1) \n",
    "\n",
    "factorial(0)        \n",
    "\n",
    "# function"
   ]
  },
  {
   "cell_type": "code",
   "execution_count": 100,
   "id": "cd0b7716",
   "metadata": {},
   "outputs": [
    {
     "data": {
      "text/plain": [
       "120"
      ]
     },
     "execution_count": 100,
     "metadata": {},
     "output_type": "execute_result"
    }
   ],
   "source": [
    "factorial(5)"
   ]
  },
  {
   "cell_type": "code",
   "execution_count": 101,
   "id": "e98629fe",
   "metadata": {},
   "outputs": [
    {
     "ename": "TypeError",
     "evalue": "unsupported operand type(s) for -: 'str' and 'int'",
     "output_type": "error",
     "traceback": [
      "\u001b[31m---------------------------------------------------------------------------\u001b[39m",
      "\u001b[31mTypeError\u001b[39m                                 Traceback (most recent call last)",
      "\u001b[36mCell\u001b[39m\u001b[36m \u001b[39m\u001b[32mIn[101]\u001b[39m\u001b[32m, line 1\u001b[39m\n\u001b[32m----> \u001b[39m\u001b[32m1\u001b[39m \u001b[43mfactorial\u001b[49m\u001b[43m(\u001b[49m\u001b[33;43m\"\u001b[39;49m\u001b[33;43m3\u001b[39;49m\u001b[33;43m\"\u001b[39;49m\u001b[43m)\u001b[49m\n",
      "\u001b[36mCell\u001b[39m\u001b[36m \u001b[39m\u001b[32mIn[99]\u001b[39m\u001b[32m, line 5\u001b[39m, in \u001b[36mfactorial\u001b[39m\u001b[34m(number)\u001b[39m\n\u001b[32m      3\u001b[39m     \u001b[38;5;28;01mreturn\u001b[39;00m \u001b[32m1\u001b[39m\n\u001b[32m      4\u001b[39m \u001b[38;5;28;01melse\u001b[39;00m:\n\u001b[32m----> \u001b[39m\u001b[32m5\u001b[39m     \u001b[38;5;28;01mreturn\u001b[39;00m number * factorial(\u001b[43mnumber\u001b[49m\u001b[43m-\u001b[49m\u001b[32;43m1\u001b[39;49m)\n",
      "\u001b[31mTypeError\u001b[39m: unsupported operand type(s) for -: 'str' and 'int'"
     ]
    }
   ],
   "source": [
    "factorial(\"3\")"
   ]
  },
  {
   "cell_type": "code",
   "execution_count": null,
   "id": "8ef7b307",
   "metadata": {},
   "outputs": [],
   "source": [
    "#single comment line"
   ]
  },
  {
   "cell_type": "code",
   "execution_count": null,
   "id": "e6396208",
   "metadata": {},
   "outputs": [
    {
     "data": {
      "text/plain": [
       "' multiple line of comments'"
      ]
     },
     "execution_count": 95,
     "metadata": {},
     "output_type": "execute_result"
    }
   ],
   "source": [
    "\"\"\" multiple line of comments\"\"\""
   ]
  },
  {
   "cell_type": "code",
   "execution_count": null,
   "id": "58c4c351",
   "metadata": {},
   "outputs": [
    {
     "data": {
      "text/plain": [
       "10"
      ]
     },
     "execution_count": 97,
     "metadata": {},
     "output_type": "execute_result"
    }
   ],
   "source": [
    "# function definition\n",
    "def add(num1,num2):\n",
    "    return num1 + num2\n",
    "\n",
    "#function calling\n",
    "add(5,5)"
   ]
  },
  {
   "cell_type": "code",
   "execution_count": null,
   "id": "027ddc3f",
   "metadata": {},
   "outputs": [],
   "source": [
    "def function():\n",
    "    \"\"\" \n",
    "     doc string \n",
    "    \n",
    "    to describe the purpose of function\n",
    "    \"\"\"\n",
    "    pass \n",
    "\n",
    "function()"
   ]
  },
  {
   "cell_type": "code",
   "execution_count": null,
   "id": "1a59eec3",
   "metadata": {},
   "outputs": [],
   "source": [
    "# interpreter encounters \"pass\" keyword, it does nothing and moves on to the next line. "
   ]
  },
  {
   "cell_type": "code",
   "execution_count": null,
   "id": "30c7101c",
   "metadata": {},
   "outputs": [
    {
     "data": {
      "text/plain": [
       "25"
      ]
     },
     "execution_count": 100,
     "metadata": {},
     "output_type": "execute_result"
    }
   ],
   "source": [
    "#function definition \n",
    "def add(number1, number2):\n",
    "    \"\"\" it takes two arguments\n",
    "    first parameter: number1\n",
    "    second parameter: number2\n",
    "\n",
    "    Returns: finally adds the two number and returns the output\n",
    "    \"\"\"\n",
    "    return number1 + number2 # function definition ends here\n",
    "\n",
    "#function calling....to execute the function\n",
    "add(20, 5)    "
   ]
  },
  {
   "cell_type": "code",
   "execution_count": null,
   "id": "23e59bad",
   "metadata": {},
   "outputs": [
    {
     "name": "stdout",
     "output_type": "stream",
     "text": [
      "2\n",
      "3\n",
      "4\n",
      "5\n"
     ]
    }
   ],
   "source": [
    "#args .....within function()\n",
    "def argument_function(*args):\n",
    "    for i in list(args):\n",
    "        print(i)\n",
    "\n",
    "\n",
    "argument_function(2,3,4,5)"
   ]
  },
  {
   "cell_type": "code",
   "execution_count": null,
   "id": "2a7b4fd0",
   "metadata": {},
   "outputs": [
    {
     "name": "stdout",
     "output_type": "stream",
     "text": [
      "sum of all values 21\n"
     ]
    }
   ],
   "source": [
    "def add_arguments(*args):\n",
    "    sum=0\n",
    "    for i in args:\n",
    "        sum+=i\n",
    "    print(\"sum of all values\",sum)    \n",
    "\n",
    "add_arguments(1,2,3,4,5,6)    "
   ]
  },
  {
   "cell_type": "code",
   "execution_count": null,
   "id": "07f029e7",
   "metadata": {},
   "outputs": [
    {
     "data": {
      "text/plain": [
       "{'name': 'chandra', 'email_id': 'chandrasekharcse522@gmail.com'}"
      ]
     },
     "execution_count": 4,
     "metadata": {},
     "output_type": "execute_result"
    }
   ],
   "source": [
    "#kwargs.....\n",
    "def function(**kwargs):\n",
    "    return kwargs\n",
    "\n",
    "function(name=\"chandra\",email_id=\"chandrasekharcse522@gmail.com\")"
   ]
  },
  {
   "cell_type": "code",
   "execution_count": null,
   "id": "37f28d6e",
   "metadata": {},
   "outputs": [
    {
     "data": {
      "text/plain": [
       "6"
      ]
     },
     "execution_count": 5,
     "metadata": {},
     "output_type": "execute_result"
    }
   ],
   "source": [
    "#lambda\n",
    "\n",
    "func= lambda x: x+1\n",
    "\n",
    "#pass value to func()\n",
    "func(5)"
   ]
  },
  {
   "cell_type": "code",
   "execution_count": null,
   "id": "4081e3bc",
   "metadata": {},
   "outputs": [
    {
     "data": {
      "text/plain": [
       "10"
      ]
     },
     "execution_count": 6,
     "metadata": {},
     "output_type": "execute_result"
    }
   ],
   "source": [
    "#lambda\n",
    "func2 = lambda a,b : a+b\n",
    "\n",
    "func2(5,5)"
   ]
  },
  {
   "cell_type": "code",
   "execution_count": null,
   "id": "d850afec",
   "metadata": {},
   "outputs": [
    {
     "data": {
      "text/plain": [
       "25"
      ]
     },
     "execution_count": 7,
     "metadata": {},
     "output_type": "execute_result"
    }
   ],
   "source": [
    "#lambda\n",
    "#square of the function()\n",
    "func3= lambda a: a**2\n",
    "\n",
    "func3(5)"
   ]
  },
  {
   "cell_type": "code",
   "execution_count": null,
   "id": "4ae830c1",
   "metadata": {},
   "outputs": [
    {
     "data": {
      "text/plain": [
       "27"
      ]
     },
     "execution_count": 8,
     "metadata": {},
     "output_type": "execute_result"
    }
   ],
   "source": [
    "#lambda\n",
    "#max value\n",
    "func4 = lambda a,b: a if a>b else b\n",
    "\n",
    "func4(5,27)"
   ]
  },
  {
   "cell_type": "code",
   "execution_count": null,
   "id": "509be7ee",
   "metadata": {},
   "outputs": [
    {
     "data": {
      "text/plain": [
       "3"
      ]
     },
     "execution_count": 11,
     "metadata": {},
     "output_type": "execute_result"
    }
   ],
   "source": [
    "#lambda\n",
    "#min value\n",
    "func5= lambda a,b: b if a>b else a\n",
    "\n",
    "\n",
    "func5(27,3)"
   ]
  },
  {
   "cell_type": "code",
   "execution_count": null,
   "id": "7664eae3",
   "metadata": {},
   "outputs": [
    {
     "name": "stdout",
     "output_type": "stream",
     "text": [
      "number1\n",
      "second number\n",
      "0\n",
      "1\n",
      "2\n",
      "third number\n"
     ]
    }
   ],
   "source": [
    "# how the code gets executed?\n",
    "\n",
    "print(\"number1\")\n",
    "print(\"second number\")\n",
    "for i in range(3):\n",
    "    print(i)\n",
    "print(\"third number\")    "
   ]
  },
  {
   "cell_type": "code",
   "execution_count": null,
   "id": "200f10be",
   "metadata": {},
   "outputs": [
    {
     "data": {
      "text/plain": [
       "int"
      ]
     },
     "execution_count": 102,
     "metadata": {},
     "output_type": "execute_result"
    }
   ],
   "source": [
    "df1 = 5\n",
    "type(df1)"
   ]
  },
  {
   "cell_type": "code",
   "execution_count": null,
   "id": "57b50a0a",
   "metadata": {},
   "outputs": [
    {
     "data": {
      "text/plain": [
       "str"
      ]
     },
     "execution_count": 103,
     "metadata": {},
     "output_type": "execute_result"
    }
   ],
   "source": [
    "# type conversion\n",
    "# convert integer to string\n",
    "\n",
    "vari = str(df1)\n",
    "type(vari)"
   ]
  },
  {
   "cell_type": "code",
   "execution_count": null,
   "id": "4663d737",
   "metadata": {},
   "outputs": [
    {
     "name": "stdout",
     "output_type": "stream",
     "text": [
      "6\n"
     ]
    }
   ],
   "source": [
    "b1= input(\"enter number\")\n",
    "print(b1)"
   ]
  },
  {
   "cell_type": "code",
   "execution_count": null,
   "id": "b41fc059",
   "metadata": {},
   "outputs": [
    {
     "ename": "TypeError",
     "evalue": "unsupported operand type(s) for +: 'int' and 'str'",
     "output_type": "error",
     "traceback": [
      "\u001b[1;31m---------------------------------------------------------------------------\u001b[0m",
      "\u001b[1;31mTypeError\u001b[0m                                 Traceback (most recent call last)",
      "Cell \u001b[1;32mIn[105], line 2\u001b[0m\n\u001b[0;32m      1\u001b[0m a1 \u001b[38;5;241m=\u001b[39m \u001b[38;5;241m20\u001b[39m\n\u001b[1;32m----> 2\u001b[0m \u001b[43ma1\u001b[49m\u001b[43m \u001b[49m\u001b[38;5;241;43m+\u001b[39;49m\u001b[43m \u001b[49m\u001b[43mb1\u001b[49m\n\u001b[0;32m      4\u001b[0m \u001b[38;5;66;03m# type(b)====str\u001b[39;00m\n\u001b[0;32m      5\u001b[0m \u001b[38;5;66;03m#trying to add int and str\u001b[39;00m\n",
      "\u001b[1;31mTypeError\u001b[0m: unsupported operand type(s) for +: 'int' and 'str'"
     ]
    }
   ],
   "source": [
    "a1 = 20\n",
    "a1 + b1\n",
    "\n",
    "# type(b)====str\n",
    "#trying to add int and str"
   ]
  },
  {
   "cell_type": "code",
   "execution_count": null,
   "id": "765696c9",
   "metadata": {},
   "outputs": [
    {
     "name": "stdout",
     "output_type": "stream",
     "text": [
      "given input string\n",
      "data type : <class 'str'>\n"
     ]
    }
   ],
   "source": [
    "xyz= input(\"enter user input\")\n",
    "print(\"given input\",xyz)\n",
    "\n",
    "type(xyz)\n",
    "\n",
    "print(\"data type :\", type(xyz))"
   ]
  },
  {
   "cell_type": "code",
   "execution_count": null,
   "id": "be536c77",
   "metadata": {},
   "outputs": [
    {
     "name": "stdout",
     "output_type": "stream",
     "text": [
      "b data type is <class 'int'>\n",
      "26\n"
     ]
    }
   ],
   "source": [
    "a=20\n",
    "#input()....... asking user to \"enter a number\"\n",
    "b= int(input(\"Ener number\")) # converted it into integer\n",
    "print(\"b data type is\",type(b))\n",
    "print(a + b)\n"
   ]
  },
  {
   "cell_type": "code",
   "execution_count": null,
   "id": "156fc7ae",
   "metadata": {},
   "outputs": [
    {
     "name": "stdout",
     "output_type": "stream",
     "text": [
      "<class 'str'>\n",
      "chandra\n",
      "converted to list data type ['c', 'h', 'a', 'n', 'd', 'r', 'a']\n"
     ]
    }
   ],
   "source": [
    "v= \"chandra\"\n",
    "print(type(v))\n",
    "print(v)\n",
    "list(v)\n",
    "print(\"converted to list data type\",list(v))\n"
   ]
  },
  {
   "cell_type": "code",
   "execution_count": null,
   "id": "e1f596df",
   "metadata": {},
   "outputs": [
    {
     "name": "stdout",
     "output_type": "stream",
     "text": [
      "my name is:  chandra and my profession is: AI Engineer\n"
     ]
    }
   ],
   "source": [
    "name=\" chandra\"\n",
    "title=\"AI Engineer\"\n",
    "print(f\"my name is: {name} and my profession is: {title}\")"
   ]
  },
  {
   "cell_type": "code",
   "execution_count": null,
   "id": "704a8b8d",
   "metadata": {},
   "outputs": [
    {
     "name": "stdout",
     "output_type": "stream",
     "text": [
      "10\n"
     ]
    }
   ],
   "source": [
    "expression = input(\"Enter expression\")\n",
    "result = eval(expression)\n",
    "print(result)\n",
    "\n",
    "# Enter expression   3 + 7\n",
    "#given input is string data type\n",
    "# eval ()\n"
   ]
  },
  {
   "cell_type": "code",
   "execution_count": null,
   "id": "232c598a",
   "metadata": {},
   "outputs": [
    {
     "data": {
      "text/plain": [
       "int"
      ]
     },
     "execution_count": 111,
     "metadata": {},
     "output_type": "execute_result"
    }
   ],
   "source": [
    "type(result)"
   ]
  },
  {
   "cell_type": "code",
   "execution_count": null,
   "id": "5cc96203",
   "metadata": {},
   "outputs": [
    {
     "data": {
      "text/plain": [
       "10"
      ]
     },
     "execution_count": 112,
     "metadata": {},
     "output_type": "execute_result"
    }
   ],
   "source": [
    "a = eval(\"2 * 5\")\n",
    "a"
   ]
  },
  {
   "cell_type": "code",
   "execution_count": null,
   "id": "d88b1df5",
   "metadata": {},
   "outputs": [
    {
     "data": {
      "text/plain": [
       "8"
      ]
     },
     "execution_count": 113,
     "metadata": {},
     "output_type": "execute_result"
    }
   ],
   "source": [
    "a = eval(\"3 + 5\")\n",
    "a"
   ]
  },
  {
   "cell_type": "code",
   "execution_count": null,
   "id": "e21d3fcd",
   "metadata": {},
   "outputs": [
    {
     "data": {
      "text/plain": [
       "10"
      ]
     },
     "execution_count": 114,
     "metadata": {},
     "output_type": "execute_result"
    }
   ],
   "source": [
    "a = eval(\"2 + 3 + 5\")\n",
    "a"
   ]
  },
  {
   "cell_type": "code",
   "execution_count": null,
   "id": "565261ff",
   "metadata": {},
   "outputs": [
    {
     "data": {
      "text/plain": [
       "80"
      ]
     },
     "execution_count": 115,
     "metadata": {},
     "output_type": "execute_result"
    }
   ],
   "source": [
    "a = eval(\"2 * 4 * 10\")\n",
    "a"
   ]
  },
  {
   "cell_type": "code",
   "execution_count": null,
   "id": "e0ae6fa6",
   "metadata": {},
   "outputs": [
    {
     "data": {
      "text/plain": [
       "20.0"
      ]
     },
     "execution_count": 116,
     "metadata": {},
     "output_type": "execute_result"
    }
   ],
   "source": [
    "a = eval(\"100 / 5\")\n",
    "a"
   ]
  },
  {
   "cell_type": "code",
   "execution_count": null,
   "id": "f0759b96",
   "metadata": {},
   "outputs": [
    {
     "data": {
      "text/plain": [
       "11"
      ]
     },
     "execution_count": 117,
     "metadata": {},
     "output_type": "execute_result"
    }
   ],
   "source": [
    "len(\"hello world\")"
   ]
  },
  {
   "cell_type": "code",
   "execution_count": null,
   "id": "54c2a662",
   "metadata": {},
   "outputs": [
    {
     "name": "stdout",
     "output_type": "stream",
     "text": [
      "11\n"
     ]
    },
    {
     "data": {
      "text/plain": [
       "int"
      ]
     },
     "execution_count": 118,
     "metadata": {},
     "output_type": "execute_result"
    }
   ],
   "source": [
    "b= eval(\"len('hello world')\")\n",
    "print(b)\n",
    "type(b)"
   ]
  },
  {
   "cell_type": "markdown",
   "id": "825d8013",
   "metadata": {},
   "source": [
    "for loop"
   ]
  },
  {
   "cell_type": "code",
   "execution_count": null,
   "id": "d401638a",
   "metadata": {},
   "outputs": [
    {
     "name": "stdout",
     "output_type": "stream",
     "text": [
      "1\n",
      "2\n",
      "3\n",
      "4\n",
      "5\n",
      "6\n"
     ]
    }
   ],
   "source": [
    "a = [1,2,3,4,5,6]\n",
    "\n",
    "for i in a:\n",
    "    print(i)"
   ]
  },
  {
   "cell_type": "code",
   "execution_count": null,
   "id": "fd9de632",
   "metadata": {},
   "outputs": [
    {
     "name": "stdout",
     "output_type": "stream",
     "text": [
      "1\n",
      "2\n",
      "3\n",
      "4\n"
     ]
    }
   ],
   "source": [
    "t = (1,2,3,4)\n",
    "\n",
    "for i in t:\n",
    "    print(i)"
   ]
  },
  {
   "cell_type": "code",
   "execution_count": null,
   "id": "501bda47",
   "metadata": {},
   "outputs": [
    {
     "name": "stdout",
     "output_type": "stream",
     "text": [
      "0 apple\n",
      "1 banana\n",
      "2 grapes\n"
     ]
    }
   ],
   "source": [
    "fruits = ['apple', 'banana', 'grapes']\n",
    "\n",
    "for index, i in enumerate(fruits):\n",
    "    print(index,i)"
   ]
  },
  {
   "cell_type": "code",
   "execution_count": null,
   "id": "c46b7302",
   "metadata": {},
   "outputs": [
    {
     "name": "stdout",
     "output_type": "stream",
     "text": [
      "30\n"
     ]
    }
   ],
   "source": [
    "# function to print even numbers\n",
    "\n",
    "def even_number_sum():\n",
    "    sum=0\n",
    "    numbers = [1,2,3,4,5,6,7,8,9,10]\n",
    "    for i in numbers:\n",
    "        if i%2==0:\n",
    "         sum+=i\n",
    "    print(sum) \n",
    "\n",
    "even_number_sum()       "
   ]
  },
  {
   "cell_type": "code",
   "execution_count": null,
   "id": "9cafdcdf",
   "metadata": {},
   "outputs": [
    {
     "name": "stdout",
     "output_type": "stream",
     "text": [
      "length: 39\n",
      "35\n"
     ]
    }
   ],
   "source": [
    "#last occurence of target character\n",
    "text = \"iT is a text CONTENT and prints a value\"\n",
    "target_value='a'\n",
    "counter = 0\n",
    "print(\"length:\",len(text))\n",
    "for i in range(len(text)):\n",
    "    if text[i].lower()==target_value:\n",
    "        counter=i\n",
    "        \n",
    "\n",
    "\n",
    "print(counter)\n",
    "\n",
    "\n"
   ]
  },
  {
   "cell_type": "code",
   "execution_count": null,
   "id": "5d311788",
   "metadata": {},
   "outputs": [
    {
     "name": "stdout",
     "output_type": "stream",
     "text": [
      "the total sum is:1225\n"
     ]
    }
   ],
   "source": [
    "#sum of all numbers within range of 50\n",
    "sum=0\n",
    "for i in range(1,50):\n",
    "    sum=sum + i\n",
    "print(f\"the total sum is:{sum}\")"
   ]
  },
  {
   "cell_type": "code",
   "execution_count": null,
   "id": "7060ff9d",
   "metadata": {},
   "outputs": [
    {
     "name": "stdout",
     "output_type": "stream",
     "text": [
      "sum of all even numbers within range of 50:600\n"
     ]
    }
   ],
   "source": [
    "#sum of all even numbers within range of 50\n",
    "sum=0\n",
    "for i in range(1,50):\n",
    "    if i%2==0:  #even number condition\n",
    "        sum+=i\n",
    "print(f\"sum of all even numbers within range of 50:{sum}\")"
   ]
  },
  {
   "cell_type": "code",
   "execution_count": null,
   "id": "e82a9a14",
   "metadata": {},
   "outputs": [
    {
     "name": "stdout",
     "output_type": "stream",
     "text": [
      "sum of all odd numbers within range of 50:625\n"
     ]
    }
   ],
   "source": [
    "#sum of all odd numbers within range of 50\n",
    "sum=0\n",
    "for i in range(1,50):\n",
    "    if i%2!=0:  #odd number condition\n",
    "        sum+=i\n",
    "print(f\"sum of all odd numbers within range of 50:{sum}\")"
   ]
  },
  {
   "cell_type": "code",
   "execution_count": null,
   "id": "3d9f9084",
   "metadata": {},
   "outputs": [
    {
     "name": "stdout",
     "output_type": "stream",
     "text": [
      "the first index of even integer is 1\n"
     ]
    }
   ],
   "source": [
    "# first index of even integer within range of 50\n",
    "position=0\n",
    "for i in range(1,50):\n",
    "    if i%2==0:\n",
    "        position=position+1\n",
    "        break\n",
    "print(f\"the first index of even integer is {position}\")    "
   ]
  },
  {
   "cell_type": "code",
   "execution_count": null,
   "id": "1283f8f4",
   "metadata": {},
   "outputs": [
    {
     "name": "stdout",
     "output_type": "stream",
     "text": [
      "the last index of even integer is 24\n"
     ]
    }
   ],
   "source": [
    "# last index of  even integer within range of 50\n",
    "position=0\n",
    "for i in range(1,50):\n",
    "    if i%2==0:\n",
    "        position=position+1\n",
    "        continue\n",
    "print(f\"the last index of even integer is {position}\") "
   ]
  },
  {
   "cell_type": "code",
   "execution_count": null,
   "id": "408e9499",
   "metadata": {},
   "outputs": [
    {
     "name": "stdout",
     "output_type": "stream",
     "text": [
      "the first index of odd integer is 1\n"
     ]
    }
   ],
   "source": [
    "# first index of odd integer within range of 50\n",
    "position=0\n",
    "for i in range(1,50):\n",
    "    if i%2!=0:\n",
    "        position=position+1\n",
    "        break\n",
    "print(f\"the first index of odd integer is {position}\") "
   ]
  },
  {
   "cell_type": "code",
   "execution_count": null,
   "id": "ffd1491f",
   "metadata": {},
   "outputs": [
    {
     "name": "stdout",
     "output_type": "stream",
     "text": [
      "the last index of odd integer is 25\n"
     ]
    }
   ],
   "source": [
    "# last index of odd integer within range of 50\n",
    "position=0\n",
    "for i in range(1,50):\n",
    "    if i%2!=0:\n",
    "        position=position+1\n",
    "        continue\n",
    "print(f\"the last index of odd integer is {position}\") "
   ]
  },
  {
   "cell_type": "code",
   "execution_count": null,
   "id": "ee34b127",
   "metadata": {},
   "outputs": [
    {
     "name": "stdout",
     "output_type": "stream",
     "text": [
      "2\n"
     ]
    }
   ],
   "source": [
    "# print the first even integer within range of 50\n",
    "first_even_integer = 0\n",
    "for i in range(1,50):\n",
    "    if i%2==0:\n",
    "        first_even_integer= i\n",
    "        break\n",
    "print(first_even_integer)"
   ]
  },
  {
   "cell_type": "code",
   "execution_count": null,
   "id": "8f35b334",
   "metadata": {},
   "outputs": [
    {
     "name": "stdout",
     "output_type": "stream",
     "text": [
      "1\n"
     ]
    }
   ],
   "source": [
    "# print the first odd integer within range of 50\n",
    "first_odd_integer = 0\n",
    "for i in range(1,50):\n",
    "    if i%2!=0:\n",
    "        first_odd_integer= i\n",
    "        break\n",
    "print(first_odd_integer)"
   ]
  },
  {
   "cell_type": "code",
   "execution_count": null,
   "id": "0fb18de0",
   "metadata": {},
   "outputs": [
    {
     "name": "stdout",
     "output_type": "stream",
     "text": [
      "48\n"
     ]
    }
   ],
   "source": [
    "# print the last even integer within range of 50\n",
    "last_even_integer = 0\n",
    "for i in range(1,50):\n",
    "    if i%2==0:\n",
    "        last_even_integer= i\n",
    "        continue\n",
    "print(last_even_integer)"
   ]
  },
  {
   "cell_type": "code",
   "execution_count": null,
   "id": "12685572",
   "metadata": {},
   "outputs": [
    {
     "name": "stdout",
     "output_type": "stream",
     "text": [
      "49\n"
     ]
    }
   ],
   "source": [
    "# print the last odd integer within range of 50\n",
    "last_odd_integer = 0\n",
    "for i in range(1,50):\n",
    "    if i%2!=0:\n",
    "        last_odd_integer= i\n",
    "        continue\n",
    "print(last_odd_integer)"
   ]
  },
  {
   "cell_type": "code",
   "execution_count": null,
   "id": "edc57509",
   "metadata": {},
   "outputs": [
    {
     "name": "stdout",
     "output_type": "stream",
     "text": [
      "5\n",
      "7\n",
      "11\n",
      "13\n"
     ]
    }
   ],
   "source": [
    "# print prime numbers\n",
    "for num in range(5,15):\n",
    "    if num > 1:\n",
    "        for i in range(2, num):\n",
    "            if num%i == 0:\n",
    "                break\n",
    "        else:\n",
    "            print(num)"
   ]
  },
  {
   "cell_type": "code",
   "execution_count": null,
   "id": "9a220da4",
   "metadata": {},
   "outputs": [
    {
     "name": "stdout",
     "output_type": "stream",
     "text": [
      "109876\n"
     ]
    }
   ],
   "source": [
    "#reverse a number\n",
    "number= 678901\n",
    "reverse=0\n",
    "while number > 0:\n",
    "    remainder = number%10\n",
    "    reverse= remainder+(reverse * 10)\n",
    "    number = number//10\n",
    "\n",
    "print(reverse)    "
   ]
  },
  {
   "cell_type": "code",
   "execution_count": null,
   "id": "d962475c",
   "metadata": {},
   "outputs": [
    {
     "name": "stdout",
     "output_type": "stream",
     "text": [
      "21\n"
     ]
    }
   ],
   "source": [
    "# print all the digits within a number\n",
    "sum=0\n",
    "number= 123456\n",
    "while number>0:\n",
    "    remainder=number%10\n",
    "    sum+= remainder\n",
    "    number//=10\n",
    "print(sum)    "
   ]
  },
  {
   "cell_type": "code",
   "execution_count": null,
   "id": "8d0d1334",
   "metadata": {},
   "outputs": [
    {
     "name": "stdout",
     "output_type": "stream",
     "text": [
      "2025-09-17 12:07:20.324212\n"
     ]
    }
   ],
   "source": [
    "#print datetime\n",
    "import datetime\n",
    "\n",
    "print(datetime.datetime.now())"
   ]
  },
  {
   "cell_type": "code",
   "execution_count": null,
   "id": "aea18ffa",
   "metadata": {},
   "outputs": [
    {
     "name": "stdout",
     "output_type": "stream",
     "text": [
      "2025-09-17\n"
     ]
    }
   ],
   "source": [
    "#print date\n",
    "import datetime\n",
    "\n",
    "print(datetime.date.today())"
   ]
  },
  {
   "cell_type": "code",
   "execution_count": null,
   "id": "1e41a4e9",
   "metadata": {},
   "outputs": [
    {
     "name": "stdout",
     "output_type": "stream",
     "text": [
      "17\n"
     ]
    }
   ],
   "source": [
    "#print day\n",
    "import datetime\n",
    "\n",
    "print(datetime.date.today().day )"
   ]
  },
  {
   "cell_type": "code",
   "execution_count": null,
   "id": "5f2721a2",
   "metadata": {},
   "outputs": [
    {
     "name": "stdout",
     "output_type": "stream",
     "text": [
      "2025-09-24\n"
     ]
    }
   ],
   "source": [
    "# add 7 days to the current date\n",
    "import datetime\n",
    "\n",
    " \n",
    "print(datetime.date.today() + datetime.timedelta(days=7))"
   ]
  },
  {
   "cell_type": "code",
   "execution_count": null,
   "id": "6812d95c",
   "metadata": {},
   "outputs": [
    {
     "name": "stdout",
     "output_type": "stream",
     "text": [
      "2025-08-18\n"
     ]
    }
   ],
   "source": [
    "#print last month\n",
    "import datetime\n",
    "\n",
    "last_month = datetime.date.today() - datetime.timedelta(days=30)\n",
    "print(last_month)"
   ]
  },
  {
   "cell_type": "code",
   "execution_count": null,
   "id": "e9eede15",
   "metadata": {},
   "outputs": [
    {
     "name": "stdout",
     "output_type": "stream",
     "text": [
      "12\n"
     ]
    }
   ],
   "source": [
    "#print hour\n",
    "import datetime\n",
    "\n",
    "print(datetime.datetime.now().hour)"
   ]
  },
  {
   "cell_type": "code",
   "execution_count": null,
   "id": "55574632",
   "metadata": {},
   "outputs": [
    {
     "name": "stdout",
     "output_type": "stream",
     "text": [
      "14\n"
     ]
    }
   ],
   "source": [
    "#print minute\n",
    "import datetime\n",
    "\n",
    "print(datetime.datetime.now().minute)"
   ]
  },
  {
   "cell_type": "code",
   "execution_count": null,
   "id": "47ff3df6",
   "metadata": {},
   "outputs": [
    {
     "name": "stdout",
     "output_type": "stream",
     "text": [
      "36\n"
     ]
    }
   ],
   "source": [
    "#print second\n",
    "import datetime\n",
    "\n",
    "print(datetime.datetime.now().second)"
   ]
  },
  {
   "cell_type": "code",
   "execution_count": null,
   "id": "009cf53f",
   "metadata": {},
   "outputs": [
    {
     "name": "stdout",
     "output_type": "stream",
     "text": [
      "--- Current Date and Time ---\n",
      "Full datetime object: 2025-09-17 12:24:47.596869\n",
      "Year: 2025\n",
      "Month: 9\n",
      "Day: 17\n",
      "Hour: 12\n",
      "Minute: 24\n",
      "Second: 47\n",
      "Microsecond: 596869\n"
     ]
    }
   ],
   "source": [
    "import datetime\n",
    "\n",
    "# Get the current date and time\n",
    "now = datetime.datetime.now()\n",
    "\n",
    "print(\"--- Current Date and Time ---\")\n",
    "print(\"Full datetime object:\", now)\n",
    "print(\"Year:\", now.year)\n",
    "print(\"Month:\", now.month)\n",
    "print(\"Day:\", now.day)\n",
    "print(\"Hour:\", now.hour)\n",
    "print(\"Minute:\", now.minute)\n",
    "print(\"Second:\", now.second)\n",
    "print(\"Microsecond:\", now.microsecond)"
   ]
  },
  {
   "cell_type": "code",
   "execution_count": null,
   "id": "03c401ac",
   "metadata": {},
   "outputs": [
    {
     "name": "stdout",
     "output_type": "stream",
     "text": [
      "--- Formatted Date and Time ---\n",
      "Long format: Wednesday, September 17, 2025\n",
      "Short format: 2025-09-17 12:26:21\n",
      "Month and Year: September 2025\n",
      "Just the time: 12:26 PM\n"
     ]
    }
   ],
   "source": [
    "import datetime\n",
    "\n",
    "now = datetime.datetime.now()\n",
    "\n",
    "print(\"--- Formatted Date and Time ---\")\n",
    "print(\"Long format:\", now.strftime(\"%A, %B %d, %Y\"))\n",
    "print(\"Short format:\", now.strftime(\"%Y-%m-%d %H:%M:%S\"))\n",
    "print(\"Month and Year:\", now.strftime(\"%B %Y\"))\n",
    "print(\"Just the time:\", now.strftime(\"%I:%M %p\")) # 12-hour clock with AM/PM"
   ]
  },
  {
   "cell_type": "code",
   "execution_count": null,
   "id": "6b0a478e",
   "metadata": {},
   "outputs": [
    {
     "name": "stdout",
     "output_type": "stream",
     "text": [
      "Starting...\n",
      "Done waiting!\n"
     ]
    }
   ],
   "source": [
    "import time\n",
    "\n",
    "print(\"Starting...\")\n",
    "time.sleep(3)  # wait for 3 seconds\n",
    "print(\"Done waiting!\")\n"
   ]
  },
  {
   "cell_type": "code",
   "execution_count": null,
   "id": "519edd9d",
   "metadata": {},
   "outputs": [
    {
     "name": "stdout",
     "output_type": "stream",
     "text": [
      "Time taken: 0.0 seconds\n"
     ]
    }
   ],
   "source": [
    "import time\n",
    "\n",
    "start = time.time()\n",
    "# some task\n",
    "for _ in range(100):\n",
    "    pass\n",
    "end = time.time()\n",
    "\n",
    "print(\"Time taken:\", end - start, \"seconds\")\n",
    "\n",
    "#used in checking how much time machine learning model is taken to execute\n",
    "\n"
   ]
  },
  {
   "cell_type": "code",
   "execution_count": null,
   "id": "c0c101cc",
   "metadata": {},
   "outputs": [
    {
     "name": "stdout",
     "output_type": "stream",
     "text": [
      "Task completed in 4.1274 seconds\n"
     ]
    }
   ],
   "source": [
    "#CPU time.........time.perf_counter() gives you a high-precision timer — great for measuring the actual runtime of code with sub-second accuracy (better than time.time() for this).\n",
    "import time\n",
    "import random\n",
    "\n",
    "def slow_task():\n",
    "    # Create a big list of random numbers and sort it\n",
    "    numbers = [random.randint(1, 1000000) for _ in range(1000000)]\n",
    "    numbers.sort()\n",
    "\n",
    "# Start timer\n",
    "start = time.perf_counter()\n",
    "\n",
    "# Run the task\n",
    "slow_task()\n",
    "\n",
    "# End timer\n",
    "end = time.perf_counter()\n",
    "\n",
    "# Calculate elapsed time\n",
    "elapsed = end - start\n",
    "print(f\"Task completed in {elapsed:.4f} seconds\")\n"
   ]
  },
  {
   "cell_type": "code",
   "execution_count": null,
   "id": "611a933b",
   "metadata": {},
   "outputs": [
    {
     "name": "stdout",
     "output_type": "stream",
     "text": [
      "<zip object at 0x0000013F5ABDF180>\n",
      "print zipped content in the form of list: [(1, 'chandra', 'Data Science'), (2, 'sai', 'MLOPS')]\n",
      "\n",
      "dictionaryy format of zipped content{}\n"
     ]
    }
   ],
   "source": [
    "#zip() function and enumerate() function\n",
    "list1=[1,2,3]\n",
    "list2=['chandra','sai','ML Engineer']\n",
    "list3=['Data Science','MLOPS']\n",
    "zipped_content=zip(list1,list2,list3)\n",
    "\n",
    "print(zipped_content)\n",
    "print(f\"print zipped content in the form of list: {list(zipped_content)}\")\n",
    "print(\"\")\n",
    "print(f\"dictionaryy format of zipped content{dict(zipped_content)}\")"
   ]
  },
  {
   "cell_type": "code",
   "execution_count": null,
   "id": "2fc33f2a",
   "metadata": {},
   "outputs": [
    {
     "name": "stdout",
     "output_type": "stream",
     "text": [
      "<zip object at 0x0000013F5ABC7180>\n",
      "print zipped content in the form of list: [(1, 'chandra', 'Data Science'), (2, 'sai', 'MLOPS')]\n",
      "\n",
      "dictionaryy format of zipped content{1: 'chandra', 2: 'sai', 3: 'ML Engineer'}\n"
     ]
    }
   ],
   "source": [
    "#zipped content for dictionary type cast of data type ....empty{}\n",
    "#change the above code and try to print dict type data\n",
    "#zip() function and enumerate() function\n",
    "list1=[1,2,3]\n",
    "list2=['chandra','sai','ML Engineer']\n",
    "list3=['Data Science','MLOPS']\n",
    "zipped_content=zip(list1,list2,list3)\n",
    "\n",
    "print(zipped_content)\n",
    "print(f\"print zipped content in the form of list: {list(zipped_content)}\")\n",
    "print(\"\")\n",
    "list11=[1,2,3]\n",
    "list22=['chandra','sai','ML Engineer']\n",
    "#list33=['Data Science','MLOPS','']\n",
    "zipped_content1=zip(list11,list22)\n",
    "print(f\"dictionaryy format of zipped content{dict(zipped_content1)}\")"
   ]
  },
  {
   "cell_type": "code",
   "execution_count": null,
   "id": "b6d1debc",
   "metadata": {},
   "outputs": [
    {
     "data": {
      "text/plain": [
       "{1, 2, 3, 4}"
      ]
     },
     "execution_count": 60,
     "metadata": {},
     "output_type": "execute_result"
    }
   ],
   "source": [
    "#set\n",
    "l=[1,2,3,4]\n",
    "list5=set(l)\n",
    "list5"
   ]
  },
  {
   "cell_type": "code",
   "execution_count": null,
   "id": "24eee153",
   "metadata": {},
   "outputs": [
    {
     "data": {
      "text/plain": [
       "{'chandra', 'list content'}"
      ]
     },
     "execution_count": 61,
     "metadata": {},
     "output_type": "execute_result"
    }
   ],
   "source": [
    "#set\n",
    "example=['chandra','list content']\n",
    "set_content=set(example)\n",
    "set_content"
   ]
  },
  {
   "cell_type": "code",
   "execution_count": null,
   "id": "2d2190a4",
   "metadata": {},
   "outputs": [
    {
     "data": {
      "text/plain": [
       "({'chandra'}, {1})"
      ]
     },
     "execution_count": 64,
     "metadata": {},
     "output_type": "execute_result"
    }
   ],
   "source": [
    "#set example it stores unique values \n",
    "example=('chandra', 'chandra','chandra')\n",
    "set_example=set(example)\n",
    "list_ex=[1,1,1,1,1,1,1,1,1,1,1,1,]\n",
    "set_li=set(list_ex)\n",
    "set_example,set_li"
   ]
  },
  {
   "cell_type": "code",
   "execution_count": null,
   "id": "5589ca9a",
   "metadata": {},
   "outputs": [
    {
     "data": {
      "text/plain": [
       "{1, 2, 3, 5, 6, 7, 8, 9, 10}"
      ]
     },
     "execution_count": 66,
     "metadata": {},
     "output_type": "execute_result"
    }
   ],
   "source": [
    "#set example\n",
    "s1={10,9,8,7,6,5,3,2,1}\n",
    "\n",
    "#display the data in sorted ascending order\n",
    "s1"
   ]
  },
  {
   "cell_type": "code",
   "execution_count": null,
   "id": "3eabe69e",
   "metadata": {},
   "outputs": [
    {
     "data": {
      "text/plain": [
       "{1, 2, 3, 7, 9, 10, 343}"
      ]
     },
     "execution_count": 67,
     "metadata": {},
     "output_type": "execute_result"
    }
   ],
   "source": [
    "#add value to the set\n",
    "s12={10,9,7,3,2,1}\n",
    "s12.add(343)\n",
    "\n",
    "s12"
   ]
  },
  {
   "cell_type": "code",
   "execution_count": null,
   "id": "f3e623aa",
   "metadata": {},
   "outputs": [
    {
     "name": "stdout",
     "output_type": "stream",
     "text": [
      "my class\n"
     ]
    }
   ],
   "source": [
    "class Myclass:\n",
    "    \n",
    "    def basic(self):\n",
    "        print(\"my class\")\n",
    "\n",
    "c=Myclass()\n",
    "\n",
    "c.basic()"
   ]
  },
  {
   "cell_type": "code",
   "execution_count": null,
   "id": "4b0e996d",
   "metadata": {},
   "outputs": [
    {
     "name": "stdout",
     "output_type": "stream",
     "text": [
      "10\n"
     ]
    }
   ],
   "source": [
    "#closure \n",
    "\n",
    "def outer():\n",
    "    x=10\n",
    "    def inner():\n",
    "        print(x)\n",
    "\n",
    "    return inner\n",
    "\n",
    "closure=outer()\n",
    "\n",
    "#function calling\n",
    "closure()"
   ]
  },
  {
   "cell_type": "code",
   "execution_count": null,
   "id": "a0fb8df3",
   "metadata": {},
   "outputs": [
    {
     "name": "stdout",
     "output_type": "stream",
     "text": [
      "Counter 1: 1\n",
      "Counter 1: 2\n",
      "Counter 2: 1\n"
     ]
    }
   ],
   "source": [
    "#closure\n",
    "\n",
    "def create_counter():\n",
    "    count = 0\n",
    "    def increment():\n",
    "        nonlocal count  # The nonlocal keyword is needed to modify the variable\n",
    "        count += 1\n",
    "        return count\n",
    "    return increment\n",
    "\n",
    "counter1 = create_counter()\n",
    "print(f\"Counter 1: {counter1()}\") # 1\n",
    "print(f\"Counter 1: {counter1()}\") # 2\n",
    "\n",
    "counter2 = create_counter()\n",
    "print(f\"Counter 2: {counter2()}\") # 1"
   ]
  },
  {
   "cell_type": "code",
   "execution_count": null,
   "id": "f6601a1b",
   "metadata": {},
   "outputs": [
    {
     "name": "stdout",
     "output_type": "stream",
     "text": [
      "before the function\n",
      "Weather information\n",
      "after function \n"
     ]
    }
   ],
   "source": [
    "#decorators\n",
    "# a decorator is a closure that takes a function as an argument and returns a new function.\n",
    "\n",
    "def my_decorator(function):\n",
    "    def wrapper():\n",
    "        print(\"before the function\")\n",
    "        function()\n",
    "        print(\"after function \")\n",
    "    return wrapper\n",
    "\n",
    "\n",
    "@my_decorator\n",
    "def weather_api():\n",
    "    print(\"Weather information\")\n",
    "\n",
    "\n",
    "#function calling\n",
    "weather_api()\n",
    "\n"
   ]
  },
  {
   "cell_type": "code",
   "execution_count": null,
   "id": "78fcb027",
   "metadata": {},
   "outputs": [
    {
     "name": "stdout",
     "output_type": "stream",
     "text": [
      "[0, 1, 2, 3, 4, 5, 6, 7, 8, 9, 10]\n"
     ]
    }
   ],
   "source": [
    "# List comprehension\n",
    "# copy the numbers from range of 0 to 10 within new list\n",
    "\n",
    "\n",
    "number_2=[number for number in range(0,11)]\n",
    "print(number_2)\n",
    "\n",
    "## actually what this list comprehension does\n",
    "#number_2=[]\n",
    "# for i in range(0,11)\n",
    "#     number_2.append(i)\n",
    "#print(number_2)"
   ]
  },
  {
   "cell_type": "code",
   "execution_count": null,
   "id": "409ce63d",
   "metadata": {},
   "outputs": [
    {
     "name": "stdout",
     "output_type": "stream",
     "text": [
      "[2, 4, 6, 8, 10]\n"
     ]
    }
   ],
   "source": [
    "# use \"List Comprehension\"\n",
    "# copy even numbers from the range of 1 to 10\n",
    "\n",
    "numbers=[number for number in range(1,11) if number%2==0]\n",
    "print(numbers)"
   ]
  },
  {
   "cell_type": "code",
   "execution_count": null,
   "id": "9279099b",
   "metadata": {},
   "outputs": [
    {
     "name": "stdout",
     "output_type": "stream",
     "text": [
      "[1, 3, 5, 7, 9]\n"
     ]
    }
   ],
   "source": [
    "# use \"List Comprehension\"\n",
    "#copy the odd numbers from the range of 1 to 10\n",
    "\n",
    "numbers=[number for number in range(1,11) if number % 2!=0]\n",
    "print(numbers)"
   ]
  },
  {
   "cell_type": "code",
   "execution_count": null,
   "id": "7de2c2f1",
   "metadata": {},
   "outputs": [
    {
     "name": "stdout",
     "output_type": "stream",
     "text": [
      "[1, 4, 9, 16, 25, 36, 49, 64, 81, 100]\n"
     ]
    }
   ],
   "source": [
    "# use \"List Comprehension\"\n",
    "# print the square of the numbers from range 1 to 10\n",
    "numbers=[number**2 for number in range(1,11)]\n",
    "print(numbers)"
   ]
  },
  {
   "cell_type": "code",
   "execution_count": null,
   "id": "1d8e005e",
   "metadata": {},
   "outputs": [
    {
     "name": "stdout",
     "output_type": "stream",
     "text": [
      "['odd', 'even', 'odd', 'even', 'odd', 'even', 'odd', 'even', 'odd', 'even']\n"
     ]
    }
   ],
   "source": [
    "# List Comprehension\n",
    "# using if and else block\n",
    "# print even or odd from the range of 1 to 10\n",
    "\n",
    "numbers=[\"even\" if number%2==0 else \"odd\" for number in range(1,11) ]\n",
    "print(numbers)"
   ]
  },
  {
   "cell_type": "code",
   "execution_count": null,
   "id": "01d313d4",
   "metadata": {},
   "outputs": [
    {
     "name": "stdout",
     "output_type": "stream",
     "text": [
      "[1, 4, 9, 16, 25, 36, 49, 64, 81, 100]\n"
     ]
    }
   ],
   "source": [
    "# List Comprehension\n",
    "# using function() within list comprehension\n",
    "\n",
    "def square(number):\n",
    "    return number**2\n",
    "\n",
    "numbers=[square(number) for number in range(1,11)]\n",
    "print(numbers)"
   ]
  },
  {
   "cell_type": "code",
   "execution_count": null,
   "id": "ad1e712d",
   "metadata": {},
   "outputs": [
    {
     "name": "stdout",
     "output_type": "stream",
     "text": [
      "['HELLO', 'CHANDRA']\n"
     ]
    }
   ],
   "source": [
    "# string operations within List Comprehension\n",
    "\n",
    "content=[\"hello\",\"chandra\"]\n",
    "\n",
    "output=[sample.upper() for sample in content]\n",
    "print(output)"
   ]
  },
  {
   "cell_type": "code",
   "execution_count": null,
   "id": "826bd589",
   "metadata": {},
   "outputs": [
    {
     "name": "stdout",
     "output_type": "stream",
     "text": [
      "['Chandra: 85', 'Sai: 90']\n"
     ]
    }
   ],
   "source": [
    "# zip() function using \"List Comprehension\"\n",
    "\n",
    "names=[\"Chandra\",\"Sai\"]\n",
    "scores=[85, 90]\n",
    "\n",
    "combined=[f\"{n}: {s}\" for n,s in zip(names,scores)]\n",
    "print(combined)"
   ]
  },
  {
   "cell_type": "code",
   "execution_count": null,
   "id": "514a1e7d",
   "metadata": {},
   "outputs": [
    {
     "name": "stdout",
     "output_type": "stream",
     "text": [
      "[(0, 'a'), (1, 'b'), (2, 'c')]\n"
     ]
    }
   ],
   "source": [
    "# enumerate() function within \"List Comprehension\"\n",
    "\n",
    "data=[\"a\",\"b\",\"c\"]\n",
    "indexed=[(i,val) for i,val in enumerate(data)]\n",
    "print(indexed)"
   ]
  },
  {
   "cell_type": "code",
   "execution_count": null,
   "id": "a8565c1f",
   "metadata": {},
   "outputs": [
    {
     "name": "stdout",
     "output_type": "stream",
     "text": [
      "Some Error\n"
     ]
    }
   ],
   "source": [
    "# try except\n",
    "\n",
    "try:\n",
    "    1/0\n",
    "except:\n",
    "    print(\"Some Error\")    "
   ]
  },
  {
   "cell_type": "code",
   "execution_count": null,
   "id": "64158465",
   "metadata": {},
   "outputs": [
    {
     "name": "stdout",
     "output_type": "stream",
     "text": [
      "division by zero\n"
     ]
    }
   ],
   "source": [
    "# print the exception\n",
    "try:\n",
    "    1/0\n",
    "except Exception as e:\n",
    "    print(e)    "
   ]
  },
  {
   "cell_type": "code",
   "execution_count": null,
   "id": "0511123e",
   "metadata": {},
   "outputs": [
    {
     "name": "stdout",
     "output_type": "stream",
     "text": [
      "division by zero\n"
     ]
    }
   ],
   "source": [
    "try:\n",
    "    1/0\n",
    "except ZeroDivisionError as e:\n",
    "    print(e)    "
   ]
  },
  {
   "cell_type": "code",
   "execution_count": null,
   "id": "291d8ce4",
   "metadata": {},
   "outputs": [
    {
     "name": "stdout",
     "output_type": "stream",
     "text": [
      "invalid literal for int() with base 10: '\"chandra\"'\n"
     ]
    }
   ],
   "source": [
    "try:\n",
    "    num=int(input(\"Enter number\"))\n",
    "except Exception as e:\n",
    "    print(e)"
   ]
  },
  {
   "cell_type": "code",
   "execution_count": null,
   "id": "73b9c62f",
   "metadata": {},
   "outputs": [
    {
     "name": "stdout",
     "output_type": "stream",
     "text": [
      "invalid literal for int() with base 10: '\"chandra\"'\n"
     ]
    }
   ],
   "source": [
    "try:\n",
    "    num=int(input(\"Enter number\"))\n",
    "except ValueError as e:\n",
    "    print(e)    "
   ]
  },
  {
   "cell_type": "code",
   "execution_count": null,
   "id": "a557afa8",
   "metadata": {},
   "outputs": [
    {
     "name": "stdout",
     "output_type": "stream",
     "text": [
      "Oops! That's not a valid number.\n",
      "This always runs, no matter what.\n"
     ]
    }
   ],
   "source": [
    "# try and except and finaly\n",
    "\n",
    "try:\n",
    "    num = int(input(\"Enter a number: \"))\n",
    "    print(f\"You entered: {num}\")\n",
    "except ValueError:\n",
    "    print(\"Oops! That's not a valid number.\")\n",
    "finally:\n",
    "    print(\"This always runs, no matter what.\")\n"
   ]
  }
 ],
 "metadata": {
  "kernelspec": {
   "display_name": "Python 3",
   "language": "python",
   "name": "python3"
  },
  "language_info": {
   "codemirror_mode": {
    "name": "ipython",
    "version": 3
   },
   "file_extension": ".py",
   "mimetype": "text/x-python",
   "name": "python",
   "nbconvert_exporter": "python",
   "pygments_lexer": "ipython3",
   "version": "3.11.7"
  }
 },
 "nbformat": 4,
 "nbformat_minor": 5
}
