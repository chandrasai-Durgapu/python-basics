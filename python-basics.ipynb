{
 "cells": [
  {
   "cell_type": "markdown",
   "id": "659198b8",
   "metadata": {},
   "source": [
    "# Python for Beginners\n",
    "\n",
    "## 1. What is Python?\n",
    "\n",
    "Python is an interpreted, high-level, general-purpose programming language.\n",
    "\n",
    "- **Interpreted:** You write code and it runs immediately via an interpreter, without a separate compile step.\n",
    "- **High-level:** It abstracts away computer details like memory management so you can focus on logic.\n",
    "- **General-purpose:** You can use it for many things: web development, automation, data analysis, AI, and more.\n",
    "\n",
    "Python is dynamically typed (no need to declare variable types) and has built-in memory management (garbage collection).\n",
    "\n",
    "Python’s syntax emphasizes readability and simplicity, making it beginner-friendly.\n"
   ]
  },
  {
   "cell_type": "markdown",
   "id": "d00bdef1",
   "metadata": {},
   "source": [
    "## History and Why Use Python\n",
    "\n",
    "- Created by Guido van Rossum in the late 1980s, first released in 1991.\n",
    "- Popular due to simplicity, a large standard library, extensive ecosystem, and versatility.\n",
    "- Great for beginners: less boilerplate code, quick feedback loop.\n",
    "  \n",
    "### What can you do with Python?\n",
    "- Automate tasks (file operations, web scraping)\n",
    "- Build websites (Django, Flask)\n",
    "- Data analysis and visualization (pandas, NumPy, matplotlib)\n",
    "- Scientific computing, machine learning\n",
    "- Scripting, command-line tools, and more\n",
    "\n",
    "### Summary:\n",
    "Python is a friendly, versatile programming language that you can quickly start experimenting with.\n"
   ]
  },
  {
   "cell_type": "markdown",
   "id": "591bb41e",
   "metadata": {},
   "source": [
    "## 2. How to Install Python & Set Up Environment\n",
    "\n",
    "### Step 1: Download\n",
    "\n",
    "- Go to [python.org](https://python.org)\n",
    "- Select your OS under Downloads (Windows, macOS, Linux)\n",
    "\n",
    "### Step 2: Install\n",
    "\n",
    "- **Windows:** Run the `.exe` installer. **Important:** Check “Add Python to PATH”.\n",
    "- **macOS:** Use the `.pkg` installer or install via Homebrew (`brew install python3`).\n",
    "- **Linux:** Often pre-installed. Use your package manager, e.g., `sudo apt install python3` (Ubuntu).\n",
    "\n",
    "### Step 3: Verify Installation\n",
    "\n",
    "Open a terminal or command prompt and run:\n",
    "\n",
    "```bash\n",
    "python --version\n",
    "# or\n",
    "python3 --version\n"
   ]
  },
  {
   "cell_type": "markdown",
   "id": "cd9eec11",
   "metadata": {},
   "source": [
    "\n",
    "\n",
    "## Cell 3: Setting Up a Code Editor or IDE (Markdown)\n",
    "\n",
    "\n",
    "## Step 3: Choose an Editor or IDE\n",
    "\n",
    "For beginners, good options are:\n",
    "\n",
    "- **Visual Studio Code** with the Python extension (free, lightweight)\n",
    "- **Jupyter Notebook / JupyterLab** (great for interactive coding)\n",
    "- **PyCharm** (professional IDE with many features, has a free Community edition)\n",
    "\n",
    "### Installing VS Code\n",
    "\n",
    "- Download from [code.visualstudio.com](https://code.visualstudio.com)\n",
    "- Install Python extension (search for “Python” in Extensions pane)\n",
    "\n",
    "### Installing PyCharm\n",
    "\n",
    "- Download Community Edition from [jetbrains.com/pycharm](https://www.jetbrains.com/pycharm/download/)\n",
    "- Follow installation instructions\n",
    "\n",
    "These editors give you helpful features like syntax highlighting, debugging, and code completion.\n"
   ]
  },
  {
   "cell_type": "markdown",
   "id": "649e2e7c",
   "metadata": {},
   "source": [
    "## Step 4 (Optional): Use a Virtual Environment\n",
    "\n",
    "A virtual environment keeps your Python project dependencies isolated.\n",
    "\n",
    "Open a terminal and run:\n",
    "\n",
    "```bash\n",
    "python -m venv myenv\n",
    "```"
   ]
  },
  {
   "cell_type": "markdown",
   "id": "ec14b58d",
   "metadata": {},
   "source": [
    "## Activate the virtual environment\n",
    "\n",
    "## On macOS/Linux:\n",
    "open the terminal and run\n",
    "\n",
    "```bash\n",
    "source myenv/bin/activate\n",
    "```\n",
    "\n",
    "## On Windows (Command Prompt):\n",
    "open the terminal and run\n",
    "\n",
    "```bash\n",
    "myenv\\Scripts\\activate\n",
    "```\n",
    "\n",
    "## On Windows (PowerShell):\n",
    "open the powershell and run\n",
    "\n",
    "```bash\n",
    "myenv\\Scripts\\Activate.ps1\n",
    "```"
   ]
  },
  {
   "cell_type": "markdown",
   "id": "fb76da64",
   "metadata": {},
   "source": [
    "\n",
    "---\n",
    "\n",
    "## Cell 5: Installing and Using Jupyter Notebook (Markdown + Bash)\n",
    "\n",
    "\n",
    "## Step 5: Install Jupyter Notebook\n",
    "\n",
    "To work interactively or run notebooks from GitHub:\n",
    "\n",
    "```bash\n",
    "pip install notebook\n",
    "jupyter notebook\n"
   ]
  },
  {
   "cell_type": "markdown",
   "id": "c89297a6",
   "metadata": {},
   "source": [
    "---------------------\n",
    "#### Code Explanation:--\n",
    "---------------------"
   ]
  },
  {
   "cell_type": "markdown",
   "id": "a7b1d213",
   "metadata": {},
   "source": [
    "Printing / output: Use print(...) to show text or data on the screen.\n",
    "\n",
    "Comments: Lines beginning with # are comments (ignored by interpreter) → used for explanation."
   ]
  },
  {
   "cell_type": "code",
   "execution_count": 46,
   "id": "61f914bf",
   "metadata": {},
   "outputs": [
    {
     "name": "stdout",
     "output_type": "stream",
     "text": [
      "hello world\n"
     ]
    }
   ],
   "source": [
    "print(\"hello world\")"
   ]
  },
  {
   "cell_type": "markdown",
   "id": "cfa358c5",
   "metadata": {},
   "source": [
    "#### Code Explanation:\n",
    "---\n",
    "Basic arithmetic / expressions: e.g., 2 + 3, 10 * (5‑2), etc.\n",
    "\n",
    "You’ll see that Python evaluates expressions and you get results immediately."
   ]
  },
  {
   "cell_type": "code",
   "execution_count": 47,
   "id": "21d55ce3",
   "metadata": {},
   "outputs": [
    {
     "name": "stdout",
     "output_type": "stream",
     "text": [
      "10\n"
     ]
    }
   ],
   "source": [
    "print(3+7)"
   ]
  },
  {
   "cell_type": "code",
   "execution_count": 48,
   "id": "6da82961",
   "metadata": {},
   "outputs": [
    {
     "data": {
      "text/plain": [
       "13"
      ]
     },
     "execution_count": 48,
     "metadata": {},
     "output_type": "execute_result"
    }
   ],
   "source": [
    "4+9"
   ]
  },
  {
   "cell_type": "markdown",
   "id": "2d7b8303",
   "metadata": {},
   "source": [
    "## Variables and Data Types\n"
   ]
  },
  {
   "cell_type": "markdown",
   "id": "1c7cbf93",
   "metadata": {},
   "source": [
    "### Variables – what are they?\n"
   ]
  },
  {
   "cell_type": "markdown",
   "id": "62edab66",
   "metadata": {},
   "source": [
    "#### Code Explanation:\n",
    "---\n",
    "variable = 80 - 2:\n",
    "This assigns the result of the expression 80 - 2 (which is 78) to a variable named variable.\n",
    "\n",
    "variable is the name.\n",
    "\n",
    "= is the assignment operator.\n",
    "\n",
    "80 - 2 is an arithmetic expression (subtraction).\n",
    "\n",
    "variable:\n",
    "This line prints the current value stored in variable, which is 78. In Jupyter Notebook, writing the variable name alone on a line displays its value."
   ]
  },
  {
   "cell_type": "code",
   "execution_count": 49,
   "id": "85a5b8ae",
   "metadata": {},
   "outputs": [
    {
     "data": {
      "text/plain": [
       "78"
      ]
     },
     "execution_count": 49,
     "metadata": {},
     "output_type": "execute_result"
    }
   ],
   "source": [
    "variable = 80-2\n",
    "variable"
   ]
  },
  {
   "cell_type": "markdown",
   "id": "4d247998",
   "metadata": {},
   "source": [
    "#### Code Explanation:\n",
    "---\n",
    "type() is a built-in Python function that tells you what kind of data (or data type) a value or variable holds.\n",
    "\n",
    "In this case, variable contains the result of 80 - 2, which is 78.\n",
    "\n",
    "Since 78 is a whole number, type(variable) will return <class 'int'>.\n",
    "\n",
    "🧠 Takeaway: Use type() to understand the type of value you're working with—important for debugging and learning."
   ]
  },
  {
   "cell_type": "code",
   "execution_count": 50,
   "id": "4718a7b1",
   "metadata": {},
   "outputs": [
    {
     "data": {
      "text/plain": [
       "int"
      ]
     },
     "execution_count": 50,
     "metadata": {},
     "output_type": "execute_result"
    }
   ],
   "source": [
    "type(variable)"
   ]
  },
  {
   "cell_type": "markdown",
   "id": "a9defa79",
   "metadata": {},
   "source": [
    "#### Code Explanation:\n",
    "---\n",
    "Multiple Assignment: This line assigns three values to three variables in a single line:\n",
    "\n",
    "a = 1\n",
    "\n",
    "b = 2\n",
    "\n",
    "c = 3\n",
    "\n",
    "This is called tuple unpacking (even without parentheses). Python assigns each value on the right to the corresponding variable on the left.\n",
    "\n",
    "The second line (a, b, c) returns a tuple: (1, 2, 3) when run in a Jupyter Notebook."
   ]
  },
  {
   "cell_type": "code",
   "execution_count": 51,
   "id": "683be560",
   "metadata": {},
   "outputs": [
    {
     "data": {
      "text/plain": [
       "(1, 2, 3)"
      ]
     },
     "execution_count": 51,
     "metadata": {},
     "output_type": "execute_result"
    }
   ],
   "source": [
    "a,b,c = 1,2,3\n",
    "a,b,c"
   ]
  },
  {
   "cell_type": "markdown",
   "id": "87f01440",
   "metadata": {},
   "source": [
    "#### Code Explanation:\n",
    "---\n",
    "import keyword:\n",
    "This imports Python's built-in keyword module, which helps you work with reserved words in the language.\n",
    "\n",
    "keyword.kwlist:\n",
    "This returns a list of all keywords in Python — words like if, else, for, while, def, class, etc., that cannot be used as variable names."
   ]
  },
  {
   "cell_type": "code",
   "execution_count": 52,
   "id": "22b51827",
   "metadata": {},
   "outputs": [
    {
     "name": "stdout",
     "output_type": "stream",
     "text": [
      "['False', 'None', 'True', 'and', 'as', 'assert', 'async', 'await', 'break', 'class', 'continue', 'def', 'del', 'elif', 'else', 'except', 'finally', 'for', 'from', 'global', 'if', 'import', 'in', 'is', 'lambda', 'nonlocal', 'not', 'or', 'pass', 'raise', 'return', 'try', 'while', 'with', 'yield']\n"
     ]
    }
   ],
   "source": [
    "import keyword\n",
    "print(keyword.kwlist)"
   ]
  },
  {
   "cell_type": "markdown",
   "id": "d42d651f",
   "metadata": {},
   "source": [
    "#### Code Explanation:\n",
    "---\n",
    "keyword.kwlist returns a list of all Python keywords.\n",
    "\n",
    "len() is a built-in function that returns the number of items in a list.\n",
    "\n",
    "So, len(keyword.kwlist) tells you how many keywords exist in your current version of Python.\n",
    "\n",
    "🧠 Example output (as of Python 3.10+): It will return something like 36, but this number may change with Python versions."
   ]
  },
  {
   "cell_type": "code",
   "execution_count": 53,
   "id": "20e8e2e3",
   "metadata": {},
   "outputs": [
    {
     "data": {
      "text/plain": [
       "35"
      ]
     },
     "execution_count": 53,
     "metadata": {},
     "output_type": "execute_result"
    }
   ],
   "source": [
    "len(keyword.kwlist)"
   ]
  },
  {
   "cell_type": "markdown",
   "id": "a3a717cd",
   "metadata": {},
   "source": [
    "#### Code Explanation:\n",
    "---\n",
    "This line creates a variable named var_ and assigns the value 6 to it.\n",
    "\n",
    "Variable names can include letters, numbers, and underscores (_), but cannot start with a number.\n",
    "\n",
    "Here, var_ is a valid variable name because it starts with a letter and ends with an underscore.\n",
    "\n",
    "The value 6 is an integer.\n",
    "\n",
    "✅ Tip: Use meaningful variable names to make your code easier to understand."
   ]
  },
  {
   "cell_type": "code",
   "execution_count": 54,
   "id": "b692f90d",
   "metadata": {},
   "outputs": [],
   "source": [
    "var_=6"
   ]
  },
  {
   "cell_type": "markdown",
   "id": "0c501721",
   "metadata": {},
   "source": [
    "#### Code Explanation:\n",
    "---\n",
    "This creates a variable named _var and assigns the value 6 to it.\n",
    "\n",
    "Variable names in Python can start with an underscore (_), which is perfectly valid.\n",
    "\n",
    "Starting a variable with _ is sometimes used to indicate it's intended for internal use or \"private\" (by convention, not enforced by Python).\n",
    "\n",
    "The value 6 is an integer (int).\n",
    "\n",
    "✅ So _var is a valid variable name, just like var_ or var1."
   ]
  },
  {
   "cell_type": "code",
   "execution_count": 55,
   "id": "b876b094",
   "metadata": {},
   "outputs": [],
   "source": [
    "_var=6"
   ]
  },
  {
   "cell_type": "markdown",
   "id": "3ccc5b2b",
   "metadata": {},
   "source": [
    "#### Code Explanation:\n",
    "---\n",
    "z = 8\n",
    "Assigns the integer value 8 to the variable z.\n",
    "\n",
    "Z = z\n",
    "Assigns the value stored in z (which is 8) to a new variable Z.\n",
    "Note: Variable names are case-sensitive in Python, so z and Z are two different variables.\n",
    "\n",
    "print(Z)\n",
    "Displays the value of Z in the output, which is 8."
   ]
  },
  {
   "cell_type": "code",
   "execution_count": 56,
   "id": "b8e8835c",
   "metadata": {},
   "outputs": [
    {
     "name": "stdout",
     "output_type": "stream",
     "text": [
      "8\n"
     ]
    }
   ],
   "source": [
    "z=8\n",
    "Z=z\n",
    "print(Z)"
   ]
  },
  {
   "cell_type": "markdown",
   "id": "f72e600d",
   "metadata": {},
   "source": [
    "#### Code Explanation:\n",
    "---\n",
    "key = \"string content\"\n",
    "This assigns the string \"string content\" to the variable named key.\n",
    "\n",
    "A string is a sequence of characters enclosed in quotes (single '...' or double \"...\" quotes).\n",
    "\n",
    "key (on its own line) in a Jupyter Notebook outputs the current value of the variable, which is the string \"string content\"."
   ]
  },
  {
   "cell_type": "code",
   "execution_count": 57,
   "id": "f8c30d89",
   "metadata": {},
   "outputs": [
    {
     "data": {
      "text/plain": [
       "'string content'"
      ]
     },
     "execution_count": 57,
     "metadata": {},
     "output_type": "execute_result"
    }
   ],
   "source": [
    "key=\"string content\"\n",
    "key"
   ]
  },
  {
   "cell_type": "markdown",
   "id": "1c3f7545",
   "metadata": {},
   "source": [
    "### Numeric types (int, float, complex)\n"
   ]
  },
  {
   "cell_type": "markdown",
   "id": "32436d49",
   "metadata": {},
   "source": [
    "### Python Numeric Types\n",
    "\n",
    "Python has three main numeric types:\n",
    "\n",
    "- `int`: Integer numbers (whole numbers without decimal points)\n",
    "- `float`: Floating-point numbers (numbers with decimal points)\n",
    "- `complex`: Complex numbers (numbers with real and imaginary parts)\n",
    "\n",
    "These types are built-in and allow you to work with different kinds of numbers.\n"
   ]
  },
  {
   "cell_type": "markdown",
   "id": "92624f1a",
   "metadata": {},
   "source": [
    "#### Integer (`int`) Examples\n",
    "\n",
    "Integers are whole numbers, positive or negative, without any decimal part.\n"
   ]
  },
  {
   "cell_type": "code",
   "execution_count": 91,
   "id": "4eab0b2e",
   "metadata": {},
   "outputs": [
    {
     "name": "stdout",
     "output_type": "stream",
     "text": [
      "10 <class 'int'>\n",
      "-5 <class 'int'>\n",
      "0 <class 'int'>\n"
     ]
    }
   ],
   "source": [
    "a = 10\n",
    "b = -5\n",
    "c = 0\n",
    "\n",
    "print(a, type(a))  # 10 <class 'int'>\n",
    "print(b, type(b))  # -5 <class 'int'>\n",
    "print(c, type(c))  # 0 <class 'int'>\n"
   ]
  },
  {
   "cell_type": "markdown",
   "id": "af5d8e65",
   "metadata": {},
   "source": [
    "### Float (`float`) Examples\n",
    "\n",
    "Floats are numbers with decimal points.\n"
   ]
  },
  {
   "cell_type": "code",
   "execution_count": 92,
   "id": "180efc3a",
   "metadata": {},
   "outputs": [
    {
     "name": "stdout",
     "output_type": "stream",
     "text": [
      "3.14 <class 'float'>\n",
      "-0.001 <class 'float'>\n",
      "2.0 <class 'float'>\n"
     ]
    }
   ],
   "source": [
    "x = 3.14\n",
    "y = -0.001\n",
    "z = 2.0\n",
    "\n",
    "print(x, type(x))  # 3.14 <class 'float'>\n",
    "print(y, type(y))  # -0.001 <class 'float'>\n",
    "print(z, type(z))  # 2.0 <class 'float'>\n"
   ]
  },
  {
   "cell_type": "markdown",
   "id": "c0997ade",
   "metadata": {},
   "source": [
    "### Complex (`complex`) Examples\n",
    "\n",
    "Complex numbers have a real part and an imaginary part, written with a `j` suffix for the imaginary part.\n"
   ]
  },
  {
   "cell_type": "code",
   "execution_count": 93,
   "id": "38c91ab8",
   "metadata": {},
   "outputs": [
    {
     "name": "stdout",
     "output_type": "stream",
     "text": [
      "(3+4j) <class 'complex'>\n",
      "Real part: 3.0\n",
      "Imaginary part: 4.0\n",
      "(2-1j) <class 'complex'>\n",
      "Real part: 2.0\n",
      "Imaginary part: -1.0\n"
     ]
    }
   ],
   "source": [
    "m = 3 + 4j\n",
    "n = 2 - 1j\n",
    "\n",
    "print(m, type(m))  # (3+4j) <class 'complex'>\n",
    "print(\"Real part:\", m.real)    # 3.0\n",
    "print(\"Imaginary part:\", m.imag)  # 4.0\n",
    "\n",
    "print(n, type(n))  # (2-1j) <class 'complex'>\n",
    "print(\"Real part:\", n.real)    # 2.0\n",
    "print(\"Imaginary part:\", n.imag)  # -1.0\n"
   ]
  },
  {
   "cell_type": "markdown",
   "id": "d2378a3d",
   "metadata": {},
   "source": [
    "#### Code Explanation:\n",
    "---\n",
    "The type() function tells you the data type of the value stored in a variable.\n",
    "\n",
    "Since key holds \"string content\", which is text enclosed in quotes, type(key) will return <class 'str'>.\n",
    "\n",
    "<class 'str'> means the variable is a string."
   ]
  },
  {
   "cell_type": "code",
   "execution_count": 58,
   "id": "fa116779",
   "metadata": {},
   "outputs": [
    {
     "data": {
      "text/plain": [
       "str"
      ]
     },
     "execution_count": 58,
     "metadata": {},
     "output_type": "execute_result"
    }
   ],
   "source": [
    "type(key)"
   ]
  },
  {
   "cell_type": "markdown",
   "id": "1d66d359",
   "metadata": {},
   "source": [
    "#### Code Explanation:\n",
    "---\n",
    "This is a simple division operation in Python.\n",
    "\n",
    "The / operator divides the number on the left (20) by the number on the right (4).\n",
    "\n",
    "The result is 5.0 — note that Python returns a floating-point number (decimal) even if the division is exact."
   ]
  },
  {
   "cell_type": "code",
   "execution_count": 59,
   "id": "8e4ec3dd",
   "metadata": {},
   "outputs": [
    {
     "data": {
      "text/plain": [
       "5.0"
      ]
     },
     "execution_count": 59,
     "metadata": {},
     "output_type": "execute_result"
    }
   ],
   "source": [
    "20/4"
   ]
  },
  {
   "cell_type": "markdown",
   "id": "75e9afd9",
   "metadata": {},
   "source": [
    "#### Code Explanation:\n",
    "---\n",
    "This divides 100 by 6 using the / operator.\n",
    "\n",
    "Since the division doesn’t result in a whole number, Python returns a floating-point number (a decimal).\n",
    "\n",
    "The output will be approximately 16.666666666666668."
   ]
  },
  {
   "cell_type": "code",
   "execution_count": 60,
   "id": "d75dc8a5",
   "metadata": {},
   "outputs": [
    {
     "data": {
      "text/plain": [
       "16.666666666666668"
      ]
     },
     "execution_count": 60,
     "metadata": {},
     "output_type": "execute_result"
    }
   ],
   "source": [
    "100/6"
   ]
  },
  {
   "cell_type": "code",
   "execution_count": 61,
   "id": "8f8f8d96",
   "metadata": {},
   "outputs": [
    {
     "data": {
      "text/plain": [
       "16"
      ]
     },
     "execution_count": 61,
     "metadata": {},
     "output_type": "execute_result"
    }
   ],
   "source": [
    "100//6"
   ]
  },
  {
   "cell_type": "markdown",
   "id": "24e28669",
   "metadata": {},
   "source": [
    "#### Code Explanation:\n",
    "---\n",
    "This divides 20 by 2 using the / operator.\n",
    "\n",
    "The result is 10.0 — a floating-point number (decimal), even though the division is exact.\n",
    "\n",
    "Python’s division operator / always returns a float (decimal), never an integer."
   ]
  },
  {
   "cell_type": "code",
   "execution_count": 62,
   "id": "9722c1e4",
   "metadata": {},
   "outputs": [
    {
     "data": {
      "text/plain": [
       "10.0"
      ]
     },
     "execution_count": 62,
     "metadata": {},
     "output_type": "execute_result"
    }
   ],
   "source": [
    "20/2"
   ]
  },
  {
   "cell_type": "markdown",
   "id": "33dc9800",
   "metadata": {},
   "source": [
    "#### Code Explanation:\n",
    "---\n",
    "// is the floor division operator in Python.\n",
    "\n",
    "It divides the number on the left by the number on the right and then rounds down to the nearest whole number (integer).\n",
    "\n",
    "In this case, 20 // 2 divides 20 by 2, which equals exactly 10, so the result is 10 (an integer, not a float)."
   ]
  },
  {
   "cell_type": "code",
   "execution_count": 63,
   "id": "9ab94299",
   "metadata": {},
   "outputs": [
    {
     "data": {
      "text/plain": [
       "10"
      ]
     },
     "execution_count": 63,
     "metadata": {},
     "output_type": "execute_result"
    }
   ],
   "source": [
    "20//2\n",
    "\n",
    "# floor division"
   ]
  },
  {
   "cell_type": "markdown",
   "id": "f099493c",
   "metadata": {},
   "source": [
    "#### Code Explanation:\n",
    "---\n",
    "% is the modulus operator in Python.\n",
    "\n",
    "It returns the remainder after dividing the left number by the right number.\n",
    "\n",
    "In this case, 25 % 5 means: divide 25 by 5, then return the remainder.\n",
    "\n",
    "Since 25 is exactly divisible by 5, the remainder is 0."
   ]
  },
  {
   "cell_type": "code",
   "execution_count": 64,
   "id": "ee4519aa",
   "metadata": {},
   "outputs": [
    {
     "data": {
      "text/plain": [
       "0"
      ]
     },
     "execution_count": 64,
     "metadata": {},
     "output_type": "execute_result"
    }
   ],
   "source": [
    "25%5\n",
    "\n",
    "# modulus"
   ]
  },
  {
   "cell_type": "markdown",
   "id": "74d06a8c",
   "metadata": {},
   "source": [
    "#### Code Explanation:\n",
    "---\n",
    "* is the multiplication operator in Python.\n",
    "\n",
    "This multiplies the number on the left (2) by the number on the right (3).\n",
    "\n",
    "The result is 6."
   ]
  },
  {
   "cell_type": "code",
   "execution_count": 65,
   "id": "e5624470",
   "metadata": {},
   "outputs": [
    {
     "data": {
      "text/plain": [
       "6"
      ]
     },
     "execution_count": 65,
     "metadata": {},
     "output_type": "execute_result"
    }
   ],
   "source": [
    "2 * 3\n"
   ]
  },
  {
   "cell_type": "markdown",
   "id": "2c6edf14",
   "metadata": {},
   "source": [
    "#### Code Explanation:\n",
    "---\n",
    "** is the exponentiation operator in Python.\n",
    "\n",
    "It raises the number on the left (2) to the power of the number on the right (3).\n",
    "\n",
    "So, 2 ** 3 means \n",
    "\n",
    "=2×2×2=8."
   ]
  },
  {
   "cell_type": "code",
   "execution_count": 66,
   "id": "895f4df3",
   "metadata": {},
   "outputs": [
    {
     "data": {
      "text/plain": [
       "8"
      ]
     },
     "execution_count": 66,
     "metadata": {},
     "output_type": "execute_result"
    }
   ],
   "source": [
    "2 ** 3\n",
    "\n",
    "#power of 2"
   ]
  },
  {
   "cell_type": "markdown",
   "id": "19d5c0e2",
   "metadata": {},
   "source": [
    "#### Code Explanation:\n",
    "---\n",
    "a = 5: Assigns the value 5 to the variable a.\n",
    "\n",
    "a += 5: This is a shortcut for a = a + 5. It adds 5 to the current value of a and updates a.\n",
    "\n",
    "print(a): Displays the current value of a."
   ]
  },
  {
   "cell_type": "code",
   "execution_count": 67,
   "id": "19673dd9",
   "metadata": {},
   "outputs": [
    {
     "name": "stdout",
     "output_type": "stream",
     "text": [
      "10\n"
     ]
    }
   ],
   "source": [
    "a =5 \n",
    "a+= 5\n",
    "print(a)"
   ]
  },
  {
   "cell_type": "markdown",
   "id": "2133431d",
   "metadata": {},
   "source": [
    "#### Code Explanation:\n",
    "---\n",
    "a = 5: Assigns the value 5 to the variable a.\n",
    "\n",
    "a -= 2: This is shorthand for a = a - 2. It subtracts 2 from the current value of a and updates a.\n",
    "\n",
    "print(a): Prints the new value of a."
   ]
  },
  {
   "cell_type": "code",
   "execution_count": 68,
   "id": "d92830b2",
   "metadata": {},
   "outputs": [
    {
     "name": "stdout",
     "output_type": "stream",
     "text": [
      "3\n"
     ]
    }
   ],
   "source": [
    "a = 5\n",
    "a-=2\n",
    "print(a)"
   ]
  },
  {
   "cell_type": "markdown",
   "id": "283c58d8",
   "metadata": {},
   "source": [
    "#### Code Explanation:\n",
    "---\n",
    "a = 4: Assigns the value 4 to the variable a.\n",
    "\n",
    "a == 4: This is a comparison operator that checks if a is equal to 4.\n",
    "\n",
    "The == operator does NOT assign a value; it compares two values.\n",
    "\n",
    "The result of a == 4 is a Boolean value:\n",
    "\n",
    "True if a equals 4\n",
    "\n",
    "False otherwise"
   ]
  },
  {
   "cell_type": "code",
   "execution_count": 69,
   "id": "59a2a29e",
   "metadata": {},
   "outputs": [
    {
     "data": {
      "text/plain": [
       "True"
      ]
     },
     "execution_count": 69,
     "metadata": {},
     "output_type": "execute_result"
    }
   ],
   "source": [
    "a=4\n",
    "\n",
    "#comparision operator\n",
    "a==4  "
   ]
  },
  {
   "cell_type": "markdown",
   "id": "dca6b84b",
   "metadata": {},
   "source": [
    "#### Code Explanation:\n",
    "---\n",
    "a = 5: Assigns the value 5 to variable a.\n",
    "\n",
    "a += 5: Adds 5 to the current value of a.\n",
    "So, now a is 10 (5 + 5).\n",
    "\n",
    "a == 5: Checks if the current value of a is equal to 5.\n",
    "\n",
    "Since a is now 10, the expression a == 5 evaluates to False."
   ]
  },
  {
   "cell_type": "code",
   "execution_count": 70,
   "id": "df203dbe",
   "metadata": {},
   "outputs": [
    {
     "data": {
      "text/plain": [
       "False"
      ]
     },
     "execution_count": 70,
     "metadata": {},
     "output_type": "execute_result"
    }
   ],
   "source": [
    "a =5\n",
    "\n",
    "a+=5\n",
    "\n",
    "#comparision operator\n",
    "a==5"
   ]
  },
  {
   "cell_type": "markdown",
   "id": "e6fe470c",
   "metadata": {},
   "source": [
    "#### Code Explanation:\n",
    "---\n",
    "a = 5: Assigns the value 5 to variable a.\n",
    "\n",
    "a > 3: This is a comparison operator that checks if a is greater than 3.\n",
    "\n",
    "Since 5 is greater than 3, this expression evaluates to True."
   ]
  },
  {
   "cell_type": "code",
   "execution_count": 71,
   "id": "16c4c4ef",
   "metadata": {},
   "outputs": [
    {
     "data": {
      "text/plain": [
       "True"
      ]
     },
     "execution_count": 71,
     "metadata": {},
     "output_type": "execute_result"
    }
   ],
   "source": [
    "a =5\n",
    "\n",
    "a > 3"
   ]
  },
  {
   "cell_type": "markdown",
   "id": "b732c9a9",
   "metadata": {},
   "source": [
    "#### Code Explanation:\n",
    "---\n",
    "a = 5: Assigns the value 5 to the variable a.\n",
    "\n",
    "a > 20: Checks if a is greater than 20.\n",
    "\n",
    "Since 5 is not greater than 20, this expression evaluates to False."
   ]
  },
  {
   "cell_type": "code",
   "execution_count": 72,
   "id": "babdcf8a",
   "metadata": {},
   "outputs": [
    {
     "data": {
      "text/plain": [
       "False"
      ]
     },
     "execution_count": 72,
     "metadata": {},
     "output_type": "execute_result"
    }
   ],
   "source": [
    "a = 5\n",
    "\n",
    "a > 20"
   ]
  },
  {
   "cell_type": "markdown",
   "id": "105d6d05",
   "metadata": {},
   "source": [
    "#### Code Explanation:\n",
    "---\n",
    "a = 5: Assigns the value 5 to the variable a.\n",
    "\n",
    "a < 20: Checks if a is less than 20.\n",
    "\n",
    "Since 5 is less than 20, this expression evaluates to True."
   ]
  },
  {
   "cell_type": "code",
   "execution_count": 73,
   "id": "15c9a6cf",
   "metadata": {},
   "outputs": [
    {
     "data": {
      "text/plain": [
       "True"
      ]
     },
     "execution_count": 73,
     "metadata": {},
     "output_type": "execute_result"
    }
   ],
   "source": [
    "a = 5\n",
    "\n",
    "a < 20"
   ]
  },
  {
   "cell_type": "markdown",
   "id": "20b30bd2",
   "metadata": {},
   "source": [
    "#### Code Explanation:\n",
    "---\n",
    "a = 5: Assigns the value 5 to the variable a.\n",
    "\n",
    "a <= 3: Checks if a is less than or equal to 3.\n",
    "\n",
    "Since 5 is greater than 3, this expression evaluates to False."
   ]
  },
  {
   "cell_type": "code",
   "execution_count": 74,
   "id": "79c37df4",
   "metadata": {},
   "outputs": [
    {
     "data": {
      "text/plain": [
       "False"
      ]
     },
     "execution_count": 74,
     "metadata": {},
     "output_type": "execute_result"
    }
   ],
   "source": [
    "a = 5\n",
    "\n",
    "a <= 3"
   ]
  },
  {
   "cell_type": "markdown",
   "id": "76336f28",
   "metadata": {},
   "source": [
    "#### Code Explanation:\n",
    "---\n",
    "a = 5: Assigns the value 5 to the variable a.\n",
    "\n",
    "a >= 1: Checks if a is greater than or equal to 1.\n",
    "\n",
    "Since 5 is greater than 1, this expression evaluates to True."
   ]
  },
  {
   "cell_type": "code",
   "execution_count": 75,
   "id": "59f943d3",
   "metadata": {},
   "outputs": [
    {
     "data": {
      "text/plain": [
       "True"
      ]
     },
     "execution_count": 75,
     "metadata": {},
     "output_type": "execute_result"
    }
   ],
   "source": [
    "a = 5\n",
    "\n",
    "a >= 1"
   ]
  },
  {
   "cell_type": "markdown",
   "id": "947f06d9",
   "metadata": {},
   "source": [
    "#### Code Explanation:\n",
    "---\n",
    "a = 5 and b = 5: Assigns the value 5 to variables a and b.\n",
    "\n",
    "a > 3: Checks if a is greater than 3 → True because 5 > 3.\n",
    "\n",
    "b > 3: Checks if b is greater than 3 → True.\n",
    "\n",
    "a > 3 and b > 3: Uses the logical AND operator to check if both conditions are true.\n",
    "\n",
    "Since both a > 3 and b > 3 are True, the whole expression is True.\n",
    "\n",
    "Quick note on and:\n",
    "\n",
    "and returns True only if both conditions are true.\n",
    "\n",
    "If either one is false, it returns False.\n",
    "\n",
    "\n",
    "| a > 3 | b > 3 | a > 3 and b > 3 |\n",
    "| ----- | ----- | --------------- |\n",
    "| True  | True  | True            |\n",
    "| True  | False | False           |\n",
    "| False | True  | False           |\n",
    "| False | False | False           |\n"
   ]
  },
  {
   "cell_type": "code",
   "execution_count": 76,
   "id": "78cb2b20",
   "metadata": {},
   "outputs": [
    {
     "data": {
      "text/plain": [
       "True"
      ]
     },
     "execution_count": 76,
     "metadata": {},
     "output_type": "execute_result"
    }
   ],
   "source": [
    "a = 5\n",
    "b = 5\n",
    "\n",
    "# a>3  \n",
    "# true\n",
    "\n",
    "b>3\n",
    "# b > 3\n",
    "# True\n",
    "\n",
    "a>3 and b>3"
   ]
  },
  {
   "cell_type": "markdown",
   "id": "0acdf705",
   "metadata": {},
   "source": [
    "#### Code Explanation:\n",
    "---\n",
    "a = 5 and b = 5: Assigns the value 5 to both variables.\n",
    "\n",
    "a > 3 and b < 3: This uses the logical AND operator.\n",
    "\n",
    "It checks two conditions:\n",
    "\n",
    "a > 3 → Is 5 greater than 3? True\n",
    "\n",
    "b < 3 → Is 5 less than 3? False\n",
    "\n",
    "Since AND requires both conditions to be True, and one is False, the whole expression evaluates to False.\n",
    "\n",
    "Summary of and operator:\n",
    "\n",
    "Returns True only if both conditions are True.\n",
    "\n",
    "Returns False if any one condition is False."
   ]
  },
  {
   "cell_type": "code",
   "execution_count": 77,
   "id": "8c4f2d6b",
   "metadata": {},
   "outputs": [
    {
     "data": {
      "text/plain": [
       "False"
      ]
     },
     "execution_count": 77,
     "metadata": {},
     "output_type": "execute_result"
    }
   ],
   "source": [
    "a = 5\n",
    "b = 5\n",
    "\n",
    "a>3 and b<3\n",
    "\n",
    "# and ....operator"
   ]
  },
  {
   "cell_type": "markdown",
   "id": "99a52444",
   "metadata": {},
   "source": [
    "#### Code Explanation:\n",
    "---\n",
    "a = 5 and b = 0: Assigns values to variables a and b.\n",
    "\n",
    "a > 1 or b > 1: Uses the logical OR operator to check if at least one condition is true.\n",
    "\n",
    "a > 1 → Is 5 greater than 1? True\n",
    "\n",
    "b > 1 → Is 0 greater than 1? False\n",
    "\n",
    "Since OR requires only one condition to be true, the entire expression evaluates to True.\n",
    "\n",
    "\n",
    "Summary of or operator:\n",
    "\n",
    "Returns True if at least one condition is True.\n",
    "\n",
    "Returns False only if both conditions are False.\n",
    "\n",
    "\n",
    "| a > 1 | b > 1 | a > 1 or b > 1 |\n",
    "| ----- | ----- | -------------- |\n",
    "| True  | True  | True           |\n",
    "| True  | False | True           |\n",
    "| False | True  | True           |\n",
    "| False | False | False          |\n"
   ]
  },
  {
   "cell_type": "code",
   "execution_count": 78,
   "id": "f270e591",
   "metadata": {},
   "outputs": [
    {
     "data": {
      "text/plain": [
       "True"
      ]
     },
     "execution_count": 78,
     "metadata": {},
     "output_type": "execute_result"
    }
   ],
   "source": [
    "a = 5\n",
    "b = 0\n",
    "\n",
    "a>1 or b>1\n",
    "\n",
    "# or operator"
   ]
  },
  {
   "cell_type": "markdown",
   "id": "7b646a97",
   "metadata": {},
   "source": [
    "### Bitwise operator"
   ]
  },
  {
   "cell_type": "markdown",
   "id": "b9add5e3",
   "metadata": {},
   "source": [
    "#### Code Explanation:\n",
    "---\n",
    "a = 5 and b = 3: Assign values 5 and 3 to variables a and b.\n",
    "\n",
    "a & b: This is the bitwise AND operator.\n",
    "\n",
    "It performs a bit-by-bit comparison of the binary forms of a and b and returns a new number.\n",
    "\n",
    "How it works:\n",
    "\n",
    "Binary of 5 is 0101\n",
    "\n",
    "Binary of 3 is 0011\n",
    "\n",
    "  0101  (5)\n",
    "& 0011  (3)\n",
    "= 0001  (1)\n"
   ]
  },
  {
   "cell_type": "code",
   "execution_count": 79,
   "id": "a4636d71",
   "metadata": {},
   "outputs": [
    {
     "data": {
      "text/plain": [
       "1"
      ]
     },
     "execution_count": 79,
     "metadata": {},
     "output_type": "execute_result"
    }
   ],
   "source": [
    "a = 5\n",
    "b = 3\n",
    "a  & b"
   ]
  },
  {
   "cell_type": "markdown",
   "id": "e45e02ef",
   "metadata": {},
   "source": [
    "#### Code Explanation:\n",
    "---\n",
    "a = 5 and b = 3: Assign values 5 and 3 to variables a and b.\n",
    "\n",
    "a | b: This is the bitwise OR operator.\n",
    "\n",
    "It compares the binary representation of a and b bit by bit and returns a new number.\n",
    "\n",
    "The result has bits set to 1 if either of the bits in a or b is 1.\n",
    "\n",
    "How it works:\n",
    "\n",
    "Binary of 5 is 0101\n",
    "\n",
    "Binary of 3 is 0011\n",
    "\n",
    "Perform bitwise OR (|):\n",
    "  0101  (5)\n",
    "| 0011  (3)\n",
    "= 0111  (7)\n"
   ]
  },
  {
   "cell_type": "code",
   "execution_count": 80,
   "id": "42f155a3",
   "metadata": {},
   "outputs": [
    {
     "data": {
      "text/plain": [
       "7"
      ]
     },
     "execution_count": 80,
     "metadata": {},
     "output_type": "execute_result"
    }
   ],
   "source": [
    "a = 5\n",
    "b = 3\n",
    "a | b"
   ]
  },
  {
   "cell_type": "markdown",
   "id": "98303edb",
   "metadata": {},
   "source": [
    "#### Code Explanation:\n",
    "---\n",
    "a = \"chandra\": Assigns the string \"chandra\" to variable a.\n",
    "\n",
    "\"c\" in a: Checks if the character \"c\" is present anywhere in the string a.\n",
    "\n",
    "Since \"c\" is the first letter of \"chandra\", the expression returns True.\n",
    "\n",
    "print() displays the result, so it will print True.\n",
    "\n",
    "Summary:\n",
    "\n",
    "The keyword in can be used to check if a substring or character exists inside a string (or other collections like lists).\n",
    "\n",
    "Returns True if found, otherwise False.\n",
    "\n",
    "\n"
   ]
  },
  {
   "cell_type": "code",
   "execution_count": 81,
   "id": "a70c11e5",
   "metadata": {},
   "outputs": [
    {
     "name": "stdout",
     "output_type": "stream",
     "text": [
      "True\n"
     ]
    }
   ],
   "source": [
    "a = \"chandra\"\n",
    "print(\"c\" in a)"
   ]
  },
  {
   "cell_type": "markdown",
   "id": "3de15d22",
   "metadata": {},
   "source": [
    "#### Code Explanation:\n",
    "---\n",
    "a = \"chandra\": Assigns the string \"chandra\" to the variable a.\n",
    "\n",
    "\"zyx\" in a: Checks if the substring \"zyx\" is present anywhere inside the string a.\n",
    "\n",
    "Since \"zyx\" is not found in \"chandra\", the expression evaluates to False.\n",
    "\n",
    "The print() statement outputs False.\n",
    "\n",
    "Summary:\n",
    "\n",
    "The in operator checks if one string is a substring of another.\n",
    "\n",
    "If the substring is not found, it returns False."
   ]
  },
  {
   "cell_type": "code",
   "execution_count": 82,
   "id": "28c211b7",
   "metadata": {},
   "outputs": [
    {
     "name": "stdout",
     "output_type": "stream",
     "text": [
      "False\n"
     ]
    }
   ],
   "source": [
    "a = \"chandra\"\n",
    "\n",
    "print(\"zyx\" in a)"
   ]
  },
  {
   "cell_type": "markdown",
   "id": "c717372a",
   "metadata": {},
   "source": [
    "#### Code Explanation:\n",
    "---\n",
    "a = [1, 2, 3, 4]: Creates a list with four numbers.\n",
    "\n",
    "10 in a: Checks if the number 10 is present in the list a.\n",
    "\n",
    "Since 10 is not in the list [1, 2, 3, 4], the expression returns False.\n",
    "\n",
    "print() outputs False.\n",
    "\n",
    "Summary:\n",
    "\n",
    "The in operator works with lists, strings, and other collections to check for the presence of an element.\n",
    "\n",
    "Returns True if the element is found, otherwise False."
   ]
  },
  {
   "cell_type": "code",
   "execution_count": 83,
   "id": "ba1a03a0",
   "metadata": {},
   "outputs": [
    {
     "name": "stdout",
     "output_type": "stream",
     "text": [
      "False\n"
     ]
    }
   ],
   "source": [
    "a = [1,2,3,4]\n",
    "\n",
    "print(10 in a)"
   ]
  },
  {
   "cell_type": "markdown",
   "id": "b967b3bd",
   "metadata": {},
   "source": [
    "#### Code Explanation:\n",
    "---\n",
    "a = True: Assigns the Boolean value True to variable a.\n",
    "\n",
    "not a: Uses the logical NOT operator.\n",
    "\n",
    "not reverses the Boolean value:\n",
    "\n",
    "If a is True, then not a is False.\n",
    "\n",
    "If a is False, then not a is True.\n",
    "\n",
    "Summary:\n",
    "\n",
    "not flips the truth value.\n",
    "\n",
    "It's useful when you want to check the opposite of a condition."
   ]
  },
  {
   "cell_type": "code",
   "execution_count": 84,
   "id": "48502300",
   "metadata": {},
   "outputs": [
    {
     "data": {
      "text/plain": [
       "False"
      ]
     },
     "execution_count": 84,
     "metadata": {},
     "output_type": "execute_result"
    }
   ],
   "source": [
    "a = True\n",
    "\n",
    "not a\n",
    "\n",
    "#not operator"
   ]
  },
  {
   "cell_type": "markdown",
   "id": "bccb078e",
   "metadata": {},
   "source": [
    "### 'Math' module"
   ]
  },
  {
   "cell_type": "markdown",
   "id": "382a4aa6",
   "metadata": {},
   "source": [
    "#### Code Explanation:\n",
    "---\n",
    "import math: This imports Python’s built-in math module, which contains many useful mathematical functions and constants.\n",
    "\n",
    "math.pi: Accesses the constant π (pi) from the math module.\n",
    "\n",
    "math.pi gives you the value of π (approximately 3.141592653589793), which is useful for calculations involving circles, angles, etc.\n",
    "\n",
    "Summary:\n",
    "\n",
    "The math module provides handy math tools like pi, sqrt(), sin(), and more.\n",
    "\n",
    "To use these tools, you first import the module with import math."
   ]
  },
  {
   "cell_type": "code",
   "execution_count": 85,
   "id": "d643833a",
   "metadata": {},
   "outputs": [
    {
     "data": {
      "text/plain": [
       "3.141592653589793"
      ]
     },
     "execution_count": 85,
     "metadata": {},
     "output_type": "execute_result"
    }
   ],
   "source": [
    "import math\n",
    "\n",
    "math.pi"
   ]
  },
  {
   "cell_type": "markdown",
   "id": "6f9b8416",
   "metadata": {},
   "source": [
    "#### Code Explanation:\n",
    "---\n",
    "import math: Imports the math module to use math constants and functions.\n",
    "\n",
    "radius = 5: Assigns the value 5 to the variable radius, representing the radius of a circle.\n",
    "\n",
    "area = math.pi * radius ** 2: Calculates the area of a circle using the formula \n",
    "𝜋\n",
    "𝑟\n",
    "2\n",
    "πr\n",
    "2\n",
    ":\n",
    "\n",
    "math.pi gives the value of π (approximately 3.14159).\n",
    "\n",
    "radius ** 2 means radius squared (radius multiplied by itself).\n",
    "\n",
    "print(area): Displays the calculated area.\n",
    "\n",
    "What happens step-by-step:\n",
    "\n",
    "Square the radius: \n",
    "5 x 5 = 25\n",
    "\n",
    "\n",
    "Multiply by π: \n",
    "25\n",
    "×\n",
    "3.14159\n",
    "≈\n",
    "78.54\n",
    "25×3.14159≈78.54.\n",
    "\n",
    "The output will be approximately 78.53981633974483.\n",
    "\n",
    "Summary:\n",
    "\n",
    "This program calculates and prints the area of a circle with radius 5.\n",
    "\n",
    "You can change the radius value to calculate the area for other circles."
   ]
  },
  {
   "cell_type": "code",
   "execution_count": 86,
   "id": "416a16e1",
   "metadata": {},
   "outputs": [
    {
     "name": "stdout",
     "output_type": "stream",
     "text": [
      "78.53981633974483\n"
     ]
    }
   ],
   "source": [
    "import math\n",
    "\n",
    "radius = 5\n",
    "area = math.pi * radius ** 2  # Area of a circle\n",
    "print(area)"
   ]
  },
  {
   "cell_type": "markdown",
   "id": "c9d083fb",
   "metadata": {},
   "source": [
    "#### Code Explanation:\n",
    "---\n",
    "import math: Imports the built-in math module.\n",
    "\n",
    "math.nan: Represents the special floating-point value NaN, which stands for \"Not a Number\".\n",
    "\n",
    "NaN is used to represent undefined or unrepresentable numeric results, such as:\n",
    "\n",
    "Dividing 0 by 0\n",
    "\n",
    "Taking the square root of a negative number (in some contexts)\n",
    "\n",
    "Invalid operations in floating-point calculations\n",
    "\n",
    "Summary:\n",
    "\n",
    "math.nan is a special value to indicate an invalid or undefined number in calculations.\n",
    "\n",
    "It is useful in scientific computing and data processing to signal missing or erroneous numerical data."
   ]
  },
  {
   "cell_type": "code",
   "execution_count": 87,
   "id": "206fe673",
   "metadata": {},
   "outputs": [
    {
     "data": {
      "text/plain": [
       "nan"
      ]
     },
     "execution_count": 87,
     "metadata": {},
     "output_type": "execute_result"
    }
   ],
   "source": [
    "import math\n",
    "\n",
    "math.nan\n",
    "\n",
    "#not a number"
   ]
  },
  {
   "cell_type": "markdown",
   "id": "a4bd618a",
   "metadata": {},
   "source": [
    "#### Code Explanation:\n",
    "---\n",
    "import math: Imports Python’s math module.\n",
    "\n",
    "math.floor(200.34567): Returns the floor value of the number 200.34567.\n",
    "\n",
    "Floor means rounding down to the nearest whole integer.\n",
    "\n",
    "So, math.floor(200.34567) returns 200.\n",
    "\n",
    "Summary:\n",
    "\n",
    "The floor function always rounds a decimal number down to the closest integer.\n",
    "\n",
    "Even if the decimal part is .999, it rounds down."
   ]
  },
  {
   "cell_type": "code",
   "execution_count": 88,
   "id": "eb62d3ab",
   "metadata": {},
   "outputs": [
    {
     "data": {
      "text/plain": [
       "200"
      ]
     },
     "execution_count": 88,
     "metadata": {},
     "output_type": "execute_result"
    }
   ],
   "source": [
    "import math\n",
    "\n",
    "math.floor(200.34567)\n",
    "\n",
    "# floor value"
   ]
  },
  {
   "cell_type": "markdown",
   "id": "5e981177",
   "metadata": {},
   "source": [
    "#### Code Explanation:\n",
    "---\n",
    "import math: Imports Python’s math module.\n",
    "\n",
    "math.ceil(300.999): Returns the ceiling value of the number 300.999.\n",
    "\n",
    "Ceiling means rounding up to the nearest whole integer.\n",
    "\n",
    "So, math.ceil(300.999) returns 301.\n",
    "\n",
    "Summary:\n",
    "\n",
    "The ceil() function always rounds a decimal number up to the closest integer.\n",
    "\n",
    "Even if the decimal part is very small (e.g., 300.0001), it rounds up."
   ]
  },
  {
   "cell_type": "code",
   "execution_count": 89,
   "id": "46d41ef4",
   "metadata": {},
   "outputs": [
    {
     "data": {
      "text/plain": [
       "301"
      ]
     },
     "execution_count": 89,
     "metadata": {},
     "output_type": "execute_result"
    }
   ],
   "source": [
    "import math\n",
    "\n",
    "math.ceil(300.999)\n",
    "\n",
    "# ceil value"
   ]
  },
  {
   "cell_type": "markdown",
   "id": "445393e3",
   "metadata": {},
   "source": [
    "#### Code Explanation:\n",
    "---\n",
    "import math: Imports Python’s math module.\n",
    "\n",
    "math.log(100): Calculates the natural logarithm (logarithm base e) of 100.\n",
    "\n",
    "The natural logarithm is the power to which e (approximately 2.71828) must be raised to get the number.\n",
    "\n",
    "So, math.log(100) answers: \"e to the power of what equals 100?\"\n",
    "\n",
    "Summary:\n",
    "\n",
    "math.log(x) returns the natural logarithm of x.\n",
    "\n",
    "If you want the logarithm with base 10, use math.log10(x) instead."
   ]
  },
  {
   "cell_type": "code",
   "execution_count": 90,
   "id": "fb5be0d6",
   "metadata": {},
   "outputs": [
    {
     "data": {
      "text/plain": [
       "4.605170185988092"
      ]
     },
     "execution_count": 90,
     "metadata": {},
     "output_type": "execute_result"
    }
   ],
   "source": [
    "import math\n",
    "\n",
    "math.log(100)"
   ]
  },
  {
   "cell_type": "markdown",
   "id": "99213638",
   "metadata": {},
   "source": [
    "#### Code Explanation:\n",
    "---\n",
    "import math: Imports Python’s math module.\n",
    "\n",
    "math.sqrt(16): Calculates the square root of 16.\n",
    "\n",
    "The square root of a number is a value that, when multiplied by itself, gives the original number.\n",
    "\n",
    "So, the square root of 16 is 4 because \n",
    "4\n",
    "×\n",
    "4\n",
    "=\n",
    "16\n",
    "4×4=16.\n",
    "\n",
    "Summary:\n",
    "\n",
    "Use math.sqrt(x) to find the square root of x.\n",
    "\n",
    "It returns a floating-point number (decimal)."
   ]
  },
  {
   "cell_type": "code",
   "execution_count": 46,
   "id": "a8958f6c",
   "metadata": {},
   "outputs": [
    {
     "data": {
      "text/plain": [
       "4.0"
      ]
     },
     "execution_count": 46,
     "metadata": {},
     "output_type": "execute_result"
    }
   ],
   "source": [
    "import math\n",
    "\n",
    "math.sqrt(16)"
   ]
  },
  {
   "cell_type": "markdown",
   "id": "421c93be",
   "metadata": {},
   "source": [
    "#### Code Explanation:\n",
    "---\n",
    "import math: Imports Python’s math module.\n",
    "\n",
    "math.pow(2, 3): Calculates 2 raised to the power of 3, which means \n",
    "\n",
    "\n",
    "This computes the cube of 2, i.e., \n",
    "2×2\n",
    "×\n",
    "2\n",
    "=\n",
    "8\n",
    "........\n",
    "2×2×2=8.\n",
    "\n",
    "The result is returned as a floating-point number (8.0).\n",
    "\n",
    "Summary:\n",
    "\n",
    "math.pow(base, exponent) raises base to the power of exponent.\n",
    "\n",
    "For integer powers, you can also use the ** operator, e.g., 2 ** 3."
   ]
  },
  {
   "cell_type": "code",
   "execution_count": 47,
   "id": "1c2b9eb9",
   "metadata": {},
   "outputs": [
    {
     "data": {
      "text/plain": [
       "8.0"
      ]
     },
     "execution_count": 47,
     "metadata": {},
     "output_type": "execute_result"
    }
   ],
   "source": [
    "import math\n",
    "\n",
    "math.pow(2,3)\n",
    "\n",
    "# cube of 2"
   ]
  },
  {
   "cell_type": "markdown",
   "id": "87507649",
   "metadata": {},
   "source": [
    "#### Code Explanation:\n",
    "---\n",
    "a = [1, 2, 3, 4]: Creates a list containing the numbers 1, 2, 3, and 4.\n",
    "\n",
    "10000 not in a: Checks if 10000 is NOT present in the list a.\n",
    "\n",
    "Since 10000 is not in the list, this expression evaluates to True.\n",
    "\n",
    "print() displays the result, so it will print True.\n",
    "\n",
    "Summary:\n",
    "\n",
    "The not in operator checks if an element is absent from a list (or other collections).\n",
    "\n",
    "Returns True if the element is not found; otherwise False."
   ]
  },
  {
   "cell_type": "code",
   "execution_count": 48,
   "id": "dc50dcf0",
   "metadata": {},
   "outputs": [
    {
     "name": "stdout",
     "output_type": "stream",
     "text": [
      "True\n"
     ]
    }
   ],
   "source": [
    "a = [1,2,3,4]\n",
    "\n",
    "print(10000 not in a)"
   ]
  },
  {
   "cell_type": "markdown",
   "id": "4f1956c1",
   "metadata": {},
   "source": [
    "#### Code Explanation:\n",
    "---\n",
    "a = 5: Assigns the value 5 to variable a.\n",
    "\n",
    "if a == 5: This is an if statement that checks if a is equal to 5.\n",
    "\n",
    "The condition a == 5 evaluates to True because a is indeed 5.\n",
    "\n",
    "If the condition is True, the indented block of code below the if statement runs.\n",
    "\n",
    "print(a) will execute and print the value of a, which is 5.\n",
    "\n",
    "Summary:\n",
    "\n",
    "The if statement is used to run code based on a condition.\n",
    "\n",
    "If the condition is True, the indented block of code under if will run."
   ]
  },
  {
   "cell_type": "code",
   "execution_count": 49,
   "id": "671003e9",
   "metadata": {},
   "outputs": [
    {
     "name": "stdout",
     "output_type": "stream",
     "text": [
      "5\n"
     ]
    }
   ],
   "source": [
    "a = 5\n",
    "\n",
    "if a == 5:\n",
    "    print(a)"
   ]
  },
  {
   "cell_type": "markdown",
   "id": "8e3bd745",
   "metadata": {},
   "source": [
    "#### Code Explanation:\n",
    "---\n",
    "a = 5: Assigns the value 5 to the variable a.\n",
    "\n",
    "if a > 10000: Checks if a is greater than 10,000.\n",
    "\n",
    "Since 5 is not greater than 10,000, the condition is False.\n",
    "\n",
    "Because the condition is False, the code inside the else block will run.\n",
    "\n",
    "print(\"false\") will execute, so it will print false.\n",
    "\n",
    "Summary:\n",
    "\n",
    "The if statement checks a condition and runs the code inside it if the condition is True.\n",
    "\n",
    "The else block runs if the condition is False."
   ]
  },
  {
   "cell_type": "code",
   "execution_count": 50,
   "id": "6acf088d",
   "metadata": {},
   "outputs": [
    {
     "name": "stdout",
     "output_type": "stream",
     "text": [
      "false\n"
     ]
    }
   ],
   "source": [
    "a = 5\n",
    "\n",
    "if a > 10000:\n",
    "    print(\"true\")\n",
    "\n",
    "else:\n",
    "    print(\"false\")"
   ]
  },
  {
   "cell_type": "markdown",
   "id": "6cecee90",
   "metadata": {},
   "source": [
    "#### Code Explanation:\n",
    "---\n",
    "a = 5: Assigns the value 5 to variable a.\n",
    "\n",
    "if a > 0: Checks if a is greater than 0.\n",
    "\n",
    "Since a = 5, which is greater than 0, the condition is True, so the code inside the if block runs.\n",
    "\n",
    "Inside the if block:\n",
    "\n",
    "a = a + 3: Adds 3 to a, changing the value of a from 5 to 8.\n",
    "\n",
    "print(a): Prints the updated value of a, which is now 8.\n",
    "\n",
    "The else block is not executed because the condition a > 0 was True.\n",
    "\n",
    "Summary:\n",
    "\n",
    "The if statement is used to check if a condition is True and run the code inside it.\n",
    "\n",
    "If the condition is False, the code inside the else block will execute instead.\n",
    "\n",
    "In this case, the condition was True, so the value of a was updated and printed as 8."
   ]
  },
  {
   "cell_type": "code",
   "execution_count": 51,
   "id": "fe2936de",
   "metadata": {},
   "outputs": [
    {
     "name": "stdout",
     "output_type": "stream",
     "text": [
      "8\n"
     ]
    }
   ],
   "source": [
    "a = 5\n",
    "\n",
    "if a > 0:\n",
    "    a = a + 3\n",
    "    print(a)\n",
    "\n",
    "else:\n",
    "    print(a)"
   ]
  },
  {
   "cell_type": "markdown",
   "id": "7dd0f3c0",
   "metadata": {},
   "source": [
    "#### Code Explanation:\n",
    "---\n",
    "a = 5: Assigns the value 5 to the variable a.\n",
    "\n",
    "if a == 5: Checks if a is equal to 5.\n",
    "\n",
    "This condition is True, so the code inside the if block runs.\n",
    "\n",
    "a = a + 5: Increases the value of a by 5. Now a becomes 10.\n",
    "\n",
    "print(a): Outputs the updated value of a, which is 10."
   ]
  },
  {
   "cell_type": "code",
   "execution_count": 52,
   "id": "7bbee89f",
   "metadata": {},
   "outputs": [
    {
     "name": "stdout",
     "output_type": "stream",
     "text": [
      "10\n"
     ]
    }
   ],
   "source": [
    "a = 5\n",
    "\n",
    "if a == 5:\n",
    "    a = a + 5\n",
    "    print(a)"
   ]
  },
  {
   "cell_type": "markdown",
   "id": "f2b5267e",
   "metadata": {},
   "source": [
    "#### Code Explanation:\n",
    "---\n",
    "a = 5: The variable a is assigned the value 5.\n",
    "\n",
    "if a == 1000: Checks if a is equal to 1000.\n",
    "\n",
    "This condition is False because a is 5, not 1000.\n",
    "\n",
    "Therefore, the code inside the if block is skipped.\n",
    "\n",
    "print(\"outside of if-block\"): This line is outside the if block and runs no matter what, so it prints:\n",
    "....................\n",
    "outside of if-block\n",
    "..................."
   ]
  },
  {
   "cell_type": "code",
   "execution_count": 53,
   "id": "287f1573",
   "metadata": {},
   "outputs": [
    {
     "name": "stdout",
     "output_type": "stream",
     "text": [
      "outside of if-block\n"
     ]
    }
   ],
   "source": [
    "a = 5\n",
    "\n",
    "if a == 1000:\n",
    "    print(\"if statement is true\")\n",
    "\n",
    "print(\"outside of if-block\")"
   ]
  },
  {
   "cell_type": "markdown",
   "id": "982c27bd",
   "metadata": {},
   "source": [
    "#### Code Explanation:\n",
    "---\n",
    "a = 5: Variable a is assigned the value 5.\n",
    "\n",
    "if a == 3: This checks if a is equal to 3. It is False, so this block is skipped.\n",
    "\n",
    "elif a == 5: This checks if a equals 5. It is True, so this block runs:\n",
    "\n",
    "\"elif statements get executed\" is printed.\n",
    "\n",
    "Then a is printed (which is 5).\n",
    "\n",
    "The rest of the elif blocks are skipped after the first one is True."
   ]
  },
  {
   "cell_type": "code",
   "execution_count": 54,
   "id": "c9ab72f8",
   "metadata": {},
   "outputs": [
    {
     "name": "stdout",
     "output_type": "stream",
     "text": [
      "elif statements get executed\n",
      "5\n"
     ]
    }
   ],
   "source": [
    "a = 5\n",
    "\n",
    "if a == 3:\n",
    "    print(a+3)\n",
    "\n",
    "elif a ==5:\n",
    "    print(\"elif statements get executed\")\n",
    "    print(a)\n",
    "\n",
    "elif a > 20:\n",
    "    print(\"nested elif\")"
   ]
  },
  {
   "cell_type": "markdown",
   "id": "7af25514",
   "metadata": {},
   "source": [
    "#### Code Explanation:\n",
    "---\n",
    "a = 5: Variable a is assigned the value 5.\n",
    "\n",
    "if a > 200: Checks if a is greater than 200. This is False.\n",
    "\n",
    "elif a < 0: Checks if a is less than 0. This is also False.\n",
    "\n",
    "Since both conditions are false, the else block runs.\n",
    "--------\n",
    "#### Explanation of pass:\n",
    "--------\n",
    "pass is a placeholder statement in Python. It does nothing and is used when you need a block syntactically but don’t want it to do anything (yet).\n",
    "-----------\n",
    "else block statements get executed\n",
    "5\n"
   ]
  },
  {
   "cell_type": "code",
   "execution_count": 55,
   "id": "e2040882",
   "metadata": {},
   "outputs": [
    {
     "name": "stdout",
     "output_type": "stream",
     "text": [
      "else block statements get executed\n",
      "5\n"
     ]
    }
   ],
   "source": [
    "a = 5\n",
    "\n",
    "if a > 200:\n",
    "    pass\n",
    "\n",
    "elif a < 0:\n",
    "    pass\n",
    "\n",
    "else:\n",
    "    print(\"else block statements get executed\")\n",
    "    print(a)"
   ]
  },
  {
   "cell_type": "markdown",
   "id": "2839277e",
   "metadata": {},
   "source": [
    "#### Code Explanation:\n",
    "---\n",
    "1. print(str.strip())\n",
    "\n",
    "strip() removes leading and trailing spaces (spaces at the start and end).\n",
    "\n",
    "#### ✅ Output: \"a chandra saibfg b c\"\n",
    "-------------\n",
    "\n",
    "2. print(str.lstrip())\n",
    "\n",
    "lstrip() removes only leading spaces (on the left).\n",
    "\n",
    "#### ✅ Output: \"a chandra saibfg b c \"\n",
    "------------\n",
    "\n",
    "\n",
    "3. print(str.replace(\"sai\", \"sekhar\"))\n",
    "\n",
    "Replaces every occurrence of \"sai\" with \"sekhar\".\n",
    "\n",
    "\"chandra saibfg\" becomes \"chandra sekharbfg\".\n",
    "\n",
    "#### ✅ Output: \" a chandra sekharbfg b c \"\n",
    "-----------\n",
    "\n",
    "4. print(str.strip(' '))\n",
    "\n",
    "Same as strip(). Here, ' ' (a space) is passed explicitly — it removes spaces from both ends.\n",
    "\n",
    "#### ✅ Output: \"a chandra saibfg b c\"\n",
    "----------------\n",
    "\n",
    "5. print(str.split('a'))\n",
    "\n",
    "Splits the string at every 'a', removing the 'a' and returning a list of parts.\n",
    "\n",
    "#### ✅ Output: A list like: [' ', ' ch', 'ndr', ' s', 'ibfg b c ']\n",
    "----------------\n",
    "\n",
    "6. print(str.split(' '))\n",
    "\n",
    "Splits the string at every space. Since there are many consecutive spaces, it creates many empty strings.\n",
    "\n",
    "#### ✅ Output: A list with words and many '' (empty strings), like:\n",
    "\n",
    "['', '', '', 'a', '', '', 'chandra', 'saibfg', '', '', 'b', '', '', '', 'c', '', '', '', '']\n",
    "------------------\n",
    "\n",
    "7. print(f\"max value of str: {max(str)}\")\n",
    "\n",
    "Finds the max character based on Unicode (alphabetical and symbol order).\n",
    "\n",
    "Since space (' ') has a low value, and 's' or 'r' have higher ones, it prints the highest character.\n",
    "\n",
    "#### ✅ Output: \"max value of str: s\"\n",
    "----------------------\n",
    "\n",
    "8. print(str)\n",
    "\n",
    "Simply prints the original string.\n",
    "\n",
    "#### ✅ Output: ' a chandra saibfg b c '\n",
    "-----------------------\n",
    "\n",
    "9. print(\"minimum value\", min(str.split()))\n",
    "\n",
    "First: str.split() splits the string by default space (ignoring extra spaces).\n",
    "\n",
    "Then: min() finds the smallest word alphabetically.\n",
    "\n",
    "The words in the list will be: ['a', 'chandra', 'saibfg', 'b', 'c']\n",
    "\n",
    "'a' is the smallest alphabetically.\n",
    "\n",
    "#### ✅ Output: \"minimum value a\""
   ]
  },
  {
   "cell_type": "code",
   "execution_count": 56,
   "id": "2337e8f4",
   "metadata": {},
   "outputs": [
    {
     "name": "stdout",
     "output_type": "stream",
     "text": [
      "a   chandra saibfg   b    c\n",
      "a   chandra saibfg   b    c    \n",
      "   a   chandra sekharbfg   b    c    \n",
      "a   chandra saibfg   b    c\n",
      "['   ', '   ch', 'ndr', ' s', 'ibfg   b    c    ']\n",
      "['', '', '', 'a', '', '', 'chandra', 'saibfg', '', '', 'b', '', '', '', 'c', '', '', '', '']\n",
      "max value of str: s\n",
      "   a   chandra saibfg   b    c    \n",
      "minimum value a\n"
     ]
    }
   ],
   "source": [
    "str=\"   a   chandra saibfg   b    c    \"\n",
    "print(str.strip())\n",
    "print(str.lstrip())\n",
    "print(str.replace(\"sai\", \"sekhar\"))\n",
    "print(str.strip(' '))\n",
    "print(str.split('a'))\n",
    "print(str.split(' '))\n",
    "print(f\"max value of str: {max(str)}\")\n",
    "print(str)\n",
    "print(\"minimum value\",min(str.split()))"
   ]
  },
  {
   "cell_type": "markdown",
   "id": "ee817583",
   "metadata": {},
   "source": [
    "#### Code Explanation:\n",
    "---\n",
    "word = ['chandra', ':', 'sai']: This is a list of strings.\n",
    "\n",
    "\"_\".join(word): This joins all elements in the list using the underscore (_) as a separator.\n",
    "\n",
    "It creates one single string by placing _ between each item."
   ]
  },
  {
   "cell_type": "code",
   "execution_count": 57,
   "id": "84320e3d",
   "metadata": {},
   "outputs": [
    {
     "data": {
      "text/plain": [
       "'chandra_:_sai'"
      ]
     },
     "execution_count": 57,
     "metadata": {},
     "output_type": "execute_result"
    }
   ],
   "source": [
    "word = ['chandra', ':', 'sai']\n",
    "\"_\".join(word)"
   ]
  },
  {
   "cell_type": "markdown",
   "id": "92d2d5aa",
   "metadata": {},
   "source": [
    "#### Code Explanation:\n",
    "---\n",
    "fruits is a list of strings: [\"apple\", \"banana\", \"orange\"].\n",
    "\n",
    "if \"chandra\" in fruits:\n",
    "\n",
    "Checks if \"chandra\" exists in the fruits list.\n",
    "\n",
    "It does not, so this condition is False.\n",
    "\n",
    "elif \"cherry\" in fruits:\n",
    "\n",
    "Checks if \"cherry\" exists in the list.\n",
    "\n",
    "It also does not, so this is False.\n",
    "\n",
    "else:\n",
    "\n",
    "Since none of the conditions were True, the else block is executed.\n",
    "\n",
    "✅ Output:\n",
    "else block got executed"
   ]
  },
  {
   "cell_type": "code",
   "execution_count": 58,
   "id": "875ad1c0",
   "metadata": {},
   "outputs": [
    {
     "name": "stdout",
     "output_type": "stream",
     "text": [
      "else block got executed\n"
     ]
    }
   ],
   "source": [
    "fruits = [\"apple\", \"banana\", \"orange\"]\n",
    "\n",
    "if \"chandra\" in fruits:\n",
    "    print(\"chandra is present in the list\")\n",
    "\n",
    "elif \"cherry\" in fruits:\n",
    "    print(\"cherry is present in list\")\n",
    "\n",
    "else:\n",
    "    print(\"else block got executed\")"
   ]
  },
  {
   "cell_type": "markdown",
   "id": "fb4384f3",
   "metadata": {},
   "source": [
    "### List"
   ]
  },
  {
   "cell_type": "markdown",
   "id": "deb97514",
   "metadata": {},
   "source": [
    "#### Code Explanation:\n",
    "---\n",
    "a = [1, 2, 3, 4, 5, 6]: A list containing six numbers is assigned to variable a.\n",
    "\n",
    "len(a): The built-in len() function returns the number of elements in the list.\n",
    "\n",
    "✅ Output:\n",
    "\n",
    "6"
   ]
  },
  {
   "cell_type": "code",
   "execution_count": 59,
   "id": "16fd04c5",
   "metadata": {},
   "outputs": [
    {
     "data": {
      "text/plain": [
       "6"
      ]
     },
     "execution_count": 59,
     "metadata": {},
     "output_type": "execute_result"
    }
   ],
   "source": [
    "a = [1,2,3,4,5,6]\n",
    "len(a)"
   ]
  },
  {
   "cell_type": "markdown",
   "id": "44d491ff",
   "metadata": {},
   "source": [
    "#### Code Explanation:\n",
    "---\n",
    "a = [1, 2, 3, 4, 5, 6]: A list with 6 numbers.\n",
    "\n",
    "a[0:2]: This is called list slicing.\n",
    "\n",
    "It extracts elements from index 0 up to but not including index 2.\n",
    "\n",
    "So it grabs elements at index 0 and 1, which are 1 and 2."
   ]
  },
  {
   "cell_type": "code",
   "execution_count": 60,
   "id": "5854ab67",
   "metadata": {},
   "outputs": [
    {
     "data": {
      "text/plain": [
       "[1, 2]"
      ]
     },
     "execution_count": 60,
     "metadata": {},
     "output_type": "execute_result"
    }
   ],
   "source": [
    "a =[1,2,3,4,5,6]\n",
    "\n",
    "a[0:2]"
   ]
  },
  {
   "cell_type": "markdown",
   "id": "5a373461",
   "metadata": {},
   "source": [
    "#### Code Explanation:\n",
    "---\n",
    "a = [1, 2, 3, 4, 5, 6]: A list with 6 numbers.\n",
    "\n",
    "a[:4] is a slice of the list.\n",
    "\n",
    "When the start index is omitted, it means start from the beginning (index 0).\n",
    "\n",
    "It selects elements from the beginning up to but not including index 4.\n",
    "\n",
    "So it includes elements at indices 0, 1, 2, and 3 → [1, 2, 3, 4]."
   ]
  },
  {
   "cell_type": "code",
   "execution_count": 61,
   "id": "b0c6f4d1",
   "metadata": {},
   "outputs": [
    {
     "data": {
      "text/plain": [
       "[1, 2, 3, 4]"
      ]
     },
     "execution_count": 61,
     "metadata": {},
     "output_type": "execute_result"
    }
   ],
   "source": [
    "a = [1,2,3,4,5,6]\n",
    "\n",
    "a[:4]"
   ]
  },
  {
   "cell_type": "markdown",
   "id": "7cccbfe5",
   "metadata": {},
   "source": [
    "#### Code Explanation:\n",
    "---\n",
    "a is a list that contains different types of elements:\n",
    "\n",
    "1, 2, 3 — integers\n",
    "\n",
    "\"string content\" — a string\n",
    "\n",
    "3+4j — a complex number (has a real part 3 and imaginary part 4)\n",
    "\n",
    "Python lists can store mixed data types in the same list."
   ]
  },
  {
   "cell_type": "code",
   "execution_count": 62,
   "id": "fa77a771",
   "metadata": {},
   "outputs": [
    {
     "data": {
      "text/plain": [
       "[1, 2, 3, 'string content', (3+4j)]"
      ]
     },
     "execution_count": 62,
     "metadata": {},
     "output_type": "execute_result"
    }
   ],
   "source": [
    "a = [1,2,3, \"string content\", 3+4j]\n",
    "\n",
    "a"
   ]
  },
  {
   "cell_type": "markdown",
   "id": "8b4e3557",
   "metadata": {},
   "source": [
    "#### Code Explanation:\n",
    "---\n",
    "a is a list of strings, each representing a name or job title.\n",
    "\n",
    "a[0] accesses the first element of the list because Python uses zero-based indexing (indexing starts at 0).\n",
    "\n",
    "So a[0] returns \"chandra\"."
   ]
  },
  {
   "cell_type": "code",
   "execution_count": 63,
   "id": "f149ee3b",
   "metadata": {},
   "outputs": [
    {
     "data": {
      "text/plain": [
       "'chandra'"
      ]
     },
     "execution_count": 63,
     "metadata": {},
     "output_type": "execute_result"
    }
   ],
   "source": [
    "a = [\"chandra\", \"sai\", \"AI Engineer\", \"ML Engineer\", \"Data Science Engineer\"]\n",
    "\n",
    "a[0]"
   ]
  },
  {
   "cell_type": "markdown",
   "id": "d69769d9",
   "metadata": {},
   "source": [
    "#### Code Explanation:\n",
    "---\n",
    "a is a list of strings.\n",
    "\n",
    "a[0:2] is list slicing.\n",
    "\n",
    "It gets elements from index 0 up to but not including index 2.\n",
    "\n",
    "So it returns the first two items: \"chandra\" and \"sai\"."
   ]
  },
  {
   "cell_type": "code",
   "execution_count": 64,
   "id": "69e72fcd",
   "metadata": {},
   "outputs": [
    {
     "data": {
      "text/plain": [
       "['chandra', 'sai']"
      ]
     },
     "execution_count": 64,
     "metadata": {},
     "output_type": "execute_result"
    }
   ],
   "source": [
    "a = [\"chandra\", \"sai\", \"AI Engineer\", \"ML Engineer\", \"Data Science Engineer\"]\n",
    "\n",
    "a[0:2]"
   ]
  },
  {
   "cell_type": "markdown",
   "id": "0c0f01c5",
   "metadata": {},
   "source": [
    "#### Code Explanation:\n",
    "---\n",
    "a is a list of strings.\n",
    "\n",
    "a[:4] is a slice that means \"start from the beginning (index 0) up to but not including index 4\".\n",
    "\n",
    "So it returns the first 4 items: \"chandra\", \"sai\", \"AI Engineer\", and \"ML Engineer\"."
   ]
  },
  {
   "cell_type": "code",
   "execution_count": 65,
   "id": "37bc7118",
   "metadata": {},
   "outputs": [
    {
     "data": {
      "text/plain": [
       "['chandra', 'sai', 'AI Engineer', 'ML Engineer']"
      ]
     },
     "execution_count": 65,
     "metadata": {},
     "output_type": "execute_result"
    }
   ],
   "source": [
    "a = [\"chandra\", \"sai\", \"AI Engineer\", \"ML Engineer\", \"Data Science Engineer\"]\n",
    "\n",
    "a[:4]"
   ]
  },
  {
   "cell_type": "markdown",
   "id": "38057801",
   "metadata": {},
   "source": [
    "#### Code Explanation:\n",
    "---\n",
    "a[0:4:2] is extended slicing with three parts: start:stop:step\n",
    "\n",
    "start = 0: start from index 0 (the first element)\n",
    "\n",
    "stop = 4: go up to but not include index 4\n",
    "\n",
    "step = 2: take every 2nd element (skip 1 element in between)\n",
    "\n",
    "So it takes elements at indices:\n",
    "\n",
    "0 → \"chandra\"\n",
    "\n",
    "2 → \"AI Engineer\"\n",
    "\n",
    "Elements at indices 1 and 3 are skipped."
   ]
  },
  {
   "cell_type": "code",
   "execution_count": 66,
   "id": "71125212",
   "metadata": {},
   "outputs": [
    {
     "data": {
      "text/plain": [
       "['chandra', 'AI Engineer']"
      ]
     },
     "execution_count": 66,
     "metadata": {},
     "output_type": "execute_result"
    }
   ],
   "source": [
    "a = [\"chandra\", \"sai\", \"AI Engineer\", \"ML Engineer\", \"Data Science Engineer\"]\n",
    "\n",
    "a[0:4:2]\n",
    "\n",
    "# starting index=== 0\n",
    "# last index======= 4\n",
    "# skip 2 elements from it"
   ]
  },
  {
   "cell_type": "markdown",
   "id": "e73122e8",
   "metadata": {},
   "source": [
    "#### Code Explanation:\n",
    "---\n",
    "a[::2] is a slice with start and stop omitted, and a step of 2.\n",
    "\n",
    "This means:\n",
    "\n",
    "Start from the beginning (index 0),\n",
    "\n",
    "Go all the way to the end,\n",
    "\n",
    "Take every 2nd element (skip one in between).\n",
    "\n",
    "So it picks elements at indices: 0, 2, 4."
   ]
  },
  {
   "cell_type": "code",
   "execution_count": 67,
   "id": "938a5fb9",
   "metadata": {},
   "outputs": [
    {
     "data": {
      "text/plain": [
       "['chandra', 'AI Engineer', 'Data Science Engineer']"
      ]
     },
     "execution_count": 67,
     "metadata": {},
     "output_type": "execute_result"
    }
   ],
   "source": [
    "a = [\"chandra\", \"sai\", \"AI Engineer\", \"ML Engineer\", \"Data Science Engineer\"]\n",
    "\n",
    "a[::2]"
   ]
  },
  {
   "cell_type": "markdown",
   "id": "ecafa145",
   "metadata": {},
   "source": [
    "#### Code Explanation:\n",
    "---\n",
    "a[-1] uses negative indexing.\n",
    "\n",
    "Negative indices start counting from the end of the list:\n",
    "\n",
    "-1 means the last element,\n",
    "\n",
    "-2 means the second last, and so on.\n",
    "\n",
    "So a[-1] returns \"Data Science Engineer\", the last item in the list."
   ]
  },
  {
   "cell_type": "code",
   "execution_count": 68,
   "id": "56235770",
   "metadata": {},
   "outputs": [
    {
     "data": {
      "text/plain": [
       "'Data Science Engineer'"
      ]
     },
     "execution_count": 68,
     "metadata": {},
     "output_type": "execute_result"
    }
   ],
   "source": [
    "a = [\"chandra\", \"sai\", \"AI Engineer\", \"ML Engineer\", \"Data Science Engineer\"]\n",
    "\n",
    "a[-1]\n",
    "# last element"
   ]
  },
  {
   "cell_type": "markdown",
   "id": "db072073",
   "metadata": {},
   "source": [
    "#### Code Explanation:\n",
    "---\n",
    "a[-2] uses negative indexing to access the second last element of the list.\n",
    "\n",
    "Negative indices count from the end:\n",
    "\n",
    "-1 is the last element (\"Data Science Engineer\")\n",
    "\n",
    "-2 is the second last element (\"ML Engineer\")\n",
    "\n",
    "So, a[-2] returns \"ML Engineer\"."
   ]
  },
  {
   "cell_type": "code",
   "execution_count": 69,
   "id": "26354592",
   "metadata": {},
   "outputs": [
    {
     "data": {
      "text/plain": [
       "'ML Engineer'"
      ]
     },
     "execution_count": 69,
     "metadata": {},
     "output_type": "execute_result"
    }
   ],
   "source": [
    "a = [\"chandra\", \"sai\", \"AI Engineer\", \"ML Engineer\", \"Data Science Engineer\"]\n",
    "\n",
    "a[-2]"
   ]
  },
  {
   "cell_type": "markdown",
   "id": "0ad1411d",
   "metadata": {},
   "source": [
    "#### Code Explanation:\n",
    "---\n",
    "a[::-1] uses slice notation with a step of -1.\n",
    "\n",
    "This means:\n",
    "\n",
    "Start from the end of the list,\n",
    "\n",
    "Move backwards by one element at a time,\n",
    "\n",
    "Continue until the beginning of the list.\n",
    "\n",
    "So, it reverses the list without modifying the original.\n",
    "\n",
    "Output:\n",
    "['Data Science Engineer', 'ML Engineer', 'AI Engineer', 'sai', 'chandra']"
   ]
  },
  {
   "cell_type": "code",
   "execution_count": 70,
   "id": "8da56cb7",
   "metadata": {},
   "outputs": [
    {
     "data": {
      "text/plain": [
       "['Data Science Engineer', 'ML Engineer', 'AI Engineer', 'sai', 'chandra']"
      ]
     },
     "execution_count": 70,
     "metadata": {},
     "output_type": "execute_result"
    }
   ],
   "source": [
    "a = [\"chandra\", \"sai\", \"AI Engineer\", \"ML Engineer\", \"Data Science Engineer\"]\n",
    "\n",
    "a[::-1]\n",
    "# print in reverse order"
   ]
  },
  {
   "cell_type": "markdown",
   "id": "26ad8574",
   "metadata": {},
   "source": [
    "#### Code Explanation:\n",
    "---\n",
    "a = [1] is a list with a single element 1.\n",
    "\n",
    "a * 2 repeats the list twice.\n",
    "\n",
    "So it creates a new list where the elements of a are repeated two times in a row.\n",
    "\n",
    "Output:\n",
    "[1, 1]\n"
   ]
  },
  {
   "cell_type": "code",
   "execution_count": 71,
   "id": "ab19a4b3",
   "metadata": {},
   "outputs": [
    {
     "data": {
      "text/plain": [
       "[1, 1]"
      ]
     },
     "execution_count": 71,
     "metadata": {},
     "output_type": "execute_result"
    }
   ],
   "source": [
    "a = [1]\n",
    "\n",
    "a * 2\n",
    "\n",
    "# repeated elements twice"
   ]
  },
  {
   "cell_type": "markdown",
   "id": "936e9349",
   "metadata": {},
   "source": [
    "#### Code Explanation:\n",
    "---\n",
    "a is a list containing three elements: [1, 2, 3].\n",
    "\n",
    "a * 2 repeats the entire list twice.\n",
    "\n",
    "It creates a new list where the sequence [1, 2, 3] appears twice, back to back.\n",
    "\n",
    "Output:\n",
    "[1, 2, 3, 1, 2, 3]"
   ]
  },
  {
   "cell_type": "code",
   "execution_count": 72,
   "id": "b24029d7",
   "metadata": {},
   "outputs": [
    {
     "data": {
      "text/plain": [
       "[1, 2, 3, 1, 2, 3]"
      ]
     },
     "execution_count": 72,
     "metadata": {},
     "output_type": "execute_result"
    }
   ],
   "source": [
    "a = [1,2,3]\n",
    "\n",
    "a * 2\n",
    "\n",
    "# repeated elements twice"
   ]
  },
  {
   "cell_type": "markdown",
   "id": "2c14d5b5",
   "metadata": {},
   "source": [
    "#### Code Explanation:\n",
    "---\n",
    "a = [1, 2, 3]: This is a list with three elements.\n",
    "\n",
    "a.append(\"new element\"):\n",
    "\n",
    "The .append() method adds a new item at the end of the list.\n",
    "\n",
    "Here, \"new element\" is added as the last item.\n",
    "\n",
    "After appending, a becomes [1, 2, 3, \"new element\"].\n",
    "\n",
    "Output:\n",
    "[1, 2, 3, 'new element']"
   ]
  },
  {
   "cell_type": "code",
   "execution_count": 73,
   "id": "9fc0407e",
   "metadata": {},
   "outputs": [
    {
     "data": {
      "text/plain": [
       "[1, 2, 3, 'new element']"
      ]
     },
     "execution_count": 73,
     "metadata": {},
     "output_type": "execute_result"
    }
   ],
   "source": [
    "a = [1,2,3]\n",
    "\n",
    "a.append(\"new element\")\n",
    "# add element into list\n",
    "\n",
    "a"
   ]
  },
  {
   "cell_type": "markdown",
   "id": "fe7ad069",
   "metadata": {},
   "source": [
    "#### Code Explanation:\n",
    "---\n",
    "a = [1, 2, 3]: List with three numbers.\n",
    "\n",
    "a.append([4, 5, 6]): The .append() method adds the entire list [4, 5, 6] as a single element to the end of a.\n",
    "\n",
    "So after this, a becomes: [1, 2, 3, [4, 5, 6]].\n",
    "\n",
    "Notice the last element is a nested list (a list inside a list)."
   ]
  },
  {
   "cell_type": "code",
   "execution_count": 74,
   "id": "40fbdc6f",
   "metadata": {},
   "outputs": [
    {
     "data": {
      "text/plain": [
       "[1, 2, 3, [4, 5, 6]]"
      ]
     },
     "execution_count": 74,
     "metadata": {},
     "output_type": "execute_result"
    }
   ],
   "source": [
    "a = [1,2,3]\n",
    "\n",
    "a.append([4,5,6])\n",
    "\n",
    "a"
   ]
  },
  {
   "cell_type": "markdown",
   "id": "4a624d64",
   "metadata": {},
   "source": [
    "#### Code Explanation:\n",
    "---\n",
    "a = [1, 2, 3, 4, 5, 6]: A list with six elements.\n",
    "\n",
    "a.pop(0):\n",
    "\n",
    "The .pop() method removes and returns the element at the specified index.\n",
    "\n",
    "Here, 0 means the first element (1) will be removed.\n",
    "\n",
    "After popping, the list a becomes [2, 3, 4, 5, 6].\n",
    "\n",
    "The removed element 1 is returned by .pop(0), but if you don't assign it to a variable or print it, it will just be discarded."
   ]
  },
  {
   "cell_type": "code",
   "execution_count": 75,
   "id": "83405ecc",
   "metadata": {},
   "outputs": [
    {
     "data": {
      "text/plain": [
       "[2, 3, 4, 5, 6]"
      ]
     },
     "execution_count": 75,
     "metadata": {},
     "output_type": "execute_result"
    }
   ],
   "source": [
    "a = [1,2,3,4,5,6]\n",
    "\n",
    "# pop ....zero index\n",
    "a.pop(0)\n",
    "a"
   ]
  },
  {
   "cell_type": "markdown",
   "id": "fb06c918",
   "metadata": {},
   "source": [
    "### Tuple"
   ]
  },
  {
   "cell_type": "markdown",
   "id": "290b141d",
   "metadata": {},
   "source": [
    "#### Code Explanation:\n",
    "---\n",
    "a = (1, 2, 3, 4, 5, 6) creates a tuple with 6 elements.\n",
    "\n",
    "Tuples are similar to lists but are immutable (cannot be changed after creation).\n",
    "\n",
    "type(a) returns the data type of a.\n",
    "\n",
    "Since a is enclosed in parentheses (), Python treats it as a tuple."
   ]
  },
  {
   "cell_type": "code",
   "execution_count": 76,
   "id": "b26ddf7e",
   "metadata": {},
   "outputs": [
    {
     "data": {
      "text/plain": [
       "tuple"
      ]
     },
     "execution_count": 76,
     "metadata": {},
     "output_type": "execute_result"
    }
   ],
   "source": [
    "a = (1,2,3,4,5,6)\n",
    "\n",
    "type(a)"
   ]
  },
  {
   "cell_type": "markdown",
   "id": "1390d254",
   "metadata": {},
   "source": [
    "#### Code Explanation:\n",
    "---\n",
    "a is a tuple containing 4 string elements.\n",
    "\n",
    "a[:2] is a slice that gets elements from the start (index 0) up to but not including index 2.\n",
    "\n",
    "So it returns the first two elements: \"first\" and \"second\".\n",
    "\n",
    "Slicing works the same way for tuples as it does for lists.\n",
    "Output:\n",
    "('first', 'second')"
   ]
  },
  {
   "cell_type": "code",
   "execution_count": 77,
   "id": "556cdb2a",
   "metadata": {},
   "outputs": [
    {
     "data": {
      "text/plain": [
       "('first', 'second')"
      ]
     },
     "execution_count": 77,
     "metadata": {},
     "output_type": "execute_result"
    }
   ],
   "source": [
    "a = (\"first\", \"second\", \"third\",\"four\")\n",
    "\n",
    "a[:2]"
   ]
  },
  {
   "cell_type": "markdown",
   "id": "f3bc482a",
   "metadata": {},
   "source": [
    "#### Code Explanation:\n",
    "---\n",
    "a is a tuple with 4 elements.\n",
    "\n",
    "a[-1] uses negative indexing to access the last element in the tuple.\n",
    "\n",
    "Negative indices count from the end:\n",
    "\n",
    "-1 is the last element (\"four\"),\n",
    "\n",
    "-2 would be the second last, and so on.\n",
    "\n",
    "So a[-1] returns \"four\".\n",
    "\n",
    "Output:\n",
    "'four'"
   ]
  },
  {
   "cell_type": "code",
   "execution_count": 78,
   "id": "dd5ce6a3",
   "metadata": {},
   "outputs": [
    {
     "data": {
      "text/plain": [
       "'four'"
      ]
     },
     "execution_count": 78,
     "metadata": {},
     "output_type": "execute_result"
    }
   ],
   "source": [
    "a = (\"first\", \"second\", \"third\",\"four\")\n",
    "\n",
    "a[-1]"
   ]
  },
  {
   "cell_type": "markdown",
   "id": "29c7b8eb",
   "metadata": {},
   "source": [
    "#### Code Explanation:\n",
    "---\n",
    "a is a tuple with 4 elements.\n",
    "\n",
    "a[::-1] uses slice notation with a step of -1, meaning:\n",
    "\n",
    "Start from the end,\n",
    "\n",
    "Move backwards one element at a time,\n",
    "\n",
    "Continue until the beginning.\n",
    "\n",
    "This returns a new tuple with elements in reverse order.\n",
    "\n",
    "Output:\n",
    "('four', 'third', 'second', 'first')"
   ]
  },
  {
   "cell_type": "code",
   "execution_count": 79,
   "id": "4aa25a1e",
   "metadata": {},
   "outputs": [
    {
     "data": {
      "text/plain": [
       "('four', 'third', 'second', 'first')"
      ]
     },
     "execution_count": 79,
     "metadata": {},
     "output_type": "execute_result"
    }
   ],
   "source": [
    "a = (\"first\", \"second\", \"third\",\"four\")\n",
    "\n",
    "a[::-1]\n",
    "# print in reverse order"
   ]
  },
  {
   "cell_type": "markdown",
   "id": "9a0b5ed3",
   "metadata": {},
   "source": [
    "#### Code Explanation:\n",
    "---\n",
    "t is a string containing mixed uppercase and lowercase letters.\n",
    "\n",
    "t.lower() returns a new string where all characters are converted to lowercase.\n",
    "\n",
    "The original string t remains unchanged because strings are immutable.\n",
    "\n",
    "print(t.lower()) outputs the lowercase version of the string.\n",
    "\n",
    "Output:\n",
    "abxcdfbnght"
   ]
  },
  {
   "cell_type": "code",
   "execution_count": 80,
   "id": "5bbf35c2",
   "metadata": {},
   "outputs": [
    {
     "name": "stdout",
     "output_type": "stream",
     "text": [
      "abxcdfbnght\n"
     ]
    }
   ],
   "source": [
    "t = \"ABXCDFbnght\"\n",
    "t.lower()\n",
    "print(t.lower())\n",
    "\n",
    "#converted to LOWER CASE"
   ]
  },
  {
   "cell_type": "markdown",
   "id": "2ffabdef",
   "metadata": {},
   "source": [
    "#### Code Explanation:\n",
    "---\n",
    "t is a string with all lowercase letters.\n",
    "\n",
    "t.upper() converts all letters in the string to uppercase.\n",
    "\n",
    "print(t.upper()) prints the uppercase version.\n",
    "\n",
    "The original string t remains unchanged since strings are immutable.\n",
    "\n",
    "Output:\n",
    "ABCDEFGHIJK"
   ]
  },
  {
   "cell_type": "code",
   "execution_count": 81,
   "id": "c2b8f0fc",
   "metadata": {},
   "outputs": [
    {
     "name": "stdout",
     "output_type": "stream",
     "text": [
      "ABCDEFGHIJK\n"
     ]
    }
   ],
   "source": [
    "t = \"abcdefghijk\"\n",
    "print(t.upper())\n",
    "\n",
    "# converted to UPPER CASE"
   ]
  },
  {
   "cell_type": "markdown",
   "id": "7fcf739f",
   "metadata": {},
   "source": [
    "#### Code Explanation:\n",
    "---\n",
    "t is a string \"Hello World\" with two words separated by a space.\n",
    "\n",
    "t.split(' ') splits the string into a list of substrings using the space ' ' as the separator.\n",
    "\n",
    "The result sliced is a list: ['Hello', 'World'].\n",
    "\n",
    "This is useful to break a sentence or text into words.\n",
    "\n",
    "Output:\n",
    "['Hello', 'World']"
   ]
  },
  {
   "cell_type": "code",
   "execution_count": 82,
   "id": "0f9bed80",
   "metadata": {},
   "outputs": [
    {
     "name": "stdout",
     "output_type": "stream",
     "text": [
      "['Hello', 'World']\n"
     ]
    }
   ],
   "source": [
    "t = \"Hello World\"\n",
    "sliced = t.split(' ')\n",
    "\n",
    "print(sliced)\n",
    "\n",
    "# split data based on white-space"
   ]
  },
  {
   "cell_type": "markdown",
   "id": "7160277a",
   "metadata": {},
   "source": [
    "#### Code Explanation:\n",
    "---\n",
    "t is a string \"Hello,World\" where two words are separated by a comma.\n",
    "\n",
    "t.split(',') splits the string into a list of substrings using the comma , as the separator.\n",
    "\n",
    "The result sliced is a list: ['Hello', 'World'].\n",
    "\n",
    "This lets you separate text based on commas or any other character you specify.\n",
    "\n",
    "Output:\n",
    "['Hello', 'World']"
   ]
  },
  {
   "cell_type": "code",
   "execution_count": 83,
   "id": "f06f3729",
   "metadata": {},
   "outputs": [
    {
     "name": "stdout",
     "output_type": "stream",
     "text": [
      "['Hello', 'World']\n"
     ]
    }
   ],
   "source": [
    "t = \"Hello,World\"\n",
    "sliced = t.split(',')\n",
    "\n",
    "print(sliced)\n",
    "\n",
    "#split() ....the data based on comma"
   ]
  },
  {
   "cell_type": "markdown",
   "id": "003e3b8b",
   "metadata": {},
   "source": [
    "#### Code Explanation:\n",
    "---\n",
    "a = \"first statement\" initializes a string variable a.\n",
    "\n",
    "a + \" second-statement\" concatenates (joins) the original string with \" second-statement\".\n",
    "\n",
    "The result is assigned back to a, updating the variable to the combined string.\n",
    "\n",
    "print(a) outputs the combined string.\n",
    "\n",
    "Output:\n",
    "first statement second-statement"
   ]
  },
  {
   "cell_type": "code",
   "execution_count": 84,
   "id": "0ddda1aa",
   "metadata": {},
   "outputs": [
    {
     "name": "stdout",
     "output_type": "stream",
     "text": [
      "first statement second-statement\n"
     ]
    }
   ],
   "source": [
    "a =\"first statement\"\n",
    "a = a + \" second-statement\"\n",
    "\n",
    "print(a)\n",
    "\n",
    "# concatenate two strings"
   ]
  },
  {
   "cell_type": "markdown",
   "id": "63428fab",
   "metadata": {},
   "source": [
    "#### Code Explanation:\n",
    "---\n",
    "a is a tuple with 4 elements.\n",
    "\n",
    "The slice a[0:3:2] means:\n",
    "\n",
    "Start at index 0 (the first element: \"first\"),\n",
    "\n",
    "Go up to (but not including) index 3 (\"four\" is at index 3, so stop before that),\n",
    "\n",
    "Step by 2, which means take every second element.\n",
    "\n",
    "So it takes elements at index 0 and 2: \"first\" and \"third\".\n",
    "\n",
    "The element at index 1 (\"second\") is skipped because of the step 2.\n",
    "\n",
    "Output:\n",
    "('first', 'third')"
   ]
  },
  {
   "cell_type": "code",
   "execution_count": 85,
   "id": "3a54df15",
   "metadata": {},
   "outputs": [
    {
     "data": {
      "text/plain": [
       "('first', 'third')"
      ]
     },
     "execution_count": 85,
     "metadata": {},
     "output_type": "execute_result"
    }
   ],
   "source": [
    "a = (\"first\", \"second\", \"third\",\"four\")\n",
    "\n",
    "a[0:3:2]\n",
    "\n",
    "# skip \"second element\" every time"
   ]
  },
  {
   "cell_type": "markdown",
   "id": "138403b1",
   "metadata": {},
   "source": [
    "#### Code Explanation:\n",
    "---\n",
    "a is a tuple with 10 string elements.\n",
    "\n",
    "len(a) returns the total number of elements in the tuple, which is 10.\n",
    "\n",
    "print(\"total elements length\", len(a)) outputs:\n",
    "\n",
    "total elements length 10\n",
    "\n",
    "\n",
    "The slice a[0:9:2] means:\n",
    "\n",
    "Start from index 0 (element \"first\"),\n",
    "\n",
    "Go up to (but not including) index 9 (element \"nine\"),\n",
    "\n",
    "Step by 2, which means pick every second element.\n",
    "\n",
    "This skips every other element starting from the first one.\n",
    "\n",
    "Output of the slice:\n",
    "('first', 'third', 'five', 'seven', 'nine')"
   ]
  },
  {
   "cell_type": "code",
   "execution_count": 86,
   "id": "95b5a7fc",
   "metadata": {},
   "outputs": [
    {
     "name": "stdout",
     "output_type": "stream",
     "text": [
      "total elements length 10\n"
     ]
    },
    {
     "data": {
      "text/plain": [
       "('first', 'third', 'five', 'seven', 'nine')"
      ]
     },
     "execution_count": 86,
     "metadata": {},
     "output_type": "execute_result"
    }
   ],
   "source": [
    "a = (\"first\", \"second\", \"third\",\"four\",\"five\", \"six\", \"seven\", \"eight\", \"nine\", \"ten\")\n",
    "print(\"total elements length\",len(a))\n",
    "a[0:9:2]\n",
    "#skip second element every time"
   ]
  },
  {
   "cell_type": "markdown",
   "id": "b238ad7b",
   "metadata": {},
   "source": [
    "### Dictionary"
   ]
  },
  {
   "cell_type": "markdown",
   "id": "7fe4da8e",
   "metadata": {},
   "source": [
    "#### Code Explanation:\n",
    "---\n",
    "d is a dictionary in Python.\n",
    "\n",
    "A dictionary stores key-value pairs.\n",
    "\n",
    "Here, 'key' is the key (a string), and [1, 2, 3, 4] is the value (a list).\n",
    "\n",
    "So d holds one entry where 'key' maps to the list [1, 2, 3, 4].\n",
    "\n",
    "Dictionaries are useful for associating unique keys with data values.\n",
    "\n",
    "Output:\n",
    "{'key': [1, 2, 3, 4]}"
   ]
  },
  {
   "cell_type": "code",
   "execution_count": 87,
   "id": "d3e5cb90",
   "metadata": {},
   "outputs": [
    {
     "data": {
      "text/plain": [
       "{'key': [1, 2, 3, 4]}"
      ]
     },
     "execution_count": 87,
     "metadata": {},
     "output_type": "execute_result"
    }
   ],
   "source": [
    "d = {'key': [1,2,3,4]}\n",
    "\n",
    "d"
   ]
  },
  {
   "cell_type": "markdown",
   "id": "565a5eb4",
   "metadata": {},
   "source": [
    "#### Code Explanation:\n",
    "---\n",
    "d[\"key\"] accesses the value associated with the key \"key\" in the dictionary d.\n",
    "\n",
    "Since earlier you defined:\n",
    "\n",
    "d = {'key': [1, 2, 3, 4]}\n",
    "\n",
    "\n",
    "this will return the list [1, 2, 3, 4]."
   ]
  },
  {
   "cell_type": "code",
   "execution_count": 88,
   "id": "d3bd9b08",
   "metadata": {},
   "outputs": [
    {
     "data": {
      "text/plain": [
       "[1, 2, 3, 4]"
      ]
     },
     "execution_count": 88,
     "metadata": {},
     "output_type": "execute_result"
    }
   ],
   "source": [
    "d[\"key\"]"
   ]
  },
  {
   "cell_type": "markdown",
   "id": "f068e0b2",
   "metadata": {},
   "source": [
    "#### Code Explanation:\n",
    "---\n",
    "In Python dictionaries, keys must be unique.\n",
    "\n",
    "If you try to create a dictionary with duplicate keys, Python will keep only the last value assigned to that key.\n",
    "\n",
    "Here, you defined 'key' twice:\n",
    "\n",
    "First: 'key': [1, 2, 3, 4]\n",
    "\n",
    "Then: 'key': [5, 6, 7, 8]\n",
    "\n",
    "Python replaces the first 'key' value with the second one.\n",
    "\n",
    "So, the dictionary d actually becomes:\n",
    "\n",
    "{'key': [5, 6, 7, 8]}\n",
    "\n",
    "Output:\n",
    "{'key': [5, 6, 7, 8]}"
   ]
  },
  {
   "cell_type": "code",
   "execution_count": 89,
   "id": "089dc64e",
   "metadata": {},
   "outputs": [
    {
     "data": {
      "text/plain": [
       "{'key': [5, 6, 7, 8]}"
      ]
     },
     "execution_count": 89,
     "metadata": {},
     "output_type": "execute_result"
    }
   ],
   "source": [
    "#get latest 'key' in \"dictionary\"\n",
    "d = {'key': [1,2,3,4],\n",
    "     'key': [5,6,7,8]}\n",
    "\n",
    "d\n",
    "# key has 1,2,3,4 ....these are replaced\n",
    " # python avoid duplicates in dictionary and replaces it last modified 'key'"
   ]
  },
  {
   "cell_type": "markdown",
   "id": "940c78c6",
   "metadata": {},
   "source": [
    "#### Code Explanation:\n",
    "---\n",
    "d is a dictionary with two keys: 'key1' and 'key2'.\n",
    "\n",
    "d.items (without parentheses) is just a reference to the method itself, not executed yet.\n",
    "\n",
    "d.items() (with parentheses) calls the method and returns a view object containing all the dictionary’s key-value pairs as tuples.\n",
    "\n",
    "Each item is a tuple like: ('key1', [\"string1\", \"string2\"]).\n",
    "\n",
    "What happens:\n",
    "\n",
    "d.items → refers to the method object (no output useful for data)\n",
    "\n",
    "d.items() → returns something like:\n",
    "\n",
    "dict_items([('key1', ['string1', 'string2']), ('key2', [1, 2, 3, 4, 5, 6])])"
   ]
  },
  {
   "cell_type": "code",
   "execution_count": 90,
   "id": "bb1bc50d",
   "metadata": {},
   "outputs": [
    {
     "data": {
      "text/plain": [
       "dict_items([('key1', ['string1', 'string2']), ('key2', [1, 2, 3, 4, 5, 6])])"
      ]
     },
     "execution_count": 90,
     "metadata": {},
     "output_type": "execute_result"
    }
   ],
   "source": [
    "# print items in \"dictionary\"\n",
    "d = {'key1': [\"string1\", \"string2\"],\n",
    "     'key2': [1,2,3,4,5,6]\n",
    "}\n",
    "\n",
    "d.items\n",
    "d.items()"
   ]
  },
  {
   "cell_type": "markdown",
   "id": "eadc3023",
   "metadata": {},
   "source": [
    "#### Code Explanation:\n",
    "---\n",
    "d.keys() is a method that returns a view object containing all the keys in the dictionary d.\n",
    "\n",
    "It doesn’t return a list, but behaves like a set of keys that you can iterate over.\n",
    "\n",
    "You can convert it to a list if you want to print keys as a list.\n",
    "\n",
    "Example Output:\n",
    "dict_keys(['key1', 'key2'])"
   ]
  },
  {
   "cell_type": "code",
   "execution_count": 91,
   "id": "79195497",
   "metadata": {},
   "outputs": [
    {
     "data": {
      "text/plain": [
       "dict_keys(['key1', 'key2'])"
      ]
     },
     "execution_count": 91,
     "metadata": {},
     "output_type": "execute_result"
    }
   ],
   "source": [
    "#print keys in \"dictionary\"\n",
    "d = {'key1': [\"string1\", \"string2\"],\n",
    "     'key2': [1,2,3,4,5,6]\n",
    "}\n",
    "\n",
    "d.keys()\n",
    "# print keys"
   ]
  },
  {
   "cell_type": "markdown",
   "id": "ab606714",
   "metadata": {},
   "source": [
    "#### Code Explanation:\n",
    "---\n",
    "d.values() is a method that returns a view object containing all the values in the dictionary d.\n",
    "\n",
    "Values are what each key in the dictionary points to.\n",
    "\n",
    "It doesn’t return a list but behaves like a collection of the dictionary’s values.\n",
    "\n",
    "You can convert it to a list if you want to see all values at once.\n",
    "\n",
    "Example Output:\n",
    "dict_values([['string1', 'string2'], [1, 2, 3, 4, 5, 6]])"
   ]
  },
  {
   "cell_type": "code",
   "execution_count": 92,
   "id": "7620441d",
   "metadata": {},
   "outputs": [
    {
     "data": {
      "text/plain": [
       "dict_values([['string1', 'string2'], [1, 2, 3, 4, 5, 6]])"
      ]
     },
     "execution_count": 92,
     "metadata": {},
     "output_type": "execute_result"
    }
   ],
   "source": [
    "d = {'key1': [\"string1\", \"string2\"],\n",
    "     'key2': [1,2,3,4,5,6]\n",
    "}\n",
    "\n",
    "d.values()\n",
    "#it returns all the values"
   ]
  },
  {
   "cell_type": "markdown",
   "id": "5109d4a7",
   "metadata": {},
   "source": [
    "#### Code Explanation:\n",
    "---\n",
    "del d['key2'] deletes the key 'key2' and its associated value from the dictionary d.\n",
    "\n",
    "After this operation, the dictionary d only contains 'key1' and its value.\n",
    "\n",
    "del is a Python keyword used to remove variables, dictionary keys, list elements, etc.\n",
    "\n",
    "Output:\n",
    "{'key1': ['string1', 'string2']}\n",
    "\n",
    "Summary:\n",
    "\n",
    "Use del dict[key] to remove a key-value pair from a dictionary.\n",
    "\n",
    "Trying to delete a key that doesn’t exist will raise a KeyError.\n",
    "\n",
    "To avoid errors, you can check if the key exists before deleting."
   ]
  },
  {
   "cell_type": "code",
   "execution_count": 93,
   "id": "57fe80a3",
   "metadata": {},
   "outputs": [
    {
     "data": {
      "text/plain": [
       "{'key1': ['string1', 'string2']}"
      ]
     },
     "execution_count": 93,
     "metadata": {},
     "output_type": "execute_result"
    }
   ],
   "source": [
    "# delete dictionry\n",
    "d = {'key1': [\"string1\", \"string2\"],\n",
    "     'key2': [1,2,3,4,5,6]\n",
    "}\n",
    "\n",
    "del d['key2']\n",
    "# delete key2\n",
    "\n",
    "d"
   ]
  },
  {
   "cell_type": "markdown",
   "id": "f8bb9132",
   "metadata": {},
   "source": [
    "#### Code Explanation:\n",
    "---\n",
    "monuments is a dictionary inside a dictionary — also called a nested dictionary.\n",
    "\n",
    "The outer dictionary has one key: \"Taj Mahal\".\n",
    "\n",
    "The value for \"Taj Mahal\" is another dictionary: {\"Location\": \"Agra\", \"Year\": 1632}.\n",
    "\n",
    "To access \"Year\" inside this nested dictionary, you use two keys:\n",
    "\n",
    "First, get the value for \"Taj Mahal\": monuments[\"Taj Mahal\"] → {\"Location\": \"Agra\", \"Year\": 1632}\n",
    "\n",
    "Then, get \"Year\" from that dictionary: [\"Year\"]\n",
    "\n",
    "So, monuments[\"Taj Mahal\"][\"Year\"] gives you 1632.\n",
    "\n",
    "Output:\n",
    "1632"
   ]
  },
  {
   "cell_type": "code",
   "execution_count": 94,
   "id": "25240fcc",
   "metadata": {},
   "outputs": [
    {
     "data": {
      "text/plain": [
       "1632"
      ]
     },
     "execution_count": 94,
     "metadata": {},
     "output_type": "execute_result"
    }
   ],
   "source": [
    "# Dictionary within Dictionary\n",
    "\n",
    "monuments={\"Taj Mahal\":{\"Location\":\"Agra\",\"Year\":1632}}\n",
    "\n",
    "monuments[\"Taj Mahal\"][\"Year\"]"
   ]
  },
  {
   "cell_type": "markdown",
   "id": "02fd012b",
   "metadata": {},
   "source": [
    "#### Code Explanation:\n",
    "---\n",
    "lang is a dictionary with states as keys and their languages as values.\n",
    "\n",
    "The .get() method is used to retrieve the value for a given key.\n",
    "\n",
    "Syntax: dictionary.get(key, default_value)\n",
    "\n",
    "Here, \"Goa\" is not a key in the dictionary.\n",
    "\n",
    "So, instead of causing an error like lang[\"Goa\"] would, .get() returns the default value \"Not Available\".\n",
    "\n",
    "This helps avoid errors when the key might be missing.\n",
    "\n",
    "Output:\n",
    "'Not Available'\n",
    "\n",
    "Summary:\n",
    "\n",
    ".get() safely fetches the value for a key.\n",
    "\n",
    "If key is missing, returns the specified default instead of raising an error.\n",
    "\n",
    "Very useful when working with uncertain dictionary data."
   ]
  },
  {
   "cell_type": "code",
   "execution_count": 95,
   "id": "acf0e029",
   "metadata": {},
   "outputs": [
    {
     "data": {
      "text/plain": [
       "'Not Available'"
      ]
     },
     "execution_count": 95,
     "metadata": {},
     "output_type": "execute_result"
    }
   ],
   "source": [
    "# get() function in \"dictionary\"\n",
    "lang={\"karnataka\":\"Kannada\",\"Andhra Pradesh\":\"Telugu\"}\n",
    "\n",
    "lang.get(\"Goa\",\"Not Available\")"
   ]
  },
  {
   "cell_type": "markdown",
   "id": "42dd1cb8",
   "metadata": {},
   "source": [
    "#### Code Explanation:\n",
    "---\n",
    "The .pop() method removes a key from the dictionary and returns its value.\n",
    "\n",
    "Here, \"UK\" is removed from capitals.\n",
    "\n",
    "After pop, \"UK\": \"London\" is deleted from the dictionary.\n",
    "\n",
    "It’s a safe way to remove a key and use the removed value if needed.\n",
    "\n",
    "If the key doesn’t exist, .pop() will raise a KeyError unless a default value is provided as the second argument.\n",
    "\n",
    "Output:\n",
    "uk information got deleted\n",
    "{'India': 'Delhi', 'Andhra Pradesh': 'Amaravati'}\n",
    "\n",
    "Summary:\n",
    "\n",
    ".pop(key) removes and returns the value for key.\n",
    "\n",
    "Use it to delete entries while optionally using the removed value.\n",
    "\n",
    "To avoid errors, you can provide a default value like .pop(key, default)."
   ]
  },
  {
   "cell_type": "code",
   "execution_count": 96,
   "id": "fca36130",
   "metadata": {},
   "outputs": [
    {
     "name": "stdout",
     "output_type": "stream",
     "text": [
      "uk information got deleted\n",
      "{'India': 'Delhi', 'Andhra Pradesh': 'Amaravati'}\n"
     ]
    }
   ],
   "source": [
    "#pop() function in \"dictionary\"\n",
    "\n",
    "capitals={\"India\":\"Delhi\",\"Andhra Pradesh\":\"Amaravati\",\"UK\":\"London\"}\n",
    "capitals.pop(\"UK\")\n",
    "print(\"uk information got deleted\")\n",
    "print(capitals)"
   ]
  },
  {
   "cell_type": "markdown",
   "id": "a8331f23",
   "metadata": {},
   "source": [
    "#### Code Explanation:\n",
    "---\n",
    "The .popitem() method removes and returns the last inserted key-value pair from the dictionary.\n",
    "\n",
    "Since Python 3.7+, dictionaries remember the order of insertion.\n",
    "\n",
    "So, .popitem() removes the most recently added item.\n",
    "\n",
    "It returns the removed item as a tuple (key, value).\n",
    "\n",
    "If the dictionary is empty, calling .popitem() raises a KeyError.\n",
    "\n",
    "Example:\n",
    "capitals = {\"India\": \"Delhi\", \"Andhra Pradesh\": \"Amaravati\", \"UK\": \"London\"}\n",
    "\n",
    "removed_item = capitals.popitem()\n",
    "print(\"Removed:\", removed_item)\n",
    "print(\"Remaining dict:\", capitals)\n",
    "\n",
    "\n",
    "Possible Output:\n",
    "\n",
    "Removed: ('UK', 'London')\n",
    "Remaining dict: {'India': 'Delhi', 'Andhra Pradesh': 'Amaravati'}\n",
    "\n",
    "Summary:\n",
    "\n",
    "Use .popitem() to remove the last added key-value pair from a dictionary.\n",
    "\n",
    "Useful for stack-like behavior or when order matters.\n",
    "\n",
    "Raises error if dictionary is empty."
   ]
  },
  {
   "cell_type": "code",
   "execution_count": 97,
   "id": "206f344d",
   "metadata": {},
   "outputs": [
    {
     "data": {
      "text/plain": [
       "('Andhra Pradesh', 'Amaravati')"
      ]
     },
     "execution_count": 97,
     "metadata": {},
     "output_type": "execute_result"
    }
   ],
   "source": [
    "# delete the popitem() in dictionary\n",
    "\n",
    "capitals.popitem()"
   ]
  },
  {
   "cell_type": "markdown",
   "id": "c6ec1ab5",
   "metadata": {},
   "source": [
    "#### Code Explanation:\n",
    "---\n",
    "The .clear() method removes all items from the dictionary, making it empty.\n",
    "\n",
    "After calling capitals.clear(), the dictionary capitals becomes {}.\n",
    "\n",
    "The .clear() method does not return anything (returns None), so printing capitals.clear() will print None.\n",
    "\n",
    "You only need to call .clear() once to empty the dictionary.\n",
    "\n",
    "Example:\n",
    "capitals = {\"India\": \"Delhi\", \"Andhra Pradesh\": \"Amaravati\", \"UK\": \"London\"}\n",
    "\n",
    "capitals.clear()\n",
    "print(capitals)         # Prints: {}\n",
    "print(capitals.clear()) # Prints: None\n",
    "\n",
    "#### Output:\n",
    "{}\n",
    "None\n",
    "------\n",
    "#### Summary:\n",
    "\n",
    ".clear() empties the dictionary.\n",
    "\n",
    "It changes the dictionary in place.\n",
    "\n",
    "It returns None — don’t expect any output when you print the result of .clear()."
   ]
  },
  {
   "cell_type": "code",
   "execution_count": 98,
   "id": "2bb8237f",
   "metadata": {},
   "outputs": [
    {
     "name": "stdout",
     "output_type": "stream",
     "text": [
      "None\n"
     ]
    }
   ],
   "source": [
    "# clear() function in dictionary\n",
    "\n",
    "capitals.clear()\n",
    "print(capitals.clear())"
   ]
  },
  {
   "cell_type": "markdown",
   "id": "e4fe4cdf",
   "metadata": {},
   "source": [
    "#### Code Explanation:\n",
    "---\n",
    "states and capital are two separate lists.\n",
    "\n",
    "zip(states, capital) pairs elements from both lists based on their positions.\n",
    "\n",
    "Example: (\"Rajasthan\", \"Jaipur\"), (\"Assam\", \"Dispur\"), etc.\n",
    "\n",
    "list(zip(states, capital)) converts these pairs into a list of tuples.\n",
    "\n",
    "dict(zip(states, capital)) converts the zipped pairs into a dictionary, where:\n",
    "\n",
    "Each element from states becomes a key.\n",
    "\n",
    "Each corresponding element from capital becomes the value for that key.\n",
    "\n",
    "This is a common way to create a dictionary when you have two related lists.\n",
    "\n",
    "Output:\n",
    "sample list:  [('Rajasthan', 'Jaipur'), ('Assam', 'Dispur'), ('Bihar', 'Patna')]\n",
    "sample dictionary {'Rajasthan': 'Jaipur', 'Assam': 'Dispur', 'Bihar': 'Patna'}\n",
    "\n",
    "Summary:\n",
    "\n",
    "zip() pairs items from multiple lists.\n",
    "\n",
    "dict(zip()) quickly creates dictionaries from two lists.\n",
    "\n",
    "Useful for mapping related data like states and their capitals."
   ]
  },
  {
   "cell_type": "code",
   "execution_count": 99,
   "id": "c3fb03f0",
   "metadata": {},
   "outputs": [
    {
     "name": "stdout",
     "output_type": "stream",
     "text": [
      "sample list:  [('Rajasthan', 'Jaipur'), ('Assam', 'Dispur'), ('Bihar', 'Patna')]\n",
      "sample dictionary {'Rajasthan': 'Jaipur', 'Assam': 'Dispur', 'Bihar': 'Patna'}\n"
     ]
    }
   ],
   "source": [
    "#convert two lists into Dictionary\n",
    "\n",
    "states=[\"Rajasthan\",\"Assam\",\"Bihar\"]\n",
    "capital=[\"Jaipur\",\"Dispur\",\"Patna\"]\n",
    "\n",
    "zip(states,capital)\n",
    "list(zip(states,capital))\n",
    "print(\"sample list: \",list(zip(states,capital)))\n",
    "print(\"sample dictionary\",dict(zip(states,capital)))"
   ]
  },
  {
   "cell_type": "markdown",
   "id": "90d76589",
   "metadata": {},
   "source": [
    "#### Code Explanation:\n",
    "---\n",
    "This defines a function named factorial that calculates the factorial of a number using recursion.\n",
    "\n",
    "Factorial of a number n (written as n!) is the product of all positive integers from 1 to n.\n",
    "\n",
    "Special case: 0! is defined as 1.\n",
    "\n",
    "How the function works:\n",
    "\n",
    "Base Case:\n",
    "\n",
    "When number == 0, it returns 1.\n",
    "\n",
    "This stops the recursion.\n",
    "\n",
    "Recursive Case:\n",
    "\n",
    "For any other number, it returns number * factorial(number - 1).\n",
    "\n",
    "This means the function calls itself with a smaller number, multiplying the current number by the factorial of one less than it."
   ]
  },
  {
   "cell_type": "code",
   "execution_count": 100,
   "id": "e0273a8c",
   "metadata": {},
   "outputs": [
    {
     "data": {
      "text/plain": [
       "1"
      ]
     },
     "execution_count": 100,
     "metadata": {},
     "output_type": "execute_result"
    }
   ],
   "source": [
    "def factorial(number):\n",
    "    if number==0:\n",
    "        return 1\n",
    "    else:\n",
    "        return number * factorial(number-1) \n",
    "\n",
    "factorial(0)        \n",
    "\n",
    "# function"
   ]
  },
  {
   "cell_type": "code",
   "execution_count": 101,
   "id": "cd0b7716",
   "metadata": {},
   "outputs": [
    {
     "data": {
      "text/plain": [
       "120"
      ]
     },
     "execution_count": 101,
     "metadata": {},
     "output_type": "execute_result"
    }
   ],
   "source": [
    "factorial(5)"
   ]
  },
  {
   "cell_type": "markdown",
   "id": "0cae1cd1",
   "metadata": {},
   "source": [
    "#### Code Explanation:\n",
    "---\n",
    "\n",
    "You're passing a string (\"3\") instead of an integer to the factorial function.\n",
    "\n",
    "Problem:\n",
    "\n",
    "The function expects a number (int), but \"3\" is a string.\n",
    "\n",
    "When Python tries to evaluate \"3\" == 0 or \"3\" - 1, it will raise a TypeError."
   ]
  },
  {
   "cell_type": "code",
   "execution_count": 102,
   "id": "e98629fe",
   "metadata": {},
   "outputs": [
    {
     "ename": "TypeError",
     "evalue": "unsupported operand type(s) for -: 'str' and 'int'",
     "output_type": "error",
     "traceback": [
      "\u001b[31m---------------------------------------------------------------------------\u001b[39m",
      "\u001b[31mTypeError\u001b[39m                                 Traceback (most recent call last)",
      "\u001b[36mCell\u001b[39m\u001b[36m \u001b[39m\u001b[32mIn[102]\u001b[39m\u001b[32m, line 1\u001b[39m\n\u001b[32m----> \u001b[39m\u001b[32m1\u001b[39m \u001b[43mfactorial\u001b[49m\u001b[43m(\u001b[49m\u001b[33;43m\"\u001b[39;49m\u001b[33;43m3\u001b[39;49m\u001b[33;43m\"\u001b[39;49m\u001b[43m)\u001b[49m\n",
      "\u001b[36mCell\u001b[39m\u001b[36m \u001b[39m\u001b[32mIn[100]\u001b[39m\u001b[32m, line 5\u001b[39m, in \u001b[36mfactorial\u001b[39m\u001b[34m(number)\u001b[39m\n\u001b[32m      3\u001b[39m     \u001b[38;5;28;01mreturn\u001b[39;00m \u001b[32m1\u001b[39m\n\u001b[32m      4\u001b[39m \u001b[38;5;28;01melse\u001b[39;00m:\n\u001b[32m----> \u001b[39m\u001b[32m5\u001b[39m     \u001b[38;5;28;01mreturn\u001b[39;00m number * factorial(\u001b[43mnumber\u001b[49m\u001b[43m-\u001b[49m\u001b[32;43m1\u001b[39;49m)\n",
      "\u001b[31mTypeError\u001b[39m: unsupported operand type(s) for -: 'str' and 'int'"
     ]
    }
   ],
   "source": [
    "factorial(\"3\")"
   ]
  },
  {
   "cell_type": "markdown",
   "id": "5e259e66",
   "metadata": {},
   "source": [
    "#### Code Explanation:\n",
    "---\n",
    "In Python, you can write a single-line comment using the # symbol. Anything written after # on that line will be ignored by the Python interpreter."
   ]
  },
  {
   "cell_type": "code",
   "execution_count": 103,
   "id": "8ef7b307",
   "metadata": {},
   "outputs": [],
   "source": [
    "#single comment line"
   ]
  },
  {
   "cell_type": "markdown",
   "id": "85603cd7",
   "metadata": {},
   "source": [
    "#### Code Explanation:\n",
    "---\n",
    "✅ 1. # function definition\n",
    "\n",
    "This is a comment.\n",
    "\n",
    "The # symbol tells Python to ignore this line.\n",
    "\n",
    "It’s used here to indicate that the next block defines a function.\n",
    "\n",
    "✅ 2. def add(num1, num2):\n",
    "\n",
    "def is the keyword used to define a function.\n",
    "\n",
    "add is the name of the function. You can call it anything, but names should be meaningful.\n",
    "\n",
    "(num1, num2) are the parameters of the function — they accept values when the function is called.\n",
    "\n",
    ": marks the beginning of the function's body (the indented block that follows).\n",
    "\n",
    "✅ 3. return num1 + num2\n",
    "\n",
    "This is the body of the function.\n",
    "\n",
    "The return statement sends the result of num1 + num2 back to the caller.\n",
    "\n",
    "In this case, it adds the two numbers passed in and returns the sum.\n",
    "\n",
    "For example, if num1 = 5 and num2 = 5, the function returns 10.\n",
    "\n",
    "✅ 4. # function calling\n",
    "\n",
    "Another comment, used here to label the part of the code where the function is being called.\n",
    "\n",
    "✅ 5. add(5, 5)\n",
    "\n",
    "This is a function call.\n",
    "\n",
    "You're passing two arguments: 5 and 5 to the add() function.\n",
    "\n",
    "Internally, num1 = 5 and num2 = 5.\n",
    "\n",
    "It returns 10, but since you’re not using print() or assigning it to a variable, the result is computed and discarded.\n",
    "\n",
    "🔁 To See the Output\n",
    "\n",
    "If you want to see the result, you should either:\n",
    "\n",
    "Print it:\n",
    "\n",
    "print(add(5, 5))  # Output: 10\n",
    "\n",
    "\n",
    "Or store it in a variable:\n",
    "\n",
    "result = add(5, 5)\n",
    "print(result)     # Output: 10\n"
   ]
  },
  {
   "cell_type": "code",
   "execution_count": 104,
   "id": "58c4c351",
   "metadata": {},
   "outputs": [
    {
     "data": {
      "text/plain": [
       "10"
      ]
     },
     "execution_count": 104,
     "metadata": {},
     "output_type": "execute_result"
    }
   ],
   "source": [
    "# function definition\n",
    "def add(num1,num2):\n",
    "    return num1 + num2\n",
    "\n",
    "#function calling\n",
    "add(5,5)"
   ]
  },
  {
   "cell_type": "markdown",
   "id": "9ecb37b0",
   "metadata": {},
   "source": [
    "#### Code Explanation:\n",
    "---\n",
    "📌 def function():\n",
    "\n",
    "def: Keyword used to define a function.\n",
    "\n",
    "function: The name of your function (not a good name in practice — more on that later).\n",
    "\n",
    "():: Parentheses indicate that the function takes no parameters.\n",
    "\n",
    ":: Starts the indented block (the body of the function).\n",
    "\n",
    "📌 \"\"\" doc string ... \"\"\"\n",
    "\n",
    "This is a docstring — short for documentation string.\n",
    "\n",
    "✅ What is a docstring?\n",
    "\n",
    "It's a string literal that appears as the first statement in a function, class, or module.\n",
    "\n",
    "Python uses this string as official documentation."
   ]
  },
  {
   "cell_type": "code",
   "execution_count": 105,
   "id": "027ddc3f",
   "metadata": {},
   "outputs": [],
   "source": [
    "def function():\n",
    "    \"\"\" \n",
    "     doc string \n",
    "    \n",
    "    to describe the purpose of function\n",
    "    \"\"\"\n",
    "    pass \n",
    "\n",
    "function()"
   ]
  },
  {
   "cell_type": "code",
   "execution_count": 106,
   "id": "1a59eec3",
   "metadata": {},
   "outputs": [],
   "source": [
    "# interpreter encounters \"pass\" keyword, it does nothing and moves on to the next line. "
   ]
  },
  {
   "cell_type": "code",
   "execution_count": 107,
   "id": "30c7101c",
   "metadata": {},
   "outputs": [
    {
     "data": {
      "text/plain": [
       "25"
      ]
     },
     "execution_count": 107,
     "metadata": {},
     "output_type": "execute_result"
    }
   ],
   "source": [
    "#function definition \n",
    "def add(number1, number2):\n",
    "    \"\"\" it takes two arguments\n",
    "    first parameter: number1\n",
    "    second parameter: number2\n",
    "\n",
    "    Returns: finally adds the two number and returns the output\n",
    "    \"\"\"\n",
    "    return number1 + number2 # function definition ends here\n",
    "\n",
    "#function calling....to execute the function\n",
    "add(20, 5)    "
   ]
  },
  {
   "cell_type": "markdown",
   "id": "a39af8de",
   "metadata": {},
   "source": [
    "#### Code Explanation:\n",
    "---\n",
    "*args collects all positional arguments passed to the function into a tuple.\n",
    "\n",
    "You then convert args to a list (which is not necessary in this case) and iterate through it.\n",
    "\n",
    "Each argument is printed one by one."
   ]
  },
  {
   "cell_type": "code",
   "execution_count": 108,
   "id": "23e59bad",
   "metadata": {},
   "outputs": [
    {
     "name": "stdout",
     "output_type": "stream",
     "text": [
      "2\n",
      "3\n",
      "4\n",
      "5\n"
     ]
    }
   ],
   "source": [
    "#args .....within function()\n",
    "def argument_function(*args):\n",
    "    for i in list(args):\n",
    "        print(i)\n",
    "\n",
    "\n",
    "argument_function(2,3,4,5)"
   ]
  },
  {
   "cell_type": "markdown",
   "id": "df3d5914",
   "metadata": {},
   "source": [
    "#### Code Explanation:\n",
    "---\n",
    "*args allows the function to accept a variable number of arguments.\n",
    "\n",
    "sum is initialized to 0.\n",
    "\n",
    "The function iterates over all the values in args and adds them.\n",
    "\n",
    "Finally, it prints the result.\n",
    "\n",
    "💡 Output:\n",
    "sum of all values 21"
   ]
  },
  {
   "cell_type": "code",
   "execution_count": 109,
   "id": "2a7b4fd0",
   "metadata": {},
   "outputs": [
    {
     "name": "stdout",
     "output_type": "stream",
     "text": [
      "sum of all values 21\n"
     ]
    }
   ],
   "source": [
    "def add_arguments(*args):\n",
    "    sum=0\n",
    "    for i in args:\n",
    "        sum+=i\n",
    "    print(\"sum of all values\",sum)    \n",
    "\n",
    "add_arguments(1,2,3,4,5,6)    "
   ]
  },
  {
   "cell_type": "markdown",
   "id": "2bd279c8",
   "metadata": {},
   "source": [
    "#### Code Explanation:\n",
    "---\n",
    "💡 Example Use-Cases for **kwargs:\n",
    "\n",
    "Flexible APIs\n",
    "\n",
    "Logging or debugging info\n",
    "\n",
    "Passing config settings dynamically"
   ]
  },
  {
   "cell_type": "code",
   "execution_count": 110,
   "id": "07f029e7",
   "metadata": {},
   "outputs": [
    {
     "data": {
      "text/plain": [
       "{'name': 'chandra', 'email_id': 'chandrasekharcse522@gmail.com'}"
      ]
     },
     "execution_count": 110,
     "metadata": {},
     "output_type": "execute_result"
    }
   ],
   "source": [
    "#kwargs.....\n",
    "def function(**kwargs):\n",
    "    return kwargs\n",
    "\n",
    "function(name=\"chandra\",email_id=\"chandrasekharcse522@gmail.com\")"
   ]
  },
  {
   "cell_type": "markdown",
   "id": "bb0c0094",
   "metadata": {},
   "source": [
    "#### Code Explanation:\n",
    "---\n",
    "Lambda Functions in Python\n",
    "What is a lambda function?\n",
    "\n",
    "A lambda function is a small anonymous function (a function without a name).\n",
    "\n",
    "It can take any number of arguments but only has one expression.\n",
    "\n",
    "The expression is evaluated and returned automatically.\n",
    "\n",
    "Syntax of lambda function\n",
    "lambda arguments: expression\n",
    "\n",
    "\n",
    "lambda is the keyword.\n",
    "\n",
    "arguments is a comma-separated list of parameters.\n",
    "\n",
    "expression is a single expression (no statements allowed).\n",
    "Output: The result 6 is returned."
   ]
  },
  {
   "cell_type": "code",
   "execution_count": 111,
   "id": "37f28d6e",
   "metadata": {},
   "outputs": [
    {
     "data": {
      "text/plain": [
       "6"
      ]
     },
     "execution_count": 111,
     "metadata": {},
     "output_type": "execute_result"
    }
   ],
   "source": [
    "#lambda\n",
    "\n",
    "func= lambda x: x+1\n",
    "\n",
    "#pass value to func()\n",
    "func(5)"
   ]
  },
  {
   "cell_type": "markdown",
   "id": "f4382ccd",
   "metadata": {},
   "source": [
    "#### Code Explanation:\n",
    "---\n",
    "lambda a, b:\n",
    "This lambda function takes two parameters: a and b.\n",
    "\n",
    "a + b\n",
    "The expression returns the sum of a and b.\n",
    "\n",
    "func2(5, 5)\n",
    "Calling the function with arguments 5 and 5, so it returns 5 + 5 = 10.\n",
    "\n",
    "print(result)\n",
    "Prints the output, which is 10."
   ]
  },
  {
   "cell_type": "code",
   "execution_count": 112,
   "id": "4081e3bc",
   "metadata": {},
   "outputs": [
    {
     "data": {
      "text/plain": [
       "10"
      ]
     },
     "execution_count": 112,
     "metadata": {},
     "output_type": "execute_result"
    }
   ],
   "source": [
    "#lambda\n",
    "func2 = lambda a,b : a+b\n",
    "\n",
    "func2(5,5)"
   ]
  },
  {
   "cell_type": "markdown",
   "id": "f34fa8de",
   "metadata": {},
   "source": [
    "#### Code Explanation:\n",
    "---\n",
    "lambda a:\n",
    "This defines a lambda function with one parameter a.\n",
    "\n",
    "a ** 2\n",
    "This is the expression that calculates the square of a (i.e., a raised to the power 2).\n",
    "\n",
    "func3(5)\n",
    "Calls the lambda function with argument 5.\n",
    "\n",
    "The function computes \n",
    " and returns 25.\n",
    "\n",
    "print(result) outputs the result, which is 25."
   ]
  },
  {
   "cell_type": "code",
   "execution_count": 113,
   "id": "d850afec",
   "metadata": {},
   "outputs": [
    {
     "data": {
      "text/plain": [
       "25"
      ]
     },
     "execution_count": 113,
     "metadata": {},
     "output_type": "execute_result"
    }
   ],
   "source": [
    "#lambda\n",
    "#square of the function()\n",
    "func3= lambda a: a**2\n",
    "\n",
    "func3(5)"
   ]
  },
  {
   "cell_type": "markdown",
   "id": "62c0fe73",
   "metadata": {},
   "source": [
    "#### Code Explanation:\n",
    "---\n",
    "lambda a, b: defines an anonymous function with two parameters a and b.\n",
    "\n",
    "a if a > b else b is a conditional expression:\n",
    "\n",
    "Returns a if a is greater than b\n",
    "\n",
    "Returns b otherwise\n",
    "\n",
    "The function effectively returns the maximum of the two numbers.\n",
    "\n",
    "#### Equivalent to a simple max() function.\n",
    "---\n",
    "Passes 5 as a and 27 as b\n",
    "\n",
    "Evaluates: 5 > 27 → False\n",
    "\n",
    "Returns 27\n",
    "\n",
    "✅ Final Output: 27"
   ]
  },
  {
   "cell_type": "code",
   "execution_count": 114,
   "id": "4ae830c1",
   "metadata": {},
   "outputs": [
    {
     "data": {
      "text/plain": [
       "27"
      ]
     },
     "execution_count": 114,
     "metadata": {},
     "output_type": "execute_result"
    }
   ],
   "source": [
    "#lambda\n",
    "#max value\n",
    "func4 = lambda a,b: a if a>b else b\n",
    "\n",
    "func4(5,27)"
   ]
  },
  {
   "cell_type": "markdown",
   "id": "f243e0ea",
   "metadata": {},
   "source": [
    "#### Code Explanation:\n",
    "---\n",
    "This is a lambda function to return the minimum of two numbers.\n",
    "\n",
    "Parameters: a, b\n",
    "\n",
    "Logic:\n",
    "\n",
    "If a > b, then b is smaller → return b\n",
    "\n",
    "Else → return a\n",
    "\n",
    "It acts like: min(a, b)\n",
    "a = 27, b = 3\n",
    "\n",
    "Check: 27 > 3 → ✅ True → return b → 3\n",
    "\n",
    "✅ Final Output: 3"
   ]
  },
  {
   "cell_type": "code",
   "execution_count": null,
   "id": "509be7ee",
   "metadata": {},
   "outputs": [],
   "source": [
    "#lambda\n",
    "#min value\n",
    "func5= lambda a,b: b if a>b else a\n",
    "\n",
    "\n",
    "func5(27,3)"
   ]
  },
  {
   "cell_type": "code",
   "execution_count": 115,
   "id": "7664eae3",
   "metadata": {},
   "outputs": [
    {
     "name": "stdout",
     "output_type": "stream",
     "text": [
      "number1\n",
      "second number\n",
      "0\n",
      "1\n",
      "2\n",
      "third number\n"
     ]
    }
   ],
   "source": [
    "# how the code gets executed?\n",
    "\n",
    "print(\"number1\")\n",
    "print(\"second number\")\n",
    "for i in range(3):\n",
    "    print(i)\n",
    "print(\"third number\")    "
   ]
  },
  {
   "cell_type": "markdown",
   "id": "f6f8d387",
   "metadata": {},
   "source": [
    "#### Code Explanation:\n",
    "---\n",
    "df1 = 5 assigns the integer 5 to variable df1\n",
    "\n",
    "type(df1) returns the data type of df1\n",
    "✅ Output:\n",
    "<class 'int'>"
   ]
  },
  {
   "cell_type": "code",
   "execution_count": 116,
   "id": "200f10be",
   "metadata": {},
   "outputs": [
    {
     "data": {
      "text/plain": [
       "int"
      ]
     },
     "execution_count": 116,
     "metadata": {},
     "output_type": "execute_result"
    }
   ],
   "source": [
    "df1 = 5\n",
    "type(df1)"
   ]
  },
  {
   "cell_type": "code",
   "execution_count": 118,
   "id": "b9cd4d78",
   "metadata": {},
   "outputs": [],
   "source": [
    "del str"
   ]
  },
  {
   "cell_type": "markdown",
   "id": "df69dc60",
   "metadata": {},
   "source": [
    "#### Code Explanation:\n",
    "---\n",
    "✅ Output:\n",
    "<class 'str'>"
   ]
  },
  {
   "cell_type": "code",
   "execution_count": 119,
   "id": "57b50a0a",
   "metadata": {},
   "outputs": [
    {
     "data": {
      "text/plain": [
       "str"
      ]
     },
     "execution_count": 119,
     "metadata": {},
     "output_type": "execute_result"
    }
   ],
   "source": [
    "# type conversion\n",
    "# convert integer to string\n",
    "\n",
    "vari = str(df1)\n",
    "type(vari)"
   ]
  },
  {
   "cell_type": "markdown",
   "id": "6b4533c8",
   "metadata": {},
   "source": [
    "#### Code Explanation:\n",
    "---\n",
    "The program waits for you to type input after showing enter number.\n",
    "\n",
    "Whatever you type (as a string) is stored in b1.\n",
    "\n",
    "Then it prints that input back to the screen."
   ]
  },
  {
   "cell_type": "code",
   "execution_count": 120,
   "id": "4663d737",
   "metadata": {},
   "outputs": [
    {
     "name": "stdout",
     "output_type": "stream",
     "text": [
      "20\n"
     ]
    }
   ],
   "source": [
    "b1= input(\"enter number\")\n",
    "print(b1)"
   ]
  },
  {
   "cell_type": "markdown",
   "id": "536d026a",
   "metadata": {},
   "source": [
    "#### Code Explanation:\n",
    "---\n",
    "You can’t add an integer (int) and a string (str) directly in Python. This causes a TypeError:"
   ]
  },
  {
   "cell_type": "code",
   "execution_count": 121,
   "id": "b41fc059",
   "metadata": {},
   "outputs": [
    {
     "ename": "TypeError",
     "evalue": "unsupported operand type(s) for +: 'int' and 'str'",
     "output_type": "error",
     "traceback": [
      "\u001b[31m---------------------------------------------------------------------------\u001b[39m",
      "\u001b[31mTypeError\u001b[39m                                 Traceback (most recent call last)",
      "\u001b[36mCell\u001b[39m\u001b[36m \u001b[39m\u001b[32mIn[121]\u001b[39m\u001b[32m, line 2\u001b[39m\n\u001b[32m      1\u001b[39m a1 = \u001b[32m20\u001b[39m\n\u001b[32m----> \u001b[39m\u001b[32m2\u001b[39m \u001b[43ma1\u001b[49m\u001b[43m \u001b[49m\u001b[43m+\u001b[49m\u001b[43m \u001b[49m\u001b[43mb1\u001b[49m\n\u001b[32m      4\u001b[39m \u001b[38;5;66;03m# type(b)====str\u001b[39;00m\n\u001b[32m      5\u001b[39m \u001b[38;5;66;03m#trying to add int and str\u001b[39;00m\n",
      "\u001b[31mTypeError\u001b[39m: unsupported operand type(s) for +: 'int' and 'str'"
     ]
    }
   ],
   "source": [
    "a1 = 20\n",
    "a1 + b1\n",
    "\n",
    "# type(b)====str\n",
    "#trying to add int and str"
   ]
  },
  {
   "cell_type": "markdown",
   "id": "60525c8e",
   "metadata": {},
   "source": [
    "#### Code Explanation:\n",
    "---\n",
    "input() always returns a string.\n",
    "\n",
    "So, type(xyz) will be <class 'str'> no matter what you enter."
   ]
  },
  {
   "cell_type": "code",
   "execution_count": 122,
   "id": "765696c9",
   "metadata": {},
   "outputs": [
    {
     "name": "stdout",
     "output_type": "stream",
     "text": [
      "given input 123\n",
      "data type : <class 'str'>\n"
     ]
    }
   ],
   "source": [
    "xyz= input(\"enter user input\")\n",
    "print(\"given input\",xyz)\n",
    "\n",
    "type(xyz)\n",
    "\n",
    "print(\"data type :\", type(xyz))"
   ]
  },
  {
   "cell_type": "markdown",
   "id": "8dd77163",
   "metadata": {},
   "source": [
    "#### Code Explanation:\n",
    "---\n",
    "input(\"Enter number: \") shows the prompt and waits for user input.\n",
    "\n",
    "int() converts the input string into an integer.\n",
    "\n",
    "Then you add a and b (both integers) and print the sum."
   ]
  },
  {
   "cell_type": "code",
   "execution_count": 123,
   "id": "be536c77",
   "metadata": {},
   "outputs": [
    {
     "name": "stdout",
     "output_type": "stream",
     "text": [
      "b data type is <class 'int'>\n",
      "35\n"
     ]
    }
   ],
   "source": [
    "a=20\n",
    "#input()....... asking user to \"enter a number\"\n",
    "b= int(input(\"Ener number\")) # converted it into integer\n",
    "print(\"b data type is\",type(b))\n",
    "print(a + b)\n"
   ]
  },
  {
   "cell_type": "markdown",
   "id": "c7dda380",
   "metadata": {},
   "source": [
    "#### Code Explanation:\n",
    "---\n",
    "list(v) converts the string into a list where each character is an element.\n",
    "\n",
    "The first call list(v) is not saved or printed, so it does nothing visible.\n",
    "\n",
    "The second print(...) actually shows the converted list."
   ]
  },
  {
   "cell_type": "code",
   "execution_count": 124,
   "id": "156fc7ae",
   "metadata": {},
   "outputs": [
    {
     "name": "stdout",
     "output_type": "stream",
     "text": [
      "<class 'str'>\n",
      "chandra\n",
      "converted to list data type ['c', 'h', 'a', 'n', 'd', 'r', 'a']\n"
     ]
    }
   ],
   "source": [
    "v= \"chandra\"\n",
    "print(type(v))\n",
    "print(v)\n",
    "list(v)\n",
    "print(\"converted to list data type\",list(v))\n"
   ]
  },
  {
   "cell_type": "markdown",
   "id": "58dbb366",
   "metadata": {},
   "source": [
    "#### Code Explanation:\n",
    "---\n",
    "The f before the string allows you to embed variables inside {}.\n",
    "\n",
    "name and title are replaced by their values in the output.\n",
    "\n",
    "It's a clean and readable way to format strings."
   ]
  },
  {
   "cell_type": "code",
   "execution_count": 125,
   "id": "e1f596df",
   "metadata": {},
   "outputs": [
    {
     "name": "stdout",
     "output_type": "stream",
     "text": [
      "my name is:  chandra and my profession is: AI Engineer\n"
     ]
    }
   ],
   "source": [
    "name=\" chandra\"\n",
    "title=\"AI Engineer\"\n",
    "print(f\"my name is: {name} and my profession is: {title}\")"
   ]
  },
  {
   "cell_type": "markdown",
   "id": "0258b32a",
   "metadata": {},
   "source": [
    "#### Code Explanation:\n",
    "---\n",
    "input() reads the expression as a string (e.g., \"3 + 7\").\n",
    "\n",
    "eval() interprets that string as Python code and computes the result.\n",
    "\n",
    "The result is printed (e.g., 10)."
   ]
  },
  {
   "cell_type": "code",
   "execution_count": 127,
   "id": "704a8b8d",
   "metadata": {},
   "outputs": [
    {
     "name": "stdout",
     "output_type": "stream",
     "text": [
      "10\n"
     ]
    }
   ],
   "source": [
    "expression = input(\"Enter expression\")\n",
    "result = eval(expression)\n",
    "print(result)\n",
    "\n",
    "# Enter expression   3 + 7\n",
    "#given input is string data type\n",
    "# eval ()\n"
   ]
  },
  {
   "cell_type": "markdown",
   "id": "7f79d6ed",
   "metadata": {},
   "source": [
    "#### Code Explanation:\n",
    "---\n",
    "result will be the output of the evaluated expression, so its type depends on what you input."
   ]
  },
  {
   "cell_type": "code",
   "execution_count": 128,
   "id": "232c598a",
   "metadata": {},
   "outputs": [
    {
     "data": {
      "text/plain": [
       "int"
      ]
     },
     "execution_count": 128,
     "metadata": {},
     "output_type": "execute_result"
    }
   ],
   "source": [
    "type(result)"
   ]
  },
  {
   "cell_type": "markdown",
   "id": "afef39ec",
   "metadata": {},
   "source": [
    "#### Code Explanation:\n",
    "---\n",
    "eval(\"2 * 5\") evaluates the string \"2 * 5\" as a Python expression.\n",
    "\n",
    "It calculates 2 * 5, which equals 10.\n",
    "\n",
    "So, a will be assigned the value 10."
   ]
  },
  {
   "cell_type": "code",
   "execution_count": 129,
   "id": "5cc96203",
   "metadata": {},
   "outputs": [
    {
     "data": {
      "text/plain": [
       "10"
      ]
     },
     "execution_count": 129,
     "metadata": {},
     "output_type": "execute_result"
    }
   ],
   "source": [
    "a = eval(\"2 * 5\")\n",
    "a"
   ]
  },
  {
   "cell_type": "markdown",
   "id": "3b76f257",
   "metadata": {},
   "source": [
    "#### Code Explanation:\n",
    "---\n",
    "eval(\"3 + 5\") evaluates the expression inside the string.\n",
    "\n",
    "It calculates 3 + 5 which equals 8.\n",
    "\n",
    "The value 8 is assigned to a."
   ]
  },
  {
   "cell_type": "code",
   "execution_count": 130,
   "id": "d88b1df5",
   "metadata": {},
   "outputs": [
    {
     "data": {
      "text/plain": [
       "8"
      ]
     },
     "execution_count": 130,
     "metadata": {},
     "output_type": "execute_result"
    }
   ],
   "source": [
    "a = eval(\"3 + 5\")\n",
    "a"
   ]
  },
  {
   "cell_type": "markdown",
   "id": "b951c65c",
   "metadata": {},
   "source": [
    "#### Code Explanation:\n",
    "---\n",
    "eval(\"2 + 3 + 5\") evaluates the expression inside the string.\n",
    "\n",
    "It calculates 2 + 3 + 5 which equals 10.\n",
    "\n",
    "The value 10 is assigned to a."
   ]
  },
  {
   "cell_type": "code",
   "execution_count": 131,
   "id": "e21d3fcd",
   "metadata": {},
   "outputs": [
    {
     "data": {
      "text/plain": [
       "10"
      ]
     },
     "execution_count": 131,
     "metadata": {},
     "output_type": "execute_result"
    }
   ],
   "source": [
    "a = eval(\"2 + 3 + 5\")\n",
    "a"
   ]
  },
  {
   "cell_type": "markdown",
   "id": "b42ecd84",
   "metadata": {},
   "source": [
    "#### Code Explanation:\n",
    "---\n",
    "eval(\"2 * 4 * 10\") evaluates the multiplication expression inside the string.\n",
    "\n",
    "It calculates 2 * 4 * 10 which equals 80.\n",
    "\n",
    "The value 80 is assigned to a."
   ]
  },
  {
   "cell_type": "code",
   "execution_count": 132,
   "id": "565261ff",
   "metadata": {},
   "outputs": [
    {
     "data": {
      "text/plain": [
       "80"
      ]
     },
     "execution_count": 132,
     "metadata": {},
     "output_type": "execute_result"
    }
   ],
   "source": [
    "a = eval(\"2 * 4 * 10\")\n",
    "a"
   ]
  },
  {
   "cell_type": "markdown",
   "id": "0bde77d8",
   "metadata": {},
   "source": [
    "#### Code Explanation:\n",
    "---\n",
    "eval(\"100 / 5\") evaluates the division expression inside the string.\n",
    "\n",
    "It calculates 100 / 5 which equals 20.0.\n",
    "\n",
    "The value 20.0 (a float) is assigned to a."
   ]
  },
  {
   "cell_type": "code",
   "execution_count": 133,
   "id": "e0ae6fa6",
   "metadata": {},
   "outputs": [
    {
     "data": {
      "text/plain": [
       "20.0"
      ]
     },
     "execution_count": 133,
     "metadata": {},
     "output_type": "execute_result"
    }
   ],
   "source": [
    "a = eval(\"100 / 5\")\n",
    "a"
   ]
  },
  {
   "cell_type": "markdown",
   "id": "5001953c",
   "metadata": {},
   "source": [
    "#### Code Explanation:\n",
    "---\n",
    "len() returns the number of characters in a string.\n",
    "\n",
    "\"hello world\" has 11 characters (including the space)."
   ]
  },
  {
   "cell_type": "code",
   "execution_count": 134,
   "id": "f0759b96",
   "metadata": {},
   "outputs": [
    {
     "data": {
      "text/plain": [
       "11"
      ]
     },
     "execution_count": 134,
     "metadata": {},
     "output_type": "execute_result"
    }
   ],
   "source": [
    "len(\"hello world\")"
   ]
  },
  {
   "cell_type": "markdown",
   "id": "4c437aa8",
   "metadata": {},
   "source": [
    "#### Code Explanation:\n",
    "---\n",
    "eval(\"len('hello world')\") evaluates the function call inside the string.\n",
    "\n",
    "len('hello world') returns 11, which is an integer.\n",
    "\n",
    "So, b is assigned the value 11.\n",
    "\n",
    "type(b) confirms that b is an int."
   ]
  },
  {
   "cell_type": "code",
   "execution_count": 135,
   "id": "54c2a662",
   "metadata": {},
   "outputs": [
    {
     "name": "stdout",
     "output_type": "stream",
     "text": [
      "11\n"
     ]
    },
    {
     "data": {
      "text/plain": [
       "int"
      ]
     },
     "execution_count": 135,
     "metadata": {},
     "output_type": "execute_result"
    }
   ],
   "source": [
    "b= eval(\"len('hello world')\")\n",
    "print(b)\n",
    "type(b)"
   ]
  },
  {
   "cell_type": "markdown",
   "id": "825d8013",
   "metadata": {},
   "source": [
    "### for loop"
   ]
  },
  {
   "cell_type": "markdown",
   "id": "58f04da7",
   "metadata": {},
   "source": [
    "#### Code Explanation:\n",
    "---\n",
    "a is a list of numbers from 1 to 6.\n",
    "\n",
    "The for loop iterates over each element in the list.\n",
    "\n",
    "print(i) prints each element one by one."
   ]
  },
  {
   "cell_type": "code",
   "execution_count": 136,
   "id": "d401638a",
   "metadata": {},
   "outputs": [
    {
     "name": "stdout",
     "output_type": "stream",
     "text": [
      "1\n",
      "2\n",
      "3\n",
      "4\n",
      "5\n",
      "6\n"
     ]
    }
   ],
   "source": [
    "a = [1,2,3,4,5,6]\n",
    "\n",
    "for i in a:\n",
    "    print(i)"
   ]
  },
  {
   "cell_type": "markdown",
   "id": "78158cd1",
   "metadata": {},
   "source": [
    "#### Code Explanation:\n",
    "---\n",
    "t is a tuple containing the numbers 1 to 4.\n",
    "\n",
    "The for loop iterates over each element in the tuple.\n",
    "\n",
    "print(i) prints each element on a new line."
   ]
  },
  {
   "cell_type": "code",
   "execution_count": 137,
   "id": "fd9de632",
   "metadata": {},
   "outputs": [
    {
     "name": "stdout",
     "output_type": "stream",
     "text": [
      "1\n",
      "2\n",
      "3\n",
      "4\n"
     ]
    }
   ],
   "source": [
    "t = (1,2,3,4)\n",
    "\n",
    "for i in t:\n",
    "    print(i)"
   ]
  },
  {
   "cell_type": "markdown",
   "id": "8469e38a",
   "metadata": {},
   "source": [
    "#### Code Explanation:\n",
    "---\n",
    "fruits is a list of fruit names.\n",
    "\n",
    "enumerate(fruits) returns pairs of (index, element) for each item.\n",
    "\n",
    "The loop prints the index and the fruit."
   ]
  },
  {
   "cell_type": "code",
   "execution_count": 138,
   "id": "501bda47",
   "metadata": {},
   "outputs": [
    {
     "name": "stdout",
     "output_type": "stream",
     "text": [
      "0 apple\n",
      "1 banana\n",
      "2 grapes\n"
     ]
    }
   ],
   "source": [
    "fruits = ['apple', 'banana', 'grapes']\n",
    "\n",
    "for index, i in enumerate(fruits):\n",
    "    print(index,i)"
   ]
  },
  {
   "cell_type": "markdown",
   "id": "8388d111",
   "metadata": {},
   "source": [
    "#### Code Explanation:\n",
    "---\n",
    "Iterates over numbers 1 to 10.\n",
    "\n",
    "Checks if each number is even (i % 2 == 0).\n",
    "\n",
    "Adds even numbers to sum.\n",
    "\n",
    "Prints the total sum of even numbers."
   ]
  },
  {
   "cell_type": "code",
   "execution_count": 139,
   "id": "c46b7302",
   "metadata": {},
   "outputs": [
    {
     "name": "stdout",
     "output_type": "stream",
     "text": [
      "30\n"
     ]
    }
   ],
   "source": [
    "# function to print even numbers\n",
    "\n",
    "def even_number_sum():\n",
    "    sum=0\n",
    "    numbers = [1,2,3,4,5,6,7,8,9,10]\n",
    "    for i in numbers:\n",
    "        if i%2==0:\n",
    "         sum+=i\n",
    "    print(sum) \n",
    "\n",
    "even_number_sum()       "
   ]
  },
  {
   "cell_type": "markdown",
   "id": "a8ec9622",
   "metadata": {},
   "source": [
    "#### Code Explanation:\n",
    "---\n",
    "text is the input string.\n",
    "\n",
    "target_value is the character you want to find the last position of ('a').\n",
    "\n",
    "counter stores the index of the last match.\n",
    "\n",
    "The loop goes through each character by index.\n",
    "\n",
    "When a character matches target_value (after converting to lowercase), it updates counter.\n",
    "\n",
    "After the loop, counter holds the index of the last occurrence."
   ]
  },
  {
   "cell_type": "code",
   "execution_count": 140,
   "id": "9cafdcdf",
   "metadata": {},
   "outputs": [
    {
     "name": "stdout",
     "output_type": "stream",
     "text": [
      "length: 39\n",
      "35\n"
     ]
    }
   ],
   "source": [
    "#last occurence of target character\n",
    "text = \"iT is a text CONTENT and prints a value\"\n",
    "target_value='a'\n",
    "counter = 0\n",
    "print(\"length:\",len(text))\n",
    "for i in range(len(text)):\n",
    "    if text[i].lower()==target_value:\n",
    "        counter=i\n",
    "        \n",
    "\n",
    "\n",
    "print(counter)\n",
    "\n",
    "\n"
   ]
  },
  {
   "cell_type": "markdown",
   "id": "6a37f819",
   "metadata": {},
   "source": [
    "#### Code Explanation:\n",
    "---\n",
    "range(1, 50) generates numbers from 1 to 49.\n",
    "\n",
    "Each number is added to sum.\n",
    "\n",
    "Finally, the total sum is printed."
   ]
  },
  {
   "cell_type": "code",
   "execution_count": 141,
   "id": "5d311788",
   "metadata": {},
   "outputs": [
    {
     "name": "stdout",
     "output_type": "stream",
     "text": [
      "the total sum is:1225\n"
     ]
    }
   ],
   "source": [
    "#sum of all numbers within range of 50\n",
    "sum=0\n",
    "for i in range(1,50):\n",
    "    sum=sum + i\n",
    "print(f\"the total sum is:{sum}\")"
   ]
  },
  {
   "cell_type": "markdown",
   "id": "303e8e21",
   "metadata": {},
   "source": [
    "#### Code Explanation:\n",
    "---\n",
    "Loops through numbers 1 to 49.\n",
    "\n",
    "Adds only the even numbers (i % 2 == 0) to sum.\n",
    "\n",
    "Prints the final sum."
   ]
  },
  {
   "cell_type": "code",
   "execution_count": 142,
   "id": "7060ff9d",
   "metadata": {},
   "outputs": [
    {
     "name": "stdout",
     "output_type": "stream",
     "text": [
      "sum of all even numbers within range of 50:600\n"
     ]
    }
   ],
   "source": [
    "#sum of all even numbers within range of 50\n",
    "sum=0\n",
    "for i in range(1,50):\n",
    "    if i%2==0:  #even number condition\n",
    "        sum+=i\n",
    "print(f\"sum of all even numbers within range of 50:{sum}\")"
   ]
  },
  {
   "cell_type": "markdown",
   "id": "b6132a01",
   "metadata": {},
   "source": [
    "#### Code Explanation:\n",
    "---\n",
    "Iterates from 1 to 49.\n",
    "\n",
    "Adds numbers to sum only if they are odd (i % 2 != 0).\n",
    "\n",
    "Prints the total sum of odd numbers."
   ]
  },
  {
   "cell_type": "code",
   "execution_count": 143,
   "id": "e82a9a14",
   "metadata": {},
   "outputs": [
    {
     "name": "stdout",
     "output_type": "stream",
     "text": [
      "sum of all odd numbers within range of 50:625\n"
     ]
    }
   ],
   "source": [
    "#sum of all odd numbers within range of 50\n",
    "sum=0\n",
    "for i in range(1,50):\n",
    "    if i%2!=0:  #odd number condition\n",
    "        sum+=i\n",
    "print(f\"sum of all odd numbers within range of 50:{sum}\")"
   ]
  },
  {
   "cell_type": "markdown",
   "id": "713de67d",
   "metadata": {},
   "source": [
    "#### Code Explanation:\n",
    "---\n",
    "Loop over numbers 1 to 49.\n",
    "\n",
    "When you find the first even number (i % 2 == 0), store it in position.\n",
    "\n",
    "Use break to stop after the first even number.\n",
    "\n",
    "Print the result."
   ]
  },
  {
   "cell_type": "code",
   "execution_count": 144,
   "id": "3d9f9084",
   "metadata": {},
   "outputs": [
    {
     "name": "stdout",
     "output_type": "stream",
     "text": [
      "the first index of even integer is 2\n"
     ]
    }
   ],
   "source": [
    "# first index of even integer within range of 50\n",
    "position=0\n",
    "for i in range(1,50):\n",
    "    if i%2==0:\n",
    "        position=i\n",
    "        break\n",
    "print(f\"the first index of even integer is {position}\")    "
   ]
  },
  {
   "cell_type": "markdown",
   "id": "75bdd3de",
   "metadata": {},
   "source": [
    "#### Code Explanation:\n",
    "---\n",
    "print the last index of even number"
   ]
  },
  {
   "cell_type": "code",
   "execution_count": 146,
   "id": "1283f8f4",
   "metadata": {},
   "outputs": [
    {
     "name": "stdout",
     "output_type": "stream",
     "text": [
      "the last index of even integer is 48\n"
     ]
    }
   ],
   "source": [
    "# last index of  even integer within range of 50\n",
    "position=0\n",
    "for i in range(1,50):\n",
    "    if i%2==0:\n",
    "        position=i\n",
    "        continue\n",
    "print(f\"the last index of even integer is {position}\") "
   ]
  },
  {
   "cell_type": "markdown",
   "id": "5a5b5669",
   "metadata": {},
   "source": [
    "#### Code Explanation:\n",
    "---\n",
    "The first odd integer is 1"
   ]
  },
  {
   "cell_type": "code",
   "execution_count": 148,
   "id": "408e9499",
   "metadata": {},
   "outputs": [
    {
     "name": "stdout",
     "output_type": "stream",
     "text": [
      "the first index of odd integer is 1\n"
     ]
    }
   ],
   "source": [
    "# first index of odd integer within range of 50\n",
    "position=0\n",
    "for i in range(1,50):\n",
    "    if i%2!=0:\n",
    "        position=i\n",
    "        break\n",
    "print(f\"the first index of odd integer is {position}\") "
   ]
  },
  {
   "cell_type": "markdown",
   "id": "c0e6bffb",
   "metadata": {},
   "source": [
    "#### Code Explanation:\n",
    "---\n",
    "The last odd integer is 49"
   ]
  },
  {
   "cell_type": "code",
   "execution_count": 149,
   "id": "ffd1491f",
   "metadata": {},
   "outputs": [
    {
     "name": "stdout",
     "output_type": "stream",
     "text": [
      "the last index of odd integer is 49\n"
     ]
    }
   ],
   "source": [
    "# last index of odd integer within range of 50\n",
    "position=0\n",
    "for i in range(1,50):\n",
    "    if i%2!=0:\n",
    "        position=i\n",
    "        continue\n",
    "print(f\"the last index of odd integer is {position}\") "
   ]
  },
  {
   "cell_type": "markdown",
   "id": "6dc3891d",
   "metadata": {},
   "source": [
    "#### Code Explanation:\n",
    "---\n",
    "range(1, 50) generates numbers from 1 to 49.\n",
    "\n",
    "The loop checks each number.\n",
    "\n",
    "The first number that satisfies i % 2 == 0 is 2.\n",
    "\n",
    "The loop breaks after finding it."
   ]
  },
  {
   "cell_type": "code",
   "execution_count": 150,
   "id": "ee34b127",
   "metadata": {},
   "outputs": [
    {
     "name": "stdout",
     "output_type": "stream",
     "text": [
      "2\n"
     ]
    }
   ],
   "source": [
    "# print the first even integer within range of 50\n",
    "first_even_integer = 0\n",
    "for i in range(1,50):\n",
    "    if i%2==0:\n",
    "        first_even_integer= i\n",
    "        break\n",
    "print(first_even_integer)"
   ]
  },
  {
   "cell_type": "markdown",
   "id": "ef821257",
   "metadata": {},
   "source": [
    "#### Code Explanation:\n",
    "---\n",
    "range(1, 50) generates numbers from 1 to 49.\n",
    "\n",
    "The first number that satisfies i % 2 != 0 is 1.\n",
    "\n",
    "The loop breaks right after finding it."
   ]
  },
  {
   "cell_type": "code",
   "execution_count": 151,
   "id": "8f35b334",
   "metadata": {},
   "outputs": [
    {
     "name": "stdout",
     "output_type": "stream",
     "text": [
      "1\n"
     ]
    }
   ],
   "source": [
    "# print the first odd integer within range of 50\n",
    "first_odd_integer = 0\n",
    "for i in range(1,50):\n",
    "    if i%2!=0:\n",
    "        first_odd_integer= i\n",
    "        break\n",
    "print(first_odd_integer)"
   ]
  },
  {
   "cell_type": "markdown",
   "id": "0ca179b7",
   "metadata": {},
   "source": [
    "#### Code Explanation:\n",
    "---\n",
    "Loops from 1 to 49.\n",
    "\n",
    "Each time it finds an even number (i % 2 == 0), it stores it in last_even_integer.\n",
    "\n",
    "By the end of the loop, last_even_integer holds the last even number before 50."
   ]
  },
  {
   "cell_type": "code",
   "execution_count": null,
   "id": "0fb18de0",
   "metadata": {},
   "outputs": [],
   "source": [
    "# print the last even integer within range of 50\n",
    "last_even_integer = 0\n",
    "for i in range(1,50):\n",
    "    if i%2==0:\n",
    "        last_even_integer= i\n",
    "        continue\n",
    "print(last_even_integer)"
   ]
  },
  {
   "cell_type": "markdown",
   "id": "479f6c97",
   "metadata": {},
   "source": [
    "#### Code Explanation:\n",
    "---\n",
    "The loop checks numbers from 1 to 49.\n",
    "\n",
    "It updates last_odd_integer every time an odd number is found.\n",
    "\n",
    "After the loop ends, last_odd_integer holds the last odd number in the range."
   ]
  },
  {
   "cell_type": "code",
   "execution_count": 152,
   "id": "12685572",
   "metadata": {},
   "outputs": [
    {
     "name": "stdout",
     "output_type": "stream",
     "text": [
      "49\n"
     ]
    }
   ],
   "source": [
    "# print the last odd integer within range of 50\n",
    "last_odd_integer = 0\n",
    "for i in range(1,50):\n",
    "    if i%2!=0:\n",
    "        last_odd_integer= i\n",
    "        continue\n",
    "print(last_odd_integer)"
   ]
  },
  {
   "cell_type": "markdown",
   "id": "3c11fda6",
   "metadata": {},
   "source": [
    "#### Code Explanation:\n",
    "---\n",
    "Loops through numbers from 5 to 14.\n",
    "\n",
    "Checks if each number is greater than 1 (since 0 and 1 are not prime).\n",
    "\n",
    "For each number, it tries dividing by all numbers from 2 to num - 1.\n",
    "\n",
    "If any divisor is found (num % i == 0), it breaks (not prime).\n",
    "\n",
    "If no divisor is found, the else block executes — meaning the number is prime, and it gets printed."
   ]
  },
  {
   "cell_type": "code",
   "execution_count": 153,
   "id": "edc57509",
   "metadata": {},
   "outputs": [
    {
     "name": "stdout",
     "output_type": "stream",
     "text": [
      "5\n",
      "7\n",
      "11\n",
      "13\n"
     ]
    }
   ],
   "source": [
    "# print prime numbers\n",
    "for num in range(5,15):\n",
    "    if num > 1:\n",
    "        for i in range(2, num):\n",
    "            if num%i == 0:\n",
    "                break\n",
    "        else:\n",
    "            print(num)"
   ]
  },
  {
   "cell_type": "markdown",
   "id": "d4de959d",
   "metadata": {},
   "source": [
    "#### Code Explanation:\n",
    "---\n",
    "Take the last digit: 1\n",
    "\n",
    "Add it to reverse: reverse = 0 * 10 + 1 = 1\n",
    "\n",
    "Next digit: 0, reverse becomes 1 * 10 + 0 = 10\n",
    "\n",
    "Next: 10 * 10 + 9 = 109, and so on..."
   ]
  },
  {
   "cell_type": "code",
   "execution_count": 154,
   "id": "9a220da4",
   "metadata": {},
   "outputs": [
    {
     "name": "stdout",
     "output_type": "stream",
     "text": [
      "109876\n"
     ]
    }
   ],
   "source": [
    "#reverse a number\n",
    "number= 678901\n",
    "reverse=0\n",
    "while number > 0:\n",
    "    remainder = number%10\n",
    "    reverse= remainder+(reverse * 10)\n",
    "    number = number//10\n",
    "\n",
    "print(reverse)    "
   ]
  },
  {
   "cell_type": "markdown",
   "id": "4667c58b",
   "metadata": {},
   "source": [
    "#### Code Explanation:\n",
    "---\n",
    "Takes the number 123456\n",
    "\n",
    "Extracts each digit using % 10\n",
    "\n",
    "Adds each digit to sum\n",
    "\n",
    "Removes the last digit using // 10\n",
    "\n",
    "Prints the total sum of the digits"
   ]
  },
  {
   "cell_type": "code",
   "execution_count": 155,
   "id": "d962475c",
   "metadata": {},
   "outputs": [
    {
     "name": "stdout",
     "output_type": "stream",
     "text": [
      "21\n"
     ]
    }
   ],
   "source": [
    "# print all the digits within a number\n",
    "sum=0\n",
    "number= 123456\n",
    "while number>0:\n",
    "    remainder=number%10\n",
    "    sum+= remainder\n",
    "    number//=10\n",
    "print(sum)    "
   ]
  },
  {
   "cell_type": "markdown",
   "id": "085dc048",
   "metadata": {},
   "source": [
    "#### Code Explanation:\n",
    "---\n",
    "Imports the datetime module.\n",
    "\n",
    "Calls datetime.datetime.now() to get the current local date and time.\n",
    "\n",
    "Prints it in the default format: YYYY-MM-DD HH:MM:SS.microseconds"
   ]
  },
  {
   "cell_type": "code",
   "execution_count": 156,
   "id": "8d0d1334",
   "metadata": {},
   "outputs": [
    {
     "name": "stdout",
     "output_type": "stream",
     "text": [
      "2025-10-22 06:22:30.117203\n"
     ]
    }
   ],
   "source": [
    "#print datetime\n",
    "import datetime\n",
    "\n",
    "print(datetime.datetime.now())"
   ]
  },
  {
   "cell_type": "markdown",
   "id": "9228164e",
   "metadata": {},
   "source": [
    "#### Code Explanation:\n",
    "---\n",
    "Imports the datetime module.\n",
    "\n",
    "Calls datetime.date.today() to get the current date (year-month-day).\n",
    "\n",
    "Prints it in the format YYYY-MM-DD."
   ]
  },
  {
   "cell_type": "code",
   "execution_count": null,
   "id": "aea18ffa",
   "metadata": {},
   "outputs": [],
   "source": [
    "#print date\n",
    "import datetime\n",
    "\n",
    "print(datetime.date.today())"
   ]
  },
  {
   "cell_type": "markdown",
   "id": "450f67f3",
   "metadata": {},
   "source": [
    "#### Code Explanation:\n",
    "---\n",
    "datetime.date.today() gets today’s date.\n",
    "\n",
    ".day extracts the day part (1 to 31).\n",
    "\n",
    "Prints the day number."
   ]
  },
  {
   "cell_type": "code",
   "execution_count": 157,
   "id": "1e41a4e9",
   "metadata": {},
   "outputs": [
    {
     "name": "stdout",
     "output_type": "stream",
     "text": [
      "22\n"
     ]
    }
   ],
   "source": [
    "#print day\n",
    "import datetime\n",
    "\n",
    "print(datetime.date.today().day )"
   ]
  },
  {
   "cell_type": "markdown",
   "id": "03b26923",
   "metadata": {},
   "source": [
    "#### Code Explanation:\n",
    "---\n",
    "datetime.date.today() gets today’s date.\n",
    "\n",
    "datetime.timedelta(days=7) creates a time difference of 7 days.\n",
    "\n",
    "Adding them gives the date 7 days from now.\n",
    "\n",
    "Prints that future date."
   ]
  },
  {
   "cell_type": "code",
   "execution_count": 158,
   "id": "5f2721a2",
   "metadata": {},
   "outputs": [
    {
     "name": "stdout",
     "output_type": "stream",
     "text": [
      "2025-10-29\n"
     ]
    }
   ],
   "source": [
    "# add 7 days to the current date\n",
    "import datetime\n",
    "\n",
    " \n",
    "print(datetime.date.today() + datetime.timedelta(days=7))"
   ]
  },
  {
   "cell_type": "markdown",
   "id": "367051e8",
   "metadata": {},
   "source": [
    "#### Code Explanation:\n",
    "---\n",
    "Gets today’s date.\n",
    "\n",
    "Subtracts 30 days using timedelta(days=30).\n",
    "\n",
    "Prints the resulting date."
   ]
  },
  {
   "cell_type": "code",
   "execution_count": 159,
   "id": "6812d95c",
   "metadata": {},
   "outputs": [
    {
     "name": "stdout",
     "output_type": "stream",
     "text": [
      "2025-09-22\n"
     ]
    }
   ],
   "source": [
    "#print last month\n",
    "import datetime\n",
    "\n",
    "last_month = datetime.date.today() - datetime.timedelta(days=30)\n",
    "print(last_month)"
   ]
  },
  {
   "cell_type": "markdown",
   "id": "e1a5436f",
   "metadata": {},
   "source": [
    "#### Code Explanation:\n",
    "---\n",
    "Gets the current local date and time with datetime.datetime.now().\n",
    "\n",
    "Extracts the hour part using .hour.\n",
    "\n",
    "Prints the hour as an integer (0 to 23)."
   ]
  },
  {
   "cell_type": "code",
   "execution_count": 160,
   "id": "e9eede15",
   "metadata": {},
   "outputs": [
    {
     "name": "stdout",
     "output_type": "stream",
     "text": [
      "6\n"
     ]
    }
   ],
   "source": [
    "#print hour\n",
    "import datetime\n",
    "\n",
    "print(datetime.datetime.now().hour)"
   ]
  },
  {
   "cell_type": "markdown",
   "id": "32e56f08",
   "metadata": {},
   "source": [
    "#### Code Explanation:\n",
    "---\n",
    "Gets current local date and time with datetime.datetime.now().\n",
    "\n",
    "Extracts the minute part using .minute.\n",
    "\n",
    "Prints the minute (0 to 59)."
   ]
  },
  {
   "cell_type": "code",
   "execution_count": 161,
   "id": "55574632",
   "metadata": {},
   "outputs": [
    {
     "name": "stdout",
     "output_type": "stream",
     "text": [
      "28\n"
     ]
    }
   ],
   "source": [
    "#print minute\n",
    "import datetime\n",
    "\n",
    "print(datetime.datetime.now().minute)"
   ]
  },
  {
   "cell_type": "markdown",
   "id": "fc64b199",
   "metadata": {},
   "source": [
    "#### Code Explanation:\n",
    "---\n",
    "Gets current local date and time using datetime.datetime.now().\n",
    "\n",
    "Extracts the seconds part with .second.\n",
    "\n",
    "Prints the seconds (0 to 59)."
   ]
  },
  {
   "cell_type": "code",
   "execution_count": 162,
   "id": "47ff3df6",
   "metadata": {},
   "outputs": [
    {
     "name": "stdout",
     "output_type": "stream",
     "text": [
      "54\n"
     ]
    }
   ],
   "source": [
    "#print second\n",
    "import datetime\n",
    "\n",
    "print(datetime.datetime.now().second)"
   ]
  },
  {
   "cell_type": "markdown",
   "id": "60efd627",
   "metadata": {},
   "source": [
    "#### Code Explanation:\n",
    "---\n",
    "Uses datetime.datetime.now() to get the current date and time.\n",
    "\n",
    "Prints the full datetime.\n",
    "\n",
    "Prints each part separately: year, month, day, hour, minute, second, and microsecond."
   ]
  },
  {
   "cell_type": "code",
   "execution_count": 163,
   "id": "009cf53f",
   "metadata": {},
   "outputs": [
    {
     "name": "stdout",
     "output_type": "stream",
     "text": [
      "--- Current Date and Time ---\n",
      "Full datetime object: 2025-10-22 06:30:53.773737\n",
      "Year: 2025\n",
      "Month: 10\n",
      "Day: 22\n",
      "Hour: 6\n",
      "Minute: 30\n",
      "Second: 53\n",
      "Microsecond: 773737\n"
     ]
    }
   ],
   "source": [
    "import datetime\n",
    "\n",
    "# Get the current date and time\n",
    "now = datetime.datetime.now()\n",
    "\n",
    "print(\"--- Current Date and Time ---\")\n",
    "print(\"Full datetime object:\", now)\n",
    "print(\"Year:\", now.year)\n",
    "print(\"Month:\", now.month)\n",
    "print(\"Day:\", now.day)\n",
    "print(\"Hour:\", now.hour)\n",
    "print(\"Minute:\", now.minute)\n",
    "print(\"Second:\", now.second)\n",
    "print(\"Microsecond:\", now.microsecond)"
   ]
  },
  {
   "cell_type": "markdown",
   "id": "b8afbc29",
   "metadata": {},
   "source": [
    "#### Code Explanation:\n",
    "---\n",
    ".strftime() formats datetime into readable strings.\n",
    "\n",
    "%A = full weekday name.\n",
    "\n",
    "%B = full month name.\n",
    "\n",
    "%d = day of the month.\n",
    "\n",
    "%Y = four-digit year.\n",
    "\n",
    "%H = hour (24-hour).\n",
    "\n",
    "%I = hour (12-hour).\n",
    "\n",
    "%M = minutes.\n",
    "\n",
    "%S = seconds.\n",
    "\n",
    "%p = AM/PM."
   ]
  },
  {
   "cell_type": "code",
   "execution_count": 164,
   "id": "03c401ac",
   "metadata": {},
   "outputs": [
    {
     "name": "stdout",
     "output_type": "stream",
     "text": [
      "--- Formatted Date and Time ---\n",
      "Long format: Wednesday, October 22, 2025\n",
      "Short format: 2025-10-22 06:32:03\n",
      "Month and Year: October 2025\n",
      "Just the time: 06:32 AM\n"
     ]
    }
   ],
   "source": [
    "import datetime\n",
    "\n",
    "now = datetime.datetime.now()\n",
    "\n",
    "print(\"--- Formatted Date and Time ---\")\n",
    "print(\"Long format:\", now.strftime(\"%A, %B %d, %Y\"))\n",
    "print(\"Short format:\", now.strftime(\"%Y-%m-%d %H:%M:%S\"))\n",
    "print(\"Month and Year:\", now.strftime(\"%B %Y\"))\n",
    "print(\"Just the time:\", now.strftime(\"%I:%M %p\")) # 12-hour clock with AM/PM"
   ]
  },
  {
   "cell_type": "markdown",
   "id": "c75a7ddd",
   "metadata": {},
   "source": [
    "#### Code Explanation:\n",
    "---\n",
    "Prints \"Starting...\".\n",
    "\n",
    "Pauses the program for 3 seconds (time.sleep(3)).\n",
    "\n",
    "Prints \"Done waiting!\" after the pause."
   ]
  },
  {
   "cell_type": "code",
   "execution_count": 165,
   "id": "6b0a478e",
   "metadata": {},
   "outputs": [
    {
     "name": "stdout",
     "output_type": "stream",
     "text": [
      "Starting...\n",
      "Done waiting!\n"
     ]
    }
   ],
   "source": [
    "import time\n",
    "\n",
    "print(\"Starting...\")\n",
    "time.sleep(3)  # wait for 3 seconds\n",
    "print(\"Done waiting!\")\n"
   ]
  },
  {
   "cell_type": "markdown",
   "id": "5dc8277c",
   "metadata": {},
   "source": [
    "#### Code Explanation:\n",
    "---\n",
    "Records the start time (start) before the task.\n",
    "\n",
    "Runs a simple loop (can replace with any code you want to measure).\n",
    "\n",
    "Records the end time (end) after the task.\n",
    "\n",
    "Calculates and prints the difference (end - start), which is the time taken in seconds."
   ]
  },
  {
   "cell_type": "code",
   "execution_count": 166,
   "id": "519edd9d",
   "metadata": {},
   "outputs": [
    {
     "name": "stdout",
     "output_type": "stream",
     "text": [
      "Time taken: 0.0 seconds\n"
     ]
    }
   ],
   "source": [
    "import time\n",
    "\n",
    "start = time.time()\n",
    "# some task\n",
    "for _ in range(100):\n",
    "    pass\n",
    "end = time.time()\n",
    "\n",
    "print(\"Time taken:\", end - start, \"seconds\")\n",
    "\n",
    "#used in checking how much time machine learning model is taken to execute\n",
    "\n"
   ]
  },
  {
   "cell_type": "markdown",
   "id": "cd688be9",
   "metadata": {},
   "source": [
    "#### Code Explanation:\n",
    "---\n",
    "Defines a function slow_task() that generates and sorts 1 million random numbers.\n",
    "\n",
    "Uses time.perf_counter() to get a precise start time.\n",
    "\n",
    "Executes the task.\n",
    "\n",
    "Uses time.perf_counter() again to get the end time.\n",
    "\n",
    "Calculates and prints elapsed time with 4 decimal places."
   ]
  },
  {
   "cell_type": "code",
   "execution_count": 167,
   "id": "c0c101cc",
   "metadata": {},
   "outputs": [
    {
     "name": "stdout",
     "output_type": "stream",
     "text": [
      "Task completed in 2.2808 seconds\n"
     ]
    }
   ],
   "source": [
    "#CPU time.........time.perf_counter() gives you a high-precision timer — great for measuring the actual runtime of code with sub-second accuracy (better than time.time() for this).\n",
    "import time\n",
    "import random\n",
    "\n",
    "def slow_task():\n",
    "    # Create a big list of random numbers and sort it\n",
    "    numbers = [random.randint(1, 1000000) for _ in range(1000000)]\n",
    "    numbers.sort()\n",
    "\n",
    "# Start timer\n",
    "start = time.perf_counter()\n",
    "\n",
    "# Run the task\n",
    "slow_task()\n",
    "\n",
    "# End timer\n",
    "end = time.perf_counter()\n",
    "\n",
    "# Calculate elapsed time\n",
    "elapsed = end - start\n",
    "print(f\"Task completed in {elapsed:.4f} seconds\")\n"
   ]
  },
  {
   "cell_type": "markdown",
   "id": "e65b0b45",
   "metadata": {},
   "source": [
    "#### Code Explanation:\n",
    "---\n",
    "zip(list1, list2, list3):\n",
    "\n",
    "Combines elements from each list into tuples, pairing items by their positions.\n",
    "\n",
    "Stops at the shortest list length (here, list3 has 2 items, so zipped length is 2).\n",
    "\n",
    "print(zipped_content):\n",
    "\n",
    "Prints the zip object reference (not the content).\n",
    "\n",
    "list(zipped_content):\n",
    "\n",
    "Converts the zipped object to a list of tuples:\n",
    "\n",
    "[(1, 'chandra', 'Data Science'), (2, 'sai', 'MLOPS')]\n",
    "\n",
    "\n",
    "dict(zipped_content):\n",
    "\n",
    "Will fail or return an empty dictionary here because zipped_content was already exhausted by the previous list() call. Zip objects are iterators, so once consumed, they're empty.\n",
    "\n",
    "Also, dict() expects a sequence of pairs, but here tuples have 3 elements, so this would raise a ValueError."
   ]
  },
  {
   "cell_type": "code",
   "execution_count": 168,
   "id": "611a933b",
   "metadata": {},
   "outputs": [
    {
     "name": "stdout",
     "output_type": "stream",
     "text": [
      "<zip object at 0x000001C634838740>\n",
      "print zipped content in the form of list: [(1, 'chandra', 'Data Science'), (2, 'sai', 'MLOPS')]\n",
      "\n",
      "dictionaryy format of zipped content{}\n"
     ]
    }
   ],
   "source": [
    "#zip() function and enumerate() function\n",
    "list1=[1,2,3]\n",
    "list2=['chandra','sai','ML Engineer']\n",
    "list3=['Data Science','MLOPS']\n",
    "zipped_content=zip(list1,list2,list3)\n",
    "\n",
    "print(zipped_content)\n",
    "print(f\"print zipped content in the form of list: {list(zipped_content)}\")\n",
    "print(\"\")\n",
    "print(f\"dictionaryy format of zipped content{dict(zipped_content)}\")"
   ]
  },
  {
   "cell_type": "markdown",
   "id": "661a8c0d",
   "metadata": {},
   "source": [
    "#### Code Explanation:\n",
    "---\n",
    "When you do list(zipped_content), the zip iterator gets exhausted — you can’t reuse it afterward.\n",
    "\n",
    "dict() needs pairs (2 elements per tuple), so only zip 2 lists to convert to dictionary.\n",
    "\n",
    "zip(list1, list2, list3) stops at the shortest list length (2 here).\n",
    "\n",
    "zip(list11, list22) creates key-value pairs for dictionary conversion."
   ]
  },
  {
   "cell_type": "code",
   "execution_count": 169,
   "id": "2fc33f2a",
   "metadata": {},
   "outputs": [
    {
     "name": "stdout",
     "output_type": "stream",
     "text": [
      "<zip object at 0x000001C63483B240>\n",
      "print zipped content in the form of list: [(1, 'chandra', 'Data Science'), (2, 'sai', 'MLOPS')]\n",
      "\n",
      "dictionaryy format of zipped content{1: 'chandra', 2: 'sai', 3: 'ML Engineer'}\n"
     ]
    }
   ],
   "source": [
    "#zipped content for dictionary type cast of data type ....empty{}\n",
    "#change the above code and try to print dict type data\n",
    "#zip() function and enumerate() function\n",
    "list1=[1,2,3]\n",
    "list2=['chandra','sai','ML Engineer']\n",
    "list3=['Data Science','MLOPS']\n",
    "zipped_content=zip(list1,list2,list3)\n",
    "\n",
    "print(zipped_content)\n",
    "print(f\"print zipped content in the form of list: {list(zipped_content)}\")\n",
    "print(\"\")\n",
    "list11=[1,2,3]\n",
    "list22=['chandra','sai','ML Engineer']\n",
    "#list33=['Data Science','MLOPS','']\n",
    "zipped_content1=zip(list11,list22)\n",
    "print(f\"dictionaryy format of zipped content{dict(zipped_content1)}\")"
   ]
  },
  {
   "cell_type": "markdown",
   "id": "9438d110",
   "metadata": {},
   "source": [
    "#### Code Explanation:\n",
    "---\n",
    "set(l) converts the list l into a set.\n",
    "\n",
    "Sets are unordered collections of unique elements.\n",
    "\n",
    "So, duplicates would be removed (if there were any).\n",
    "\n",
    "Since your list has unique elements, list5 will just be {1, 2, 3, 4} but without order guarantees."
   ]
  },
  {
   "cell_type": "code",
   "execution_count": 170,
   "id": "b6d1debc",
   "metadata": {},
   "outputs": [
    {
     "data": {
      "text/plain": [
       "{1, 2, 3, 4}"
      ]
     },
     "execution_count": 170,
     "metadata": {},
     "output_type": "execute_result"
    }
   ],
   "source": [
    "#set\n",
    "l=[1,2,3,4]\n",
    "list5=set(l)\n",
    "list5"
   ]
  },
  {
   "cell_type": "markdown",
   "id": "d774c383",
   "metadata": {},
   "source": [
    "#### Code Explanation:\n",
    "---\n",
    "The list example is converted into a set set_content.\n",
    "\n",
    "Since all elements are unique strings, the set will contain the same two items.\n",
    "\n",
    "Sets are unordered, so the output order may vary."
   ]
  },
  {
   "cell_type": "code",
   "execution_count": 171,
   "id": "24eee153",
   "metadata": {},
   "outputs": [
    {
     "data": {
      "text/plain": [
       "{'chandra', 'list content'}"
      ]
     },
     "execution_count": 171,
     "metadata": {},
     "output_type": "execute_result"
    }
   ],
   "source": [
    "#set\n",
    "example=['chandra','list content']\n",
    "set_content=set(example)\n",
    "set_content"
   ]
  },
  {
   "cell_type": "markdown",
   "id": "7fa254b5",
   "metadata": {},
   "source": [
    "#### Code Explanation:\n",
    "---\n",
    "Sets store only unique values.\n",
    "\n",
    "Even though example has 'chandra' repeated 3 times, the set will have just one 'chandra'.\n",
    "\n",
    "Similarly, list_ex has many 1’s, but set_li will have just {1}."
   ]
  },
  {
   "cell_type": "code",
   "execution_count": 172,
   "id": "2d2190a4",
   "metadata": {},
   "outputs": [
    {
     "data": {
      "text/plain": [
       "({'chandra'}, {1})"
      ]
     },
     "execution_count": 172,
     "metadata": {},
     "output_type": "execute_result"
    }
   ],
   "source": [
    "#set example it stores unique values \n",
    "example=('chandra', 'chandra','chandra')\n",
    "set_example=set(example)\n",
    "list_ex=[1,1,1,1,1,1,1,1,1,1,1,1,]\n",
    "set_li=set(list_ex)\n",
    "set_example,set_li"
   ]
  },
  {
   "cell_type": "markdown",
   "id": "a7f1ed8b",
   "metadata": {},
   "source": [
    "#### Code Explanation:\n",
    "---\n",
    "Sets ...... a sorted list from the set."
   ]
  },
  {
   "cell_type": "code",
   "execution_count": 173,
   "id": "5589ca9a",
   "metadata": {},
   "outputs": [
    {
     "data": {
      "text/plain": [
       "{1, 2, 3, 5, 6, 7, 8, 9, 10}"
      ]
     },
     "execution_count": 173,
     "metadata": {},
     "output_type": "execute_result"
    }
   ],
   "source": [
    "#set example\n",
    "s1={10,9,8,7,6,5,3,2,1}\n",
    "\n",
    "#display the data in sorted ascending order\n",
    "s1"
   ]
  },
  {
   "cell_type": "markdown",
   "id": "a7391993",
   "metadata": {},
   "source": [
    "### Set Operations Using Operators — Notes and Examples"
   ]
  },
  {
   "cell_type": "markdown",
   "id": "6d536e15",
   "metadata": {},
   "source": [
    "#### Set Difference (-)"
   ]
  },
  {
   "cell_type": "markdown",
   "id": "2aeba19e",
   "metadata": {},
   "source": [
    "#### Code Explanation:\n",
    "---\n",
    "Returns elements in s1 but not in s2."
   ]
  },
  {
   "cell_type": "code",
   "execution_count": 94,
   "id": "5907b8c5",
   "metadata": {},
   "outputs": [
    {
     "name": "stdout",
     "output_type": "stream",
     "text": [
      "{1, 2}\n"
     ]
    }
   ],
   "source": [
    "s1 = {1, 2, 3, 4}\n",
    "s2 = {3, 4, 5, 6}\n",
    "\n",
    "\n",
    "diff = s1 - s2\n",
    "print(diff)  # Output: {1, 2}\n"
   ]
  },
  {
   "cell_type": "markdown",
   "id": "3d15fdda",
   "metadata": {},
   "source": [
    "#### Set Intersection (&)"
   ]
  },
  {
   "cell_type": "markdown",
   "id": "cafb8576",
   "metadata": {},
   "source": [
    "#### Code Explanation:\n",
    "---\n",
    "Returns elements common to both s1 and s2."
   ]
  },
  {
   "cell_type": "code",
   "execution_count": 95,
   "id": "cec21333",
   "metadata": {},
   "outputs": [
    {
     "name": "stdout",
     "output_type": "stream",
     "text": [
      "{3, 4}\n"
     ]
    }
   ],
   "source": [
    "s1 = {1, 2, 3, 4}\n",
    "s2 = {3, 4, 5, 6}\n",
    "\n",
    "inter = s1 & s2\n",
    "print(inter)  # Output: {3, 4}\n"
   ]
  },
  {
   "cell_type": "markdown",
   "id": "c29e6c2f",
   "metadata": {},
   "source": [
    "#### Set Union (|)"
   ]
  },
  {
   "cell_type": "markdown",
   "id": "b5780183",
   "metadata": {},
   "source": [
    "#### Code Explanation:\n",
    "\n",
    "Returns all unique elements from both sets combined."
   ]
  },
  {
   "cell_type": "code",
   "execution_count": 96,
   "id": "e40ac396",
   "metadata": {},
   "outputs": [
    {
     "name": "stdout",
     "output_type": "stream",
     "text": [
      "{1, 2, 3, 4, 5, 6}\n"
     ]
    }
   ],
   "source": [
    "s1 = {1, 2, 3, 4}\n",
    "s2 = {3, 4, 5, 6}\n",
    "\n",
    "union = s1 | s2\n",
    "print(union)  # Output: {1, 2, 3, 4, 5, 6}\n"
   ]
  },
  {
   "cell_type": "markdown",
   "id": "fcc194fd",
   "metadata": {},
   "source": [
    "#### Symmetric Difference (^)"
   ]
  },
  {
   "cell_type": "markdown",
   "id": "b84d0f29",
   "metadata": {},
   "source": [
    "#### Code Explanation:\n",
    "---\n",
    "Returns elements in either s1 or s2, but not both."
   ]
  },
  {
   "cell_type": "code",
   "execution_count": 97,
   "id": "89cae1d7",
   "metadata": {},
   "outputs": [
    {
     "name": "stdout",
     "output_type": "stream",
     "text": [
      "{1, 2, 5, 6}\n"
     ]
    }
   ],
   "source": [
    "s1 = {1, 2, 3, 4}\n",
    "s2 = {3, 4, 5, 6}\n",
    "\n",
    "sym_diff = s1 ^ s2\n",
    "print(sym_diff)  # Output: {1, 2, 5, 6}\n"
   ]
  },
  {
   "cell_type": "markdown",
   "id": "c51a9c06",
   "metadata": {},
   "source": [
    "#### Membership Test (in)"
   ]
  },
  {
   "cell_type": "markdown",
   "id": "e944cebd",
   "metadata": {},
   "source": [
    "#### Code Explanation:\n",
    "---\n",
    "Checks if an element exists in the set."
   ]
  },
  {
   "cell_type": "code",
   "execution_count": 98,
   "id": "8500d079",
   "metadata": {},
   "outputs": [
    {
     "name": "stdout",
     "output_type": "stream",
     "text": [
      "True\n",
      "False\n"
     ]
    }
   ],
   "source": [
    "s1 = {1, 2, 3, 4}\n",
    "s2 = {3, 4, 5, 6}\n",
    "\n",
    "print(3 in s1)  # True\n",
    "print(5 in s1)  # False\n"
   ]
  },
  {
   "cell_type": "markdown",
   "id": "9a359351",
   "metadata": {},
   "source": [
    "#### Code Explanation:\n",
    "---\n",
    ".add() method adds a single element to the set.\n",
    "\n",
    "If the element already exists, the set remains unchanged (no duplicates)."
   ]
  },
  {
   "cell_type": "code",
   "execution_count": 174,
   "id": "3eabe69e",
   "metadata": {},
   "outputs": [
    {
     "data": {
      "text/plain": [
       "{1, 2, 3, 7, 9, 10, 343}"
      ]
     },
     "execution_count": 174,
     "metadata": {},
     "output_type": "execute_result"
    }
   ],
   "source": [
    "#add value to the set\n",
    "s12={10,9,7,3,2,1}\n",
    "s12.add(343)\n",
    "\n",
    "s12"
   ]
  },
  {
   "cell_type": "markdown",
   "id": "b6637252",
   "metadata": {},
   "source": [
    "#### Code Explanation:\n",
    "---\n",
    "Removing duplicates from a dataset (ML preprocessing)\n",
    "\n",
    "Remove duplicate entries in training data to avoid bias or redundancy."
   ]
  },
  {
   "cell_type": "code",
   "execution_count": 175,
   "id": "ce594f87",
   "metadata": {},
   "outputs": [
    {
     "name": "stdout",
     "output_type": "stream",
     "text": [
      "{'cat', 'bird', 'fish', 'dog'}\n"
     ]
    }
   ],
   "source": [
    "raw_data = ['cat', 'dog', 'cat', 'bird', 'dog', 'fish']\n",
    "unique_data = set(raw_data)\n",
    "print(unique_data)"
   ]
  },
  {
   "cell_type": "markdown",
   "id": "3ff8a9bd",
   "metadata": {},
   "source": [
    "#### Code Explanation:\n",
    "---\n",
    "Checking if a user has required permissions (Web app auth)"
   ]
  },
  {
   "cell_type": "code",
   "execution_count": 176,
   "id": "ee9f5702",
   "metadata": {},
   "outputs": [
    {
     "name": "stdout",
     "output_type": "stream",
     "text": [
      "Access denied\n"
     ]
    }
   ],
   "source": [
    "user_permissions = {'read', 'write'}\n",
    "required_permissions = {'read', 'delete'}\n",
    "\n",
    "if required_permissions.issubset(user_permissions):\n",
    "    print(\"Access granted\")\n",
    "else:\n",
    "    print(\"Access denied\")\n"
   ]
  },
  {
   "cell_type": "markdown",
   "id": "4159a328",
   "metadata": {},
   "source": [
    "#### Code Explanation:\n",
    "---\n",
    "Combining tags from multiple sources (Content Management)\n",
    "\n",
    "Aggregate tags from different contributors for better search and filtering."
   ]
  },
  {
   "cell_type": "code",
   "execution_count": 177,
   "id": "6ba1a939",
   "metadata": {},
   "outputs": [
    {
     "name": "stdout",
     "output_type": "stream",
     "text": [
      "{'data-science', 'deep-learning', 'python', 'ml', 'ai'}\n"
     ]
    }
   ],
   "source": [
    "tags_source1 = {'python', 'ai', 'ml'}\n",
    "tags_source2 = {'ai', 'data-science', 'deep-learning'}\n",
    "\n",
    "all_tags = tags_source1.union(tags_source2)\n",
    "print(all_tags)  # {'python', 'ai', 'ml', 'data-science', 'deep-learning'}\n"
   ]
  },
  {
   "cell_type": "markdown",
   "id": "7cbcc57f",
   "metadata": {},
   "source": [
    "#### Code Explanation:\n",
    "---\n",
    "Finding common interests among users (Social networking app)\n",
    "\n",
    "Suggest friends or content based on shared interests."
   ]
  },
  {
   "cell_type": "code",
   "execution_count": 178,
   "id": "7766058b",
   "metadata": {},
   "outputs": [
    {
     "name": "stdout",
     "output_type": "stream",
     "text": [
      "{'sports'}\n"
     ]
    }
   ],
   "source": [
    "user1_interests = {'music', 'sports', 'reading'}\n",
    "user2_interests = {'sports', 'travel', 'movies'}\n",
    "\n",
    "common_interests = user1_interests.intersection(user2_interests)\n",
    "print(common_interests)  # {'sports'}\n"
   ]
  },
  {
   "cell_type": "markdown",
   "id": "4f773330",
   "metadata": {},
   "source": [
    "#### Code Explanation:\n",
    "---\n",
    "Filtering out stopwords from text (NLP preprocessing)\n",
    "\n",
    "Improve model performance by removing common stopwords that carry little meaning."
   ]
  },
  {
   "cell_type": "code",
   "execution_count": 179,
   "id": "82fd62bb",
   "metadata": {},
   "outputs": [
    {
     "name": "stdout",
     "output_type": "stream",
     "text": [
      "{'text', 'sample', 'this'}\n"
     ]
    }
   ],
   "source": [
    "text_tokens = {'this', 'is', 'a', 'sample', 'text'}\n",
    "stopwords = {'is', 'a', 'the'}\n",
    "\n",
    "filtered_tokens = text_tokens.difference(stopwords)\n",
    "print(filtered_tokens)  # {'this', 'sample', 'text'}\n"
   ]
  },
  {
   "cell_type": "markdown",
   "id": "85233bbb",
   "metadata": {},
   "source": [
    "#### Code Explanation:\n",
    "---\n",
    "Detecting data drift by comparing old and new datasets (ML Monitoring)\n",
    "\n",
    "Identify features that appeared or disappeared, which may affect model predictions."
   ]
  },
  {
   "cell_type": "code",
   "execution_count": 180,
   "id": "6f51d758",
   "metadata": {},
   "outputs": [
    {
     "name": "stdout",
     "output_type": "stream",
     "text": [
      "{'marital_status', 'gender'}\n"
     ]
    }
   ],
   "source": [
    "training_data_features = {'age', 'income', 'education', 'gender'}\n",
    "new_data_features = {'age', 'income', 'education', 'marital_status'}\n",
    "\n",
    "drift_features = training_data_features.symmetric_difference(new_data_features)\n",
    "print(drift_features)  # {'gender', 'marital_status'}\n"
   ]
  },
  {
   "cell_type": "markdown",
   "id": "e6381d36",
   "metadata": {},
   "source": [
    "#### Code Explanation:\n",
    "---\n",
    "Fast membership test for blacklist (Security in web apps)\n",
    "\n",
    "Quickly block unwanted users or attacks."
   ]
  },
  {
   "cell_type": "code",
   "execution_count": 181,
   "id": "c8fcfe43",
   "metadata": {},
   "outputs": [
    {
     "name": "stdout",
     "output_type": "stream",
     "text": [
      "Block access\n"
     ]
    }
   ],
   "source": [
    "blacklist_ips = {'192.168.1.1', '10.0.0.5'}\n",
    "incoming_ip = '10.0.0.5'\n",
    "\n",
    "if incoming_ip in blacklist_ips:\n",
    "    print(\"Block access\")\n",
    "else:\n",
    "    print(\"Allow access\")\n"
   ]
  },
  {
   "cell_type": "markdown",
   "id": "ad03a78c",
   "metadata": {},
   "source": [
    "#### Code Explanation:\n",
    "---\n",
    "Finding Removed Items (E-commerce or CMS)\n",
    "\n",
    "Identify out-of-stock or deleted products."
   ]
  },
  {
   "cell_type": "code",
   "execution_count": 183,
   "id": "316201b9",
   "metadata": {},
   "outputs": [
    {
     "name": "stdout",
     "output_type": "stream",
     "text": [
      "{'tablet'}\n"
     ]
    }
   ],
   "source": [
    "previous_products = {'phone', 'laptop', 'tablet', 'watch'}\n",
    "current_products = {'phone', 'laptop', 'watch'}\n",
    "\n",
    "removed = previous_products.difference(current_products)\n",
    "print(removed)  # {'tablet'}\n"
   ]
  },
  {
   "cell_type": "markdown",
   "id": "d52c5239",
   "metadata": {},
   "source": [
    "#### Code Explanation:\n",
    "---\n",
    "Adding new keywords to a vocabulary during training (Gen AI apps)\n",
    "\n",
    "Expand vocabulary dynamically during model training or fine-tuning."
   ]
  },
  {
   "cell_type": "code",
   "execution_count": 182,
   "id": "7945b9ab",
   "metadata": {},
   "outputs": [
    {
     "name": "stdout",
     "output_type": "stream",
     "text": [
      "{'machine', 'world', 'AI', 'learning', 'hello'}\n"
     ]
    }
   ],
   "source": [
    "vocab = {'hello', 'world'}\n",
    "new_words = ['AI', 'machine', 'learning']\n",
    "\n",
    "for word in new_words:\n",
    "    vocab.add(word)\n",
    "\n",
    "print(vocab)  # {'hello', 'world', 'AI', 'machine', 'learning'}\n"
   ]
  },
  {
   "cell_type": "markdown",
   "id": "2612ba13",
   "metadata": {},
   "source": [
    "#### Simple Class and Method"
   ]
  },
  {
   "cell_type": "markdown",
   "id": "5adc2917",
   "metadata": {},
   "source": [
    "#### Code Explanation:\n",
    "\n",
    "\n",
    "Class Definition:\n",
    "class Myclass: defines a new class named Myclass.\n",
    "\n",
    "Method inside Class:\n",
    "def basic(self): defines a method named basic. The self parameter refers to the instance of the class.\n",
    "\n",
    "Creating an Instance:\n",
    "c = Myclass() creates an object (instance) c of the class Myclass.\n",
    "\n",
    "Calling a Method:\n",
    "c.basic() calls the basic method on the instance c, which prints \"my class\"."
   ]
  },
  {
   "cell_type": "code",
   "execution_count": 99,
   "id": "f3e623aa",
   "metadata": {},
   "outputs": [
    {
     "name": "stdout",
     "output_type": "stream",
     "text": [
      "my class\n"
     ]
    }
   ],
   "source": [
    "class Myclass:\n",
    "    \n",
    "    def basic(self):\n",
    "        print(\"my class\")\n",
    "\n",
    "c=Myclass()\n",
    "\n",
    "c.basic()"
   ]
  },
  {
   "cell_type": "markdown",
   "id": "92cae6a6",
   "metadata": {},
   "source": [
    "#### Class Variables vs Instance Variables"
   ]
  },
  {
   "cell_type": "markdown",
   "id": "296970d6",
   "metadata": {},
   "source": [
    "#### Code Explanation:\n",
    "\n",
    "company is a class variable common to all employees.\n",
    "\n",
    "name and position are instance variables unique to each employee."
   ]
  },
  {
   "cell_type": "code",
   "execution_count": 100,
   "id": "4b22c7f8",
   "metadata": {},
   "outputs": [
    {
     "name": "stdout",
     "output_type": "stream",
     "text": [
      "Alice Developer TechCorp\n",
      "Bob Designer TechCorp\n"
     ]
    }
   ],
   "source": [
    "class Employee:\n",
    "    # Class variable shared by all employees\n",
    "    company = \"TechCorp\"\n",
    "\n",
    "    def __init__(self, name, position):\n",
    "        # Instance variables unique to each employee\n",
    "        self.name = name\n",
    "        self.position = position\n",
    "\n",
    "emp1 = Employee(\"Alice\", \"Developer\")\n",
    "emp2 = Employee(\"Bob\", \"Designer\")\n",
    "\n",
    "print(emp1.name, emp1.position, emp1.company)  # Alice Developer TechCorp\n",
    "print(emp2.name, emp2.position, emp2.company)  # Bob Designer TechCorp\n"
   ]
  },
  {
   "cell_type": "markdown",
   "id": "f70c77f1",
   "metadata": {},
   "source": [
    "### Inheritance Basics"
   ]
  },
  {
   "cell_type": "markdown",
   "id": "8a8f2a5d",
   "metadata": {},
   "source": [
    "#### Code Explanation:\n",
    "\n",
    "Bicycle inherits from Vehicle.\n",
    "\n",
    "Bicycle overrides the move method with its own implementation."
   ]
  },
  {
   "cell_type": "code",
   "execution_count": 101,
   "id": "4fcebcad",
   "metadata": {},
   "outputs": [
    {
     "name": "stdout",
     "output_type": "stream",
     "text": [
      "Bicycle is pedaling\n"
     ]
    }
   ],
   "source": [
    "class Vehicle:\n",
    "    def move(self):\n",
    "        print(\"Vehicle is moving\")\n",
    "\n",
    "class Bicycle(Vehicle):\n",
    "    def move(self):\n",
    "        print(\"Bicycle is pedaling\")\n",
    "\n",
    "bike = Bicycle()\n",
    "bike.move()  # Bicycle is pedaling\n"
   ]
  },
  {
   "cell_type": "markdown",
   "id": "a97ec39b",
   "metadata": {},
   "source": [
    "### Method Overriding"
   ]
  },
  {
   "cell_type": "markdown",
   "id": "1a76283b",
   "metadata": {},
   "source": [
    "#### Code Explanation:\n",
    "\n",
    "Developer overrides the work method from Manager with a more specific behavior."
   ]
  },
  {
   "cell_type": "code",
   "execution_count": 102,
   "id": "e01cd1fa",
   "metadata": {},
   "outputs": [
    {
     "name": "stdout",
     "output_type": "stream",
     "text": [
      "Managing team and projects\n",
      "Writing code and fixing bugs\n"
     ]
    }
   ],
   "source": [
    "class Manager:\n",
    "    def work(self):\n",
    "        print(\"Managing team and projects\")\n",
    "\n",
    "class Developer(Manager):\n",
    "    def work(self):\n",
    "        print(\"Writing code and fixing bugs\")\n",
    "\n",
    "mgr = Manager()\n",
    "dev = Developer()\n",
    "\n",
    "mgr.work()  # Managing team and projects\n",
    "dev.work()  # Writing code and fixing bugs\n"
   ]
  },
  {
   "cell_type": "markdown",
   "id": "8072ceff",
   "metadata": {},
   "source": [
    "### Closure Example"
   ]
  },
  {
   "cell_type": "markdown",
   "id": "fe88339e",
   "metadata": {},
   "source": [
    "#### Code Explanation:\n",
    "\n",
    "outer() is a function that defines a variable x and an inner function inner().\n",
    "\n",
    "The inner function inner() accesses the variable x from the enclosing scope.\n",
    "\n",
    "outer() returns the inner function without calling it.\n",
    "\n",
    "When we assign closure = outer(), the inner function is returned and remembers the value of x even after outer() has finished executing.\n",
    "\n",
    "Calling closure() invokes inner(), which prints the value of x (which is 10)."
   ]
  },
  {
   "cell_type": "code",
   "execution_count": null,
   "id": "4b0e996d",
   "metadata": {},
   "outputs": [],
   "source": [
    "#closure \n",
    "\n",
    "def outer():\n",
    "    x=10\n",
    "    def inner():\n",
    "        print(x)\n",
    "\n",
    "    return inner\n",
    "\n",
    "closure=outer()\n",
    "\n",
    "#function calling\n",
    "closure()"
   ]
  },
  {
   "cell_type": "markdown",
   "id": "967c5143",
   "metadata": {},
   "source": [
    "#### Code Explanation:\n",
    "\n",
    "#### Python Closures: Example and Explanation\n",
    "\n",
    "A **closure** is a function object that remembers values in enclosing scopes even if they are not present in memory.\n",
    "\n",
    "In this example, `create_counter()` returns the `increment` function that *remembers* the variable `count` even after `create_counter` has finished execution.\n",
    "\n",
    "- `nonlocal count` allows the inner function to modify the `count` variable defined in the outer function.\n",
    "- Each call to `create_counter()` creates a new independent counter.\n",
    "\n",
    "This pattern is useful when you want to maintain state across multiple calls without using global variables or classes.\n",
    "\n",
    "counter1() increases count inside the first closure and remembers its state, so it outputs 1, then 2.\n",
    "\n",
    "counter2() is a new closure with its own independent count, starting again at 0, so first call returns 1."
   ]
  },
  {
   "cell_type": "code",
   "execution_count": 103,
   "id": "a0fb8df3",
   "metadata": {},
   "outputs": [
    {
     "name": "stdout",
     "output_type": "stream",
     "text": [
      "Counter 1: 1\n",
      "Counter 1: 2\n",
      "Counter 2: 1\n"
     ]
    }
   ],
   "source": [
    "#closure\n",
    "\n",
    "def create_counter():\n",
    "    count = 0\n",
    "    def increment():\n",
    "        nonlocal count  # The nonlocal keyword is needed to modify the variable\n",
    "        count += 1\n",
    "        return count\n",
    "    return increment\n",
    "\n",
    "counter1 = create_counter()\n",
    "print(f\"Counter 1: {counter1()}\") # 1\n",
    "print(f\"Counter 1: {counter1()}\") # 2\n",
    "\n",
    "counter2 = create_counter()\n",
    "print(f\"Counter 2: {counter2()}\") # 1"
   ]
  },
  {
   "cell_type": "markdown",
   "id": "e2f31962",
   "metadata": {},
   "source": [
    "#### Code Explanation:\n",
    "\n",
    "#### Python Decorators\n",
    "\n",
    "A **decorator** is a special type of **closure** that takes a function as input and returns a new function with extended behavior.\n",
    "\n",
    "- Decorators allow you to modify or enhance the behavior of functions without changing their code.\n",
    "- They are widely used for logging, access control, caching, and more.\n",
    "\n",
    "In this example:\n",
    "\n",
    "- `my_decorator` is a decorator function.\n",
    "- It wraps the original `weather_api` function with additional behavior before and after its execution.\n",
    "- The `@my_decorator` syntax is a shorthand to apply the decorator to the `weather_api` function.\n"
   ]
  },
  {
   "cell_type": "code",
   "execution_count": 105,
   "id": "f6601a1b",
   "metadata": {},
   "outputs": [
    {
     "name": "stdout",
     "output_type": "stream",
     "text": [
      "before the function\n",
      "Weather information\n",
      "after function \n"
     ]
    }
   ],
   "source": [
    "#decorators\n",
    "# a decorator is a closure that takes a function as an argument and returns a new function.\n",
    "\n",
    "def my_decorator(function):\n",
    "    def wrapper():\n",
    "        print(\"before the function\")\n",
    "        function()\n",
    "        print(\"after function \")\n",
    "    return wrapper\n",
    "\n",
    "\n",
    "@my_decorator\n",
    "def weather_api():\n",
    "    print(\"Weather information\")\n",
    "\n",
    "\n",
    "#function calling\n",
    "weather_api()\n",
    "\n"
   ]
  },
  {
   "cell_type": "markdown",
   "id": "1c1d720c",
   "metadata": {},
   "source": [
    "#### Code Explanation:\n",
    "\n",
    "#### List Comprehension in Python\n",
    "\n",
    "List comprehension is a concise way to create lists by iterating over an iterable and optionally applying conditions or expressions.\n",
    "\n",
    "It’s often more readable and shorter than traditional loops.\n",
    "\n",
    "\n",
    "\n",
    "Example: Create a list of numbers from 0 to 10 using list comprehension.\n"
   ]
  },
  {
   "cell_type": "code",
   "execution_count": 106,
   "id": "78fcb027",
   "metadata": {},
   "outputs": [
    {
     "name": "stdout",
     "output_type": "stream",
     "text": [
      "[0, 1, 2, 3, 4, 5, 6, 7, 8, 9, 10]\n"
     ]
    }
   ],
   "source": [
    "# List comprehension\n",
    "# copy the numbers from range of 0 to 10 within new list\n",
    "\n",
    "\n",
    "number_2=[number for number in range(0,11)]\n",
    "print(number_2)\n",
    "\n",
    "## actually what this list comprehension does\n",
    "#number_2=[]\n",
    "# for i in range(0,11)\n",
    "#     number_2.append(i)\n",
    "#print(number_2)"
   ]
  },
  {
   "cell_type": "markdown",
   "id": "045bb79a",
   "metadata": {},
   "source": [
    "#### Code Explanation:\n",
    "\n",
    "#### List Comprehension with Condition: Filtering Even Numbers\n",
    "\n",
    "You can add conditions to list comprehensions to filter elements.\n",
    "\n",
    "Example: Create a list of even numbers from 1 to 10 using list comprehension.\n",
    "\n"
   ]
  },
  {
   "cell_type": "code",
   "execution_count": 107,
   "id": "409ce63d",
   "metadata": {},
   "outputs": [
    {
     "name": "stdout",
     "output_type": "stream",
     "text": [
      "[2, 4, 6, 8, 10]\n"
     ]
    }
   ],
   "source": [
    "# use \"List Comprehension\"\n",
    "# copy even numbers from the range of 1 to 10\n",
    "\n",
    "numbers=[number for number in range(1,11) if number%2==0]\n",
    "print(numbers)"
   ]
  },
  {
   "cell_type": "markdown",
   "id": "fb0bb18a",
   "metadata": {},
   "source": [
    "#### Code Explanation:\n",
    "\n",
    "#### List Comprehension for Odd Numbers\n",
    "\n",
    "Just like filtering even numbers, you can filter odd numbers using a condition in the list comprehension.\n",
    "\n",
    "Example: Create a list of odd numbers from 1 to 10.\n"
   ]
  },
  {
   "cell_type": "code",
   "execution_count": 108,
   "id": "9279099b",
   "metadata": {},
   "outputs": [
    {
     "name": "stdout",
     "output_type": "stream",
     "text": [
      "[1, 3, 5, 7, 9]\n"
     ]
    }
   ],
   "source": [
    "# use \"List Comprehension\"\n",
    "#copy the odd numbers from the range of 1 to 10\n",
    "\n",
    "numbers=[number for number in range(1,11) if number % 2!=0]\n",
    "print(numbers)"
   ]
  },
  {
   "cell_type": "markdown",
   "id": "ab748f9b",
   "metadata": {},
   "source": [
    "#### Code Explanation:\n",
    "\n",
    "#### List Comprehension: Squares of Numbers\n",
    "\n",
    "You can also use list comprehension to transform items by applying an expression.\n",
    "\n",
    "Example: Create a list containing the squares of numbers from 1 to 10.\n"
   ]
  },
  {
   "cell_type": "code",
   "execution_count": 109,
   "id": "7de2c2f1",
   "metadata": {},
   "outputs": [
    {
     "name": "stdout",
     "output_type": "stream",
     "text": [
      "[1, 4, 9, 16, 25, 36, 49, 64, 81, 100]\n"
     ]
    }
   ],
   "source": [
    "# use \"List Comprehension\"\n",
    "# print the square of the numbers from range 1 to 10\n",
    "numbers=[number**2 for number in range(1,11)]\n",
    "print(numbers)"
   ]
  },
  {
   "cell_type": "markdown",
   "id": "151bbf7e",
   "metadata": {},
   "source": [
    "#### Code Explanation:\n",
    "\n",
    "#### List Comprehension with if-else\n",
    "\n",
    "You can use an `if-else` expression inside a list comprehension to create a list based on conditional logic.\n",
    "\n",
    "Example: For numbers from 1 to 10, label each as `\"even\"` or `\"odd\"`.\n"
   ]
  },
  {
   "cell_type": "code",
   "execution_count": 110,
   "id": "1d8e005e",
   "metadata": {},
   "outputs": [
    {
     "name": "stdout",
     "output_type": "stream",
     "text": [
      "['odd', 'even', 'odd', 'even', 'odd', 'even', 'odd', 'even', 'odd', 'even']\n"
     ]
    }
   ],
   "source": [
    "# List Comprehension\n",
    "# using if and else block\n",
    "# print even or odd from the range of 1 to 10\n",
    "\n",
    "numbers=[\"even\" if number%2==0 else \"odd\" for number in range(1,11) ]\n",
    "print(numbers)"
   ]
  },
  {
   "cell_type": "markdown",
   "id": "f067a899",
   "metadata": {},
   "source": [
    "#### Code Explanation:\n",
    "\n",
    "#### Using Functions in List Comprehensions\n",
    "\n",
    "You can call a function for each item inside a list comprehension to apply complex logic or reusable code.\n",
    "\n",
    "Example: Define a function `square()` to compute the square of a number, then use it within a list comprehension to square numbers from 1 to 10.\n"
   ]
  },
  {
   "cell_type": "code",
   "execution_count": 111,
   "id": "01d313d4",
   "metadata": {},
   "outputs": [
    {
     "name": "stdout",
     "output_type": "stream",
     "text": [
      "[1, 4, 9, 16, 25, 36, 49, 64, 81, 100]\n"
     ]
    }
   ],
   "source": [
    "# List Comprehension\n",
    "# using function() within list comprehension\n",
    "\n",
    "def square(number):\n",
    "    return number**2\n",
    "\n",
    "numbers=[square(number) for number in range(1,11)]\n",
    "print(numbers)"
   ]
  },
  {
   "cell_type": "markdown",
   "id": "a4225696",
   "metadata": {},
   "source": [
    "#### Code Explanation:\n",
    "\n",
    "#### String Operations Using List Comprehension\n",
    "\n",
    "You can perform operations on strings inside list comprehensions, such as converting to uppercase, lowercase, or manipulating each string element.\n",
    "\n",
    "Example: Convert all strings in a list to uppercase using list comprehension.\n"
   ]
  },
  {
   "cell_type": "code",
   "execution_count": 112,
   "id": "ad1e712d",
   "metadata": {},
   "outputs": [
    {
     "name": "stdout",
     "output_type": "stream",
     "text": [
      "['HELLO', 'CHANDRA']\n"
     ]
    }
   ],
   "source": [
    "# string operations within List Comprehension\n",
    "\n",
    "content=[\"hello\",\"chandra\"]\n",
    "\n",
    "output=[sample.upper() for sample in content]\n",
    "print(output)"
   ]
  },
  {
   "cell_type": "markdown",
   "id": "db5d72a6",
   "metadata": {},
   "source": [
    "#### Code Explanation:\n",
    "\n",
    "#### Using `zip()` Function with List Comprehension\n",
    "\n",
    "The `zip()` function combines elements from multiple iterables (like lists) into tuples.\n",
    "\n",
    "Using `zip()` inside list comprehension is a clean way to process paired data.\n",
    "\n",
    "Example: Combine names and scores into formatted strings.\n"
   ]
  },
  {
   "cell_type": "code",
   "execution_count": 113,
   "id": "826bd589",
   "metadata": {},
   "outputs": [
    {
     "name": "stdout",
     "output_type": "stream",
     "text": [
      "['Chandra: 85', 'Sai: 90']\n"
     ]
    }
   ],
   "source": [
    "# zip() function using \"List Comprehension\"\n",
    "\n",
    "names=[\"Chandra\",\"Sai\"]\n",
    "scores=[85, 90]\n",
    "\n",
    "combined=[f\"{n}: {s}\" for n,s in zip(names,scores)]\n",
    "print(combined)"
   ]
  },
  {
   "cell_type": "markdown",
   "id": "a99e60ab",
   "metadata": {},
   "source": [
    "#### Code Explanation:\n",
    "\n",
    "#### Using `enumerate()` with List Comprehension\n",
    "\n",
    "The `enumerate()` function adds a counter to an iterable and returns it as an enumerate object.\n",
    "\n",
    "This is useful when you want both the index and the value during iteration.\n",
    "\n",
    "Example: Create a list of tuples with index and value using list comprehension.\n"
   ]
  },
  {
   "cell_type": "code",
   "execution_count": 114,
   "id": "514a1e7d",
   "metadata": {},
   "outputs": [
    {
     "name": "stdout",
     "output_type": "stream",
     "text": [
      "[(0, 'a'), (1, 'b'), (2, 'c')]\n"
     ]
    }
   ],
   "source": [
    "# enumerate() function within \"List Comprehension\"\n",
    "\n",
    "data=[\"a\",\"b\",\"c\"]\n",
    "indexed=[(i,val) for i,val in enumerate(data)]\n",
    "print(indexed)"
   ]
  },
  {
   "cell_type": "markdown",
   "id": "ff437d40",
   "metadata": {},
   "source": [
    "#### Code Explanation:\n",
    "\n",
    "#### Exception Handling with try-except\n",
    "\n",
    "The `try-except` block helps you catch errors during runtime and handle them gracefully, preventing the program from crashing.\n",
    "\n",
    "In this example, division by zero raises an error, which we catch and handle by printing a message.\n"
   ]
  },
  {
   "cell_type": "code",
   "execution_count": 115,
   "id": "a8565c1f",
   "metadata": {},
   "outputs": [
    {
     "name": "stdout",
     "output_type": "stream",
     "text": [
      "Some Error\n"
     ]
    }
   ],
   "source": [
    "# try except\n",
    "\n",
    "try:\n",
    "    1/0\n",
    "except:\n",
    "    print(\"Some Error\")    "
   ]
  },
  {
   "cell_type": "markdown",
   "id": "07d34c93",
   "metadata": {},
   "source": [
    "#### Code Explanation:\n",
    "\n",
    "#### Catching and Printing Exceptions\n",
    "\n",
    "You can catch an exception object using `except Exception as e` to access the error message or details.\n",
    "\n",
    "This is useful for debugging or providing informative error messages.\n"
   ]
  },
  {
   "cell_type": "code",
   "execution_count": 116,
   "id": "64158465",
   "metadata": {},
   "outputs": [
    {
     "name": "stdout",
     "output_type": "stream",
     "text": [
      "division by zero\n"
     ]
    }
   ],
   "source": [
    "# print the exception\n",
    "try:\n",
    "    1/0\n",
    "except Exception as e:\n",
    "    print(e)    "
   ]
  },
  {
   "cell_type": "markdown",
   "id": "a93f62c9",
   "metadata": {},
   "source": [
    "#### Code Explanation:\n",
    "\n",
    "#### Handling Specific Exceptions\n",
    "\n",
    "You can catch specific exceptions to handle different error types differently.\n",
    "\n",
    "Example: Catch and handle a `ZeroDivisionError` specifically.\n"
   ]
  },
  {
   "cell_type": "code",
   "execution_count": 117,
   "id": "0511123e",
   "metadata": {},
   "outputs": [
    {
     "name": "stdout",
     "output_type": "stream",
     "text": [
      "division by zero\n"
     ]
    }
   ],
   "source": [
    "try:\n",
    "    1/0\n",
    "except ZeroDivisionError as e:\n",
    "    print(e)    "
   ]
  },
  {
   "cell_type": "markdown",
   "id": "e39e26b3",
   "metadata": {},
   "source": [
    "#### Code Explanation:\n",
    "\n",
    "#### Handling Input Conversion Errors\n",
    "\n",
    "When taking user input and converting it to a number, errors can occur if the input is not a valid integer.\n",
    "\n",
    "Using `try-except`, you can catch such errors and handle them gracefully.\n"
   ]
  },
  {
   "cell_type": "code",
   "execution_count": 118,
   "id": "291d8ce4",
   "metadata": {},
   "outputs": [
    {
     "name": "stdout",
     "output_type": "stream",
     "text": [
      "invalid literal for int() with base 10: 'str'\n"
     ]
    }
   ],
   "source": [
    "try:\n",
    "    num=int(input(\"Enter number\"))\n",
    "except Exception as e:\n",
    "    print(e)"
   ]
  },
  {
   "cell_type": "markdown",
   "id": "b7daadcf",
   "metadata": {},
   "source": [
    "#### Code Explanation:\n",
    "\n",
    "#### Handling ValueError for User Input\n",
    "\n",
    "When converting input to an integer, invalid inputs raise a `ValueError`.\n",
    "\n",
    "This example catches only `ValueError` and prints the error message.\n"
   ]
  },
  {
   "cell_type": "code",
   "execution_count": 119,
   "id": "73b9c62f",
   "metadata": {},
   "outputs": [
    {
     "name": "stdout",
     "output_type": "stream",
     "text": [
      "invalid literal for int() with base 10: 'tri'\n"
     ]
    }
   ],
   "source": [
    "try:\n",
    "    num=int(input(\"Enter number\"))\n",
    "except ValueError as e:\n",
    "    print(e)    "
   ]
  },
  {
   "cell_type": "markdown",
   "id": "7e540b9d",
   "metadata": {},
   "source": [
    "#### Code Explanation:\n",
    "\n",
    "#### try, except, and finally\n",
    "\n",
    "- The `try` block lets you test a block of code for errors.\n",
    "- The `except` block lets you handle the error gracefully.\n",
    "- The `finally` block contains code that will run **no matter what**—whether an exception occurred or not.\n",
    "\n",
    "This is useful for cleaning up resources or final steps.\n"
   ]
  },
  {
   "cell_type": "code",
   "execution_count": null,
   "id": "a557afa8",
   "metadata": {},
   "outputs": [],
   "source": [
    "# try and except and finaly\n",
    "\n",
    "try:\n",
    "    num = int(input(\"Enter a number: \"))\n",
    "    print(f\"You entered: {num}\")\n",
    "except ValueError:\n",
    "    print(\"Oops! That's not a valid number.\")\n",
    "finally:\n",
    "    print(\"This always runs, no matter what.\")\n"
   ]
  },
  {
   "cell_type": "markdown",
   "id": "0af3dcbd",
   "metadata": {},
   "source": [
    "#### Code Explanation:\n",
    "\n",
    "#### try-except-else-finally Blocks\n",
    "\n",
    "- **try:** Code that might raise an exception.\n",
    "- **except:** Code to handle the exception.\n",
    "- **else:** Code that runs if no exceptions occur.\n",
    "- **finally:** Code that always runs, regardless of exceptions.\n",
    "\n",
    "This structure helps manage errors cleanly and ensures important cleanup code always executes.\n"
   ]
  },
  {
   "cell_type": "code",
   "execution_count": 120,
   "id": "2a913c01",
   "metadata": {},
   "outputs": [
    {
     "name": "stdout",
     "output_type": "stream",
     "text": [
      "Invalid input! Please enter a valid integer.\n",
      "This runs no matter what.\n"
     ]
    }
   ],
   "source": [
    "try:\n",
    "    num = int(input(\"Enter a number: \"))\n",
    "except ValueError:\n",
    "    print(\"Invalid input! Please enter a valid integer.\")\n",
    "else:\n",
    "    print(f\"You entered the number: {num}\")\n",
    "finally:\n",
    "    print(\"This runs no matter what.\")\n"
   ]
  },
  {
   "cell_type": "markdown",
   "id": "811654a7",
   "metadata": {},
   "source": [
    "#### Code Explanation:\n",
    "\n",
    "#### Raising Exceptions with `raise`\n",
    "\n",
    "You can intentionally trigger an exception using the `raise` statement.\n",
    "\n",
    "This is useful for enforcing rules or signaling errors in your code.\n"
   ]
  },
  {
   "cell_type": "code",
   "execution_count": 121,
   "id": "48d88d95",
   "metadata": {},
   "outputs": [
    {
     "name": "stdout",
     "output_type": "stream",
     "text": [
      "Error: Age must be at least 18.\n"
     ]
    }
   ],
   "source": [
    "def check_age(age):\n",
    "    if age < 18:\n",
    "        raise ValueError(\"Age must be at least 18.\")\n",
    "    else:\n",
    "        print(\"Access granted.\")\n",
    "\n",
    "try:\n",
    "    check_age(16)\n",
    "except ValueError as e:\n",
    "    print(f\"Error: {e}\")\n"
   ]
  },
  {
   "cell_type": "markdown",
   "id": "9f9ded7c",
   "metadata": {},
   "source": [
    "### Dictionary Comprehension"
   ]
  },
  {
   "cell_type": "markdown",
   "id": "3c01e2bc",
   "metadata": {},
   "source": [
    "#### Dictionary Comprehensions\n",
    "\n",
    "Dictionary comprehensions allow you to create dictionaries in a concise and readable way, similar to list comprehensions.\n",
    "\n",
    "Syntax:\n",
    "```python\n",
    "{key_expression: value_expression for item in iterable if condition}\n"
   ]
  },
  {
   "cell_type": "markdown",
   "id": "daa3c9fe",
   "metadata": {},
   "source": [
    "#### Code Explanation:\n",
    "\n",
    "range(1, 6) generates numbers from 1 to 5.\n",
    "\n",
    "The dictionary comprehension iterates over each number num in this range.\n",
    "\n",
    "For each num, it creates a key-value pair where:\n",
    "\n",
    "key = num\n",
    "\n",
    "value = num**2 (the square of num)\n",
    "\n",
    "These key-value pairs are collected into a dictionary called squares.\n",
    "\n",
    "Finally, print(squares) displays the dictionary mapping each number to its square.\n",
    "\n",
    "Result: A dictionary {1:1, 2:4, 3:9, 4:16, 5:25} where each key is a number and its value is that number squared."
   ]
  },
  {
   "cell_type": "code",
   "execution_count": 122,
   "id": "37459c24",
   "metadata": {},
   "outputs": [
    {
     "name": "stdout",
     "output_type": "stream",
     "text": [
      "{1: 1, 2: 4, 3: 9, 4: 16, 5: 25}\n"
     ]
    }
   ],
   "source": [
    "squares = {num: num**2 for num in range(1, 6)}\n",
    "print(squares)  # Output: {1: 1, 2: 4, 3: 9, 4: 16, 5: 25}"
   ]
  },
  {
   "cell_type": "markdown",
   "id": "bbbb9a09",
   "metadata": {},
   "source": [
    "#### Set Comprehensions\n",
    "\n",
    "Set comprehensions create sets using a similar syntax to list comprehensions but with curly braces `{}`.\n",
    "\n",
    "They automatically remove duplicates because sets do not allow repeated elements.\n",
    "\n",
    "Example: Create a set of squares of numbers, demonstrating that duplicates are removed.\n"
   ]
  },
  {
   "cell_type": "markdown",
   "id": "f578730f",
   "metadata": {},
   "source": [
    "#### Code Explanation:\n",
    "\n",
    "numbers is a list containing some repeated elements (e.g., 2 and 4 appear twice).\n",
    "\n",
    "The set comprehension {num**2 for num in numbers} iterates over each number in the list.\n",
    "\n",
    "For each number, it computes the square (num**2).\n",
    "\n",
    "These squared values are collected into a set, which automatically removes duplicates.\n",
    "\n",
    "The resulting squares_set contains unique squares of the numbers in the list.\n",
    "\n",
    "When printed, you get a set of unique squared values: {1, 4, 9, 16, 25}."
   ]
  },
  {
   "cell_type": "code",
   "execution_count": 123,
   "id": "e1706a9c",
   "metadata": {},
   "outputs": [
    {
     "name": "stdout",
     "output_type": "stream",
     "text": [
      "{1, 4, 9, 16, 25}\n"
     ]
    }
   ],
   "source": [
    "numbers = [1, 2, 2, 3, 4, 4, 5]\n",
    "squares_set = {num**2 for num in numbers}\n",
    "print(squares_set)  # Output: {1, 4, 9, 16, 25}\n"
   ]
  },
  {
   "cell_type": "markdown",
   "id": "60bdd8b3",
   "metadata": {},
   "source": [
    "### map(), filter(), reduce()\n",
    "\n",
    "- **map(function, iterable):** Applies a function to every item in an iterable and returns an iterator.\n",
    "- **filter(function, iterable):** Filters items in an iterable based on a function that returns True/False.\n",
    "- **reduce(function, iterable):** Applies a rolling computation to sequential pairs of values in an iterable (needs `functools.reduce`).\n",
    "\n",
    "Examples follow.\n"
   ]
  },
  {
   "cell_type": "code",
   "execution_count": 124,
   "id": "5ef20813",
   "metadata": {},
   "outputs": [
    {
     "name": "stdout",
     "output_type": "stream",
     "text": [
      "Squares: [1, 4, 9, 16]\n",
      "Evens: [2, 4]\n",
      "Sum: 10\n"
     ]
    }
   ],
   "source": [
    "from functools import reduce\n",
    "\n",
    "# map example: square numbers\n",
    "numbers = [1, 2, 3, 4]\n",
    "squares = list(map(lambda x: x**2, numbers))\n",
    "print(\"Squares:\", squares)\n",
    "\n",
    "# filter example: keep even numbers\n",
    "evens = list(filter(lambda x: x % 2 == 0, numbers))\n",
    "print(\"Evens:\", evens)\n",
    "\n",
    "# reduce example: sum all numbers\n",
    "total = reduce(lambda x, y: x + y, numbers)\n",
    "print(\"Sum:\", total)\n"
   ]
  },
  {
   "cell_type": "markdown",
   "id": "49b5bea4",
   "metadata": {},
   "source": [
    "### enumerate() and zip()\n",
    "\n",
    "- **enumerate(iterable, start=0):** Adds a counter to an iterable, returning pairs (index, value).\n",
    "- **zip(*iterables):** Combines multiple iterables element-wise into tuples.\n",
    "\n",
    "Examples next.\n"
   ]
  },
  {
   "cell_type": "code",
   "execution_count": 125,
   "id": "40588b1b",
   "metadata": {},
   "outputs": [
    {
     "name": "stdout",
     "output_type": "stream",
     "text": [
      "1 apple\n",
      "2 banana\n",
      "3 cherry\n",
      "Zipped: [('Alice', 25), ('Bob', 30), ('Charlie', 35)]\n"
     ]
    }
   ],
   "source": [
    "# enumerate example\n",
    "fruits = ['apple', 'banana', 'cherry']\n",
    "for idx, fruit in enumerate(fruits, start=1):\n",
    "    print(idx, fruit)\n",
    "\n",
    "# zip example\n",
    "names = ['Alice', 'Bob', 'Charlie']\n",
    "ages = [25, 30, 35]\n",
    "combined = list(zip(names, ages))\n",
    "print(\"Zipped:\", combined)\n"
   ]
  },
  {
   "cell_type": "markdown",
   "id": "ee2a0f8d",
   "metadata": {},
   "source": [
    "### any() and all()\n",
    "\n",
    "- **any(iterable):** Returns True if **any** element is truthy.\n",
    "- **all(iterable):** Returns True if **all** elements are truthy.\n",
    "\n",
    "Useful for quick checks on conditions across collections.\n"
   ]
  },
  {
   "cell_type": "code",
   "execution_count": 126,
   "id": "b226c117",
   "metadata": {},
   "outputs": [
    {
     "name": "stdout",
     "output_type": "stream",
     "text": [
      "any: True\n",
      "all: False\n"
     ]
    }
   ],
   "source": [
    "values = [0, \"\", None, 5]\n",
    "\n",
    "print(\"any:\", any(values))  # True, because 5 is truthy\n",
    "print(\"all:\", all(values))  # False, because 0, \"\", None are falsy\n"
   ]
  },
  {
   "cell_type": "markdown",
   "id": "7af76d5d",
   "metadata": {},
   "source": [
    "### Generators and yield\n",
    "\n",
    "- Generators produce items one at a time, saving memory.\n",
    "- Use `yield` in a function to make it a generator.\n",
    "- You can iterate over generators just like lists but values are generated on-the-fly.\n",
    "\n",
    "Example shows a generator for squares.\n"
   ]
  },
  {
   "cell_type": "code",
   "execution_count": 127,
   "id": "64e9b792",
   "metadata": {},
   "outputs": [
    {
     "name": "stdout",
     "output_type": "stream",
     "text": [
      "1\n",
      "4\n",
      "9\n",
      "16\n",
      "25\n"
     ]
    }
   ],
   "source": [
    "def generate_squares(n):\n",
    "    for i in range(1, n+1):\n",
    "        yield i**2\n",
    "\n",
    "squares_gen = generate_squares(5)\n",
    "\n",
    "for square in squares_gen:\n",
    "    print(square)\n"
   ]
  },
  {
   "cell_type": "markdown",
   "id": "e72a3a0c",
   "metadata": {},
   "source": [
    "### Iterators:\n",
    "- An **iterator** is an object that enables you to traverse through all elements of a collection, one at a time.\n",
    "- You can get an iterator from an iterable using the `iter()` function.\n",
    "- Use `next()` to get the next item from the iterator."
   ]
  },
  {
   "cell_type": "code",
   "execution_count": 128,
   "id": "e723493f",
   "metadata": {},
   "outputs": [
    {
     "name": "stdout",
     "output_type": "stream",
     "text": [
      "10\n",
      "20\n",
      "30\n"
     ]
    }
   ],
   "source": [
    "# Example: Using iterator manually\n",
    "\n",
    "my_list = [10, 20, 30]\n",
    "it = iter(my_list)  # Create an iterator\n",
    "\n",
    "print(next(it))  # Output: 10\n",
    "print(next(it))  # Output: 20\n",
    "print(next(it))  # Output: 30\n",
    "# next(it) now would raise StopIteration\n"
   ]
  },
  {
   "cell_type": "markdown",
   "id": "36942b34",
   "metadata": {},
   "source": [
    "### Generators:\n",
    "- A **generator** is a special kind of iterator defined using a function with `yield`.\n",
    "- Generators produce values on the fly, saving memory.\n",
    "- You can iterate over a generator just like a list, but it generates values as needed."
   ]
  },
  {
   "cell_type": "code",
   "execution_count": 129,
   "id": "2c015548",
   "metadata": {},
   "outputs": [
    {
     "name": "stdout",
     "output_type": "stream",
     "text": [
      "5\n",
      "4\n",
      "3\n",
      "2\n",
      "1\n"
     ]
    }
   ],
   "source": [
    "# Example: Generator function using yield\n",
    "\n",
    "def countdown(n):\n",
    "    while n > 0:\n",
    "        yield n\n",
    "        n -= 1\n",
    "\n",
    "for number in countdown(5):\n",
    "    print(number)\n"
   ]
  },
  {
   "cell_type": "markdown",
   "id": "c07cf10c",
   "metadata": {},
   "source": [
    "### Regular Expressions (re module)\n",
    "\n",
    "- Regular expressions (regex) let you search, match, and manipulate strings based on patterns.\n",
    "- Python’s `re` module provides functions like `match()`, `search()`, `findall()`, and `sub()`.\n",
    "- Regex is useful for validation, parsing, and text processing.\n",
    "\n",
    "Common regex symbols:\n",
    "- `.` matches any character\n",
    "- `*` zero or more repetitions\n",
    "- `+` one or more repetitions\n",
    "- `?` zero or one repetition\n",
    "- `\\d` digit, `\\w` word character, etc.\n"
   ]
  },
  {
   "cell_type": "code",
   "execution_count": 130,
   "id": "a9a6ee2f",
   "metadata": {},
   "outputs": [
    {
     "name": "stdout",
     "output_type": "stream",
     "text": [
      "Phone number found: 123-456-7890\n"
     ]
    }
   ],
   "source": [
    "import re\n",
    "\n",
    "text = \"My phone number is 123-456-7890.\"\n",
    "\n",
    "# Find all groups of digits separated by hyphens\n",
    "pattern = r\"\\d{3}-\\d{3}-\\d{4}\"\n",
    "\n",
    "match = re.search(pattern, text)\n",
    "if match:\n",
    "    print(\"Phone number found:\", match.group())\n",
    "else:\n",
    "    print(\"No phone number found.\")\n"
   ]
  },
  {
   "cell_type": "markdown",
   "id": "4b36b74d",
   "metadata": {},
   "source": [
    "#### Advanced Regular Expressions Examples\n",
    "\n",
    "We'll explore:\n",
    "- `re.findall()` to extract multiple matches\n",
    "- `re.sub()` for substitution\n",
    "- `re.split()` for splitting text by patterns"
   ]
  },
  {
   "cell_type": "code",
   "execution_count": 131,
   "id": "bfe01535",
   "metadata": {},
   "outputs": [
    {
     "name": "stdout",
     "output_type": "stream",
     "text": [
      "Phone numbers found: ['(123)456-7890', '(987)654-3210']\n"
     ]
    }
   ],
   "source": [
    "import re\n",
    "\n",
    "text = \"Contact: John (123)456-7890, Alice (987)654-3210\"\n",
    "pattern = r\"\\(\\d{3}\\)\\d{3}-\\d{4}\"\n",
    "\n",
    "matches = re.findall(pattern, text)\n",
    "print(\"Phone numbers found:\", matches)\n"
   ]
  },
  {
   "cell_type": "code",
   "execution_count": 132,
   "id": "ad799b94",
   "metadata": {},
   "outputs": [
    {
     "name": "stdout",
     "output_type": "stream",
     "text": [
      "Masked text: Password***\n"
     ]
    }
   ],
   "source": [
    "# Replace all digits with '*'\n",
    "text = \"Password123\"\n",
    "pattern = r\"\\d\"\n",
    "masked = re.sub(pattern, \"*\", text)\n",
    "print(\"Masked text:\", masked)\n"
   ]
  },
  {
   "cell_type": "code",
   "execution_count": 133,
   "id": "fa08982b",
   "metadata": {},
   "outputs": [
    {
     "name": "stdout",
     "output_type": "stream",
     "text": [
      "Fruits list: ['apple', 'banana', 'mango', 'orange', 'grape']\n"
     ]
    }
   ],
   "source": [
    "# Split text by commas or semicolons\n",
    "text = \"apple, banana; mango, orange; grape\"\n",
    "pattern = r\"[,;]\\s*\"\n",
    "\n",
    "fruits = re.split(pattern, text)\n",
    "print(\"Fruits list:\", fruits)\n"
   ]
  },
  {
   "cell_type": "code",
   "execution_count": 134,
   "id": "9449e080",
   "metadata": {},
   "outputs": [
    {
     "name": "stdout",
     "output_type": "stream",
     "text": [
      "Valid email ✅\n"
     ]
    }
   ],
   "source": [
    "# Validate an email address using regex\n",
    "email = \"user.name123@example.com\"\n",
    "pattern = r\"^[\\w\\.-]+@[\\w\\.-]+\\.\\w+$\"\n",
    "\n",
    "if re.match(pattern, email):\n",
    "    print(\"Valid email ✅\")\n",
    "else:\n",
    "    print(\"Invalid email ❌\")\n"
   ]
  }
 ],
 "metadata": {
  "kernelspec": {
   "display_name": "Python 3",
   "language": "python",
   "name": "python3"
  },
  "language_info": {
   "codemirror_mode": {
    "name": "ipython",
    "version": 3
   },
   "file_extension": ".py",
   "mimetype": "text/x-python",
   "name": "python",
   "nbconvert_exporter": "python",
   "pygments_lexer": "ipython3",
   "version": "3.11.7"
  }
 },
 "nbformat": 4,
 "nbformat_minor": 5
}
